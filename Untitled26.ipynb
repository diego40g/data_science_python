{
  "nbformat": 4,
  "nbformat_minor": 0,
  "metadata": {
    "colab": {
      "provenance": [],
      "authorship_tag": "ABX9TyParg40wsKCTc6TcdDPseyT",
      "include_colab_link": true
    },
    "kernelspec": {
      "name": "python3",
      "display_name": "Python 3"
    },
    "language_info": {
      "name": "python"
    }
  },
  "cells": [
    {
      "cell_type": "markdown",
      "metadata": {
        "id": "view-in-github",
        "colab_type": "text"
      },
      "source": [
        "<a href=\"https://colab.research.google.com/github/diego40g/data_science_python/blob/numpy/Untitled26.ipynb\" target=\"_parent\"><img src=\"https://colab.research.google.com/assets/colab-badge.svg\" alt=\"Open In Colab\"/></a>"
      ]
    },
    {
      "cell_type": "code",
      "source": [
        "\n",
        "!pip install paho-mqtt"
      ],
      "metadata": {
        "colab": {
          "base_uri": "https://localhost:8080/"
        },
        "id": "GqnppzQms2Jw",
        "outputId": "02c94c73-4650-40de-9eca-df3c929c6124"
      },
      "execution_count": 1,
      "outputs": [
        {
          "output_type": "stream",
          "name": "stdout",
          "text": [
            "Collecting paho-mqtt\n",
            "  Downloading paho-mqtt-1.6.1.tar.gz (99 kB)\n",
            "\u001b[2K     \u001b[90m━━━━━━━━━━━━━━━━━━━━━━━━━━━━━━━━━━━━━━━━\u001b[0m \u001b[32m99.4/99.4 kB\u001b[0m \u001b[31m1.7 MB/s\u001b[0m eta \u001b[36m0:00:00\u001b[0m\n",
            "\u001b[?25h  Preparing metadata (setup.py) ... \u001b[?25l\u001b[?25hdone\n",
            "Building wheels for collected packages: paho-mqtt\n",
            "  Building wheel for paho-mqtt (setup.py) ... \u001b[?25l\u001b[?25hdone\n",
            "  Created wheel for paho-mqtt: filename=paho_mqtt-1.6.1-py3-none-any.whl size=62120 sha256=4e05db028ee602c8882794614148b10cd379d058c92285813f9ee4aeedfe6384\n",
            "  Stored in directory: /root/.cache/pip/wheels/8b/bb/0c/79444d1dee20324d442856979b5b519b48828b0bd3d05df84a\n",
            "Successfully built paho-mqtt\n",
            "Installing collected packages: paho-mqtt\n",
            "Successfully installed paho-mqtt-1.6.1\n"
          ]
        }
      ]
    },
    {
      "cell_type": "code",
      "execution_count": 2,
      "metadata": {
        "id": "fW7mglLVnMb5"
      },
      "outputs": [],
      "source": [
        "\n",
        "import paho.mqtt.client as mqtt\n",
        "import random\n",
        "import time"
      ]
    },
    {
      "cell_type": "code",
      "source": [
        "\n",
        "# Configuración del broker MQTT\n",
        "broker_address = \"tu_direccion_broker\"\n",
        "port = 1883\n",
        "topic = \"temperatura/sensor\""
      ],
      "metadata": {
        "id": "WOvL6GMYnSU9"
      },
      "execution_count": 3,
      "outputs": []
    },
    {
      "cell_type": "code",
      "source": [
        "# Configuración del simulador de sensor de temperatura\n",
        "def obtener_temperatura():\n",
        "    return random.uniform(20, 30)"
      ],
      "metadata": {
        "id": "1cMStqlDsgm6"
      },
      "execution_count": null,
      "outputs": []
    },
    {
      "cell_type": "code",
      "source": [
        "# Función para enviar datos al broker MQTT\n",
        "def enviar_temperatura(client):\n",
        "    temperatura = obtener_temperatura()\n",
        "    mensaje = f\"Temperatura: {temperatura:.2f} °C\"\n",
        "    client.publish(topic, mensaje)\n",
        "    print(f\"Enviado: {mensaje}\")"
      ],
      "metadata": {
        "id": "0IkYWy63tCks"
      },
      "execution_count": null,
      "outputs": []
    },
    {
      "cell_type": "code",
      "source": [
        "# Configuración del cliente MQTT\n",
        "client = mqtt.Client()"
      ],
      "metadata": {
        "id": "jquiULAEtFP0"
      },
      "execution_count": null,
      "outputs": []
    },
    {
      "cell_type": "code",
      "source": [
        "# Conexión al broker\n",
        "client.connect(broker_address, port, 60)\n",
        "\n",
        "try:\n",
        "    while True:\n",
        "        enviar_temperatura(client)\n",
        "        time.sleep(5)  # Envía datos cada 5 segundos\n",
        "\n",
        "except KeyboardInterrupt:\n",
        "    print(\"Programa interrumpido por el usuario\")\n",
        "\n",
        "finally:\n",
        "    # Cierra la conexión al salir\n",
        "    client.disconnect()"
      ],
      "metadata": {
        "id": "d-uQpj2ZtNNq"
      },
      "execution_count": null,
      "outputs": []
    }
  ]
}