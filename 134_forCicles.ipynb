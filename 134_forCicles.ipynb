{
  "nbformat": 4,
  "nbformat_minor": 0,
  "metadata": {
    "colab": {
      "name": "134. forCicles.ipynb",
      "provenance": [],
      "authorship_tag": "ABX9TyPMbsoSHHOHlFI/24ytGKOh",
      "include_colab_link": true
    },
    "kernelspec": {
      "name": "python3",
      "display_name": "Python 3"
    },
    "language_info": {
      "name": "python"
    }
  },
  "cells": [
    {
      "cell_type": "markdown",
      "metadata": {
        "id": "view-in-github",
        "colab_type": "text"
      },
      "source": [
        "<a href=\"https://colab.research.google.com/github/diego40g/data_science_python/blob/numpy/134_forCicles.ipynb\" target=\"_parent\"><img src=\"https://colab.research.google.com/assets/colab-badge.svg\" alt=\"Open In Colab\"/></a>"
      ]
    },
    {
      "cell_type": "code",
      "execution_count": 1,
      "metadata": {
        "colab": {
          "base_uri": "https://localhost:8080/"
        },
        "id": "TBe6owK6M7o2",
        "outputId": "904be605-a9ac-4350-882f-409d2b2e4bc2"
      },
      "outputs": [
        {
          "output_type": "stream",
          "name": "stdout",
          "text": [
            "['1', 1, 1.1, 'número uno']\n"
          ]
        }
      ],
      "source": [
        "data=['1',1,1.1,\"número uno\"]\n",
        "print (data)"
      ]
    },
    {
      "cell_type": "code",
      "source": [
        "for datos in data:\n",
        "    print(datos)"
      ],
      "metadata": {
        "colab": {
          "base_uri": "https://localhost:8080/"
        },
        "id": "veRZYlTcNRRf",
        "outputId": "7279283a-ebe9-474b-8be7-364d6a444e27"
      },
      "execution_count": 2,
      "outputs": [
        {
          "output_type": "stream",
          "name": "stdout",
          "text": [
            "1\n",
            "1\n",
            "1.1\n",
            "número uno\n"
          ]
        }
      ]
    }
  ]
}