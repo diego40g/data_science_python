{
  "nbformat": 4,
  "nbformat_minor": 0,
  "metadata": {
    "colab": {
      "name": "123. matplot5.ipynb",
      "provenance": [],
      "authorship_tag": "ABX9TyP8w6UWWWiTaETyk+MJpfWA",
      "include_colab_link": true
    },
    "kernelspec": {
      "name": "python3",
      "display_name": "Python 3"
    },
    "language_info": {
      "name": "python"
    }
  },
  "cells": [
    {
      "cell_type": "markdown",
      "metadata": {
        "id": "view-in-github",
        "colab_type": "text"
      },
      "source": [
        "<a href=\"https://colab.research.google.com/github/diego40g/data_science_python/blob/numpy/123_matplot5.ipynb\" target=\"_parent\"><img src=\"https://colab.research.google.com/assets/colab-badge.svg\" alt=\"Open In Colab\"/></a>"
      ]
    },
    {
      "cell_type": "code",
      "execution_count": 1,
      "metadata": {
        "id": "EHYGW_kRWXVa"
      },
      "outputs": [],
      "source": [
        "import matplotlib.pyplot as plt\n",
        "import pandas as pd\n",
        "import numpy as np"
      ]
    },
    {
      "cell_type": "code",
      "source": [
        "n = 100\n",
        "print(n)"
      ],
      "metadata": {
        "colab": {
          "base_uri": "https://localhost:8080/"
        },
        "id": "CGP3merKWgE1",
        "outputId": "455bf5a5-d662-4765-955c-f093738d5727"
      },
      "execution_count": 2,
      "outputs": [
        {
          "output_type": "stream",
          "name": "stdout",
          "text": [
            "100\n"
          ]
        }
      ]
    },
    {
      "cell_type": "code",
      "source": [
        "columns = ['Brand '+str(number)\n",
        "for number in range(1,5)]\n",
        "print(columns)"
      ],
      "metadata": {
        "colab": {
          "base_uri": "https://localhost:8080/"
        },
        "id": "VhHOKwPyWrd8",
        "outputId": "8a3dfc24-7bc5-46c3-f4de-e7b6733261f0"
      },
      "execution_count": 3,
      "outputs": [
        {
          "output_type": "stream",
          "name": "stdout",
          "text": [
            "['Brand 1', 'Brand 2', 'Brand 3', 'Brand 4']\n"
          ]
        }
      ]
    },
    {
      "cell_type": "code",
      "source": [
        "date = pd.date_range(start = '2021-1-1', periods = n)\n",
        "print(date)"
      ],
      "metadata": {
        "colab": {
          "base_uri": "https://localhost:8080/"
        },
        "id": "KiwfUBwlXHc7",
        "outputId": "53e99e78-1d3a-4c25-bc8a-733cda57ec63"
      },
      "execution_count": 4,
      "outputs": [
        {
          "output_type": "stream",
          "name": "stdout",
          "text": [
            "DatetimeIndex(['2021-01-01', '2021-01-02', '2021-01-03', '2021-01-04',\n",
            "               '2021-01-05', '2021-01-06', '2021-01-07', '2021-01-08',\n",
            "               '2021-01-09', '2021-01-10', '2021-01-11', '2021-01-12',\n",
            "               '2021-01-13', '2021-01-14', '2021-01-15', '2021-01-16',\n",
            "               '2021-01-17', '2021-01-18', '2021-01-19', '2021-01-20',\n",
            "               '2021-01-21', '2021-01-22', '2021-01-23', '2021-01-24',\n",
            "               '2021-01-25', '2021-01-26', '2021-01-27', '2021-01-28',\n",
            "               '2021-01-29', '2021-01-30', '2021-01-31', '2021-02-01',\n",
            "               '2021-02-02', '2021-02-03', '2021-02-04', '2021-02-05',\n",
            "               '2021-02-06', '2021-02-07', '2021-02-08', '2021-02-09',\n",
            "               '2021-02-10', '2021-02-11', '2021-02-12', '2021-02-13',\n",
            "               '2021-02-14', '2021-02-15', '2021-02-16', '2021-02-17',\n",
            "               '2021-02-18', '2021-02-19', '2021-02-20', '2021-02-21',\n",
            "               '2021-02-22', '2021-02-23', '2021-02-24', '2021-02-25',\n",
            "               '2021-02-26', '2021-02-27', '2021-02-28', '2021-03-01',\n",
            "               '2021-03-02', '2021-03-03', '2021-03-04', '2021-03-05',\n",
            "               '2021-03-06', '2021-03-07', '2021-03-08', '2021-03-09',\n",
            "               '2021-03-10', '2021-03-11', '2021-03-12', '2021-03-13',\n",
            "               '2021-03-14', '2021-03-15', '2021-03-16', '2021-03-17',\n",
            "               '2021-03-18', '2021-03-19', '2021-03-20', '2021-03-21',\n",
            "               '2021-03-22', '2021-03-23', '2021-03-24', '2021-03-25',\n",
            "               '2021-03-26', '2021-03-27', '2021-03-28', '2021-03-29',\n",
            "               '2021-03-30', '2021-03-31', '2021-04-01', '2021-04-02',\n",
            "               '2021-04-03', '2021-04-04', '2021-04-05', '2021-04-06',\n",
            "               '2021-04-07', '2021-04-08', '2021-04-09', '2021-04-10'],\n",
            "              dtype='datetime64[ns]', freq='D')\n"
          ]
        }
      ]
    },
    {
      "cell_type": "code",
      "source": [
        "data = np.random.randint(low = 1, high = [100, 330, 45, 77], size = (n, 4))\n",
        "print(data)"
      ],
      "metadata": {
        "colab": {
          "base_uri": "https://localhost:8080/"
        },
        "id": "_YGyTaq8XMki",
        "outputId": "69ed9225-20b1-425c-de39-431339e4a706"
      },
      "execution_count": 5,
      "outputs": [
        {
          "output_type": "stream",
          "name": "stdout",
          "text": [
            "[[  8 204  36   7]\n",
            " [ 97  78   7  21]\n",
            " [ 33  27   9  73]\n",
            " [ 74 211  37  51]\n",
            " [ 73  48  16  51]\n",
            " [ 47 220   6  40]\n",
            " [ 50 108  15  35]\n",
            " [  2 240  10  12]\n",
            " [ 29 169  16  23]\n",
            " [ 47 314  27  58]\n",
            " [ 96 244   7  49]\n",
            " [ 19 266  33  41]\n",
            " [ 42 327   7  48]\n",
            " [ 26  31   1  43]\n",
            " [ 46 284  42  13]\n",
            " [ 87   8  21  31]\n",
            " [ 71 190  24  60]\n",
            " [ 22  60   4  46]\n",
            " [ 32 320   1  13]\n",
            " [  7 233   9  15]\n",
            " [ 74 268  30  53]\n",
            " [  6 177  11  16]\n",
            " [ 96 145  29  21]\n",
            " [ 76 148  34  76]\n",
            " [ 64 140  40  54]\n",
            " [ 45 291  34   3]\n",
            " [ 49  96  24  73]\n",
            " [ 96 238   4  62]\n",
            " [ 19  52   2  61]\n",
            " [  7 206  11  30]\n",
            " [ 25  20  29  25]\n",
            " [ 39 111  15  15]\n",
            " [ 45 196  25  71]\n",
            " [ 75  80  32  39]\n",
            " [ 82 162  23  34]\n",
            " [ 93 182  38   3]\n",
            " [ 97 275  36  64]\n",
            " [ 10 142  42  34]\n",
            " [  7 178   7  28]\n",
            " [ 37 313  27  56]\n",
            " [ 40 103  31  12]\n",
            " [ 36  90  17  44]\n",
            " [ 25 308  21  74]\n",
            " [ 26 210  30   3]\n",
            " [ 89 240  10  36]\n",
            " [ 18 220  19  54]\n",
            " [ 24 123  44  10]\n",
            " [ 62  15   5  64]\n",
            " [  5 107  33  38]\n",
            " [ 69 113  16  61]\n",
            " [ 23  51  25  42]\n",
            " [ 88 296  34  69]\n",
            " [ 37 287  13  30]\n",
            " [ 61   1  18  30]\n",
            " [ 34 111  14   5]\n",
            " [ 99  98   8  71]\n",
            " [ 37 219  35  30]\n",
            " [ 34  96   3  72]\n",
            " [ 67  18   7  23]\n",
            " [ 64 133  30  70]\n",
            " [ 93 271  19  50]\n",
            " [ 88  71  18  20]\n",
            " [ 45  73  35   4]\n",
            " [ 55 141  24  51]\n",
            " [ 12 168   7  75]\n",
            " [ 96 194  11  76]\n",
            " [ 45 119  22  54]\n",
            " [ 52 253  13  28]\n",
            " [ 65 256  41  44]\n",
            " [ 46  47  34  11]\n",
            " [ 10 307  38  39]\n",
            " [  5  56  27  38]\n",
            " [ 69 329  11   7]\n",
            " [ 52 216  42  47]\n",
            " [ 69  89  11  54]\n",
            " [ 12 242  17  22]\n",
            " [ 95 108  24  13]\n",
            " [ 36 110   7   6]\n",
            " [ 71 233  10  12]\n",
            " [ 20 224  35  17]\n",
            " [ 51 149  18  50]\n",
            " [ 88 113  40  41]\n",
            " [ 75 176   8  24]\n",
            " [ 77 111   8  15]\n",
            " [ 85 231  19  52]\n",
            " [ 74 219   4  70]\n",
            " [ 45 322  36  45]\n",
            " [ 61  72  29  60]\n",
            " [ 43  44  27  17]\n",
            " [ 50  70  40  58]\n",
            " [ 88 216  11   6]\n",
            " [  9 115  19  21]\n",
            " [ 90  81  22  75]\n",
            " [ 65  23  18  14]\n",
            " [ 62 217  38  57]\n",
            " [  3 121  34  34]\n",
            " [ 17  57   3  54]\n",
            " [ 16  26  15  58]\n",
            " [ 47 311   6  58]\n",
            " [  3 102  16  23]]\n"
          ]
        }
      ]
    },
    {
      "cell_type": "code",
      "source": [
        "\n",
        "df = pd.DataFrame(data,columns = columns, index = date)\n",
        "\n",
        "print(df)"
      ],
      "metadata": {
        "colab": {
          "base_uri": "https://localhost:8080/"
        },
        "id": "c2Htg7RwXRTc",
        "outputId": "3339f6fe-ccae-4437-bcf0-8d3c3107f898"
      },
      "execution_count": 6,
      "outputs": [
        {
          "output_type": "stream",
          "name": "stdout",
          "text": [
            "            Brand 1  Brand 2  Brand 3  Brand 4\n",
            "2021-01-01        8      204       36        7\n",
            "2021-01-02       97       78        7       21\n",
            "2021-01-03       33       27        9       73\n",
            "2021-01-04       74      211       37       51\n",
            "2021-01-05       73       48       16       51\n",
            "...             ...      ...      ...      ...\n",
            "2021-04-06        3      121       34       34\n",
            "2021-04-07       17       57        3       54\n",
            "2021-04-08       16       26       15       58\n",
            "2021-04-09       47      311        6       58\n",
            "2021-04-10        3      102       16       23\n",
            "\n",
            "[100 rows x 4 columns]\n"
          ]
        }
      ]
    },
    {
      "cell_type": "code",
      "source": [
        "#configurando os dados para o plot\n",
        "data = df.sum().sort_values(ascending = False)\n",
        "print(data)"
      ],
      "metadata": {
        "colab": {
          "base_uri": "https://localhost:8080/"
        },
        "id": "wAC2OqP_XW6P",
        "outputId": "8e2507d4-5b0b-4736-b26d-9a02fd055cc9"
      },
      "execution_count": 7,
      "outputs": [
        {
          "output_type": "stream",
          "name": "stdout",
          "text": [
            "Brand 2    16124\n",
            "Brand 1     4973\n",
            "Brand 4     3886\n",
            "Brand 3     2091\n",
            "dtype: int64\n"
          ]
        }
      ]
    },
    {
      "cell_type": "code",
      "source": [
        "\n",
        "#plot\n",
        "plt.bar(x = data.index, height = data)\n",
        "plt.xlabel('Brands')\n",
        "plt.ylabel('Values')\n",
        "plt.title('Title')\n",
        "plt.show()"
      ],
      "metadata": {
        "colab": {
          "base_uri": "https://localhost:8080/",
          "height": 205
        },
        "id": "hgtxe1HTXbFh",
        "outputId": "96832ea1-5853-40be-b90c-fe12c087adc0"
      },
      "execution_count": 9,
      "outputs": [
        {
          "output_type": "display_data",
          "data": {
            "image/png": "[encoded data removed]",
            "text/plain": [
              "<Figure size 432x288 with 1 Axes>"
            ]
          },
          "metadata": {
            "needs_background": "light"
          }
        }
      ]
    }
  ]
}