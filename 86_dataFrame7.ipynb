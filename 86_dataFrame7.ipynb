{
  "nbformat": 4,
  "nbformat_minor": 0,
  "metadata": {
    "colab": {
      "name": "86. dataFrame7.ipynb",
      "provenance": [],
      "authorship_tag": "ABX9TyM6yhBJxfoi/tMCZjxjs0vW",
      "include_colab_link": true
    },
    "kernelspec": {
      "name": "python3",
      "display_name": "Python 3"
    },
    "language_info": {
      "name": "python"
    }
  },
  "cells": [
    {
      "cell_type": "markdown",
      "metadata": {
        "id": "view-in-github",
        "colab_type": "text"
      },
      "source": [
        "<a href=\"https://colab.research.google.com/github/diego40g/data_science_python/blob/numpy/86_dataFrame7.ipynb\" target=\"_parent\"><img src=\"https://colab.research.google.com/assets/colab-badge.svg\" alt=\"Open In Colab\"/></a>"
      ]
    },
    {
      "cell_type": "code",
      "metadata": {
        "id": "OhftrCcO5_7o"
      },
      "source": [
        "import pandas as pd"
      ],
      "execution_count": 1,
      "outputs": []
    },
    {
      "cell_type": "code",
      "metadata": {
        "colab": {
          "base_uri": "https://localhost:8080/"
        },
        "id": "_CzZFVQP6vd0",
        "outputId": "c63546c1-24a9-4307-9656-3e4dbf94fe56"
      },
      "source": [
        "data = {\n",
        "    'Customers': ['Adrian', 'Carl', 'Eliza', 'Albert', 'Fred', 'Oswald', 'Grace', 'John'],\n",
        "    'Age': [36, 39, 33, 32, 27, 35, 28, 18],\n",
        "    'Rating': [6.2, 2.17, 6.56, 8.32, 9.15, 1.34, 0.57, 1.66] \n",
        "}\n",
        "print(data)"
      ],
      "execution_count": 2,
      "outputs": [
        {
          "output_type": "stream",
          "name": "stdout",
          "text": [
            "{'Customers': ['Adrian', 'Carl', 'Eliza', 'Albert', 'Fred', 'Oswald', 'Grace', 'John'], 'Age': [36, 39, 33, 32, 27, 35, 28, 18], 'Rating': [6.2, 2.17, 6.56, 8.32, 9.15, 1.34, 0.57, 1.66]}\n"
          ]
        }
      ]
    },
    {
      "cell_type": "code",
      "metadata": {
        "colab": {
          "base_uri": "https://localhost:8080/"
        },
        "id": "Tesx7bVK6ygC",
        "outputId": "a13e5adb-3cdf-4edb-b337-fb25d3ebecb2"
      },
      "source": [
        "df = pd.DataFrame(data, index = range(1,9))\n",
        "print(df.head())\n",
        "print(df.head(n = 3))\n",
        "print(df.tail())\n",
        "print(df.tail(n = 2))"
      ],
      "execution_count": 3,
      "outputs": [
        {
          "output_type": "stream",
          "name": "stdout",
          "text": [
            "  Customers  Age  Rating\n",
            "1    Adrian   36    6.20\n",
            "2      Carl   39    2.17\n",
            "3     Eliza   33    6.56\n",
            "4    Albert   32    8.32\n",
            "5      Fred   27    9.15\n",
            "  Customers  Age  Rating\n",
            "1    Adrian   36    6.20\n",
            "2      Carl   39    2.17\n",
            "3     Eliza   33    6.56\n",
            "  Customers  Age  Rating\n",
            "4    Albert   32    8.32\n",
            "5      Fred   27    9.15\n",
            "6    Oswald   35    1.34\n",
            "7     Grace   28    0.57\n",
            "8      John   18    1.66\n",
            "  Customers  Age  Rating\n",
            "7     Grace   28    0.57\n",
            "8      John   18    1.66\n"
          ]
        }
      ]
    }
  ]
}