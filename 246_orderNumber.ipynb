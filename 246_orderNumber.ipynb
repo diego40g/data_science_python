{
  "nbformat": 4,
  "nbformat_minor": 0,
  "metadata": {
    "colab": {
      "provenance": [],
      "authorship_tag": "ABX9TyPlp63+RSsQ90eKXXlRTPcY",
      "include_colab_link": true
    },
    "kernelspec": {
      "name": "python3",
      "display_name": "Python 3"
    },
    "language_info": {
      "name": "python"
    }
  },
  "cells": [
    {
      "cell_type": "markdown",
      "metadata": {
        "id": "view-in-github",
        "colab_type": "text"
      },
      "source": [
        "<a href=\"https://colab.research.google.com/github/diego40g/data_science_python/blob/numpy/246_orderNumber.ipynb\" target=\"_parent\"><img src=\"https://colab.research.google.com/assets/colab-badge.svg\" alt=\"Open In Colab\"/></a>"
      ]
    },
    {
      "cell_type": "code",
      "execution_count": 1,
      "metadata": {
        "id": "X3JFdyohSNAa"
      },
      "outputs": [],
      "source": [
        "def comb_sort(nums):\n",
        "    shrink_fact = 1.3\n",
        "    gaps = len(nums)\n",
        "    swapped = True\n",
        "    i = 0\n",
        "\n",
        "    while gaps > 1 or swapped:\n",
        "        gaps = int(float(gaps) / shrink_fact)\n",
        "\n",
        "        swapped = False\n",
        "        i = 0\n",
        "\n",
        "        while gaps + i < len(nums):\n",
        "            if nums[i] > nums[i+gaps]:\n",
        "                nums[i], nums[i+gaps] = nums[i+gaps], nums[i]\n",
        "                swapped = True\n",
        "            i += 1\n",
        "    return nums\n"
      ]
    },
    {
      "cell_type": "code",
      "source": [
        "num1 = input('Input comma separated numbers:\\n').strip()\n",
        "nums = [int(item) for item in num1.split(',')]\n",
        "print(comb_sort(nums))"
      ],
      "metadata": {
        "colab": {
          "base_uri": "https://localhost:8080/"
        },
        "id": "yw_6Rvn4ShC1",
        "outputId": "136a891c-975f-49c3-c2b4-b1f8fd549f9b"
      },
      "execution_count": 3,
      "outputs": [
        {
          "output_type": "stream",
          "name": "stdout",
          "text": [
            "Input comma separated numbers:\n",
            "2,3,1,5,8,54\n",
            "[1, 2, 3, 5, 8, 54]\n"
          ]
        }
      ]
    }
  ]
}