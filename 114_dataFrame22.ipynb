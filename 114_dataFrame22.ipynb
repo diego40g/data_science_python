{
  "nbformat": 4,
  "nbformat_minor": 0,
  "metadata": {
    "colab": {
      "name": "114. dataFrame22.ipynb",
      "provenance": [],
      "authorship_tag": "ABX9TyODeU9JfYZs9jvDnTHmrDBT",
      "include_colab_link": true
    },
    "kernelspec": {
      "name": "python3",
      "display_name": "Python 3"
    },
    "language_info": {
      "name": "python"
    }
  },
  "cells": [
    {
      "cell_type": "markdown",
      "metadata": {
        "id": "view-in-github",
        "colab_type": "text"
      },
      "source": [
        "<a href=\"https://colab.research.google.com/github/diego40g/data_science_python/blob/numpy/114_dataFrame22.ipynb\" target=\"_parent\"><img src=\"https://colab.research.google.com/assets/colab-badge.svg\" alt=\"Open In Colab\"/></a>"
      ]
    },
    {
      "cell_type": "code",
      "metadata": {
        "id": "M-iG4cJVYOyR"
      },
      "source": [
        "import pandas as pd"
      ],
      "execution_count": 1,
      "outputs": []
    },
    {
      "cell_type": "code",
      "metadata": {
        "colab": {
          "base_uri": "https://localhost:8080/"
        },
        "id": "eBFVUiCEYWHc",
        "outputId": "3e358af5-0ac4-43f4-e99b-58ea8adc1958"
      },
      "source": [
        "index = [1, 2, 3]\n",
        "print(index)"
      ],
      "execution_count": 2,
      "outputs": [
        {
          "output_type": "stream",
          "name": "stdout",
          "text": [
            "[1, 2, 3]\n"
          ]
        }
      ]
    },
    {
      "cell_type": "code",
      "metadata": {
        "colab": {
          "base_uri": "https://localhost:8080/"
        },
        "id": "fzTfyz0OYWZo",
        "outputId": "2fb58d2c-a7bb-4dc9-9b4c-72347d2f1406"
      },
      "source": [
        "df1 = pd.DataFrame({\n",
        "    'A': ['A0','A1','A2',],\n",
        "    'B': ['B0', 'B1', 'B2'],\n",
        "    'C': ['C0', 'C1', 'C2'],\n",
        "    }, index = index)\n",
        "\n",
        "print(df1)"
      ],
      "execution_count": 3,
      "outputs": [
        {
          "output_type": "stream",
          "name": "stdout",
          "text": [
            "    A   B   C\n",
            "1  A0  B0  C0\n",
            "2  A1  B1  C1\n",
            "3  A2  B2  C2\n"
          ]
        }
      ]
    },
    {
      "cell_type": "code",
      "metadata": {
        "colab": {
          "base_uri": "https://localhost:8080/"
        },
        "id": "fdnFCpm9YmsF",
        "outputId": "4e0dbecb-84b2-4b56-e3e1-1cd6af6d544d"
      },
      "source": [
        "df2 = pd.DataFrame({\n",
        "    'A':['A3', 'A4', 'A5'],\n",
        "    'B':['B3', 'B4', 'B5'],\n",
        "    'C':['C3', 'C4', 'C5'],\n",
        "    }, index = index)\n",
        "\n",
        "print(df2)"
      ],
      "execution_count": 4,
      "outputs": [
        {
          "output_type": "stream",
          "name": "stdout",
          "text": [
            "    A   B   C\n",
            "1  A3  B3  C3\n",
            "2  A4  B4  C4\n",
            "3  A5  B5  C5\n"
          ]
        }
      ]
    },
    {
      "cell_type": "code",
      "metadata": {
        "colab": {
          "base_uri": "https://localhost:8080/"
        },
        "id": "_vO-kBPhYr6V",
        "outputId": "ddc6f57d-2e6c-4ffd-ea1f-63cc716343b6"
      },
      "source": [
        "df3 = pd.DataFrame({\n",
        "    'A': ['A6', 'A7', 'A8'],\n",
        "    'B': ['B6', 'B7', 'B8'],\n",
        "    'C': ['C6', 'C7', 'C8']\n",
        "    }, index = index)\n",
        "\n",
        "print(df3)"
      ],
      "execution_count": 5,
      "outputs": [
        {
          "output_type": "stream",
          "name": "stdout",
          "text": [
            "    A   B   C\n",
            "1  A6  B6  C6\n",
            "2  A7  B7  C7\n",
            "3  A8  B8  C8\n"
          ]
        }
      ]
    },
    {
      "cell_type": "code",
      "metadata": {
        "colab": {
          "base_uri": "https://localhost:8080/"
        },
        "id": "PT4vMYuFYxsv",
        "outputId": "c82cf865-f99c-4dd4-8b33-13a9e5cd4b9c"
      },
      "source": [
        "data1 = df1.append(df2, ignore_index = True) #a)\n",
        "print(data1)"
      ],
      "execution_count": 6,
      "outputs": [
        {
          "output_type": "stream",
          "name": "stdout",
          "text": [
            "    A   B   C\n",
            "0  A0  B0  C0\n",
            "1  A1  B1  C1\n",
            "2  A2  B2  C2\n",
            "3  A3  B3  C3\n",
            "4  A4  B4  C4\n",
            "5  A5  B5  C5\n"
          ]
        }
      ]
    },
    {
      "cell_type": "code",
      "metadata": {
        "colab": {
          "base_uri": "https://localhost:8080/"
        },
        "id": "AV5j9zh6Y3Ll",
        "outputId": "a379d228-8be5-40ac-bb0a-eb648daa286a"
      },
      "source": [
        "data2 = df1.append([df2, df3]) #b)\n",
        "print(data2)"
      ],
      "execution_count": 7,
      "outputs": [
        {
          "output_type": "stream",
          "name": "stdout",
          "text": [
            "    A   B   C\n",
            "1  A0  B0  C0\n",
            "2  A1  B1  C1\n",
            "3  A2  B2  C2\n",
            "1  A3  B3  C3\n",
            "2  A4  B4  C4\n",
            "3  A5  B5  C5\n",
            "1  A6  B6  C6\n",
            "2  A7  B7  C7\n",
            "3  A8  B8  C8\n"
          ]
        }
      ]
    }
  ]
}