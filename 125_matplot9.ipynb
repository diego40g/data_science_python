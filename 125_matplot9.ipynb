{
  "nbformat": 4,
  "nbformat_minor": 0,
  "metadata": {
    "colab": {
      "name": "125. matplot9.ipynb",
      "provenance": [],
      "authorship_tag": "ABX9TyNUSLx3ArFuGC/IUp0tQHza",
      "include_colab_link": true
    },
    "kernelspec": {
      "name": "python3",
      "display_name": "Python 3"
    },
    "language_info": {
      "name": "python"
    }
  },
  "cells": [
    {
      "cell_type": "markdown",
      "metadata": {
        "id": "view-in-github",
        "colab_type": "text"
      },
      "source": [
        "<a href=\"https://colab.research.google.com/github/diego40g/data_science_python/blob/numpy/125_matplot9.ipynb\" target=\"_parent\"><img src=\"https://colab.research.google.com/assets/colab-badge.svg\" alt=\"Open In Colab\"/></a>"
      ]
    },
    {
      "cell_type": "code",
      "execution_count": 1,
      "metadata": {
        "id": "uv3nVi5WaP3z"
      },
      "outputs": [],
      "source": [
        "import matplotlib.pyplot as plt\n",
        "from sklearn.datasets import make_regression"
      ]
    },
    {
      "cell_type": "code",
      "source": [
        "X, y = make_regression(n_samples = 100, n_features = 1, noise = 20)\n",
        "\n",
        "print(X)"
      ],
      "metadata": {
        "colab": {
          "base_uri": "https://localhost:8080/"
        },
        "id": "iMSXOBd0aYhF",
        "outputId": "80f7a6c0-7ef4-4acf-c204-d8aa12bf8421"
      },
      "execution_count": 2,
      "outputs": [
        {
          "output_type": "stream",
          "name": "stdout",
          "text": [
            "[[-0.10108775]\n",
            " [-1.56952686]\n",
            " [ 0.30408411]\n",
            " [ 0.54124111]\n",
            " [-1.06383333]\n",
            " [-1.06149774]\n",
            " [-0.29409984]\n",
            " [ 0.03946927]\n",
            " [ 0.63016396]\n",
            " [-0.28300568]\n",
            " [ 0.53568883]\n",
            " [ 0.37526976]\n",
            " [ 0.69404345]\n",
            " [-0.44598613]\n",
            " [-0.73051597]\n",
            " [-0.12162368]\n",
            " [ 0.07274187]\n",
            " [-0.19524682]\n",
            " [-0.18174444]\n",
            " [-1.08024901]\n",
            " [ 0.2821144 ]\n",
            " [ 0.59918863]\n",
            " [ 0.19490092]\n",
            " [ 0.61325036]\n",
            " [-1.5094869 ]\n",
            " [-0.41088981]\n",
            " [-0.1857564 ]\n",
            " [-0.53268738]\n",
            " [-0.13865805]\n",
            " [ 0.59447697]\n",
            " [ 0.43900526]\n",
            " [ 0.36309589]\n",
            " [-0.37802158]\n",
            " [-0.29460005]\n",
            " [-0.45655769]\n",
            " [ 0.44593321]\n",
            " [ 1.67193662]\n",
            " [ 0.6900563 ]\n",
            " [ 0.54976442]\n",
            " [ 0.03183117]\n",
            " [ 1.42426432]\n",
            " [ 0.15663135]\n",
            " [ 0.27215604]\n",
            " [ 0.44305815]\n",
            " [ 1.83392859]\n",
            " [-1.16289595]\n",
            " [ 0.70109736]\n",
            " [-0.33813779]\n",
            " [-0.91270946]\n",
            " [ 0.95991356]\n",
            " [-1.14739267]\n",
            " [ 2.35294841]\n",
            " [ 0.80773643]\n",
            " [ 0.06242221]\n",
            " [-0.99351052]\n",
            " [-0.13900329]\n",
            " [ 0.15773738]\n",
            " [ 0.18774712]\n",
            " [ 0.0496317 ]\n",
            " [ 0.24587053]\n",
            " [ 0.17136394]\n",
            " [-0.01433497]\n",
            " [-0.1896272 ]\n",
            " [-0.02711782]\n",
            " [-1.10927695]\n",
            " [-0.18970816]\n",
            " [ 1.1490702 ]\n",
            " [-0.78926657]\n",
            " [-0.6751262 ]\n",
            " [ 0.39766441]\n",
            " [-1.38115131]\n",
            " [ 0.30830627]\n",
            " [-1.88354113]\n",
            " [ 0.32611156]\n",
            " [-0.35008384]\n",
            " [-1.46011768]\n",
            " [ 1.69205383]\n",
            " [-1.02595165]\n",
            " [-1.63540219]\n",
            " [-1.54494386]\n",
            " [ 1.13694845]\n",
            " [-1.85834389]\n",
            " [-0.51545611]\n",
            " [-0.88275704]\n",
            " [ 0.27088174]\n",
            " [-0.52088336]\n",
            " [-0.23996068]\n",
            " [ 0.7242139 ]\n",
            " [ 0.85891501]\n",
            " [ 0.07845219]\n",
            " [ 0.10470806]\n",
            " [ 0.23046375]\n",
            " [-0.73742327]\n",
            " [-0.01230773]\n",
            " [-0.06309224]\n",
            " [ 1.30365199]\n",
            " [ 0.81127961]\n",
            " [ 0.39719804]\n",
            " [ 1.2977318 ]\n",
            " [ 0.90188063]]\n"
          ]
        }
      ]
    },
    {
      "cell_type": "code",
      "source": [
        "print(y)"
      ],
      "metadata": {
        "colab": {
          "base_uri": "https://localhost:8080/"
        },
        "id": "f5BfFJ4Nac9A",
        "outputId": "f7d07f2d-f82c-4b16-b54f-a15b4babfeee"
      },
      "execution_count": 3,
      "outputs": [
        {
          "output_type": "stream",
          "name": "stdout",
          "text": [
            "[ 14.34773427 -17.67225405   4.1655793   24.69424082 -18.13412895\n",
            " -23.85429186  18.6908396  -23.2416822  -34.21041327  21.92048739\n",
            "  11.46453776   0.86803315  19.87966405  -6.54358121 -52.16713909\n",
            "  17.20754135  -4.43774378  -9.83065817  14.80404393 -31.80013947\n",
            "  34.74961473  20.0042912   -0.78400334  -4.94768844 -35.33820957\n",
            " -11.70407037  -8.61962217  11.06662293   2.21443449  14.38287134\n",
            "  50.21633842  13.50123917  25.12038616  27.66893869 -25.76065227\n",
            "  62.80660234 -11.36603587   7.81875717  16.81863788  37.99691829\n",
            "   6.7035842   15.92273372 -15.49506676  -1.01532167  54.71939206\n",
            "  -1.69813611   9.79183118  -3.43073832 -52.06432231  30.23474711\n",
            " -29.12046598  65.80948805 -19.30138775 -31.58815413 -42.63536607\n",
            "  37.37318849 -19.74344689   2.68384543  46.80578006   7.87756363\n",
            "  33.68004799  -2.44308371 -18.11069932  11.79051309   5.53946211\n",
            "  34.56348689  22.25497288 -49.8722527  -13.0444513   21.07141559\n",
            " -25.92813598  -6.30714257 -41.83454659  -0.33365319  29.20364328\n",
            " -54.10726289  43.28942379 -53.81286679 -56.34588247 -26.09423345\n",
            "  19.69828293 -48.21741073 -46.74515452  -4.84787223  25.98026458\n",
            "  23.61536673 -20.35195744  26.75654696 -18.26335867  -6.094745\n",
            " -27.14027934  -0.88957866 -30.14110915  23.43001478  20.25017328\n",
            "  49.54648398  33.49100972  40.98890103  45.03600484  17.71967369]\n"
          ]
        }
      ]
    },
    {
      "cell_type": "code",
      "source": [
        "#plot\n",
        "plt.scatter(X, y, color = 'k', marker = '^', alpha = 0.3)\n",
        "plt.title('Relationship between X and Y')\n",
        "plt.xlabel('Feature')\n",
        "plt.ylabel('Target')\n",
        "plt.grid(True, linestyle = '--', alpha = 0.5)\n",
        "plt.savefig('fig7.jpeg')\n",
        "plt.show()"
      ],
      "metadata": {
        "colab": {
          "base_uri": "https://localhost:8080/",
          "height": 295
        },
        "id": "RADFhrmnaey-",
        "outputId": "b787dd65-938d-4481-9100-a171f1719f76"
      },
      "execution_count": 4,
      "outputs": [
        {
          "output_type": "display_data",
          "data": {
            "image/png": "[encoded data removed]",
            "text/plain": [
              "<Figure size 432x288 with 1 Axes>"
            ]
          },
          "metadata": {
            "needs_background": "light"
          }
        }
      ]
    }
  ]
}