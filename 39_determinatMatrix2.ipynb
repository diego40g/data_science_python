{
  "nbformat": 4,
  "nbformat_minor": 0,
  "metadata": {
    "colab": {
      "name": "39. determinatMatrix2.ipynb",
      "provenance": [],
      "authorship_tag": "ABX9TyM2SF/4nkCGSfhf7K9kCerE",
      "include_colab_link": true
    },
    "kernelspec": {
      "name": "python3",
      "display_name": "Python 3"
    },
    "language_info": {
      "name": "python"
    }
  },
  "cells": [
    {
      "cell_type": "markdown",
      "metadata": {
        "id": "view-in-github",
        "colab_type": "text"
      },
      "source": [
        "<a href=\"https://colab.research.google.com/github/diego40g/data_science_python/blob/numpy/39_determinatMatrix2.ipynb\" target=\"_parent\"><img src=\"https://colab.research.google.com/assets/colab-badge.svg\" alt=\"Open In Colab\"/></a>"
      ]
    },
    {
      "cell_type": "code",
      "metadata": {
        "id": "dHAQwzyilzbL"
      },
      "source": [
        "import numpy as np"
      ],
      "execution_count": 1,
      "outputs": []
    },
    {
      "cell_type": "code",
      "metadata": {
        "colab": {
          "base_uri": "https://localhost:8080/"
        },
        "id": "gyIl4xUDl3ut",
        "outputId": "6f0b6efc-837d-463b-a700-9d0138498b91"
      },
      "source": [
        "A = np.array([[3,1,4],[10,7,5],[1,4,4]])\n",
        "print(A)"
      ],
      "execution_count": 3,
      "outputs": [
        {
          "output_type": "stream",
          "name": "stdout",
          "text": [
            "[[ 3  1  4]\n",
            " [10  7  5]\n",
            " [ 1  4  4]]\n"
          ]
        }
      ]
    },
    {
      "cell_type": "code",
      "metadata": {
        "colab": {
          "base_uri": "https://localhost:8080/"
        },
        "id": "BMItTcGJl5Ls",
        "outputId": "594cb6e0-1679-4841-ae59-d97eeefc7826"
      },
      "source": [
        "B = np.eye(3)\n",
        "print(B)"
      ],
      "execution_count": 4,
      "outputs": [
        {
          "output_type": "stream",
          "name": "stdout",
          "text": [
            "[[1. 0. 0.]\n",
            " [0. 1. 0.]\n",
            " [0. 0. 1.]]\n"
          ]
        }
      ]
    },
    {
      "cell_type": "code",
      "metadata": {
        "colab": {
          "base_uri": "https://localhost:8080/"
        },
        "id": "s4xOBg3Pl9xb",
        "outputId": "5cafc8f9-cfc2-4d5f-efaf-ebf27def0792"
      },
      "source": [
        "C = np.diag([5,10,2])\n",
        "print(C)"
      ],
      "execution_count": 5,
      "outputs": [
        {
          "output_type": "stream",
          "name": "stdout",
          "text": [
            "[[ 5  0  0]\n",
            " [ 0 10  0]\n",
            " [ 0  0  2]]\n"
          ]
        }
      ]
    },
    {
      "cell_type": "code",
      "metadata": {
        "colab": {
          "base_uri": "https://localhost:8080/"
        },
        "id": "O0Q7vdsZmACD",
        "outputId": "8a087534-8389-4b7b-c4d2-28808e3ff997"
      },
      "source": [
        "D = np.diag([3,7,11,2])\n",
        "print(D)"
      ],
      "execution_count": 6,
      "outputs": [
        {
          "output_type": "stream",
          "name": "stdout",
          "text": [
            "[[ 3  0  0  0]\n",
            " [ 0  7  0  0]\n",
            " [ 0  0 11  0]\n",
            " [ 0  0  0  2]]\n"
          ]
        }
      ]
    },
    {
      "cell_type": "code",
      "metadata": {
        "colab": {
          "base_uri": "https://localhost:8080/"
        },
        "id": "bVKTab2tmCMk",
        "outputId": "a2d53391-907f-4ce8-eacc-052b790c8cae"
      },
      "source": [
        "E = np.array([[5,0,13,12],[1,-1,25,7],[6,2,1,20],[11,4,0,-9]])\n",
        "print(E)"
      ],
      "execution_count": 7,
      "outputs": [
        {
          "output_type": "stream",
          "name": "stdout",
          "text": [
            "[[ 5  0 13 12]\n",
            " [ 1 -1 25  7]\n",
            " [ 6  2  1 20]\n",
            " [11  4  0 -9]]\n"
          ]
        }
      ]
    },
    {
      "cell_type": "code",
      "metadata": {
        "colab": {
          "base_uri": "https://localhost:8080/"
        },
        "id": "BmIIjG2KmFyj",
        "outputId": "de88c589-3697-4eda-e0b3-938cd931dd0a"
      },
      "source": [
        "det_A = np.linalg.det(A).round()\n",
        "print(det_A)"
      ],
      "execution_count": 8,
      "outputs": [
        {
          "output_type": "stream",
          "name": "stdout",
          "text": [
            "121.0\n"
          ]
        }
      ]
    },
    {
      "cell_type": "code",
      "metadata": {
        "colab": {
          "base_uri": "https://localhost:8080/"
        },
        "id": "8okOI-SSmIjz",
        "outputId": "42cf3a93-185e-4fc9-8933-eaa5ead536df"
      },
      "source": [
        "det_B = np.linalg.det(B).round()\n",
        "print(det_B)"
      ],
      "execution_count": 9,
      "outputs": [
        {
          "output_type": "stream",
          "name": "stdout",
          "text": [
            "1.0\n"
          ]
        }
      ]
    },
    {
      "cell_type": "code",
      "metadata": {
        "colab": {
          "base_uri": "https://localhost:8080/"
        },
        "id": "hZZ0EjsnmLhU",
        "outputId": "3fa6aabe-6aff-4d1f-e963-5f5c58419e48"
      },
      "source": [
        "det_C = np.linalg.det(C).round()\n",
        "print(det_C)"
      ],
      "execution_count": 10,
      "outputs": [
        {
          "output_type": "stream",
          "name": "stdout",
          "text": [
            "100.0\n"
          ]
        }
      ]
    },
    {
      "cell_type": "code",
      "metadata": {
        "colab": {
          "base_uri": "https://localhost:8080/"
        },
        "id": "05KjaQm7mORs",
        "outputId": "693407c4-c1a7-4f61-b4b3-311ac949fe1c"
      },
      "source": [
        "det_D = np.linalg.det(D).round()\n",
        "print(det_D)"
      ],
      "execution_count": 11,
      "outputs": [
        {
          "output_type": "stream",
          "name": "stdout",
          "text": [
            "462.0\n"
          ]
        }
      ]
    },
    {
      "cell_type": "code",
      "metadata": {
        "colab": {
          "base_uri": "https://localhost:8080/"
        },
        "id": "CCIZH5VemQlE",
        "outputId": "89fa4e6d-0375-4e55-955d-f55cd49fb3a2"
      },
      "source": [
        "det_E = np.linalg.det(E).round()\n",
        "print(det_E)"
      ],
      "execution_count": 12,
      "outputs": [
        {
          "output_type": "stream",
          "name": "stdout",
          "text": [
            "7081.0\n"
          ]
        }
      ]
    }
  ]
}