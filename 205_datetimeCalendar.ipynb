{
  "nbformat": 4,
  "nbformat_minor": 0,
  "metadata": {
    "colab": {
      "name": "205 datetimeCalendar.ipynb",
      "provenance": [],
      "authorship_tag": "ABX9TyMvVc8+2sHr1t6DR1x8yeK0",
      "include_colab_link": true
    },
    "kernelspec": {
      "name": "python3",
      "display_name": "Python 3"
    },
    "language_info": {
      "name": "python"
    }
  },
  "cells": [
    {
      "cell_type": "markdown",
      "metadata": {
        "id": "view-in-github",
        "colab_type": "text"
      },
      "source": [
        "<a href=\"https://colab.research.google.com/github/diego40g/data_science_python/blob/numpy/205_datetimeCalendar.ipynb\" target=\"_parent\"><img src=\"https://colab.research.google.com/assets/colab-badge.svg\" alt=\"Open In Colab\"/></a>"
      ]
    },
    {
      "cell_type": "code",
      "source": [
        "from datetime import datetime"
      ],
      "metadata": {
        "id": "rJBY8DY80-T3"
      },
      "execution_count": 8,
      "outputs": []
    },
    {
      "cell_type": "code",
      "source": [
        "\n",
        "given_date = datetime(2022, 7, 16)"
      ],
      "metadata": {
        "id": "cHjMLHNB1PAE"
      },
      "execution_count": 3,
      "outputs": []
    },
    {
      "cell_type": "code",
      "source": [
        "print(given_date.today().weekday())"
      ],
      "metadata": {
        "colab": {
          "base_uri": "https://localhost:8080/"
        },
        "id": "2fY5ogG31S59",
        "outputId": "5acc0425-5e1d-44c2-cbf2-45ab304f8c5f"
      },
      "execution_count": 6,
      "outputs": [
        {
          "output_type": "stream",
          "name": "stdout",
          "text": [
            "2\n"
          ]
        }
      ]
    },
    {
      "cell_type": "code",
      "source": [
        "print(given_date.strftime('%A'))"
      ],
      "metadata": {
        "colab": {
          "base_uri": "https://localhost:8080/"
        },
        "id": "7gj2jlRU1bJv",
        "outputId": "9c23b1ae-c42a-4129-a6a0-fd5b4694aa46"
      },
      "execution_count": 7,
      "outputs": [
        {
          "output_type": "stream",
          "name": "stdout",
          "text": [
            "Sunday\n"
          ]
        }
      ]
    },
    {
      "cell_type": "markdown",
      "source": [
        "Calendar solution"
      ],
      "metadata": {
        "id": "LYbN_Cjg2N37"
      }
    },
    {
      "cell_type": "code",
      "source": [
        "import calendar"
      ],
      "metadata": {
        "id": "TFRoE-Go1yfT"
      },
      "execution_count": 9,
      "outputs": []
    },
    {
      "cell_type": "code",
      "source": [
        "given_date = datetime(2022, 7, 16)"
      ],
      "metadata": {
        "id": "EKCk1X2c18tZ"
      },
      "execution_count": 10,
      "outputs": []
    },
    {
      "cell_type": "code",
      "source": [
        "weekday = calendar.day_name[given_date.weekday()]"
      ],
      "metadata": {
        "id": "uLYEmqsG2HaB"
      },
      "execution_count": 11,
      "outputs": []
    },
    {
      "cell_type": "code",
      "source": [
        "print(weekday)"
      ],
      "metadata": {
        "colab": {
          "base_uri": "https://localhost:8080/"
        },
        "id": "GEcjaBzY2KAH",
        "outputId": "e1338743-c275-4d4e-8c00-297513ec1eea"
      },
      "execution_count": 12,
      "outputs": [
        {
          "output_type": "stream",
          "name": "stdout",
          "text": [
            "Saturday\n"
          ]
        }
      ]
    }
  ]
}