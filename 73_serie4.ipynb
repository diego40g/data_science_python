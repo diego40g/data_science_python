{
  "nbformat": 4,
  "nbformat_minor": 0,
  "metadata": {
    "colab": {
      "name": "73. serie4.ipynb",
      "provenance": [],
      "authorship_tag": "ABX9TyONd1iYL1urFz5NER9/4Wb7",
      "include_colab_link": true
    },
    "kernelspec": {
      "name": "python3",
      "display_name": "Python 3"
    },
    "language_info": {
      "name": "python"
    }
  },
  "cells": [
    {
      "cell_type": "markdown",
      "metadata": {
        "id": "view-in-github",
        "colab_type": "text"
      },
      "source": [
        "<a href=\"https://colab.research.google.com/github/diego40g/data_science_python/blob/numpy/73_serie4.ipynb\" target=\"_parent\"><img src=\"https://colab.research.google.com/assets/colab-badge.svg\" alt=\"Open In Colab\"/></a>"
      ]
    },
    {
      "cell_type": "code",
      "metadata": {
        "id": "bFJZI5OLAfZ9"
      },
      "source": [
        "import pandas as pd"
      ],
      "execution_count": 1,
      "outputs": []
    },
    {
      "cell_type": "code",
      "metadata": {
        "colab": {
          "base_uri": "https://localhost:8080/"
        },
        "id": "_0Ab3cHmBX_t",
        "outputId": "9c82a71c-fb2d-400a-f637-5c58d310cd33"
      },
      "source": [
        "\n",
        "data = ['ITUB4', 'BBDC4', 'BBAS3', 'BPAC11', 'SANB11']\n",
        "index = [1, 2, 3, 4, 5]\n",
        "serie = pd.Series(data, index, name = 'Prices')\n",
        "print(data)\n",
        "print(index)\n",
        "print(serie)"
      ],
      "execution_count": 2,
      "outputs": [
        {
          "output_type": "stream",
          "name": "stdout",
          "text": [
            "['ITUB4', 'BBDC4', 'BBAS3', 'BPAC11', 'SANB11']\n",
            "[1, 2, 3, 4, 5]\n",
            "1     ITUB4\n",
            "2     BBDC4\n",
            "3     BBAS3\n",
            "4    BPAC11\n",
            "5    SANB11\n",
            "Name: Prices, dtype: object\n"
          ]
        }
      ]
    },
    {
      "cell_type": "code",
      "metadata": {
        "colab": {
          "base_uri": "https://localhost:8080/"
        },
        "id": "szV_DvSDFV7H",
        "outputId": "3ee9117e-7702-43e6-e387-c3fc13314f48"
      },
      "source": [
        "dic = serie.to_dict()\n",
        "print(dic)"
      ],
      "execution_count": 4,
      "outputs": [
        {
          "output_type": "stream",
          "name": "stdout",
          "text": [
            "{1: 'ITUB4', 2: 'BBDC4', 3: 'BBAS3', 4: 'BPAC11', 5: 'SANB11'}\n"
          ]
        }
      ]
    },
    {
      "cell_type": "code",
      "metadata": {
        "colab": {
          "base_uri": "https://localhost:8080/"
        },
        "id": "y_NJRumuG8-v",
        "outputId": "71d614bf-2992-4d5e-ee86-3a86699ee8fb"
      },
      "source": [
        "\n",
        "list_ = serie.to_list()\n",
        "print(list_)"
      ],
      "execution_count": 5,
      "outputs": [
        {
          "output_type": "stream",
          "name": "stdout",
          "text": [
            "['ITUB4', 'BBDC4', 'BBAS3', 'BPAC11', 'SANB11']\n"
          ]
        }
      ]
    },
    {
      "cell_type": "code",
      "metadata": {
        "colab": {
          "base_uri": "https://localhost:8080/"
        },
        "id": "HXJI5IwAHDz8",
        "outputId": "ffeaf70e-5de4-4d32-db37-f3ad528a5716"
      },
      "source": [
        "array = serie.to_numpy()\n",
        "print(array)"
      ],
      "execution_count": 6,
      "outputs": [
        {
          "output_type": "stream",
          "name": "stdout",
          "text": [
            "['ITUB4' 'BBDC4' 'BBAS3' 'BPAC11' 'SANB11']\n"
          ]
        }
      ]
    }
  ]
}