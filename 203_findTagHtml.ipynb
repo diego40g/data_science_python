{
  "nbformat": 4,
  "nbformat_minor": 0,
  "metadata": {
    "colab": {
      "name": "203 findTagHtml.ipynb",
      "provenance": [],
      "authorship_tag": "ABX9TyNV9h4IZWCP3vnW92l2d06X",
      "include_colab_link": true
    },
    "kernelspec": {
      "name": "python3",
      "display_name": "Python 3"
    },
    "language_info": {
      "name": "python"
    }
  },
  "cells": [
    {
      "cell_type": "markdown",
      "metadata": {
        "id": "view-in-github",
        "colab_type": "text"
      },
      "source": [
        "<a href=\"https://colab.research.google.com/github/diego40g/data_science_python/blob/numpy/203_findTagHtml.ipynb\" target=\"_parent\"><img src=\"https://colab.research.google.com/assets/colab-badge.svg\" alt=\"Open In Colab\"/></a>"
      ]
    },
    {
      "cell_type": "code",
      "source": [
        "import re"
      ],
      "metadata": {
        "id": "gECLWWTI_38R"
      },
      "execution_count": 1,
      "outputs": []
    },
    {
      "cell_type": "code",
      "source": [
        "test_str='<b>hola</b><hr/><h1>Hola</h1>'"
      ],
      "metadata": {
        "id": "yK7y7rUyEAT9"
      },
      "execution_count": 2,
      "outputs": []
    },
    {
      "cell_type": "code",
      "source": [
        "print (\"string original\"+str(test_str))"
      ],
      "metadata": {
        "colab": {
          "base_uri": "https://localhost:8080/"
        },
        "id": "shqHEMYPKnw7",
        "outputId": "8965aca7-bb03-4699-9b08-3b76b648aa54"
      },
      "execution_count": 3,
      "outputs": [
        {
          "output_type": "stream",
          "name": "stdout",
          "text": [
            "string original<b>hola</b><hr/><h1>Hola</h1>\n"
          ]
        }
      ]
    },
    {
      "cell_type": "code",
      "source": [
        "tag='b'"
      ],
      "metadata": {
        "id": "R78iKjzRK2uM"
      },
      "execution_count": 4,
      "outputs": []
    },
    {
      "cell_type": "code",
      "source": [
        "reg_str=\"<\"+tag+\">(.*?)</\"+tag+\">\""
      ],
      "metadata": {
        "id": "aTwgo_m0LJsT"
      },
      "execution_count": 5,
      "outputs": []
    },
    {
      "cell_type": "code",
      "source": [
        "res=re.findall(reg_str,test_str)\n",
        "print(\"la cadena esperada\"+str(res))"
      ],
      "metadata": {
        "colab": {
          "base_uri": "https://localhost:8080/"
        },
        "id": "dO5T29iBLra1",
        "outputId": "47ab8569-4112-4de1-fd31-73fbcd6f4869"
      },
      "execution_count": 6,
      "outputs": [
        {
          "output_type": "stream",
          "name": "stdout",
          "text": [
            "la cadena esperada['hola']\n"
          ]
        }
      ]
    }
  ]
}