{
  "nbformat": 4,
  "nbformat_minor": 0,
  "metadata": {
    "colab": {
      "name": "196. hammingSequence.ipynb",
      "provenance": [],
      "authorship_tag": "ABX9TyNyYkSTDBCUBYVa2MKFR4aj",
      "include_colab_link": true
    },
    "kernelspec": {
      "name": "python3",
      "display_name": "Python 3"
    },
    "language_info": {
      "name": "python"
    }
  },
  "cells": [
    {
      "cell_type": "markdown",
      "metadata": {
        "id": "view-in-github",
        "colab_type": "text"
      },
      "source": [
        "<a href=\"https://colab.research.google.com/github/diego40g/data_science_python/blob/numpy/196_hammingSequence.ipynb\" target=\"_parent\"><img src=\"https://colab.research.google.com/assets/colab-badge.svg\" alt=\"Open In Colab\"/></a>"
      ]
    },
    {
      "cell_type": "code",
      "execution_count": 1,
      "metadata": {
        "id": "xU3N2F0s0Wit"
      },
      "outputs": [],
      "source": [
        "import itertools\n",
        "from heapq import merge"
      ]
    },
    {
      "cell_type": "code",
      "source": [
        "def nth_hamming_number(n):\n",
        "    def num_recur():\n",
        "        last=1\n",
        "        yield last\n",
        "        x,y,z=itertools.tee(num_recur(),3)\n",
        "        for n in merge((2*i for i in x),(3*i for i in y),(5*i for i in z)):\n",
        "            if n != last:\n",
        "                yield n\n",
        "                last=n\n",
        "    result=itertools.islice(num_recur(),n)\n",
        "    return list(result)[-1]"
      ],
      "metadata": {
        "id": "ERJT5mYN06-T"
      },
      "execution_count": 2,
      "outputs": []
    },
    {
      "cell_type": "code",
      "source": [
        "print(nth_hamming_number(8))"
      ],
      "metadata": {
        "colab": {
          "base_uri": "https://localhost:8080/"
        },
        "id": "Cu4cen8A08bw",
        "outputId": "a313dfc7-9ee3-477e-dd6f-51b1af83d25d"
      },
      "execution_count": 3,
      "outputs": [
        {
          "output_type": "stream",
          "name": "stdout",
          "text": [
            "9\n"
          ]
        }
      ]
    }
  ]
}