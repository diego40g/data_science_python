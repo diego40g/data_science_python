{
  "nbformat": 4,
  "nbformat_minor": 0,
  "metadata": {
    "colab": {
      "name": "115. dataFrame23.ipynb",
      "provenance": [],
      "authorship_tag": "ABX9TyPArnRT7M4vZTyeVCPSdwiq",
      "include_colab_link": true
    },
    "kernelspec": {
      "name": "python3",
      "display_name": "Python 3"
    },
    "language_info": {
      "name": "python"
    }
  },
  "cells": [
    {
      "cell_type": "markdown",
      "metadata": {
        "id": "view-in-github",
        "colab_type": "text"
      },
      "source": [
        "<a href=\"https://colab.research.google.com/github/diego40g/data_science_python/blob/numpy/115_dataFrame23.ipynb\" target=\"_parent\"><img src=\"https://colab.research.google.com/assets/colab-badge.svg\" alt=\"Open In Colab\"/></a>"
      ]
    },
    {
      "cell_type": "code",
      "metadata": {
        "id": "wRvcMw-_Z_Ob"
      },
      "source": [
        "import pandas as pd\n",
        "import numpy as np"
      ],
      "execution_count": 6,
      "outputs": []
    },
    {
      "cell_type": "code",
      "metadata": {
        "colab": {
          "base_uri": "https://localhost:8080/"
        },
        "id": "MNQ6OtIIaOgO",
        "outputId": "a9ca12fc-a1e8-4fe1-a09f-5849d67e598f"
      },
      "source": [
        "index = pd.date_range(start = '2020-1-1', end = '2020-1-6', freq = 'D')\n",
        "print(index)"
      ],
      "execution_count": 2,
      "outputs": [
        {
          "output_type": "stream",
          "name": "stdout",
          "text": [
            "DatetimeIndex(['2020-01-01', '2020-01-02', '2020-01-03', '2020-01-04',\n",
            "               '2020-01-05', '2020-01-06'],\n",
            "              dtype='datetime64[ns]', freq='D')\n"
          ]
        }
      ]
    },
    {
      "cell_type": "code",
      "metadata": {
        "colab": {
          "base_uri": "https://localhost:8080/"
        },
        "id": "hCkI4u5WaTnU",
        "outputId": "e9a29b11-6b45-4fee-aa71-f7c6790efee0"
      },
      "source": [
        "data = {\n",
        "    'A':[10, np.nan, 35, 47, 17, 13],\n",
        "    'B':['A', np.nan, 'B', 'A', 'A', np.nan],\n",
        "    'C':[139, np.nan, np.nan, 199, 111, 140]}\n",
        "\n",
        "print(data)"
      ],
      "execution_count": 7,
      "outputs": [
        {
          "output_type": "stream",
          "name": "stdout",
          "text": [
            "{'A': [10, nan, 35, 47, 17, 13], 'B': ['A', nan, 'B', 'A', 'A', nan], 'C': [139, nan, nan, 199, 111, 140]}\n"
          ]
        }
      ]
    },
    {
      "cell_type": "code",
      "metadata": {
        "colab": {
          "base_uri": "https://localhost:8080/"
        },
        "id": "RuXbSMhbaYGy",
        "outputId": "7d979fad-2e04-404b-f183-041b053b63bd"
      },
      "source": [
        "df = pd.DataFrame(data, index = index)\n",
        "print(df)"
      ],
      "execution_count": 8,
      "outputs": [
        {
          "output_type": "stream",
          "name": "stdout",
          "text": [
            "               A    B      C\n",
            "2020-01-01  10.0    A  139.0\n",
            "2020-01-02   NaN  NaN    NaN\n",
            "2020-01-03  35.0    B    NaN\n",
            "2020-01-04  47.0    A  199.0\n",
            "2020-01-05  17.0    A  111.0\n",
            "2020-01-06  13.0  NaN  140.0\n"
          ]
        }
      ]
    },
    {
      "cell_type": "code",
      "metadata": {
        "colab": {
          "base_uri": "https://localhost:8080/"
        },
        "id": "55PAmMGganAw",
        "outputId": "0f82f12f-6b07-4412-9537-66df04d56887"
      },
      "source": [
        "df.fillna(value = 0, inplace = True)\n",
        "print(df)"
      ],
      "execution_count": 9,
      "outputs": [
        {
          "output_type": "stream",
          "name": "stdout",
          "text": [
            "               A  B      C\n",
            "2020-01-01  10.0  A  139.0\n",
            "2020-01-02   0.0  0    0.0\n",
            "2020-01-03  35.0  B    0.0\n",
            "2020-01-04  47.0  A  199.0\n",
            "2020-01-05  17.0  A  111.0\n",
            "2020-01-06  13.0  0  140.0\n"
          ]
        }
      ]
    }
  ]
}