{
  "nbformat": 4,
  "nbformat_minor": 0,
  "metadata": {
    "colab": {
      "name": "152. Html.ipynb",
      "provenance": [],
      "authorship_tag": "ABX9TyNamnUNHqcYcTzhUvmqKM7j",
      "include_colab_link": true
    },
    "kernelspec": {
      "name": "python3",
      "display_name": "Python 3"
    },
    "language_info": {
      "name": "python"
    }
  },
  "cells": [
    {
      "cell_type": "markdown",
      "metadata": {
        "id": "view-in-github",
        "colab_type": "text"
      },
      "source": [
        "<a href=\"https://colab.research.google.com/github/diego40g/data_science_python/blob/numpy/152_Html.ipynb\" target=\"_parent\"><img src=\"https://colab.research.google.com/assets/colab-badge.svg\" alt=\"Open In Colab\"/></a>"
      ]
    },
    {
      "cell_type": "code",
      "execution_count": 1,
      "metadata": {
        "colab": {
          "base_uri": "https://localhost:8080/",
          "height": 441
        },
        "id": "9_4z7H9iAMAl",
        "outputId": "9b90eae5-e863-4d95-f9b2-4f220a025795"
      },
      "outputs": [
        {
          "output_type": "display_data",
          "data": {
            "text/html": [
              "\n",
              "<svg xmlns=\"http://www.w3.org/2000/svg\" viewBox=\"0 0 600 400\" height=\"400\">"
            ],
            "text/plain": [
              "<IPython.core.display.HTML object>"
            ]
          },
          "metadata": {}
        }
      ],
      "source": [
        "%%html\n",
        "\n",
        "<svg xmlns=\"http://www.w3.org/2000/svg\" viewBox=\"0 0 600 400\" height=\"400\">"
      ]
    },
    {
      "cell_type": "code",
      "source": [
        "<rec x=\"10\" y=\"00\" width=\"300\" height=\"100\" rx=\"0\" style=\"fill: orange; stroke: black; fill-opacity:1.0\"/>"
      ],
      "metadata": {
        "colab": {
          "base_uri": "https://localhost:8080/",
          "height": 146
        },
        "id": "REuR1H5XCIvo",
        "outputId": "7f030e52-78bb-46ee-b7d3-3e61db6acee9"
      },
      "execution_count": 3,
      "outputs": [
        {
          "output_type": "error",
          "ename": "SyntaxError",
          "evalue": "ignored",
          "traceback": [
            "\u001b[0;36m  File \u001b[0;32m\"<ipython-input-3-9e471172045b>\"\u001b[0;36m, line \u001b[0;32m1\u001b[0m\n\u001b[0;31m    <rec x=\"10\" y=\"00\" width=\"300\" height=\"100\" rx=\"0\" style=\"fill: orange; stroke: black; fill-opacity:1.0\"/>\u001b[0m\n\u001b[0m    ^\u001b[0m\n\u001b[0;31mSyntaxError\u001b[0m\u001b[0;31m:\u001b[0m invalid syntax\n"
          ]
        }
      ]
    },
    {
      "cell_type": "code",
      "source": [
        "</svg>"
      ],
      "metadata": {
        "colab": {
          "base_uri": "https://localhost:8080/",
          "height": 129
        },
        "id": "LkpHSg9QC8az",
        "outputId": "2ab819e3-00b6-45a5-dc7a-3e67ca81bb44"
      },
      "execution_count": 4,
      "outputs": [
        {
          "output_type": "error",
          "ename": "SyntaxError",
          "evalue": "ignored",
          "traceback": [
            "\u001b[0;36m  File \u001b[0;32m\"<ipython-input-4-ed2ae5747d20>\"\u001b[0;36m, line \u001b[0;32m1\u001b[0m\n\u001b[0;31m    </svg>\u001b[0m\n\u001b[0m    ^\u001b[0m\n\u001b[0;31mSyntaxError\u001b[0m\u001b[0;31m:\u001b[0m invalid syntax\n"
          ]
        }
      ]
    },
    {
      "cell_type": "code",
      "source": [
        ""
      ],
      "metadata": {
        "id": "dEUrvlX1C1qs"
      },
      "execution_count": null,
      "outputs": []
    }
  ]
}