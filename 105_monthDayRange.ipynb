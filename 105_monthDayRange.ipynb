{
  "nbformat": 4,
  "nbformat_minor": 0,
  "metadata": {
    "colab": {
      "name": "105. monthDayRange.ipynb",
      "provenance": [],
      "authorship_tag": "ABX9TyNnlRDBvYh8LKcZaYoiGOa1",
      "include_colab_link": true
    },
    "kernelspec": {
      "name": "python3",
      "display_name": "Python 3"
    },
    "language_info": {
      "name": "python"
    }
  },
  "cells": [
    {
      "cell_type": "markdown",
      "metadata": {
        "id": "view-in-github",
        "colab_type": "text"
      },
      "source": [
        "<a href=\"https://colab.research.google.com/github/diego40g/data_science_python/blob/numpy/105_monthDayRange.ipynb\" target=\"_parent\"><img src=\"https://colab.research.google.com/assets/colab-badge.svg\" alt=\"Open In Colab\"/></a>"
      ]
    },
    {
      "cell_type": "code",
      "metadata": {
        "id": "ZChYA5y3CpLr"
      },
      "source": [
        "import pandas as pd"
      ],
      "execution_count": 1,
      "outputs": []
    },
    {
      "cell_type": "code",
      "metadata": {
        "colab": {
          "base_uri": "https://localhost:8080/"
        },
        "id": "4AFh7sm9CzqT",
        "outputId": "5f783bb4-d155-4fe7-8374-3d6b84ff239a"
      },
      "source": [
        "months = pd.bdate_range(start = '2020-9-1', end = '2020-12-31')\n",
        "print(months)"
      ],
      "execution_count": 3,
      "outputs": [
        {
          "output_type": "stream",
          "name": "stdout",
          "text": [
            "DatetimeIndex(['2020-09-01', '2020-09-02', '2020-09-03', '2020-09-04',\n",
            "               '2020-09-07', '2020-09-08', '2020-09-09', '2020-09-10',\n",
            "               '2020-09-11', '2020-09-14', '2020-09-15', '2020-09-16',\n",
            "               '2020-09-17', '2020-09-18', '2020-09-21', '2020-09-22',\n",
            "               '2020-09-23', '2020-09-24', '2020-09-25', '2020-09-28',\n",
            "               '2020-09-29', '2020-09-30', '2020-10-01', '2020-10-02',\n",
            "               '2020-10-05', '2020-10-06', '2020-10-07', '2020-10-08',\n",
            "               '2020-10-09', '2020-10-12', '2020-10-13', '2020-10-14',\n",
            "               '2020-10-15', '2020-10-16', '2020-10-19', '2020-10-20',\n",
            "               '2020-10-21', '2020-10-22', '2020-10-23', '2020-10-26',\n",
            "               '2020-10-27', '2020-10-28', '2020-10-29', '2020-10-30',\n",
            "               '2020-11-02', '2020-11-03', '2020-11-04', '2020-11-05',\n",
            "               '2020-11-06', '2020-11-09', '2020-11-10', '2020-11-11',\n",
            "               '2020-11-12', '2020-11-13', '2020-11-16', '2020-11-17',\n",
            "               '2020-11-18', '2020-11-19', '2020-11-20', '2020-11-23',\n",
            "               '2020-11-24', '2020-11-25', '2020-11-26', '2020-11-27',\n",
            "               '2020-11-30', '2020-12-01', '2020-12-02', '2020-12-03',\n",
            "               '2020-12-04', '2020-12-07', '2020-12-08', '2020-12-09',\n",
            "               '2020-12-10', '2020-12-11', '2020-12-14', '2020-12-15',\n",
            "               '2020-12-16', '2020-12-17', '2020-12-18', '2020-12-21',\n",
            "               '2020-12-22', '2020-12-23', '2020-12-24', '2020-12-25',\n",
            "               '2020-12-28', '2020-12-29', '2020-12-30', '2020-12-31'],\n",
            "              dtype='datetime64[ns]', freq='B')\n"
          ]
        }
      ]
    }
  ]
}