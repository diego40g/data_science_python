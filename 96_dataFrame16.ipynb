{
  "nbformat": 4,
  "nbformat_minor": 0,
  "metadata": {
    "colab": {
      "name": "96. dataFrame16.ipynb",
      "provenance": [],
      "authorship_tag": "ABX9TyP0KI9gj7RzF5IQg0jOBdSS",
      "include_colab_link": true
    },
    "kernelspec": {
      "name": "python3",
      "display_name": "Python 3"
    },
    "language_info": {
      "name": "python"
    }
  },
  "cells": [
    {
      "cell_type": "markdown",
      "metadata": {
        "id": "view-in-github",
        "colab_type": "text"
      },
      "source": [
        "<a href=\"https://colab.research.google.com/github/diego40g/data_science_python/blob/numpy/96_dataFrame16.ipynb\" target=\"_parent\"><img src=\"https://colab.research.google.com/assets/colab-badge.svg\" alt=\"Open In Colab\"/></a>"
      ]
    },
    {
      "cell_type": "code",
      "metadata": {
        "id": "Si-RPIaTObuk"
      },
      "source": [
        "import pandas as pd"
      ],
      "execution_count": 1,
      "outputs": []
    },
    {
      "cell_type": "code",
      "metadata": {
        "colab": {
          "base_uri": "https://localhost:8080/"
        },
        "id": "iW97yn7aP_HS",
        "outputId": "693f3a44-8670-4fbc-b6b6-2d014c6d0472"
      },
      "source": [
        "data = {\n",
        "    'Company A': {2018:90, 2019:76, 2020: 109},\n",
        "    'Company B': {2018: 33, 2020: 13},\n",
        "    'Company C': {2018:273, 2019: 33}}\n",
        "print(data)"
      ],
      "execution_count": 2,
      "outputs": [
        {
          "output_type": "stream",
          "name": "stdout",
          "text": [
            "{'Company A': {2018: 90, 2019: 76, 2020: 109}, 'Company B': {2018: 33, 2020: 13}, 'Company C': {2018: 273, 2019: 33}}\n"
          ]
        }
      ]
    },
    {
      "cell_type": "code",
      "metadata": {
        "colab": {
          "base_uri": "https://localhost:8080/"
        },
        "id": "RqxlXyJBQEYe",
        "outputId": "68a42ca2-50cc-4f85-ca5c-107ec11c94dd"
      },
      "source": [
        "df = pd.DataFrame(data)\n",
        "print(df)"
      ],
      "execution_count": 4,
      "outputs": [
        {
          "output_type": "stream",
          "name": "stdout",
          "text": [
            "      Company A  Company B  Company C\n",
            "2018         90       33.0      273.0\n",
            "2019         76        NaN       33.0\n",
            "2020        109       13.0        NaN\n"
          ]
        }
      ]
    },
    {
      "cell_type": "code",
      "metadata": {
        "colab": {
          "base_uri": "https://localhost:8080/"
        },
        "id": "UtAWN3CwQK5y",
        "outputId": "4e250d7a-e656-4e4f-bfcb-8129fa37d3d7"
      },
      "source": [
        "df.columns.name = 'Revenues'\n",
        "df.index.name = 'Year'\n",
        "print(df)"
      ],
      "execution_count": 5,
      "outputs": [
        {
          "output_type": "stream",
          "name": "stdout",
          "text": [
            "Revenues  Company A  Company B  Company C\n",
            "Year                                     \n",
            "2018             90       33.0      273.0\n",
            "2019             76        NaN       33.0\n",
            "2020            109       13.0        NaN\n"
          ]
        }
      ]
    }
  ]
}