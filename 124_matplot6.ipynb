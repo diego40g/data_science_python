{
  "nbformat": 4,
  "nbformat_minor": 0,
  "metadata": {
    "colab": {
      "name": "124. matplot6.ipynb",
      "provenance": [],
      "authorship_tag": "ABX9TyMehxKvbQgvydhzaOy8zXvy",
      "include_colab_link": true
    },
    "kernelspec": {
      "name": "python3",
      "display_name": "Python 3"
    },
    "language_info": {
      "name": "python"
    }
  },
  "cells": [
    {
      "cell_type": "markdown",
      "metadata": {
        "id": "view-in-github",
        "colab_type": "text"
      },
      "source": [
        "<a href=\"https://colab.research.google.com/github/diego40g/data_science_python/blob/numpy/124_matplot6.ipynb\" target=\"_parent\"><img src=\"https://colab.research.google.com/assets/colab-badge.svg\" alt=\"Open In Colab\"/></a>"
      ]
    },
    {
      "cell_type": "code",
      "execution_count": 1,
      "metadata": {
        "id": "VoQDivOQY-xP"
      },
      "outputs": [],
      "source": [
        "import matplotlib.pyplot as plt\n",
        "import pandas as pd\n",
        "import numpy as np"
      ]
    },
    {
      "cell_type": "code",
      "source": [
        "n = 100\n",
        "columns = ['Brand '+str(number) for number in range(1,5)]\n",
        "print (columns)"
      ],
      "metadata": {
        "colab": {
          "base_uri": "https://localhost:8080/"
        },
        "id": "xjarKI5XZMbg",
        "outputId": "92cdc417-905a-4e55-a0a9-7f849cef7f79"
      },
      "execution_count": 2,
      "outputs": [
        {
          "output_type": "stream",
          "name": "stdout",
          "text": [
            "['Brand 1', 'Brand 2', 'Brand 3', 'Brand 4']\n"
          ]
        }
      ]
    },
    {
      "cell_type": "code",
      "source": [
        "date = pd.date_range(start = '2021-1-1', periods = n)\n",
        "print(date)"
      ],
      "metadata": {
        "colab": {
          "base_uri": "https://localhost:8080/"
        },
        "id": "hzDC4jGKZPCP",
        "outputId": "af3cfa41-6e38-49ae-e99b-90e9197b6cb1"
      },
      "execution_count": 3,
      "outputs": [
        {
          "output_type": "stream",
          "name": "stdout",
          "text": [
            "DatetimeIndex(['2021-01-01', '2021-01-02', '2021-01-03', '2021-01-04',\n",
            "               '2021-01-05', '2021-01-06', '2021-01-07', '2021-01-08',\n",
            "               '2021-01-09', '2021-01-10', '2021-01-11', '2021-01-12',\n",
            "               '2021-01-13', '2021-01-14', '2021-01-15', '2021-01-16',\n",
            "               '2021-01-17', '2021-01-18', '2021-01-19', '2021-01-20',\n",
            "               '2021-01-21', '2021-01-22', '2021-01-23', '2021-01-24',\n",
            "               '2021-01-25', '2021-01-26', '2021-01-27', '2021-01-28',\n",
            "               '2021-01-29', '2021-01-30', '2021-01-31', '2021-02-01',\n",
            "               '2021-02-02', '2021-02-03', '2021-02-04', '2021-02-05',\n",
            "               '2021-02-06', '2021-02-07', '2021-02-08', '2021-02-09',\n",
            "               '2021-02-10', '2021-02-11', '2021-02-12', '2021-02-13',\n",
            "               '2021-02-14', '2021-02-15', '2021-02-16', '2021-02-17',\n",
            "               '2021-02-18', '2021-02-19', '2021-02-20', '2021-02-21',\n",
            "               '2021-02-22', '2021-02-23', '2021-02-24', '2021-02-25',\n",
            "               '2021-02-26', '2021-02-27', '2021-02-28', '2021-03-01',\n",
            "               '2021-03-02', '2021-03-03', '2021-03-04', '2021-03-05',\n",
            "               '2021-03-06', '2021-03-07', '2021-03-08', '2021-03-09',\n",
            "               '2021-03-10', '2021-03-11', '2021-03-12', '2021-03-13',\n",
            "               '2021-03-14', '2021-03-15', '2021-03-16', '2021-03-17',\n",
            "               '2021-03-18', '2021-03-19', '2021-03-20', '2021-03-21',\n",
            "               '2021-03-22', '2021-03-23', '2021-03-24', '2021-03-25',\n",
            "               '2021-03-26', '2021-03-27', '2021-03-28', '2021-03-29',\n",
            "               '2021-03-30', '2021-03-31', '2021-04-01', '2021-04-02',\n",
            "               '2021-04-03', '2021-04-04', '2021-04-05', '2021-04-06',\n",
            "               '2021-04-07', '2021-04-08', '2021-04-09', '2021-04-10'],\n",
            "              dtype='datetime64[ns]', freq='D')\n"
          ]
        }
      ]
    },
    {
      "cell_type": "code",
      "source": [
        "data = np.random.randint(low = 1, high = [100, 330, 45, 77], size = (n, 4))\n",
        "print (data)"
      ],
      "metadata": {
        "colab": {
          "base_uri": "https://localhost:8080/"
        },
        "id": "4y1z5JNwZPtR",
        "outputId": "8752e0e2-9440-4e7e-9443-7f6c23d8974d"
      },
      "execution_count": 4,
      "outputs": [
        {
          "output_type": "stream",
          "name": "stdout",
          "text": [
            "[[  1 167  35  24]\n",
            " [ 84 158  13  19]\n",
            " [ 52 209  12  18]\n",
            " [ 91 310  11   5]\n",
            " [ 44   1  20  73]\n",
            " [ 48 271   8  73]\n",
            " [ 68  74   8  15]\n",
            " [ 34 155  20  55]\n",
            " [ 45 277  30  31]\n",
            " [ 23  31  39  59]\n",
            " [ 71  41  30  68]\n",
            " [ 87 251  36  44]\n",
            " [ 70 173  24  70]\n",
            " [ 96 168   7  34]\n",
            " [ 60  73  24  41]\n",
            " [ 96 196  28  37]\n",
            " [ 76 149   4   7]\n",
            " [ 50 245  39  29]\n",
            " [ 59  28   8  58]\n",
            " [ 41 248  29  35]\n",
            " [ 40  58   3  15]\n",
            " [ 64  36  14  10]\n",
            " [ 17 178  38  15]\n",
            " [ 74 211  28  46]\n",
            " [ 57  23   4  46]\n",
            " [ 12  24  17  39]\n",
            " [ 45  21  42  67]\n",
            " [ 23 256  10  69]\n",
            " [ 80 142  17  70]\n",
            " [ 26 194  21  25]\n",
            " [ 15 219  33  63]\n",
            " [ 54  16  27  54]\n",
            " [ 57 256  43   5]\n",
            " [ 49 206  23  34]\n",
            " [ 20 157  18  70]\n",
            " [ 16   7   1  41]\n",
            " [ 14 255   4  49]\n",
            " [ 48 152   2  21]\n",
            " [ 47  12  19  15]\n",
            " [ 28 168  40  64]\n",
            " [  2 104  25  16]\n",
            " [ 16 125  24  70]\n",
            " [ 95 152  16  20]\n",
            " [ 96 322  42  72]\n",
            " [ 17 150  15  73]\n",
            " [ 99 147  42  65]\n",
            " [  1 253  36  12]\n",
            " [ 95 318  28  30]\n",
            " [ 75 203  15  72]\n",
            " [ 47 170  24  49]\n",
            " [ 99  31  24  13]\n",
            " [ 96  10   6  76]\n",
            " [ 76  35  15  47]\n",
            " [ 34  27  20  73]\n",
            " [ 12 308  43  33]\n",
            " [ 31 147   7  43]\n",
            " [ 56 213  30  61]\n",
            " [ 62 310  39  11]\n",
            " [ 31 240  10  17]\n",
            " [ 30 286  42  46]\n",
            " [ 24  97   5  56]\n",
            " [ 55  47   6  69]\n",
            " [  1 171  29  70]\n",
            " [ 63 226  30  14]\n",
            " [  3   1  17  56]\n",
            " [ 77 281  21  49]\n",
            " [  8 278  15  32]\n",
            " [ 50 271  16  38]\n",
            " [ 17 300  22  12]\n",
            " [ 86 245  39  27]\n",
            " [ 63 265  19  52]\n",
            " [ 68  83  35  41]\n",
            " [ 41 196   7  67]\n",
            " [ 51 100  43  37]\n",
            " [ 24 283   7  50]\n",
            " [ 46 286  18  16]\n",
            " [ 66 181  35  23]\n",
            " [  1 269  42  72]\n",
            " [ 53 135  41  55]\n",
            " [ 68 323  14  50]\n",
            " [ 31 205   1  38]\n",
            " [ 89 129  25  34]\n",
            " [ 81   2  12  52]\n",
            " [ 14 311  32  12]\n",
            " [ 96 113  26  50]\n",
            " [ 57 210  24  69]\n",
            " [ 42 231   6   4]\n",
            " [ 81 267  11  10]\n",
            " [ 44 178  28  45]\n",
            " [  1   1   3  52]\n",
            " [ 82 205  35  59]\n",
            " [ 35  66  44  51]\n",
            " [ 40 162  21  43]\n",
            " [  4 279   2  67]\n",
            " [ 79 310  26  72]\n",
            " [ 46 326  33  48]\n",
            " [  3 260  31  74]\n",
            " [ 38 290  34  75]\n",
            " [ 36  24  42  75]\n",
            " [  3 194  17  17]]\n"
          ]
        }
      ]
    },
    {
      "cell_type": "code",
      "source": [
        "df = pd.DataFrame(data,columns = columns, index = date)\n",
        "print(df)"
      ],
      "metadata": {
        "colab": {
          "base_uri": "https://localhost:8080/"
        },
        "id": "dg1__UnbZP8D",
        "outputId": "bfc3b11d-332e-4e91-d692-a546e16a43a1"
      },
      "execution_count": 5,
      "outputs": [
        {
          "output_type": "stream",
          "name": "stdout",
          "text": [
            "            Brand 1  Brand 2  Brand 3  Brand 4\n",
            "2021-01-01        1      167       35       24\n",
            "2021-01-02       84      158       13       19\n",
            "2021-01-03       52      209       12       18\n",
            "2021-01-04       91      310       11        5\n",
            "2021-01-05       44        1       20       73\n",
            "...             ...      ...      ...      ...\n",
            "2021-04-06       46      326       33       48\n",
            "2021-04-07        3      260       31       74\n",
            "2021-04-08       38      290       34       75\n",
            "2021-04-09       36       24       42       75\n",
            "2021-04-10        3      194       17       17\n",
            "\n",
            "[100 rows x 4 columns]\n"
          ]
        }
      ]
    },
    {
      "cell_type": "code",
      "source": [
        "#configurando os dados para o plot\n",
        "data = df.sum().sort_values(ascending = False)"
      ],
      "metadata": {
        "id": "i9GXLMqeZQNH"
      },
      "execution_count": 6,
      "outputs": []
    },
    {
      "cell_type": "code",
      "source": [
        "\n",
        "#plot\n",
        "plt.barh(y = data.index, width = data)\n",
        "plt.xlabel('Values')\n",
        "plt.ylabel('Brands')\n",
        "plt.title('Title')\n",
        "plt.savefig('fig6.jpeg')\n",
        "plt.show()"
      ],
      "metadata": {
        "colab": {
          "base_uri": "https://localhost:8080/",
          "height": 198
        },
        "id": "BYYqA73XZQoe",
        "outputId": "5d7e2c89-41a8-481b-e1ca-32b47da0b0e3"
      },
      "execution_count": 7,
      "outputs": [
        {
          "output_type": "display_data",
          "data": {
            "image/png": "[encoded data removed]",
            "text/plain": [
              "<Figure size 432x288 with 1 Axes>"
            ]
          },
          "metadata": {
            "needs_background": "light"
          }
        }
      ]
    }
  ]
}