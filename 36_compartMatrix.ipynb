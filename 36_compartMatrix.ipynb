{
  "nbformat": 4,
  "nbformat_minor": 0,
  "metadata": {
    "colab": {
      "name": "36. compartMatrix.ipynb",
      "provenance": [],
      "authorship_tag": "ABX9TyMS1Y1zKq8dmz5a4rjELTVR",
      "include_colab_link": true
    },
    "kernelspec": {
      "name": "python3",
      "display_name": "Python 3"
    },
    "language_info": {
      "name": "python"
    }
  },
  "cells": [
    {
      "cell_type": "markdown",
      "metadata": {
        "id": "view-in-github",
        "colab_type": "text"
      },
      "source": [
        "<a href=\"https://colab.research.google.com/github/diego40g/data_science_python/blob/numpy/36_compartMatrix.ipynb\" target=\"_parent\"><img src=\"https://colab.research.google.com/assets/colab-badge.svg\" alt=\"Open In Colab\"/></a>"
      ]
    },
    {
      "cell_type": "code",
      "metadata": {
        "id": "mKIVrRFVjsv_"
      },
      "source": [
        "import numpy as np"
      ],
      "execution_count": 1,
      "outputs": []
    },
    {
      "cell_type": "code",
      "metadata": {
        "colab": {
          "base_uri": "https://localhost:8080/"
        },
        "id": "hTvaX1MtkARv",
        "outputId": "568bb723-b5bd-4362-e1a5-0c358a1b15cd"
      },
      "source": [
        "A = np.array([[1,-3,2],[2,1,-3],[4,-3,-1]])\n",
        "print (A)"
      ],
      "execution_count": 2,
      "outputs": [
        {
          "output_type": "stream",
          "name": "stdout",
          "text": [
            "[[ 1 -3  2]\n",
            " [ 2  1 -3]\n",
            " [ 4 -3 -1]]\n"
          ]
        }
      ]
    },
    {
      "cell_type": "code",
      "metadata": {
        "colab": {
          "base_uri": "https://localhost:8080/"
        },
        "id": "eDc1JvzRkDsU",
        "outputId": "9f1740c7-7b1d-4afb-e432-e07bb7d3aac3"
      },
      "source": [
        "B = np.array([[1,4,1,0],[2,1,1,1],[1,-2,1,2]])\n",
        "print(B)"
      ],
      "execution_count": 3,
      "outputs": [
        {
          "output_type": "stream",
          "name": "stdout",
          "text": [
            "[[ 1  4  1  0]\n",
            " [ 2  1  1  1]\n",
            " [ 1 -2  1  2]]\n"
          ]
        }
      ]
    },
    {
      "cell_type": "code",
      "metadata": {
        "colab": {
          "base_uri": "https://localhost:8080/"
        },
        "id": "-_7YohDnkGvV",
        "outputId": "51076df8-ac9a-4044-83a5-c5eb4e15f1e6"
      },
      "source": [
        "C = np.array([[2,1,-1,-2],[3,-2,-1,-1],[2,-5,-1,0]])\n",
        "print(C)"
      ],
      "execution_count": 4,
      "outputs": [
        {
          "output_type": "stream",
          "name": "stdout",
          "text": [
            "[[ 2  1 -1 -2]\n",
            " [ 3 -2 -1 -1]\n",
            " [ 2 -5 -1  0]]\n"
          ]
        }
      ]
    },
    {
      "cell_type": "code",
      "metadata": {
        "colab": {
          "base_uri": "https://localhost:8080/"
        },
        "id": "8uQlO5hkkJpU",
        "outputId": "b90ae942-991e-4fc9-9d55-e80bacc499cf"
      },
      "source": [
        "print(A.dot(B)==A.dot(C))"
      ],
      "execution_count": 5,
      "outputs": [
        {
          "output_type": "stream",
          "name": "stdout",
          "text": [
            "[[ True  True  True  True]\n",
            " [ True  True  True  True]\n",
            " [ True  True  True  True]]\n"
          ]
        }
      ]
    },
    {
      "cell_type": "code",
      "metadata": {
        "id": "nlFFDyxZkL_s"
      },
      "source": [
        ""
      ],
      "execution_count": null,
      "outputs": []
    }
  ]
}