{
  "nbformat": 4,
  "nbformat_minor": 0,
  "metadata": {
    "colab": {
      "name": "24. arrayIndex.ipynb",
      "provenance": [],
      "collapsed_sections": [],
      "authorship_tag": "ABX9TyOQG+sO4+wy3nPJp/As9hxL",
      "include_colab_link": true
    },
    "kernelspec": {
      "name": "python3",
      "display_name": "Python 3"
    },
    "language_info": {
      "name": "python"
    }
  },
  "cells": [
    {
      "cell_type": "markdown",
      "metadata": {
        "id": "view-in-github",
        "colab_type": "text"
      },
      "source": [
        "<a href=\"https://colab.research.google.com/github/diego40g/data_science_python/blob/numpy/24_arrayIndex.ipynb\" target=\"_parent\"><img src=\"https://colab.research.google.com/assets/colab-badge.svg\" alt=\"Open In Colab\"/></a>"
      ]
    },
    {
      "cell_type": "code",
      "metadata": {
        "id": "0hZD6MIROjfF"
      },
      "source": [
        "import numpy as np"
      ],
      "execution_count": 1,
      "outputs": []
    },
    {
      "cell_type": "code",
      "metadata": {
        "colab": {
          "base_uri": "https://localhost:8080/"
        },
        "id": "dXI8P8QVP5b4",
        "outputId": "4a238549-5de7-49e5-d76c-57dd8f468397"
      },
      "source": [
        "array1=np.array([10,20,30,40])\n",
        "print(array1)"
      ],
      "execution_count": 2,
      "outputs": [
        {
          "output_type": "stream",
          "name": "stdout",
          "text": [
            "[10 20 30 40]\n"
          ]
        }
      ]
    },
    {
      "cell_type": "code",
      "metadata": {
        "colab": {
          "base_uri": "https://localhost:8080/"
        },
        "id": "FcTOlW0oQAMN",
        "outputId": "4d7c15cf-9b80-4070-df0b-03e7d97aa5a5"
      },
      "source": [
        "array2=np.array([100,30,5,1,40,100,20,130,155,170])\n",
        "print(array2)"
      ],
      "execution_count": 3,
      "outputs": [
        {
          "output_type": "stream",
          "name": "stdout",
          "text": [
            "[100  30   5   1  40 100  20 130 155 170]\n"
          ]
        }
      ]
    },
    {
      "cell_type": "code",
      "metadata": {
        "colab": {
          "base_uri": "https://localhost:8080/"
        },
        "id": "EYkoMy1UQShc",
        "outputId": "dc2a8d4f-4297-40c5-9995-3defdafbae53"
      },
      "source": [
        "arrays=[array1,array2]\n",
        "print(arrays)"
      ],
      "execution_count": 4,
      "outputs": [
        {
          "output_type": "stream",
          "name": "stdout",
          "text": [
            "[array([10, 20, 30, 40]), array([100,  30,   5,   1,  40, 100,  20, 130, 155, 170])]\n"
          ]
        }
      ]
    },
    {
      "cell_type": "code",
      "metadata": {
        "colab": {
          "base_uri": "https://localhost:8080/"
        },
        "id": "HKCmR9xkQYA1",
        "outputId": "2bf8973d-1fa0-4e42-8d98-a2285578d53d"
      },
      "source": [
        "for index,array in enumerate(arrays, start=1):\n",
        "  print(f'Arreglo {index}')\n",
        "  print(f'Primer elemento {array[0]}')\n",
        "  print(f'Tercer elemento {array[2]}')\n",
        "  print(f'Ultimo elemento {array[-1]}')\n",
        "  print(f'Arreglo invertido {array[::-1]}')"
      ],
      "execution_count": 5,
      "outputs": [
        {
          "output_type": "stream",
          "name": "stdout",
          "text": [
            "Arreglo 1\n",
            "Primer elemento 10\n",
            "Tercer elemento 30\n",
            "Ultimo elemento 40\n",
            "Arreglo invertido [40 30 20 10]\n",
            "Arreglo 2\n",
            "Primer elemento 100\n",
            "Tercer elemento 5\n",
            "Ultimo elemento 170\n",
            "Arreglo invertido [170 155 130  20 100  40   1   5  30 100]\n"
          ]
        }
      ]
    },
    {
      "cell_type": "code",
      "metadata": {
        "colab": {
          "base_uri": "https://localhost:8080/"
        },
        "id": "F_7K_lfZQ33m",
        "outputId": "4e3d4fdd-fa35-4a98-e0d8-d173ced97f18"
      },
      "source": [
        "sum_ = array1[1]+array2[6]\n",
        "print(sum_)"
      ],
      "execution_count": 7,
      "outputs": [
        {
          "output_type": "stream",
          "name": "stdout",
          "text": [
            "40\n"
          ]
        }
      ]
    },
    {
      "cell_type": "code",
      "metadata": {
        "colab": {
          "base_uri": "https://localhost:8080/"
        },
        "id": "pTk9-6SERBrb",
        "outputId": "fa752d2b-93a2-4ad4-f675-02b4e7bb6145"
      },
      "source": [
        "sum_ = array1[-3]+array2[-4]\n",
        "print(sum_)"
      ],
      "execution_count": 8,
      "outputs": [
        {
          "output_type": "stream",
          "name": "stdout",
          "text": [
            "40\n"
          ]
        }
      ]
    }
  ]
}