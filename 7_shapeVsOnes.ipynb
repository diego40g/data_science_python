{
  "nbformat": 4,
  "nbformat_minor": 0,
  "metadata": {
    "colab": {
      "name": "7. shapeVsOnes.ipynb",
      "provenance": [],
      "authorship_tag": "ABX9TyMv25cWcipCtucxBSA250/E",
      "include_colab_link": true
    },
    "kernelspec": {
      "name": "python3",
      "display_name": "Python 3"
    },
    "language_info": {
      "name": "python"
    }
  },
  "cells": [
    {
      "cell_type": "markdown",
      "metadata": {
        "id": "view-in-github",
        "colab_type": "text"
      },
      "source": [
        "<a href=\"https://colab.research.google.com/github/diego40g/data_science_python/blob/numpy/7_shapeVsOnes.ipynb\" target=\"_parent\"><img src=\"https://colab.research.google.com/assets/colab-badge.svg\" alt=\"Open In Colab\"/></a>"
      ]
    },
    {
      "cell_type": "code",
      "metadata": {
        "id": "183ByivwvR3t"
      },
      "source": [
        "import numpy as np"
      ],
      "execution_count": 1,
      "outputs": []
    },
    {
      "cell_type": "code",
      "metadata": {
        "colab": {
          "base_uri": "https://localhost:8080/"
        },
        "id": "PjSLmWayvVJH",
        "outputId": "4a601d32-2295-4440-c93f-3d34b627697a"
      },
      "source": [
        "A=np.full(shape=(10),fill_value=5,dtype=float)\n",
        "print(A)\n",
        "A=5*np.ones(10)\n",
        "print(A)"
      ],
      "execution_count": 4,
      "outputs": [
        {
          "output_type": "stream",
          "name": "stdout",
          "text": [
            "[5. 5. 5. 5. 5. 5. 5. 5. 5. 5.]\n",
            "[5. 5. 5. 5. 5. 5. 5. 5. 5. 5.]\n"
          ]
        }
      ]
    },
    {
      "cell_type": "code",
      "metadata": {
        "colab": {
          "base_uri": "https://localhost:8080/"
        },
        "id": "RcZOm7AqvwwF",
        "outputId": "722e7451-69ed-4e79-a48b-dd23ea50c10a"
      },
      "source": [
        "B=np.full(shape=(4,4),fill_value=-5,dtype=float)\n",
        "print(B)\n",
        "B=(-5)*np.ones(shape=(4,4))\n",
        "print(B)"
      ],
      "execution_count": 5,
      "outputs": [
        {
          "output_type": "stream",
          "name": "stdout",
          "text": [
            "[[-5. -5. -5. -5.]\n",
            " [-5. -5. -5. -5.]\n",
            " [-5. -5. -5. -5.]\n",
            " [-5. -5. -5. -5.]]\n",
            "[[-5. -5. -5. -5.]\n",
            " [-5. -5. -5. -5.]\n",
            " [-5. -5. -5. -5.]\n",
            " [-5. -5. -5. -5.]]\n"
          ]
        }
      ]
    },
    {
      "cell_type": "code",
      "metadata": {
        "colab": {
          "base_uri": "https://localhost:8080/"
        },
        "id": "ObrHaCYPwCYD",
        "outputId": "d58fa85d-3062-41af-a828-eb96d1677c04"
      },
      "source": [
        "C=np.full(shape=(3,3),fill_value=3,dtype=int)\n",
        "print(C)\n",
        "C=3*np.ones(shape=(3,3),dtype=int)\n",
        "print(C)"
      ],
      "execution_count": 8,
      "outputs": [
        {
          "output_type": "stream",
          "name": "stdout",
          "text": [
            "[[3 3 3]\n",
            " [3 3 3]\n",
            " [3 3 3]]\n",
            "[[3 3 3]\n",
            " [3 3 3]\n",
            " [3 3 3]]\n"
          ]
        }
      ]
    },
    {
      "cell_type": "code",
      "metadata": {
        "colab": {
          "base_uri": "https://localhost:8080/"
        },
        "id": "upHAuIAfwSAq",
        "outputId": "659bbe41-dec5-4309-bc8d-1c2a3f099141"
      },
      "source": [
        "D=np.full(shape=(10,10),fill_value=50,dtype=int)\n",
        "print(D)\n",
        "D=50*np.ones(shape=(10,10),dtype=int)\n",
        "print(D)"
      ],
      "execution_count": 9,
      "outputs": [
        {
          "output_type": "stream",
          "name": "stdout",
          "text": [
            "[[50 50 50 50 50 50 50 50 50 50]\n",
            " [50 50 50 50 50 50 50 50 50 50]\n",
            " [50 50 50 50 50 50 50 50 50 50]\n",
            " [50 50 50 50 50 50 50 50 50 50]\n",
            " [50 50 50 50 50 50 50 50 50 50]\n",
            " [50 50 50 50 50 50 50 50 50 50]\n",
            " [50 50 50 50 50 50 50 50 50 50]\n",
            " [50 50 50 50 50 50 50 50 50 50]\n",
            " [50 50 50 50 50 50 50 50 50 50]\n",
            " [50 50 50 50 50 50 50 50 50 50]]\n",
            "[[50 50 50 50 50 50 50 50 50 50]\n",
            " [50 50 50 50 50 50 50 50 50 50]\n",
            " [50 50 50 50 50 50 50 50 50 50]\n",
            " [50 50 50 50 50 50 50 50 50 50]\n",
            " [50 50 50 50 50 50 50 50 50 50]\n",
            " [50 50 50 50 50 50 50 50 50 50]\n",
            " [50 50 50 50 50 50 50 50 50 50]\n",
            " [50 50 50 50 50 50 50 50 50 50]\n",
            " [50 50 50 50 50 50 50 50 50 50]\n",
            " [50 50 50 50 50 50 50 50 50 50]]\n"
          ]
        }
      ]
    }
  ]
}