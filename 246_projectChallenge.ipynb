{
  "nbformat": 4,
  "nbformat_minor": 0,
  "metadata": {
    "colab": {
      "provenance": [],
      "authorship_tag": "ABX9TyPzTTOZDR8sM6QE+U/ryOAW",
      "include_colab_link": true
    },
    "kernelspec": {
      "name": "python3",
      "display_name": "Python 3"
    },
    "language_info": {
      "name": "python"
    }
  },
  "cells": [
    {
      "cell_type": "markdown",
      "metadata": {
        "id": "view-in-github",
        "colab_type": "text"
      },
      "source": [
        "<a href=\"https://colab.research.google.com/github/diego40g/data_science_python/blob/numpy/246_projectChallenge.ipynb\" target=\"_parent\"><img src=\"https://colab.research.google.com/assets/colab-badge.svg\" alt=\"Open In Colab\"/></a>"
      ]
    },
    {
      "cell_type": "code",
      "execution_count": 1,
      "metadata": {
        "id": "Lon3KyuuSWZv"
      },
      "outputs": [],
      "source": [
        "import decimal"
      ]
    },
    {
      "cell_type": "code",
      "source": [
        "def factorial(n):\n",
        "    factorials = [1]\n",
        "    for i in range(1, n + 1):\n",
        "        factorials.append(factorials[i - 1] * i)\n",
        "    return factorials"
      ],
      "metadata": {
        "id": "rw-KRya6SfoP"
      },
      "execution_count": 2,
      "outputs": []
    },
    {
      "cell_type": "code",
      "source": [
        "def compute_e(n):\n",
        "    decimal.getcontext().prec = n + 1\n",
        "    e = 2\n",
        "    factorials = factorial(2 * n + 1)\n",
        "    for i in range(1, n + 1):\n",
        "        counter = 2 * i + 2\n",
        "        denominator = factorials[2 * i + 1]\n",
        "        e += decimal.Decimal(counter / denominator)\n",
        "    return e"
      ],
      "metadata": {
        "id": "oME2nPTlSlOT"
      },
      "execution_count": 3,
      "outputs": []
    },
    {
      "cell_type": "code",
      "source": [
        "while True:\n",
        "    n = int(input(\"Please type number between 0-1000: \"))\n",
        "    if n >= 0 and n <= 1000:\n",
        "        break\n",
        "\n",
        "print(str(compute_e(n))[:n + 1])"
      ],
      "metadata": {
        "colab": {
          "base_uri": "https://localhost:8080/"
        },
        "id": "rhtOLZ5bSnJ0",
        "outputId": "172166f0-afe5-4a39-8f4a-9a9031b3ebfb"
      },
      "execution_count": 4,
      "outputs": [
        {
          "output_type": "stream",
          "name": "stdout",
          "text": [
            "Please type number between 0-1000: 5\n",
            "2.7182\n"
          ]
        }
      ]
    }
  ]
}