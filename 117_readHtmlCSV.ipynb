{
  "nbformat": 4,
  "nbformat_minor": 0,
  "metadata": {
    "colab": {
      "name": "117. readHtmlCSV.ipynb",
      "provenance": [],
      "authorship_tag": "ABX9TyNXmqyD0S4sOefv8/MUxOj7",
      "include_colab_link": true
    },
    "kernelspec": {
      "name": "python3",
      "display_name": "Python 3"
    },
    "language_info": {
      "name": "python"
    }
  },
  "cells": [
    {
      "cell_type": "markdown",
      "metadata": {
        "id": "view-in-github",
        "colab_type": "text"
      },
      "source": [
        "<a href=\"https://colab.research.google.com/github/diego40g/data_science_python/blob/numpy/117_readHtmlCSV.ipynb\" target=\"_parent\"><img src=\"https://colab.research.google.com/assets/colab-badge.svg\" alt=\"Open In Colab\"/></a>"
      ]
    },
    {
      "cell_type": "code",
      "execution_count": null,
      "metadata": {
        "id": "SXULYAz0AtOv"
      },
      "outputs": [],
      "source": [
        "import pandas as pd"
      ]
    },
    {
      "cell_type": "code",
      "source": [
        "df = pd.read_html('https://en.wikipedia.org/wiki/Economy_of_the_United_States')[1]\n",
        "print(df)"
      ],
      "metadata": {
        "colab": {
          "base_uri": "https://localhost:8080/"
        },
        "id": "C2YcEtU5A1T2",
        "outputId": "0b8956e4-d5e9-4486-dd92-db5675236d0a"
      },
      "execution_count": null,
      "outputs": [
        {
          "output_type": "stream",
          "name": "stdout",
          "text": [
            "                                                   0\n",
            "0            This article is part of a series on the\n",
            "1                        Economy of theUnited States\n",
            "2  Economic history Agricultural history Banking ...\n",
            "3  Sectors Primary sector Agriculture Energy Petr...\n",
            "4  Economy by state California Texas New York Flo...\n",
            "5  Economy by city or county Allentown Atlanta Bu...\n",
            "6  Labor Labor Law  Child labor  Minimum wage Rig...\n",
            "7                               United States portal\n",
            "8  .mw-parser-output .navbar{display:inline;font-...\n"
          ]
        }
      ]
    },
    {
      "cell_type": "code",
      "source": [
        "df.to_csv('USA-indicators.csv', sep = ';', index = False)\n",
        "print(df)"
      ],
      "metadata": {
        "id": "5seYf_MtA80d",
        "outputId": "6af38ce4-a848-42dc-9bf1-7c99d644f9ff",
        "colab": {
          "base_uri": "https://localhost:8080/"
        }
      },
      "execution_count": null,
      "outputs": [
        {
          "output_type": "stream",
          "name": "stdout",
          "text": [
            "                                                   0\n",
            "0            This article is part of a series on the\n",
            "1                        Economy of theUnited States\n",
            "2  Economic history Agricultural history Banking ...\n",
            "3  Sectors Primary sector Agriculture Energy Petr...\n",
            "4  Economy by state California Texas New York Flo...\n",
            "5  Economy by city or county Allentown Atlanta Bu...\n",
            "6  Labor Labor Law  Child labor  Minimum wage Rig...\n",
            "7                               United States portal\n",
            "8  .mw-parser-output .navbar{display:inline;font-...\n"
          ]
        }
      ]
    }
  ]
}