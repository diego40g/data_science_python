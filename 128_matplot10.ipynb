{
  "nbformat": 4,
  "nbformat_minor": 0,
  "metadata": {
    "colab": {
      "name": "128. matplot10.ipynb",
      "provenance": [],
      "authorship_tag": "ABX9TyOIYdj/BV9wX0ZaaeYD3cff",
      "include_colab_link": true
    },
    "kernelspec": {
      "name": "python3",
      "display_name": "Python 3"
    },
    "language_info": {
      "name": "python"
    }
  },
  "cells": [
    {
      "cell_type": "markdown",
      "metadata": {
        "id": "view-in-github",
        "colab_type": "text"
      },
      "source": [
        "<a href=\"https://colab.research.google.com/github/diego40g/data_science_python/blob/numpy/128_matplot10.ipynb\" target=\"_parent\"><img src=\"https://colab.research.google.com/assets/colab-badge.svg\" alt=\"Open In Colab\"/></a>"
      ]
    },
    {
      "cell_type": "code",
      "execution_count": 1,
      "metadata": {
        "id": "zKbd3ba2QCde"
      },
      "outputs": [],
      "source": [
        "import matplotlib.pyplot as plt"
      ]
    },
    {
      "cell_type": "code",
      "source": [
        "\n",
        "brand_A = [120, 130, 145, 177, 270, 211]\n",
        "print(brand_A)"
      ],
      "metadata": {
        "colab": {
          "base_uri": "https://localhost:8080/"
        },
        "id": "oT_bP4MjQFQ8",
        "outputId": "934f95ec-70e2-4fe0-a126-2441a71b906c"
      },
      "execution_count": 2,
      "outputs": [
        {
          "output_type": "stream",
          "name": "stdout",
          "text": [
            "[120, 130, 145, 177, 270, 211]\n"
          ]
        }
      ]
    },
    {
      "cell_type": "code",
      "source": [
        "brand_B = [90, 41, 140, 150, 230, 193]\n",
        "print(brand_B)"
      ],
      "metadata": {
        "colab": {
          "base_uri": "https://localhost:8080/"
        },
        "id": "gcjO085EQIrQ",
        "outputId": "afb07326-7ae1-4415-bf67-fad01db37105"
      },
      "execution_count": 3,
      "outputs": [
        {
          "output_type": "stream",
          "name": "stdout",
          "text": [
            "[90, 41, 140, 150, 230, 193]\n"
          ]
        }
      ]
    },
    {
      "cell_type": "code",
      "source": [
        "months = ['January','February','March','April','May','June']\n",
        "print(months)"
      ],
      "metadata": {
        "colab": {
          "base_uri": "https://localhost:8080/"
        },
        "id": "gsVUglpJQJDU",
        "outputId": "56f86400-5515-4726-8848-da095c2b8233"
      },
      "execution_count": 4,
      "outputs": [
        {
          "output_type": "stream",
          "name": "stdout",
          "text": [
            "['January', 'February', 'March', 'April', 'May', 'June']\n"
          ]
        }
      ]
    },
    {
      "cell_type": "code",
      "source": [
        "#plot\n",
        "plt.bar(x = months, height = brand_A, color = 'blue', label = 'Brand A')\n",
        "plt.bar(x = months, height = brand_B, color = 'red', label = 'Brand B')\n",
        "plt.title('Revenue over time')\n",
        "plt.savefig('fig.jpeg')\n",
        "plt.show()"
      ],
      "metadata": {
        "colab": {
          "base_uri": "https://localhost:8080/",
          "height": 208
        },
        "id": "bbjJfW66QJZi",
        "outputId": "7f767540-f13f-4d8a-b671-beea69b23405"
      },
      "execution_count": 5,
      "outputs": [
        {
          "output_type": "display_data",
          "data": {
            "image/png": "[encoded data removed]",
            "text/plain": [
              "<Figure size 432x288 with 1 Axes>"
            ]
          },
          "metadata": {
            "needs_background": "light"
          }
        }
      ]
    }
  ]
}