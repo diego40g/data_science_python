{
  "nbformat": 4,
  "nbformat_minor": 0,
  "metadata": {
    "colab": {
      "name": "111. dataFrame19.ipynb",
      "provenance": [],
      "authorship_tag": "ABX9TyNhq6xmMX0LDhvz8SHrMa0c",
      "include_colab_link": true
    },
    "kernelspec": {
      "name": "python3",
      "display_name": "Python 3"
    },
    "language_info": {
      "name": "python"
    }
  },
  "cells": [
    {
      "cell_type": "markdown",
      "metadata": {
        "id": "view-in-github",
        "colab_type": "text"
      },
      "source": [
        "<a href=\"https://colab.research.google.com/github/diego40g/data_science_python/blob/numpy/111_dataFrame19.ipynb\" target=\"_parent\"><img src=\"https://colab.research.google.com/assets/colab-badge.svg\" alt=\"Open In Colab\"/></a>"
      ]
    },
    {
      "cell_type": "code",
      "metadata": {
        "id": "87rDyi_TiRVI"
      },
      "source": [
        "import pandas as pd\n",
        "import numpy as np"
      ],
      "execution_count": null,
      "outputs": []
    },
    {
      "cell_type": "code",
      "metadata": {
        "colab": {
          "base_uri": "https://localhost:8080/"
        },
        "id": "BhjjubwciW5Y",
        "outputId": "3599946e-5b11-45d5-80b4-8f6b2181b931"
      },
      "source": [
        "days = pd.date_range(start = '2021-1-1', periods = 10)\n",
        "print(days)"
      ],
      "execution_count": null,
      "outputs": [
        {
          "output_type": "stream",
          "name": "stdout",
          "text": [
            "DatetimeIndex(['2021-01-01', '2021-01-02', '2021-01-03', '2021-01-04',\n",
            "               '2021-01-05', '2021-01-06', '2021-01-07', '2021-01-08',\n",
            "               '2021-01-09', '2021-01-10'],\n",
            "              dtype='datetime64[ns]', freq='D')\n"
          ]
        }
      ]
    },
    {
      "cell_type": "code",
      "metadata": {
        "colab": {
          "base_uri": "https://localhost:8080/"
        },
        "id": "1nSCkFdSicLa",
        "outputId": "bdfae324-cc8c-44b3-d39a-6cf18bb5926c"
      },
      "source": [
        "df = pd.DataFrame(np.arange(1, 31).reshape(10, 3), \n",
        "                  columns = list('ABC'),\n",
        "                  index = days\n",
        "                 )\n",
        "print(df)"
      ],
      "execution_count": null,
      "outputs": [
        {
          "output_type": "stream",
          "name": "stdout",
          "text": [
            "             A   B   C\n",
            "2021-01-01   1   2   3\n",
            "2021-01-02   4   5   6\n",
            "2021-01-03   7   8   9\n",
            "2021-01-04  10  11  12\n",
            "2021-01-05  13  14  15\n",
            "2021-01-06  16  17  18\n",
            "2021-01-07  19  20  21\n",
            "2021-01-08  22  23  24\n",
            "2021-01-09  25  26  27\n",
            "2021-01-10  28  29  30\n"
          ]
        }
      ]
    },
    {
      "cell_type": "code",
      "metadata": {
        "id": "sTMXbwjaiiNN",
        "colab": {
          "base_uri": "https://localhost:8080/"
        },
        "outputId": "ef0e2244-34f2-416c-cd85-f7ab629b8eab"
      },
      "source": [
        "for row_index, row in df.iterrows():\n",
        "    print(row_index.strftime('%d/%m/%Y'))\n",
        "    print('Sum: '+str(row.sum()))\n",
        "    print()"
      ],
      "execution_count": null,
      "outputs": [
        {
          "output_type": "stream",
          "name": "stdout",
          "text": [
            "01/01/2021\n",
            "Sum: 6\n",
            "\n",
            "02/01/2021\n",
            "Sum: 15\n",
            "\n",
            "03/01/2021\n",
            "Sum: 24\n",
            "\n",
            "04/01/2021\n",
            "Sum: 33\n",
            "\n",
            "05/01/2021\n",
            "Sum: 42\n",
            "\n",
            "06/01/2021\n",
            "Sum: 51\n",
            "\n",
            "07/01/2021\n",
            "Sum: 60\n",
            "\n",
            "08/01/2021\n",
            "Sum: 69\n",
            "\n",
            "09/01/2021\n",
            "Sum: 78\n",
            "\n",
            "10/01/2021\n",
            "Sum: 87\n",
            "\n"
          ]
        }
      ]
    }
  ]
}