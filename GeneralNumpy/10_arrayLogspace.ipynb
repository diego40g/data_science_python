{
  "nbformat": 4,
  "nbformat_minor": 0,
  "metadata": {
    "colab": {
      "name": "10. arrayLogspace.ipynb",
      "provenance": [],
      "authorship_tag": "ABX9TyMXPqFpx4G1mwrmMeSXf7jm",
      "include_colab_link": true
    },
    "kernelspec": {
      "name": "python3",
      "display_name": "Python 3"
    },
    "language_info": {
      "name": "python"
    }
  },
  "cells": [
    {
      "cell_type": "markdown",
      "metadata": {
        "id": "view-in-github",
        "colab_type": "text"
      },
      "source": [
        "<a href=\"https://colab.research.google.com/github/diego40g/data_science_python/blob/numpy/10_arrayLogspace.ipynb\" target=\"_parent\"><img src=\"https://colab.research.google.com/assets/colab-badge.svg\" alt=\"Open In Colab\"/></a>"
      ]
    },
    {
      "cell_type": "code",
      "metadata": {
        "id": "g3NDNTRj9EFC"
      },
      "source": [
        "import numpy as np"
      ],
      "execution_count": 1,
      "outputs": []
    },
    {
      "cell_type": "code",
      "metadata": {
        "colab": {
          "base_uri": "https://localhost:8080/"
        },
        "id": "7TeWjp9j_b-r",
        "outputId": "55202c0b-c4b5-419d-9c8f-625aa4ccb78a"
      },
      "source": [
        "A=np.logspace(1,51,10).reshape(-1,1)\n",
        "print(A)"
      ],
      "execution_count": 2,
      "outputs": [
        {
          "output_type": "stream",
          "name": "stdout",
          "text": [
            "[[1.00000000e+01]\n",
            " [3.59381366e+06]\n",
            " [1.29154967e+12]\n",
            " [4.64158883e+17]\n",
            " [1.66810054e+23]\n",
            " [5.99484250e+28]\n",
            " [2.15443469e+34]\n",
            " [7.74263683e+39]\n",
            " [2.78255940e+45]\n",
            " [1.00000000e+51]]\n"
          ]
        }
      ]
    }
  ]
}