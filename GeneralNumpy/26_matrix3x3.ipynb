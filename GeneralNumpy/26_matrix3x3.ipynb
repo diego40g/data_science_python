{
  "nbformat": 4,
  "nbformat_minor": 0,
  "metadata": {
    "colab": {
      "name": "26. matrix3x3.ipynb",
      "provenance": [],
      "collapsed_sections": [],
      "authorship_tag": "ABX9TyP3emDtaTjeDgXB7LTKflUZ",
      "include_colab_link": true
    },
    "kernelspec": {
      "name": "python3",
      "display_name": "Python 3"
    },
    "language_info": {
      "name": "python"
    }
  },
  "cells": [
    {
      "cell_type": "markdown",
      "metadata": {
        "id": "view-in-github",
        "colab_type": "text"
      },
      "source": [
        "<a href=\"https://colab.research.google.com/github/diego40g/data_science_python/blob/numpy/26_matrix3x3.ipynb\" target=\"_parent\"><img src=\"https://colab.research.google.com/assets/colab-badge.svg\" alt=\"Open In Colab\"/></a>"
      ]
    },
    {
      "cell_type": "code",
      "metadata": {
        "id": "DRTW78HxUSpo"
      },
      "source": [
        "import numpy as np"
      ],
      "execution_count": 1,
      "outputs": []
    },
    {
      "cell_type": "code",
      "metadata": {
        "colab": {
          "base_uri": "https://localhost:8080/"
        },
        "id": "2TY9WnAXUWWZ",
        "outputId": "80eb24ff-a667-4df3-9630-8616bde588ce"
      },
      "source": [
        "ar=np.array([\n",
        "  [[1,1,5,1],\n",
        "   [1,1,1,9]],\n",
        "   [[1,3,1,1],\n",
        "    [1,1,21,1]]\n",
        "])\n",
        "print(ar)"
      ],
      "execution_count": 2,
      "outputs": [
        {
          "output_type": "stream",
          "name": "stdout",
          "text": [
            "[[[ 1  1  5  1]\n",
            "  [ 1  1  1  9]]\n",
            "\n",
            " [[ 1  3  1  1]\n",
            "  [ 1  1 21  1]]]\n"
          ]
        }
      ]
    },
    {
      "cell_type": "code",
      "metadata": {
        "colab": {
          "base_uri": "https://localhost:8080/"
        },
        "id": "646u1dSzUmwd",
        "outputId": "c3daefce-5e52-4859-ee08-9d2a3a46e199"
      },
      "source": [
        "print(ar[0][0][2])"
      ],
      "execution_count": 3,
      "outputs": [
        {
          "output_type": "stream",
          "name": "stdout",
          "text": [
            "5\n"
          ]
        }
      ]
    },
    {
      "cell_type": "code",
      "metadata": {
        "colab": {
          "base_uri": "https://localhost:8080/"
        },
        "id": "KOd7pnHXUrQF",
        "outputId": "3d2c4046-0567-44b1-84cf-0d9d4dbea4b4"
      },
      "source": [
        "print(ar[0][1][-1])"
      ],
      "execution_count": 4,
      "outputs": [
        {
          "output_type": "stream",
          "name": "stdout",
          "text": [
            "9\n"
          ]
        }
      ]
    },
    {
      "cell_type": "code",
      "metadata": {
        "colab": {
          "base_uri": "https://localhost:8080/"
        },
        "id": "hD6FujfaUt59",
        "outputId": "5bef29b2-3d73-4f16-a1f9-9ca9ae15b19e"
      },
      "source": [
        "print(ar[1][0][1])"
      ],
      "execution_count": 5,
      "outputs": [
        {
          "output_type": "stream",
          "name": "stdout",
          "text": [
            "3\n"
          ]
        }
      ]
    },
    {
      "cell_type": "code",
      "metadata": {
        "colab": {
          "base_uri": "https://localhost:8080/"
        },
        "id": "xB4kDAaUUw0u",
        "outputId": "41ba6eab-fd2a-488b-e942-b468ed5538ec"
      },
      "source": [
        "print(ar[1][1][2])"
      ],
      "execution_count": 6,
      "outputs": [
        {
          "output_type": "stream",
          "name": "stdout",
          "text": [
            "21\n"
          ]
        }
      ]
    },
    {
      "cell_type": "code",
      "metadata": {
        "colab": {
          "base_uri": "https://localhost:8080/"
        },
        "id": "bFDYYtWLUzZ1",
        "outputId": "7ee11746-a994-47cf-d356-eecaee7dd212"
      },
      "source": [
        "print(ar[1,1,2])"
      ],
      "execution_count": 7,
      "outputs": [
        {
          "output_type": "stream",
          "name": "stdout",
          "text": [
            "21\n"
          ]
        }
      ]
    }
  ]
}