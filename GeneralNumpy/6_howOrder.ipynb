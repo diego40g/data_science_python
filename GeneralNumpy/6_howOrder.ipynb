{
  "nbformat": 4,
  "nbformat_minor": 0,
  "metadata": {
    "colab": {
      "name": "6. howOrder.ipynb",
      "provenance": [],
      "authorship_tag": "ABX9TyPKTLgZZum3EvyUuxCXlf2H",
      "include_colab_link": true
    },
    "kernelspec": {
      "name": "python3",
      "display_name": "Python 3"
    },
    "language_info": {
      "name": "python"
    }
  },
  "cells": [
    {
      "cell_type": "markdown",
      "metadata": {
        "id": "view-in-github",
        "colab_type": "text"
      },
      "source": [
        "<a href=\"https://colab.research.google.com/github/diego40g/data_science_python/blob/numpy/6_howOrder.ipynb\" target=\"_parent\"><img src=\"https://colab.research.google.com/assets/colab-badge.svg\" alt=\"Open In Colab\"/></a>"
      ]
    },
    {
      "cell_type": "code",
      "metadata": {
        "id": "rOoXQKoCtQy4"
      },
      "source": [
        "import numpy as np"
      ],
      "execution_count": 1,
      "outputs": []
    },
    {
      "cell_type": "code",
      "metadata": {
        "colab": {
          "base_uri": "https://localhost:8080/"
        },
        "id": "jLvftKLGtp83",
        "outputId": "cac4c9a4-1ccf-4829-dd9c-c50efea6b23d"
      },
      "source": [
        "A=np.arange(10,50,5).reshape(-1,1)\n",
        "print(A)\n",
        "A=np.array(range(10,50,5)).reshape(-1,1)\n",
        "print(A)"
      ],
      "execution_count": 6,
      "outputs": [
        {
          "output_type": "stream",
          "name": "stdout",
          "text": [
            "[[10]\n",
            " [15]\n",
            " [20]\n",
            " [25]\n",
            " [30]\n",
            " [35]\n",
            " [40]\n",
            " [45]]\n",
            "[[10]\n",
            " [15]\n",
            " [20]\n",
            " [25]\n",
            " [30]\n",
            " [35]\n",
            " [40]\n",
            " [45]]\n"
          ]
        }
      ]
    },
    {
      "cell_type": "code",
      "metadata": {
        "colab": {
          "base_uri": "https://localhost:8080/"
        },
        "id": "azAHPIimt9eb",
        "outputId": "62cdb7f5-ef8e-404d-e019-a0a87011d1e6"
      },
      "source": [
        "B=np.arange(-50,0,5)\n",
        "print(B)\n",
        "B=np.array(range(-50,0,5))\n",
        "print(B)"
      ],
      "execution_count": 3,
      "outputs": [
        {
          "output_type": "stream",
          "name": "stdout",
          "text": [
            "[-50 -45 -40 -35 -30 -25 -20 -15 -10  -5]\n",
            "[-50 -45 -40 -35 -30 -25 -20 -15 -10  -5]\n"
          ]
        }
      ]
    },
    {
      "cell_type": "code",
      "metadata": {
        "colab": {
          "base_uri": "https://localhost:8080/"
        },
        "id": "Je97Aq-SuO3Z",
        "outputId": "cc1c6fc8-0107-4e3d-8bf5-c7e2195a4919"
      },
      "source": [
        "C=np.arange(50,150,2).reshape((5,10))\n",
        "print(C)\n",
        "C=np.array(range(50,150,2)).reshape(5,10)\n",
        "print(C)"
      ],
      "execution_count": 5,
      "outputs": [
        {
          "output_type": "stream",
          "name": "stdout",
          "text": [
            "[[ 50  52  54  56  58  60  62  64  66  68]\n",
            " [ 70  72  74  76  78  80  82  84  86  88]\n",
            " [ 90  92  94  96  98 100 102 104 106 108]\n",
            " [110 112 114 116 118 120 122 124 126 128]\n",
            " [130 132 134 136 138 140 142 144 146 148]]\n",
            "[[ 50  52  54  56  58  60  62  64  66  68]\n",
            " [ 70  72  74  76  78  80  82  84  86  88]\n",
            " [ 90  92  94  96  98 100 102 104 106 108]\n",
            " [110 112 114 116 118 120 122 124 126 128]\n",
            " [130 132 134 136 138 140 142 144 146 148]]\n"
          ]
        }
      ]
    }
  ]
}