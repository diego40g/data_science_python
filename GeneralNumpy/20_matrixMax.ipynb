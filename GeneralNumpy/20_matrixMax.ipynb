{
  "nbformat": 4,
  "nbformat_minor": 0,
  "metadata": {
    "colab": {
      "name": "20. matrixMax.ipynb",
      "provenance": [],
      "collapsed_sections": [],
      "authorship_tag": "ABX9TyNd7xkKEtEx8kx115VBFP4F",
      "include_colab_link": true
    },
    "kernelspec": {
      "name": "python3",
      "display_name": "Python 3"
    },
    "language_info": {
      "name": "python"
    }
  },
  "cells": [
    {
      "cell_type": "markdown",
      "metadata": {
        "id": "view-in-github",
        "colab_type": "text"
      },
      "source": [
        "<a href=\"https://colab.research.google.com/github/diego40g/data_science_python/blob/numpy/20_matrixMax.ipynb\" target=\"_parent\"><img src=\"https://colab.research.google.com/assets/colab-badge.svg\" alt=\"Open In Colab\"/></a>"
      ]
    },
    {
      "cell_type": "code",
      "metadata": {
        "id": "mtGmddkSGoDX"
      },
      "source": [
        "import numpy as np"
      ],
      "execution_count": 1,
      "outputs": []
    },
    {
      "cell_type": "code",
      "metadata": {
        "colab": {
          "base_uri": "https://localhost:8080/"
        },
        "id": "Bl9DpK2-G1XA",
        "outputId": "c39f0466-a821-4dfd-e7ca-54aabf7c6669"
      },
      "source": [
        "A=np.array([[11,15,33,105],\n",
        "           [1,140,45,90],\n",
        "           [67,230,78,99]])\n",
        "print(A)"
      ],
      "execution_count": 2,
      "outputs": [
        {
          "output_type": "stream",
          "name": "stdout",
          "text": [
            "[[ 11  15  33 105]\n",
            " [  1 140  45  90]\n",
            " [ 67 230  78  99]]\n"
          ]
        }
      ]
    },
    {
      "cell_type": "code",
      "metadata": {
        "colab": {
          "base_uri": "https://localhost:8080/"
        },
        "id": "eZxVUensHGUE",
        "outputId": "00b98a4b-3aad-4b2b-b64b-c1dcddbff5ed"
      },
      "source": [
        "print(f'Maximo valor de la matriz: {A.max()}')"
      ],
      "execution_count": 3,
      "outputs": [
        {
          "output_type": "stream",
          "name": "stdout",
          "text": [
            "Maximo valor del arreglo: 230\n"
          ]
        }
      ]
    },
    {
      "cell_type": "code",
      "metadata": {
        "colab": {
          "base_uri": "https://localhost:8080/"
        },
        "id": "D3Zqb7HUHNM0",
        "outputId": "6991219a-2568-404e-bcf6-35f9e41111e9"
      },
      "source": [
        "print(f'Indice del valor maximo de la matriz: {A.argmax()}')"
      ],
      "execution_count": 5,
      "outputs": [
        {
          "output_type": "stream",
          "name": "stdout",
          "text": [
            "Indice del valor maximo de la matriz: 9\n"
          ]
        }
      ]
    }
  ]
}