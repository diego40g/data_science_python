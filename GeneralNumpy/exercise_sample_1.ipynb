{
  "nbformat": 4,
  "nbformat_minor": 0,
  "metadata": {
    "colab": {
      "name": "exercise-sample-1.ipynb",
      "provenance": [],
      "authorship_tag": "ABX9TyPBkJ+eXoMaOGtN2T+W9xJP",
      "include_colab_link": true
    },
    "kernelspec": {
      "name": "python3",
      "display_name": "Python 3"
    },
    "language_info": {
      "name": "python"
    }
  },
  "cells": [
    {
      "cell_type": "markdown",
      "metadata": {
        "id": "view-in-github",
        "colab_type": "text"
      },
      "source": [
        "<a href=\"https://colab.research.google.com/github/diego40g/data_science_python/blob/main/exercise_sample_1.ipynb\" target=\"_parent\"><img src=\"https://colab.research.google.com/assets/colab-badge.svg\" alt=\"Open In Colab\"/></a>"
      ]
    },
    {
      "cell_type": "code",
      "metadata": {
        "id": "xzKrrn3Utax6",
        "colab": {
          "base_uri": "https://localhost:8080/"
        },
        "outputId": "f811507e-13fd-4bec-d7e0-5c7a6843c03d"
      },
      "source": [
        "import numpy as np\n",
        "array=np.array([1,2,3,4])\n",
        "print('Shape: ',array.shape)"
      ],
      "execution_count": 1,
      "outputs": [
        {
          "output_type": "stream",
          "name": "stdout",
          "text": [
            "Shape:  (4,)\n"
          ]
        }
      ]
    }
  ]
}