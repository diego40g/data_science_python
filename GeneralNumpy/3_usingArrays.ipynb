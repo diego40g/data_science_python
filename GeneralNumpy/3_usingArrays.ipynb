{
  "nbformat": 4,
  "nbformat_minor": 0,
  "metadata": {
    "colab": {
      "name": "usingArrays.ipynb",
      "provenance": [],
      "authorship_tag": "ABX9TyNXCCXJd1MWqT9EMM/JVp8f",
      "include_colab_link": true
    },
    "kernelspec": {
      "name": "python3",
      "display_name": "Python 3"
    },
    "language_info": {
      "name": "python"
    }
  },
  "cells": [
    {
      "cell_type": "markdown",
      "metadata": {
        "id": "view-in-github",
        "colab_type": "text"
      },
      "source": [
        "<a href=\"https://colab.research.google.com/github/diego40g/data_science_python/blob/main/usingArrays.ipynb\" target=\"_parent\"><img src=\"https://colab.research.google.com/assets/colab-badge.svg\" alt=\"Open In Colab\"/></a>"
      ]
    },
    {
      "cell_type": "code",
      "metadata": {
        "id": "OpSgjzkG1oJT"
      },
      "source": [
        "import numpy as np"
      ],
      "execution_count": 1,
      "outputs": []
    },
    {
      "cell_type": "code",
      "metadata": {
        "colab": {
          "base_uri": "https://localhost:8080/"
        },
        "id": "BtVv2NtH1scC",
        "outputId": "98e87f28-e68d-408b-f9af-24b78e6e3af6"
      },
      "source": [
        "array1=np.array([-1,4,7,9])\n",
        "print(array1)"
      ],
      "execution_count": 8,
      "outputs": [
        {
          "output_type": "stream",
          "name": "stdout",
          "text": [
            "[-1  4  7  9]\n"
          ]
        }
      ]
    },
    {
      "cell_type": "code",
      "metadata": {
        "colab": {
          "base_uri": "https://localhost:8080/"
        },
        "id": "_vMqg88b1yvQ",
        "outputId": "9e1b2a68-a867-4294-de86-a7f3a3aab357"
      },
      "source": [
        "array2=np.array(range(1,11))\n",
        "print(array2)"
      ],
      "execution_count": 9,
      "outputs": [
        {
          "output_type": "stream",
          "name": "stdout",
          "text": [
            "[ 1  2  3  4  5  6  7  8  9 10]\n"
          ]
        }
      ]
    },
    {
      "cell_type": "code",
      "metadata": {
        "colab": {
          "base_uri": "https://localhost:8080/"
        },
        "id": "NFama8Uq1z96",
        "outputId": "9ab6f2ff-701a-431d-fd83-389d2be66c3f"
      },
      "source": [
        "tuple_ = (10,11,12,13,14)\n",
        "array3=np.array(tuple_)\n",
        "print(array3)"
      ],
      "execution_count": 10,
      "outputs": [
        {
          "output_type": "stream",
          "name": "stdout",
          "text": [
            "[10 11 12 13 14]\n"
          ]
        }
      ]
    },
    {
      "cell_type": "code",
      "metadata": {
        "colab": {
          "base_uri": "https://localhost:8080/"
        },
        "id": "KC7zr5sc2AmW",
        "outputId": "0ad6c18a-9283-4d2b-804e-b130e9039691"
      },
      "source": [
        "array4=np.array(range(1990,2021,5))\n",
        "print(array4)"
      ],
      "execution_count": 11,
      "outputs": [
        {
          "output_type": "stream",
          "name": "stdout",
          "text": [
            "[1990 1995 2000 2005 2010 2015 2020]\n"
          ]
        }
      ]
    },
    {
      "cell_type": "code",
      "metadata": {
        "colab": {
          "base_uri": "https://localhost:8080/"
        },
        "id": "eQNbkpm-2Dje",
        "outputId": "13ef81af-6b0c-48cd-df85-daf2f09a6701"
      },
      "source": [
        "array5=np.array(range(2020,1890,-10))\n",
        "print(array5)"
      ],
      "execution_count": 12,
      "outputs": [
        {
          "output_type": "stream",
          "name": "stdout",
          "text": [
            "[2020 2010 2000 1990 1980 1970 1960 1950 1940 1930 1920 1910 1900]\n"
          ]
        }
      ]
    },
    {
      "cell_type": "code",
      "metadata": {
        "colab": {
          "base_uri": "https://localhost:8080/"
        },
        "id": "wne7b-5d2EL-",
        "outputId": "dc821a22-0b24-49e9-d272-cb1e5c510de9"
      },
      "source": [
        "array6=np.array(100)\n",
        "print(array6)"
      ],
      "execution_count": 13,
      "outputs": [
        {
          "output_type": "stream",
          "name": "stdout",
          "text": [
            "100\n"
          ]
        }
      ]
    }
  ]
}