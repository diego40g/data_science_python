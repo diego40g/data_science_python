{
  "nbformat": 4,
  "nbformat_minor": 0,
  "metadata": {
    "colab": {
      "name": "atributeArray-exercise1.ipynb",
      "provenance": [],
      "authorship_tag": "ABX9TyPSke7k8PwQCgJIpstmCpNK",
      "include_colab_link": true
    },
    "kernelspec": {
      "name": "python3",
      "display_name": "Python 3"
    },
    "language_info": {
      "name": "python"
    }
  },
  "cells": [
    {
      "cell_type": "markdown",
      "metadata": {
        "id": "view-in-github",
        "colab_type": "text"
      },
      "source": [
        "<a href=\"https://colab.research.google.com/github/diego40g/data_science_python/blob/main/atributeArray_exercise1.ipynb\" target=\"_parent\"><img src=\"https://colab.research.google.com/assets/colab-badge.svg\" alt=\"Open In Colab\"/></a>"
      ]
    },
    {
      "cell_type": "code",
      "metadata": {
        "id": "YLGicMI7w71a"
      },
      "source": [
        "import numpy as np\n",
        "array=np.array([1,2,3,4,5,6,7,8,9,10])"
      ],
      "execution_count": 1,
      "outputs": []
    },
    {
      "cell_type": "code",
      "metadata": {
        "colab": {
          "base_uri": "https://localhost:8080/"
        },
        "id": "WshgpwCwtbCm",
        "outputId": "3e8a472d-c2f5-4f0e-fe70-a4dc7ffee83c"
      },
      "source": [
        "print ('Shape: ', array.shape)"
      ],
      "execution_count": 2,
      "outputs": [
        {
          "output_type": "stream",
          "name": "stdout",
          "text": [
            "Shape:  (10,)\n"
          ]
        }
      ]
    },
    {
      "cell_type": "code",
      "metadata": {
        "colab": {
          "base_uri": "https://localhost:8080/"
        },
        "id": "XPPO39ylt7Bi",
        "outputId": "3e9f6cf4-2777-471b-9bf1-cf0b8957faea"
      },
      "source": [
        "print ('Size: ',array.size)"
      ],
      "execution_count": 3,
      "outputs": [
        {
          "output_type": "stream",
          "name": "stdout",
          "text": [
            "Size:  10\n"
          ]
        }
      ]
    },
    {
      "cell_type": "code",
      "metadata": {
        "colab": {
          "base_uri": "https://localhost:8080/"
        },
        "id": "ZpRZzhkYt7Mi",
        "outputId": "e6da6416-f53f-490f-8e06-092615d95651"
      },
      "source": [
        "print ('Ndim: ',array.ndim)"
      ],
      "execution_count": 4,
      "outputs": [
        {
          "output_type": "stream",
          "name": "stdout",
          "text": [
            "Ndim:  1\n"
          ]
        }
      ]
    },
    {
      "cell_type": "code",
      "metadata": {
        "colab": {
          "base_uri": "https://localhost:8080/"
        },
        "id": "OVswoUPbt7Qi",
        "outputId": "24dfffc8-e876-45e3-d71a-bdd43f9d4ec7"
      },
      "source": [
        "print ('Nbytes: ',array.nbytes)"
      ],
      "execution_count": 5,
      "outputs": [
        {
          "output_type": "stream",
          "name": "stdout",
          "text": [
            "Nbytes:  80\n"
          ]
        }
      ]
    },
    {
      "cell_type": "code",
      "metadata": {
        "colab": {
          "base_uri": "https://localhost:8080/"
        },
        "id": "-Fw6giCqt7Ta",
        "outputId": "d1bbaa30-1e92-40b6-c105-ffe7558ba82b"
      },
      "source": [
        "print('Dtype: ',array.dtype)"
      ],
      "execution_count": 6,
      "outputs": [
        {
          "output_type": "stream",
          "name": "stdout",
          "text": [
            "Dtype:  int64\n"
          ]
        }
      ]
    }
  ]
}