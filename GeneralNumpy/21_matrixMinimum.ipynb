{
  "nbformat": 4,
  "nbformat_minor": 0,
  "metadata": {
    "colab": {
      "name": "21. matrixMinimum.ipynb",
      "provenance": [],
      "collapsed_sections": [],
      "authorship_tag": "ABX9TyPMfonr9cduWqta177m3nAZ",
      "include_colab_link": true
    },
    "kernelspec": {
      "name": "python3",
      "display_name": "Python 3"
    },
    "language_info": {
      "name": "python"
    }
  },
  "cells": [
    {
      "cell_type": "markdown",
      "metadata": {
        "id": "view-in-github",
        "colab_type": "text"
      },
      "source": [
        "<a href=\"https://colab.research.google.com/github/diego40g/data_science_python/blob/numpy/21_matrixMinimum.ipynb\" target=\"_parent\"><img src=\"https://colab.research.google.com/assets/colab-badge.svg\" alt=\"Open In Colab\"/></a>"
      ]
    },
    {
      "cell_type": "code",
      "metadata": {
        "id": "RCKT8FuIFp8X"
      },
      "source": [
        "import numpy as np"
      ],
      "execution_count": 1,
      "outputs": []
    },
    {
      "cell_type": "code",
      "metadata": {
        "colab": {
          "base_uri": "https://localhost:8080/"
        },
        "id": "gyQXGfU7J6OK",
        "outputId": "1fa7e57f-02c0-4b67-8cca-a1e4bf27b32f"
      },
      "source": [
        "B=np.array([\n",
        "  [73,22,20,62,3],\n",
        "  [68,84,27,59,93],\n",
        "  [48,52,4,55,50],\n",
        "  [42,23,63,67,4],\n",
        "  [44,30,41,31,29]\n",
        "])\n",
        "print(B)"
      ],
      "execution_count": 3,
      "outputs": [
        {
          "output_type": "stream",
          "name": "stdout",
          "text": [
            "[[73 22 20 62  3]\n",
            " [68 84 27 59 93]\n",
            " [48 52  4 55 50]\n",
            " [42 23 63 67  4]\n",
            " [44 30 41 31 29]]\n"
          ]
        }
      ]
    },
    {
      "cell_type": "code",
      "metadata": {
        "colab": {
          "base_uri": "https://localhost:8080/"
        },
        "id": "gJmyQ9sqJ87I",
        "outputId": "b7a9e0ec-136f-47a3-9d42-8190f3c3a0f8"
      },
      "source": [
        "print(f'Valor minimo del arreglo: {B.min()}')"
      ],
      "execution_count": 4,
      "outputs": [
        {
          "output_type": "stream",
          "name": "stdout",
          "text": [
            "Valor minimo del arreglo: 3\n"
          ]
        }
      ]
    },
    {
      "cell_type": "code",
      "metadata": {
        "colab": {
          "base_uri": "https://localhost:8080/"
        },
        "id": "o6qzaP_kKW8q",
        "outputId": "6dec47e8-c5f2-4d22-ee70-124858ab23f9"
      },
      "source": [
        "print(f'Indice de minimo valor del arreglo: {B.argmin()}')"
      ],
      "execution_count": 5,
      "outputs": [
        {
          "output_type": "stream",
          "name": "stdout",
          "text": [
            "Indice de minimo valor del arreglo: 4\n"
          ]
        }
      ]
    }
  ]
}