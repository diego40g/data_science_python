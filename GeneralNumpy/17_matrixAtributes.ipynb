{
  "nbformat": 4,
  "nbformat_minor": 0,
  "metadata": {
    "colab": {
      "name": "17. matrixAtributes.ipynb",
      "provenance": [],
      "collapsed_sections": [],
      "authorship_tag": "ABX9TyNDLVpN5bSuKb9LuwccY8mM",
      "include_colab_link": true
    },
    "kernelspec": {
      "name": "python3",
      "display_name": "Python 3"
    },
    "language_info": {
      "name": "python"
    }
  },
  "cells": [
    {
      "cell_type": "markdown",
      "metadata": {
        "id": "view-in-github",
        "colab_type": "text"
      },
      "source": [
        "<a href=\"https://colab.research.google.com/github/diego40g/data_science_python/blob/numpy/17_matrixAtributes.ipynb\" target=\"_parent\"><img src=\"https://colab.research.google.com/assets/colab-badge.svg\" alt=\"Open In Colab\"/></a>"
      ]
    },
    {
      "cell_type": "code",
      "metadata": {
        "id": "X2Dpi3w0BGx_"
      },
      "source": [
        "import numpy as np"
      ],
      "execution_count": 1,
      "outputs": []
    },
    {
      "cell_type": "code",
      "metadata": {
        "id": "4SQ724NCCF5B"
      },
      "source": [
        "def info_matrix(matrix):\n",
        "  if isinstance(matrix,np.ndarray) and matrix.ndim==2:\n",
        "    print(f'Valor maximo de la matriz',matrix.max())\n",
        "    print(f'Valor maximo de la columna',matrix.max(axis=0))\n",
        "    print(f'Valor maximo de la fila',matrix.max(axis=1))\n",
        "    print(f'Valor minimo de la matriz',matrix.min())\n",
        "    print(f'Valor minimo de la columna',matrix.min(axis=0))\n",
        "    print(f'Valor minimo de la fila',matrix.min(axis=1))\n",
        "  else:\n",
        "    return None"
      ],
      "execution_count": 2,
      "outputs": []
    },
    {
      "cell_type": "code",
      "metadata": {
        "colab": {
          "base_uri": "https://localhost:8080/"
        },
        "id": "-9dMV4qACyzB",
        "outputId": "5f0b6fe9-affa-4e8a-f7a0-46db3c05f10f"
      },
      "source": [
        "if __name__=='__main__':\n",
        "  matrix=np.random.randint(-1000,1000,50).reshape(10,5)\n",
        "  info_matrix(matrix)"
      ],
      "execution_count": 4,
      "outputs": [
        {
          "output_type": "stream",
          "name": "stdout",
          "text": [
            "Valor maximo de la matriz 983\n",
            "Valor maximo de la columna [983 970 913 819 777]\n",
            "Valor maximo de la fila [373 506 913 414 149 777 970 983 819 592]\n",
            "Valor minimo de la matriz -986\n",
            "Valor minimo de la columna [-464 -846 -685 -837 -986]\n",
            "Valor minimo de la fila [-457 -464 -724 -315 -707 -837 -750 -846 -930 -986]\n"
          ]
        }
      ]
    }
  ]
}