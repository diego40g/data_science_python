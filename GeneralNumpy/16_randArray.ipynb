{
  "nbformat": 4,
  "nbformat_minor": 0,
  "metadata": {
    "colab": {
      "name": "16. randArray.ipynb",
      "provenance": [],
      "collapsed_sections": [],
      "authorship_tag": "ABX9TyOzTAJec0ivnR3gi7nOj7Vz",
      "include_colab_link": true
    },
    "kernelspec": {
      "name": "python3",
      "display_name": "Python 3"
    },
    "language_info": {
      "name": "python"
    }
  },
  "cells": [
    {
      "cell_type": "markdown",
      "metadata": {
        "id": "view-in-github",
        "colab_type": "text"
      },
      "source": [
        "<a href=\"https://colab.research.google.com/github/diego40g/data_science_python/blob/numpy/16_randArray.ipynb\" target=\"_parent\"><img src=\"https://colab.research.google.com/assets/colab-badge.svg\" alt=\"Open In Colab\"/></a>"
      ]
    },
    {
      "cell_type": "code",
      "metadata": {
        "id": "BoEyNrev9zV-"
      },
      "source": [
        "import numpy as np"
      ],
      "execution_count": 1,
      "outputs": []
    },
    {
      "cell_type": "code",
      "metadata": {
        "colab": {
          "base_uri": "https://localhost:8080/"
        },
        "id": "iGdEkoIv_bgp",
        "outputId": "d4b3703b-2267-4587-b493-1acfe5f89e89"
      },
      "source": [
        "array1=np.array([-1,10,3,4,7,27])\n",
        "print(array1)"
      ],
      "execution_count": 2,
      "outputs": [
        {
          "output_type": "stream",
          "name": "stdout",
          "text": [
            "[-1 10  3  4  7 27]\n"
          ]
        }
      ]
    },
    {
      "cell_type": "code",
      "metadata": {
        "colab": {
          "base_uri": "https://localhost:8080/"
        },
        "id": "CdZWpE0T_vpE",
        "outputId": "0f1415d8-3d03-44de-a49b-1c708e2e895b"
      },
      "source": [
        "array2=np.random.randint(-100,300,30)\n",
        "print(array2)"
      ],
      "execution_count": 3,
      "outputs": [
        {
          "output_type": "stream",
          "name": "stdout",
          "text": [
            "[-28  59 213 134 -35 145  14  50 105  67 285  26 225 146 -60 167  86 208\n",
            " 259 -86 218 -77 168 -20 142 -78 279  86  11 -90]\n"
          ]
        }
      ]
    },
    {
      "cell_type": "code",
      "metadata": {
        "colab": {
          "base_uri": "https://localhost:8080/"
        },
        "id": "JAFHA7SA_3UE",
        "outputId": "e718970b-6040-4d51-bc8f-1e107d4c64dd"
      },
      "source": [
        "array3=np.random.randn(10)\n",
        "print(array3)"
      ],
      "execution_count": 5,
      "outputs": [
        {
          "output_type": "stream",
          "name": "stdout",
          "text": [
            "[-0.18229034 -2.25201941  0.23397802 -0.02259999 -1.40038007  0.70165903\n",
            " -0.18245457 -0.27229247 -0.52225624 -1.27293552]\n"
          ]
        }
      ]
    },
    {
      "cell_type": "code",
      "metadata": {
        "colab": {
          "base_uri": "https://localhost:8080/"
        },
        "id": "RhoX6vMC_92s",
        "outputId": "86116ef5-02c2-4ec7-ade8-a30de6eaeee1"
      },
      "source": [
        "array4=np.array(range(50,10,-2))\n",
        "print(array4)"
      ],
      "execution_count": 6,
      "outputs": [
        {
          "output_type": "stream",
          "name": "stdout",
          "text": [
            "[50 48 46 44 42 40 38 36 34 32 30 28 26 24 22 20 18 16 14 12]\n"
          ]
        }
      ]
    },
    {
      "cell_type": "code",
      "metadata": {
        "id": "EsfiNv_oAH40"
      },
      "source": [
        "arrays=[array1,array2,array3,array4]"
      ],
      "execution_count": 7,
      "outputs": []
    },
    {
      "cell_type": "code",
      "metadata": {
        "colab": {
          "base_uri": "https://localhost:8080/"
        },
        "id": "RRQyz2TJASay",
        "outputId": "df1c1b2b-79b1-4931-9d47-deaf6a5da318"
      },
      "source": [
        "for index, array in enumerate(arrays, start=1):\n",
        "  print(f'Arreglo {index}')\n",
        "  print(f'Maximo valor: ',array.max())\n",
        "  print(f'Minimo valor: ',array.min())\n",
        "  print()"
      ],
      "execution_count": 8,
      "outputs": [
        {
          "output_type": "stream",
          "name": "stdout",
          "text": [
            "Arreglo 1\n",
            "Maximo valor:  27\n",
            "Minimo valor:  -1\n",
            "\n",
            "Arreglo 2\n",
            "Maximo valor:  285\n",
            "Minimo valor:  -90\n",
            "\n",
            "Arreglo 3\n",
            "Maximo valor:  0.7016590323932919\n",
            "Minimo valor:  -2.2520194086322567\n",
            "\n",
            "Arreglo 4\n",
            "Maximo valor:  50\n",
            "Minimo valor:  12\n",
            "\n"
          ]
        }
      ]
    }
  ]
}