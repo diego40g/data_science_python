{
  "nbformat": 4,
  "nbformat_minor": 0,
  "metadata": {
    "colab": {
      "name": "112. dataFrame19.ipynb",
      "provenance": [],
      "authorship_tag": "ABX9TyOGNfpoTLqb/Pgs/AVy30pe",
      "include_colab_link": true
    },
    "kernelspec": {
      "name": "python3",
      "display_name": "Python 3"
    },
    "language_info": {
      "name": "python"
    }
  },
  "cells": [
    {
      "cell_type": "markdown",
      "metadata": {
        "id": "view-in-github",
        "colab_type": "text"
      },
      "source": [
        "<a href=\"https://colab.research.google.com/github/diego40g/data_science_python/blob/numpy/112_dataFrame19.ipynb\" target=\"_parent\"><img src=\"https://colab.research.google.com/assets/colab-badge.svg\" alt=\"Open In Colab\"/></a>"
      ]
    },
    {
      "cell_type": "code",
      "metadata": {
        "id": "p4oOFvDGjNap"
      },
      "source": [
        "import pandas as pd\n",
        "import numpy as np"
      ],
      "execution_count": null,
      "outputs": []
    },
    {
      "cell_type": "code",
      "metadata": {
        "colab": {
          "base_uri": "https://localhost:8080/"
        },
        "id": "71HdmqMFjVQl",
        "outputId": "573c5436-a6bc-42cb-e443-4463cde3cf10"
      },
      "source": [
        "days = pd.date_range(start = '2021-1-1', periods = 10)\n",
        "print (days)"
      ],
      "execution_count": null,
      "outputs": [
        {
          "output_type": "stream",
          "name": "stdout",
          "text": [
            "DatetimeIndex(['2021-01-01', '2021-01-02', '2021-01-03', '2021-01-04',\n",
            "               '2021-01-05', '2021-01-06', '2021-01-07', '2021-01-08',\n",
            "               '2021-01-09', '2021-01-10'],\n",
            "              dtype='datetime64[ns]', freq='D')\n"
          ]
        }
      ]
    },
    {
      "cell_type": "code",
      "metadata": {
        "colab": {
          "base_uri": "https://localhost:8080/"
        },
        "id": "g4pRn5jQjatF",
        "outputId": "f69354c5-8e99-43b3-defd-0ec82c4ffb22"
      },
      "source": [
        "df = pd.DataFrame(np.arange(1, 31).reshape(10, 3), \n",
        "                  columns = list('ABC'),\n",
        "                  index = days\n",
        "                 )\n",
        "print(df)"
      ],
      "execution_count": null,
      "outputs": [
        {
          "output_type": "stream",
          "name": "stdout",
          "text": [
            "             A   B   C\n",
            "2021-01-01   1   2   3\n",
            "2021-01-02   4   5   6\n",
            "2021-01-03   7   8   9\n",
            "2021-01-04  10  11  12\n",
            "2021-01-05  13  14  15\n",
            "2021-01-06  16  17  18\n",
            "2021-01-07  19  20  21\n",
            "2021-01-08  22  23  24\n",
            "2021-01-09  25  26  27\n",
            "2021-01-10  28  29  30\n"
          ]
        }
      ]
    },
    {
      "cell_type": "code",
      "metadata": {
        "id": "mZaqSHvjjfym",
        "colab": {
          "base_uri": "https://localhost:8080/"
        },
        "outputId": "934a4112-27fd-4935-fd09-e11e23908f07"
      },
      "source": [
        "\n",
        "for row in df.itertuples():\n",
        "    print(row)"
      ],
      "execution_count": 6,
      "outputs": [
        {
          "output_type": "stream",
          "name": "stdout",
          "text": [
            "Pandas(Index=Timestamp('2021-01-01 00:00:00', freq='D'), A=1, B=2, C=3)\n",
            "Pandas(Index=Timestamp('2021-01-02 00:00:00', freq='D'), A=4, B=5, C=6)\n",
            "Pandas(Index=Timestamp('2021-01-03 00:00:00', freq='D'), A=7, B=8, C=9)\n",
            "Pandas(Index=Timestamp('2021-01-04 00:00:00', freq='D'), A=10, B=11, C=12)\n",
            "Pandas(Index=Timestamp('2021-01-05 00:00:00', freq='D'), A=13, B=14, C=15)\n",
            "Pandas(Index=Timestamp('2021-01-06 00:00:00', freq='D'), A=16, B=17, C=18)\n",
            "Pandas(Index=Timestamp('2021-01-07 00:00:00', freq='D'), A=19, B=20, C=21)\n",
            "Pandas(Index=Timestamp('2021-01-08 00:00:00', freq='D'), A=22, B=23, C=24)\n",
            "Pandas(Index=Timestamp('2021-01-09 00:00:00', freq='D'), A=25, B=26, C=27)\n",
            "Pandas(Index=Timestamp('2021-01-10 00:00:00', freq='D'), A=28, B=29, C=30)\n"
          ]
        }
      ]
    }
  ]
}