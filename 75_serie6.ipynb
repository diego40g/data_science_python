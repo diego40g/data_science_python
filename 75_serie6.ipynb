{
  "nbformat": 4,
  "nbformat_minor": 0,
  "metadata": {
    "colab": {
      "name": "75. serie6.ipynb",
      "provenance": [],
      "authorship_tag": "ABX9TyM1uJYaebJLhflgLz96SrfS",
      "include_colab_link": true
    },
    "kernelspec": {
      "name": "python3",
      "display_name": "Python 3"
    },
    "language_info": {
      "name": "python"
    }
  },
  "cells": [
    {
      "cell_type": "markdown",
      "metadata": {
        "id": "view-in-github",
        "colab_type": "text"
      },
      "source": [
        "<a href=\"https://colab.research.google.com/github/diego40g/data_science_python/blob/numpy/75_serie6.ipynb\" target=\"_parent\"><img src=\"https://colab.research.google.com/assets/colab-badge.svg\" alt=\"Open In Colab\"/></a>"
      ]
    },
    {
      "cell_type": "code",
      "metadata": {
        "id": "FjrvW5AxNg-8"
      },
      "source": [
        "import pandas as pd"
      ],
      "execution_count": 1,
      "outputs": []
    },
    {
      "cell_type": "code",
      "metadata": {
        "colab": {
          "base_uri": "https://localhost:8080/"
        },
        "id": "Vu3WcRGMOMaB",
        "outputId": "d0bc6949-ba1c-475b-a525-37145def37ee"
      },
      "source": [
        "data = {\n",
        "    'ABEV3':12.85,\n",
        "    'AZUL4':22.55,\n",
        "    'BTOW3':115.08,\n",
        "    'RENT3':49.03,\n",
        "    'JBSS3':24.41,\n",
        "    }\n",
        "\n",
        "serie = pd.Series(data)\n",
        "\n",
        "print(serie)"
      ],
      "execution_count": 2,
      "outputs": [
        {
          "output_type": "stream",
          "name": "stdout",
          "text": [
            "ABEV3     12.85\n",
            "AZUL4     22.55\n",
            "BTOW3    115.08\n",
            "RENT3     49.03\n",
            "JBSS3     24.41\n",
            "dtype: float64\n"
          ]
        }
      ]
    },
    {
      "cell_type": "code",
      "metadata": {
        "colab": {
          "base_uri": "https://localhost:8080/"
        },
        "id": "eZJnRHb8OfuN",
        "outputId": "a77dae80-c54b-4b0a-caa7-beb595c6ec6c"
      },
      "source": [
        "\n",
        "serie['PETR4'] = 22.97\n",
        "serie['NTCO3'] = 50.6\n",
        "serie['TIMP3'] = 14.82\n",
        "\n",
        "print(serie)"
      ],
      "execution_count": 3,
      "outputs": [
        {
          "output_type": "stream",
          "name": "stdout",
          "text": [
            "ABEV3     12.85\n",
            "AZUL4     22.55\n",
            "BTOW3    115.08\n",
            "RENT3     49.03\n",
            "JBSS3     24.41\n",
            "PETR4     22.97\n",
            "NTCO3     50.60\n",
            "TIMP3     14.82\n",
            "dtype: float64\n"
          ]
        }
      ]
    },
    {
      "cell_type": "code",
      "metadata": {
        "colab": {
          "base_uri": "https://localhost:8080/"
        },
        "id": "u8hQqsbuOscL",
        "outputId": "a4b8a168-e817-488b-b5a7-def9cefd7d03"
      },
      "source": [
        "serie = serie.append(pd.Series({'PETR4':22.97,'NTCO3':50.6,'TIMP3':14.82}))\n",
        "\n",
        "print (serie)"
      ],
      "execution_count": 4,
      "outputs": [
        {
          "output_type": "stream",
          "name": "stdout",
          "text": [
            "ABEV3     12.85\n",
            "AZUL4     22.55\n",
            "BTOW3    115.08\n",
            "RENT3     49.03\n",
            "JBSS3     24.41\n",
            "PETR4     22.97\n",
            "NTCO3     50.60\n",
            "TIMP3     14.82\n",
            "PETR4     22.97\n",
            "NTCO3     50.60\n",
            "TIMP3     14.82\n",
            "dtype: float64\n"
          ]
        }
      ]
    }
  ]
}