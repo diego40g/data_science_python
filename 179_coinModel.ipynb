{
  "nbformat": 4,
  "nbformat_minor": 0,
  "metadata": {
    "colab": {
      "name": "179. coinModel.ipynb",
      "provenance": [],
      "authorship_tag": "ABX9TyM5KKb+lpKfeeV90lfw6LYl",
      "include_colab_link": true
    },
    "kernelspec": {
      "name": "python3",
      "display_name": "Python 3"
    },
    "language_info": {
      "name": "python"
    }
  },
  "cells": [
    {
      "cell_type": "markdown",
      "metadata": {
        "id": "view-in-github",
        "colab_type": "text"
      },
      "source": [
        "<a href=\"https://colab.research.google.com/github/diego40g/data_science_python/blob/numpy/179_coinModel.ipynb\" target=\"_parent\"><img src=\"https://colab.research.google.com/assets/colab-badge.svg\" alt=\"Open In Colab\"/></a>"
      ]
    },
    {
      "cell_type": "code",
      "execution_count": 1,
      "metadata": {
        "id": "L7abSQQt2Slx"
      },
      "outputs": [],
      "source": [
        "from random import choice\n",
        "from numpy import *"
      ]
    },
    {
      "cell_type": "code",
      "source": [
        "def flip (N,lose,win):\n",
        "    total=0\n",
        "    n=1\n",
        "    while n<=N:\n",
        "        bet=choice ([lose,win])\n",
        "        total=total+bet\n",
        "        n+=1\n",
        "    return (total)"
      ],
      "metadata": {
        "id": "Esmg0cP3-5UN"
      },
      "execution_count": 8,
      "outputs": []
    },
    {
      "cell_type": "code",
      "source": [
        "M=1000\n",
        "m=1\n",
        "money=[]\n",
        "lost=0"
      ],
      "metadata": {
        "id": "K137zSswAww4"
      },
      "execution_count": 4,
      "outputs": []
    },
    {
      "cell_type": "code",
      "source": [
        "while m<=M:\n",
        "    stuff=flip(100,-10,20)\n",
        "    money=money+[stuff]\n",
        "    if stuff<0:\n",
        "        lost+=1\n",
        "    m+=1"
      ],
      "metadata": {
        "id": "x4XhDrPvBBCf"
      },
      "execution_count": 9,
      "outputs": []
    },
    {
      "cell_type": "code",
      "source": [
        "print(mean(money))\n",
        "print(lost)"
      ],
      "metadata": {
        "colab": {
          "base_uri": "https://localhost:8080/"
        },
        "id": "QfBtH-htCCj-",
        "outputId": "806d0b4a-d3e9-48d8-f18d-26357e65ca1f"
      },
      "execution_count": 12,
      "outputs": [
        {
          "output_type": "stream",
          "name": "stdout",
          "text": [
            "496.76\n",
            "0\n"
          ]
        }
      ]
    }
  ]
}