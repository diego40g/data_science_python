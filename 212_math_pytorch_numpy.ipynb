{
  "nbformat": 4,
  "nbformat_minor": 0,
  "metadata": {
    "colab": {
      "name": "212 math-pytorch-numpy.ipynb",
      "provenance": [],
      "collapsed_sections": [],
      "authorship_tag": "ABX9TyO9r0B++eC/b9l6+66VBgNp",
      "include_colab_link": true
    },
    "kernelspec": {
      "name": "python3",
      "display_name": "Python 3"
    },
    "language_info": {
      "name": "python"
    }
  },
  "cells": [
    {
      "cell_type": "markdown",
      "metadata": {
        "id": "view-in-github",
        "colab_type": "text"
      },
      "source": [
        "<a href=\"https://colab.research.google.com/github/diego40g/data_science_python/blob/numpy/212_math_pytorch_numpy.ipynb\" target=\"_parent\"><img src=\"https://colab.research.google.com/assets/colab-badge.svg\" alt=\"Open In Colab\"/></a>"
      ]
    },
    {
      "cell_type": "code",
      "execution_count": 1,
      "metadata": {
        "id": "lSFNyoQkRyM8"
      },
      "outputs": [],
      "source": [
        "import numpy as np\n",
        "import math"
      ]
    },
    {
      "cell_type": "code",
      "source": [
        "x = np.linspace(-math.pi, math.pi, 2000)\n",
        "y = np.sin(x)"
      ],
      "metadata": {
        "id": "jiKjxf5bTEbs"
      },
      "execution_count": 2,
      "outputs": []
    },
    {
      "cell_type": "code",
      "source": [
        "a = np.random.randn()\n",
        "b = np.random.randn()\n",
        "c = np.random.randn()\n",
        "d = np.random.randn()"
      ],
      "metadata": {
        "id": "0Rt9QgXnT02A"
      },
      "execution_count": 3,
      "outputs": []
    },
    {
      "cell_type": "code",
      "source": [
        "learning_rate = 1e-6\n",
        "for t in range(2000):\n",
        "    y_pred = a + b * x + c * x ** 2 + d * x ** 3\n",
        "    loss = np.square(y_pred - y).sum()\n",
        "    if t % 100 == 99:\n",
        "        print(t, loss)\n",
        "\n",
        "    grad_y_pred = 2.0 * (y_pred - y)\n",
        "    grad_a = grad_y_pred.sum()\n",
        "    grad_b = (grad_y_pred * x).sum()\n",
        "    grad_c = (grad_y_pred * x ** 2).sum()\n",
        "    grad_d = (grad_y_pred * x ** 3).sum()\n",
        "\n",
        "    a -= learning_rate * grad_a\n",
        "    b -= learning_rate * grad_b\n",
        "    c -= learning_rate * grad_c\n",
        "    d -= learning_rate * grad_d\n"
      ],
      "metadata": {
        "colab": {
          "base_uri": "https://localhost:8080/"
        },
        "id": "YSMeXXjFTH-V",
        "outputId": "d13f510e-4449-45c7-f6cb-76a7b7832b5c"
      },
      "execution_count": 4,
      "outputs": [
        {
          "output_type": "stream",
          "name": "stdout",
          "text": [
            "99 1256.2333804317886\n",
            "199 869.082240816085\n",
            "299 602.726465234269\n",
            "399 419.2728160621574\n",
            "499 292.7798904437616\n",
            "599 205.46782123953597\n",
            "699 145.13659870468254\n",
            "799 103.40542416505043\n",
            "899 74.51061497942338\n",
            "999 54.483921992483396\n",
            "1099 40.59022879764514\n",
            "1199 30.94231101942965\n",
            "1299 24.23659962513645\n",
            "1399 19.571734342869043\n",
            "1499 16.323826621337115\n",
            "1599 14.060612020336762\n",
            "1699 12.482302050932343\n",
            "1799 11.38078722674135\n",
            "1899 10.61146752250836\n",
            "1999 10.073781345086358\n"
          ]
        }
      ]
    },
    {
      "cell_type": "code",
      "source": [
        "print(f'Result: y = {a} + {b} x + {c} x^2 + {d} x^3')"
      ],
      "metadata": {
        "colab": {
          "base_uri": "https://localhost:8080/"
        },
        "id": "YEjV1GfeT4v_",
        "outputId": "48e91bcd-b95a-4ee9-8a52-680e8444409e"
      },
      "execution_count": 5,
      "outputs": [
        {
          "output_type": "stream",
          "name": "stdout",
          "text": [
            "Result: y = -0.034616144334371414 + 0.8434439502383455 x + 0.005971860912807121 x^2 + -0.09143902182511922 x^3\n"
          ]
        }
      ]
    },
    {
      "cell_type": "code",
      "source": [
        "import torch"
      ],
      "metadata": {
        "id": "rNzV0LRaUgoM"
      },
      "execution_count": 6,
      "outputs": []
    },
    {
      "cell_type": "code",
      "source": [
        "dtype = torch.float\n",
        "device = torch.device(\"cpu\")\n",
        "x = torch.linspace(-math.pi, math.pi, 2000, device=device, dtype=dtype)\n",
        "y = torch.sin(x)"
      ],
      "metadata": {
        "id": "kySlUNZbUluL"
      },
      "execution_count": 7,
      "outputs": []
    },
    {
      "cell_type": "code",
      "source": [
        "a = torch.randn((), device=device, dtype=dtype)\n",
        "b = torch.randn((), device=device, dtype=dtype)\n",
        "c = torch.randn((), device=device, dtype=dtype)\n",
        "d = torch.randn((), device=device, dtype=dtype)"
      ],
      "metadata": {
        "id": "o0r6hV29UsST"
      },
      "execution_count": 8,
      "outputs": []
    },
    {
      "cell_type": "code",
      "source": [
        "learning_rate = 1e-6\n",
        "for t in range(2000):\n",
        "    # Forward pass: compute predicted y\n",
        "    y_pred = a + b * x + c * x ** 2 + d * x ** 3\n",
        "\n",
        "    # Compute and print loss\n",
        "    loss = (y_pred - y).pow(2).sum().item()\n",
        "    if t % 100 == 99:\n",
        "        print(t, loss)\n",
        "\n",
        "    # Backprop to compute gradients of a, b, c, d with respect to loss\n",
        "    grad_y_pred = 2.0 * (y_pred - y)\n",
        "    grad_a = grad_y_pred.sum()\n",
        "    grad_b = (grad_y_pred * x).sum()\n",
        "    grad_c = (grad_y_pred * x ** 2).sum()\n",
        "    grad_d = (grad_y_pred * x ** 3).sum()\n",
        "\n",
        "    # Update weights using gradient descent\n",
        "    a -= learning_rate * grad_a\n",
        "    b -= learning_rate * grad_b\n",
        "    c -= learning_rate * grad_c\n",
        "    d -= learning_rate * grad_d"
      ],
      "metadata": {
        "colab": {
          "base_uri": "https://localhost:8080/"
        },
        "id": "GkxOMRpNUuae",
        "outputId": "b9e73f8b-2c11-494b-d0a0-68196a367c34"
      },
      "execution_count": 9,
      "outputs": [
        {
          "output_type": "stream",
          "name": "stdout",
          "text": [
            "99 1361.6026611328125\n",
            "199 916.4898071289062\n",
            "299 618.3163452148438\n",
            "399 418.43011474609375\n",
            "499 284.33123779296875\n",
            "599 194.2967071533203\n",
            "699 133.7978515625\n",
            "799 93.11116790771484\n",
            "899 65.72454071044922\n",
            "999 47.27373504638672\n",
            "1099 34.831451416015625\n",
            "1199 26.43304443359375\n",
            "1299 20.75856590270996\n",
            "1399 16.920719146728516\n",
            "1499 14.322339057922363\n",
            "1599 12.561275482177734\n",
            "1699 11.366425514221191\n",
            "1799 10.554841041564941\n",
            "1899 10.002983093261719\n",
            "1999 9.627318382263184\n"
          ]
        }
      ]
    },
    {
      "cell_type": "code",
      "source": [
        "print(f'Result: y = {a.item()} + {b.item()} x + {c.item()} x^2 + {d.item()} x^3')"
      ],
      "metadata": {
        "colab": {
          "base_uri": "https://localhost:8080/"
        },
        "id": "NBVgzjKQU3cX",
        "outputId": "c1e5245f-fa74-4407-bd1b-957c2cdf14f8"
      },
      "execution_count": 10,
      "outputs": [
        {
          "output_type": "stream",
          "name": "stdout",
          "text": [
            "Result: y = 0.021088620647788048 + 0.8369805812835693 x + -0.0036381343379616737 x^2 + -0.09051966667175293 x^3\n"
          ]
        }
      ]
    }
  ]
}