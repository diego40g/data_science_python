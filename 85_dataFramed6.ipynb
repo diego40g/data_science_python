{
  "nbformat": 4,
  "nbformat_minor": 0,
  "metadata": {
    "colab": {
      "name": "85. dataFramed6.ipynb",
      "provenance": [],
      "authorship_tag": "ABX9TyOHI/Wwm1hAdSYKecqdW21g",
      "include_colab_link": true
    },
    "kernelspec": {
      "name": "python3",
      "display_name": "Python 3"
    },
    "language_info": {
      "name": "python"
    }
  },
  "cells": [
    {
      "cell_type": "markdown",
      "metadata": {
        "id": "view-in-github",
        "colab_type": "text"
      },
      "source": [
        "<a href=\"https://colab.research.google.com/github/diego40g/data_science_python/blob/numpy/85_dataFramed6.ipynb\" target=\"_parent\"><img src=\"https://colab.research.google.com/assets/colab-badge.svg\" alt=\"Open In Colab\"/></a>"
      ]
    },
    {
      "cell_type": "code",
      "metadata": {
        "id": "y6zjNo7LeJCj"
      },
      "source": [
        "import pandas as pd"
      ],
      "execution_count": 1,
      "outputs": []
    },
    {
      "cell_type": "code",
      "metadata": {
        "colab": {
          "base_uri": "https://localhost:8080/"
        },
        "id": "N4lQKCVned3Z",
        "outputId": "6d6f65a1-956f-4000-8b73-6d4f2a27b3b8"
      },
      "source": [
        "products = {\n",
        "    'product1': {2008:7, 2009:9, 2010: 10, 2011: 15, 2012: 50, 2013: 47}, \n",
        "    'product2': {2008:14, 2009:13, 2010: 7, 2011: 13, 2012: 77, 2013: 94}, \n",
        "    'product3': {2008:5, 2009:11, 2010: 3, 2011: 45, 2012: 21, 2013: 33},\n",
        "    'product4': {2008:4, 2009:2, 2010: 3, 2011: 45, 2012: 21, 2013: 33}}\n",
        "print(products)"
      ],
      "execution_count": 2,
      "outputs": [
        {
          "output_type": "stream",
          "name": "stdout",
          "text": [
            "{'product1': {2008: 7, 2009: 9, 2010: 10, 2011: 15, 2012: 50, 2013: 47}, 'product2': {2008: 14, 2009: 13, 2010: 7, 2011: 13, 2012: 77, 2013: 94}, 'product3': {2008: 5, 2009: 11, 2010: 3, 2011: 45, 2012: 21, 2013: 33}, 'product4': {2008: 4, 2009: 2, 2010: 3, 2011: 45, 2012: 21, 2013: 33}}\n"
          ]
        }
      ]
    },
    {
      "cell_type": "code",
      "metadata": {
        "colab": {
          "base_uri": "https://localhost:8080/"
        },
        "id": "dpDw5uC3emht",
        "outputId": "8790c095-88c9-4014-ff84-758264919ee3"
      },
      "source": [
        "df = pd.DataFrame(products)\n",
        "print(df)"
      ],
      "execution_count": 3,
      "outputs": [
        {
          "output_type": "stream",
          "name": "stdout",
          "text": [
            "      product1  product2  product3  product4\n",
            "2008         7        14         5         4\n",
            "2009         9        13        11         2\n",
            "2010        10         7         3         3\n",
            "2011        15        13        45        45\n",
            "2012        50        77        21        21\n",
            "2013        47        94        33        33\n"
          ]
        }
      ]
    },
    {
      "cell_type": "code",
      "metadata": {
        "colab": {
          "base_uri": "https://localhost:8080/"
        },
        "id": "UsyUZvXberqn",
        "outputId": "01eb7583-6d3a-4dfa-9493-ffb82d836423"
      },
      "source": [
        "df.columns.name='products'\n",
        "df.index.name='Year'\n",
        "print(df)"
      ],
      "execution_count": 5,
      "outputs": [
        {
          "output_type": "stream",
          "name": "stdout",
          "text": [
            "products  product1  product2  product3  product4\n",
            "Year                                            \n",
            "2008             7        14         5         4\n",
            "2009             9        13        11         2\n",
            "2010            10         7         3         3\n",
            "2011            15        13        45        45\n",
            "2012            50        77        21        21\n",
            "2013            47        94        33        33\n"
          ]
        }
      ]
    }
  ]
}