{
  "nbformat": 4,
  "nbformat_minor": 0,
  "metadata": {
    "colab": {
      "name": "91. randomNormal.ipynb",
      "provenance": [],
      "authorship_tag": "ABX9TyNGHw3K0B8MZL1bx8W4oT62",
      "include_colab_link": true
    },
    "kernelspec": {
      "name": "python3",
      "display_name": "Python 3"
    },
    "language_info": {
      "name": "python"
    }
  },
  "cells": [
    {
      "cell_type": "markdown",
      "metadata": {
        "id": "view-in-github",
        "colab_type": "text"
      },
      "source": [
        "<a href=\"https://colab.research.google.com/github/diego40g/data_science_python/blob/numpy/91_randomNormal.ipynb\" target=\"_parent\"><img src=\"https://colab.research.google.com/assets/colab-badge.svg\" alt=\"Open In Colab\"/></a>"
      ]
    },
    {
      "cell_type": "code",
      "metadata": {
        "id": "Mn61SR7vE6AH"
      },
      "source": [
        "import numpy as np\n",
        "import pandas as pd"
      ],
      "execution_count": 1,
      "outputs": []
    },
    {
      "cell_type": "code",
      "metadata": {
        "colab": {
          "base_uri": "https://localhost:8080/"
        },
        "id": "tfXIpG7XFwbp",
        "outputId": "2e60001c-25cd-48c8-f39b-3a4eccdbefb6"
      },
      "source": [
        "array = np.random.normal(10, 0.5, (10,10)).round(1)\n",
        "print(array)"
      ],
      "execution_count": 2,
      "outputs": [
        {
          "output_type": "stream",
          "name": "stdout",
          "text": [
            "[[ 9.  10.  10.6 10.7  9.6  9.4 10.   8.4 10.2 10.4]\n",
            " [10.   9.6 10.6 10.7 10.8 10.6 10.6 10.2 10.2  9.7]\n",
            " [ 9.7 10.2 10.1  9.6  9.4 10.1 10.   9.9 10.3 10.2]\n",
            " [ 9.3  9.7 10.1  9.8  9.9 10.3 10.4 10.2  9.8  9.5]\n",
            " [10.2  9.7 10.5 10.1  9.5  9.5  9.9  9.4 10.9 10.5]\n",
            " [10.5 10.1 10.3  9.7 10.5 10.9  9.3 10.2 10.3 10.7]\n",
            " [ 9.9 10.2  8.7  9.5 10.1 10.4  9.8 10.2 10.4 10.1]\n",
            " [ 9.2  9.9 10.1  9.7  9.7  9.7 10.4 10.3  9.6 10.4]\n",
            " [10.2 10.4 10.4 10.  10.2 10.4  9.6 10.1 10.9  9.9]\n",
            " [10.3  9.7  8.5 10.3 10.   9.7  9.8  9.4 10.2 10.1]]\n"
          ]
        }
      ]
    },
    {
      "cell_type": "code",
      "metadata": {
        "colab": {
          "base_uri": "https://localhost:8080/"
        },
        "id": "I_EFgIXJF6XL",
        "outputId": "a70db638-2b25-480d-81a1-4f004360fd83"
      },
      "source": [
        "col = [chr(64+i) for i in range(1, array.shape[1]+1)]  #column\n",
        "print(col)"
      ],
      "execution_count": 3,
      "outputs": [
        {
          "output_type": "stream",
          "name": "stdout",
          "text": [
            "['A', 'B', 'C', 'D', 'E', 'F', 'G', 'H', 'I', 'J']\n"
          ]
        }
      ]
    },
    {
      "cell_type": "code",
      "metadata": {
        "colab": {
          "base_uri": "https://localhost:8080/"
        },
        "id": "7PkArA1PF6c8",
        "outputId": "8d3f7754-68e7-4505-cf48-ff3ec204104b"
      },
      "source": [
        "index = [chr(64+i)+str(i) for i in range(1,array.shape[0]+1)]\n",
        "print(index)"
      ],
      "execution_count": 4,
      "outputs": [
        {
          "output_type": "stream",
          "name": "stdout",
          "text": [
            "['A1', 'B2', 'C3', 'D4', 'E5', 'F6', 'G7', 'H8', 'I9', 'J10']\n"
          ]
        }
      ]
    },
    {
      "cell_type": "code",
      "metadata": {
        "colab": {
          "base_uri": "https://localhost:8080/"
        },
        "id": "5piSggXpF6fM",
        "outputId": "b33e2003-591e-4a9a-eed6-db0ad48e174f"
      },
      "source": [
        "df = pd.DataFrame(data = array, columns = col, index= index)\n",
        "print(df)"
      ],
      "execution_count": 5,
      "outputs": [
        {
          "output_type": "stream",
          "name": "stdout",
          "text": [
            "        A     B     C     D     E     F     G     H     I     J\n",
            "A1    9.0  10.0  10.6  10.7   9.6   9.4  10.0   8.4  10.2  10.4\n",
            "B2   10.0   9.6  10.6  10.7  10.8  10.6  10.6  10.2  10.2   9.7\n",
            "C3    9.7  10.2  10.1   9.6   9.4  10.1  10.0   9.9  10.3  10.2\n",
            "D4    9.3   9.7  10.1   9.8   9.9  10.3  10.4  10.2   9.8   9.5\n",
            "E5   10.2   9.7  10.5  10.1   9.5   9.5   9.9   9.4  10.9  10.5\n",
            "F6   10.5  10.1  10.3   9.7  10.5  10.9   9.3  10.2  10.3  10.7\n",
            "G7    9.9  10.2   8.7   9.5  10.1  10.4   9.8  10.2  10.4  10.1\n",
            "H8    9.2   9.9  10.1   9.7   9.7   9.7  10.4  10.3   9.6  10.4\n",
            "I9   10.2  10.4  10.4  10.0  10.2  10.4   9.6  10.1  10.9   9.9\n",
            "J10  10.3   9.7   8.5  10.3  10.0   9.7   9.8   9.4  10.2  10.1\n"
          ]
        }
      ]
    }
  ]
}