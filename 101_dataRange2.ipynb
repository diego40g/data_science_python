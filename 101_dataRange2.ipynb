{
  "nbformat": 4,
  "nbformat_minor": 0,
  "metadata": {
    "colab": {
      "name": "101. dataRange2.ipynb",
      "provenance": [],
      "authorship_tag": "ABX9TyPIG/AokeGpX9fCtvvXkipL",
      "include_colab_link": true
    },
    "kernelspec": {
      "name": "python3",
      "display_name": "Python 3"
    },
    "language_info": {
      "name": "python"
    }
  },
  "cells": [
    {
      "cell_type": "markdown",
      "metadata": {
        "id": "view-in-github",
        "colab_type": "text"
      },
      "source": [
        "<a href=\"https://colab.research.google.com/github/diego40g/data_science_python/blob/numpy/101_dataRange2.ipynb\" target=\"_parent\"><img src=\"https://colab.research.google.com/assets/colab-badge.svg\" alt=\"Open In Colab\"/></a>"
      ]
    },
    {
      "cell_type": "code",
      "metadata": {
        "id": "nqTRe6XqUJzz"
      },
      "source": [
        "import pandas as pd"
      ],
      "execution_count": 1,
      "outputs": []
    },
    {
      "cell_type": "code",
      "metadata": {
        "colab": {
          "base_uri": "https://localhost:8080/"
        },
        "id": "beUJx5cqUV32",
        "outputId": "740fbc29-f9bb-4a0b-9324-0e10088841b9"
      },
      "source": [
        "september2021 = pd.date_range(start = '2021-9-1', periods = 29)\n",
        "print(september2021)"
      ],
      "execution_count": 2,
      "outputs": [
        {
          "output_type": "stream",
          "name": "stdout",
          "text": [
            "DatetimeIndex(['2021-09-01', '2021-09-02', '2021-09-03', '2021-09-04',\n",
            "               '2021-09-05', '2021-09-06', '2021-09-07', '2021-09-08',\n",
            "               '2021-09-09', '2021-09-10', '2021-09-11', '2021-09-12',\n",
            "               '2021-09-13', '2021-09-14', '2021-09-15', '2021-09-16',\n",
            "               '2021-09-17', '2021-09-18', '2021-09-19', '2021-09-20',\n",
            "               '2021-09-21', '2021-09-22', '2021-09-23', '2021-09-24',\n",
            "               '2021-09-25', '2021-09-26', '2021-09-27', '2021-09-28',\n",
            "               '2021-09-29'],\n",
            "              dtype='datetime64[ns]', freq='D')\n"
          ]
        }
      ]
    },
    {
      "cell_type": "code",
      "metadata": {
        "colab": {
          "base_uri": "https://localhost:8080/"
        },
        "id": "abJls5DrUeUw",
        "outputId": "7cf9d59a-7e0b-40c4-e1e0-85531aedce2a"
      },
      "source": [
        "september2021 = pd.Series(september2021)\n",
        "print(september2021)"
      ],
      "execution_count": 3,
      "outputs": [
        {
          "output_type": "stream",
          "name": "stdout",
          "text": [
            "0    2021-09-01\n",
            "1    2021-09-02\n",
            "2    2021-09-03\n",
            "3    2021-09-04\n",
            "4    2021-09-05\n",
            "5    2021-09-06\n",
            "6    2021-09-07\n",
            "7    2021-09-08\n",
            "8    2021-09-09\n",
            "9    2021-09-10\n",
            "10   2021-09-11\n",
            "11   2021-09-12\n",
            "12   2021-09-13\n",
            "13   2021-09-14\n",
            "14   2021-09-15\n",
            "15   2021-09-16\n",
            "16   2021-09-17\n",
            "17   2021-09-18\n",
            "18   2021-09-19\n",
            "19   2021-09-20\n",
            "20   2021-09-21\n",
            "21   2021-09-22\n",
            "22   2021-09-23\n",
            "23   2021-09-24\n",
            "24   2021-09-25\n",
            "25   2021-09-26\n",
            "26   2021-09-27\n",
            "27   2021-09-28\n",
            "28   2021-09-29\n",
            "dtype: datetime64[ns]\n"
          ]
        }
      ]
    }
  ]
}