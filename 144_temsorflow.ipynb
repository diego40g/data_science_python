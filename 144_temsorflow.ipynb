{
  "nbformat": 4,
  "nbformat_minor": 0,
  "metadata": {
    "colab": {
      "name": "144. temsorflow.ipynb",
      "provenance": [],
      "authorship_tag": "ABX9TyOBN/tjWaqWFP81Ao/PRnk9",
      "include_colab_link": true
    },
    "kernelspec": {
      "name": "python3",
      "display_name": "Python 3"
    },
    "language_info": {
      "name": "python"
    }
  },
  "cells": [
    {
      "cell_type": "markdown",
      "metadata": {
        "id": "view-in-github",
        "colab_type": "text"
      },
      "source": [
        "<a href=\"https://colab.research.google.com/github/diego40g/data_science_python/blob/numpy/144_temsorflow.ipynb\" target=\"_parent\"><img src=\"https://colab.research.google.com/assets/colab-badge.svg\" alt=\"Open In Colab\"/></a>"
      ]
    },
    {
      "cell_type": "code",
      "execution_count": 2,
      "metadata": {
        "id": "OMv8RXfbUayu"
      },
      "outputs": [],
      "source": [
        "import tensorflow as tf"
      ]
    },
    {
      "cell_type": "code",
      "source": [
        "nombrePc=tf.test.gpu_device_name()\n",
        "print(nombrePc)"
      ],
      "metadata": {
        "colab": {
          "base_uri": "https://localhost:8080/"
        },
        "id": "jHQJ7oXaUkgV",
        "outputId": "511407cc-1497-4652-f85c-20d1fe64d331"
      },
      "execution_count": 3,
      "outputs": [
        {
          "output_type": "stream",
          "name": "stdout",
          "text": [
            "\n"
          ]
        }
      ]
    },
    {
      "cell_type": "code",
      "source": [
        "if nombrePc!='/device:GPU:0':\n",
        "    print('GPU no encontrada')\n",
        "else:\n",
        "    print('Encontrada la GPU es: {}'.format(nombrePc))"
      ],
      "metadata": {
        "colab": {
          "base_uri": "https://localhost:8080/"
        },
        "id": "pB0ipY1lU0xu",
        "outputId": "fc2288a7-2c39-4740-b55b-88dcdfecbd9e"
      },
      "execution_count": 9,
      "outputs": [
        {
          "output_type": "stream",
          "name": "stdout",
          "text": [
            "GPU no encontrada\n"
          ]
        }
      ]
    }
  ]
}