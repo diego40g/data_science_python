{
  "nbformat": 4,
  "nbformat_minor": 0,
  "metadata": {
    "colab": {
      "name": "84. dataFrame5.ipynb",
      "provenance": [],
      "authorship_tag": "ABX9TyM17lkZ8XBMfrmFqz8BfJsr",
      "include_colab_link": true
    },
    "kernelspec": {
      "name": "python3",
      "display_name": "Python 3"
    },
    "language_info": {
      "name": "python"
    }
  },
  "cells": [
    {
      "cell_type": "markdown",
      "metadata": {
        "id": "view-in-github",
        "colab_type": "text"
      },
      "source": [
        "<a href=\"https://colab.research.google.com/github/diego40g/data_science_python/blob/numpy/84_dataFrame5.ipynb\" target=\"_parent\"><img src=\"https://colab.research.google.com/assets/colab-badge.svg\" alt=\"Open In Colab\"/></a>"
      ]
    },
    {
      "cell_type": "code",
      "metadata": {
        "id": "EnQurCz2dC8P"
      },
      "source": [
        "import pandas as pd\n",
        "import numpy as np"
      ],
      "execution_count": 1,
      "outputs": []
    },
    {
      "cell_type": "code",
      "metadata": {
        "colab": {
          "base_uri": "https://localhost:8080/"
        },
        "id": "PeQQvoZkdGtM",
        "outputId": "2ea7f1c0-2703-4cfd-da50-434daae92af2"
      },
      "source": [
        "df = pd.DataFrame(np.random.random(50).reshape((10,5)),\n",
        "                index = range(1,11),\n",
        "                columns = list('ABCDE'))\n",
        "print(df)"
      ],
      "execution_count": 2,
      "outputs": [
        {
          "output_type": "stream",
          "name": "stdout",
          "text": [
            "           A         B         C         D         E\n",
            "1   0.894842  0.836351  0.866905  0.222909  0.199132\n",
            "2   0.694394  0.275758  0.276729  0.601801  0.009872\n",
            "3   0.352358  0.957897  0.232293  0.268853  0.131758\n",
            "4   0.482603  0.373185  0.162151  0.509261  0.705981\n",
            "5   0.381669  0.320570  0.715210  0.400682  0.280870\n",
            "6   0.229375  0.898377  0.484400  0.036885  0.544749\n",
            "7   0.759226  0.362407  0.246680  0.065127  0.351765\n",
            "8   0.991078  0.281731  0.518218  0.195486  0.639377\n",
            "9   0.521924  0.347228  0.877306  0.616799  0.190099\n",
            "10  0.724424  0.551247  0.790445  0.806622  0.513484\n"
          ]
        }
      ]
    }
  ]
}