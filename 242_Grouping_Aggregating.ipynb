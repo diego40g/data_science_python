{
  "nbformat": 4,
  "nbformat_minor": 0,
  "metadata": {
    "colab": {
      "provenance": [],
      "authorship_tag": "ABX9TyPsF19WXTFUlhDJUOsFVuJ6",
      "include_colab_link": true
    },
    "kernelspec": {
      "name": "python3",
      "display_name": "Python 3"
    },
    "language_info": {
      "name": "python"
    }
  },
  "cells": [
    {
      "cell_type": "markdown",
      "metadata": {
        "id": "view-in-github",
        "colab_type": "text"
      },
      "source": [
        "<a href=\"https://colab.research.google.com/github/diego40g/data_science_python/blob/numpy/242_Grouping_Aggregating.ipynb\" target=\"_parent\"><img src=\"https://colab.research.google.com/assets/colab-badge.svg\" alt=\"Open In Colab\"/></a>"
      ]
    },
    {
      "cell_type": "code",
      "execution_count": 1,
      "metadata": {
        "id": "zoxNJ-SXm_Dq"
      },
      "outputs": [],
      "source": [
        "\n",
        "import pandas as pd"
      ]
    },
    {
      "cell_type": "code",
      "source": [
        "\n",
        "df = pd.DataFrame( {'id' : [1, 2, 1, 1, 2, 1, 2], \n",
        "                    'type' : [10, 15, 11, 20, 21, 12, 14], \n",
        "                    'book' : ['Math','English','Physics','Math','English','Physics','English']})\n",
        "print(df)"
      ],
      "metadata": {
        "colab": {
          "base_uri": "https://localhost:8080/"
        },
        "id": "RZIEjOCinD5e",
        "outputId": "77a33b6b-3642-4443-d02b-b5653ac21acd"
      },
      "execution_count": 3,
      "outputs": [
        {
          "output_type": "stream",
          "name": "stdout",
          "text": [
            "   id  type     book\n",
            "0   1    10     Math\n",
            "1   2    15  English\n",
            "2   1    11  Physics\n",
            "3   1    20     Math\n",
            "4   2    21  English\n",
            "5   1    12  Physics\n",
            "6   2    14  English\n"
          ]
        }
      ]
    },
    {
      "cell_type": "code",
      "source": [
        "print(\"Original DataFrame:\")\n",
        "print(df)"
      ],
      "metadata": {
        "colab": {
          "base_uri": "https://localhost:8080/"
        },
        "id": "YR2pWqr_nFAe",
        "outputId": "2ddb216e-226d-4749-85d1-4ab8b8802fbb"
      },
      "execution_count": 5,
      "outputs": [
        {
          "output_type": "stream",
          "name": "stdout",
          "text": [
            "Original DataFrame:\n",
            "   id  type     book\n",
            "0   1    10     Math\n",
            "1   2    15  English\n",
            "2   1    11  Physics\n",
            "3   1    20     Math\n",
            "4   2    21  English\n",
            "5   1    12  Physics\n",
            "6   2    14  English\n"
          ]
        }
      ]
    },
    {
      "cell_type": "code",
      "source": [
        "\n",
        "\n",
        "result = df.groupby(['id', 'type', 'book']).size().unstack(fill_value=0)\n",
        "print(\"\\nResult:\")\n",
        "print(result)"
      ],
      "metadata": {
        "colab": {
          "base_uri": "https://localhost:8080/"
        },
        "id": "xMtE1nYZnI67",
        "outputId": "2c8a2635-df2b-4aef-b69a-f945c910c191"
      },
      "execution_count": 6,
      "outputs": [
        {
          "output_type": "stream",
          "name": "stdout",
          "text": [
            "\n",
            "Result:\n",
            "book     English  Math  Physics\n",
            "id type                        \n",
            "1  10          0     1        0\n",
            "   11          0     0        1\n",
            "   12          0     0        1\n",
            "   20          0     1        0\n",
            "2  14          1     0        0\n",
            "   15          1     0        0\n",
            "   21          1     0        0\n"
          ]
        }
      ]
    }
  ]
}