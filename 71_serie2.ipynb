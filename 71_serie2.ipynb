{
  "nbformat": 4,
  "nbformat_minor": 0,
  "metadata": {
    "colab": {
      "name": "71. serie2.ipynb",
      "provenance": [],
      "authorship_tag": "ABX9TyMdMSSJ+NGDxBUWuqAY5Uc0",
      "include_colab_link": true
    },
    "kernelspec": {
      "name": "python3",
      "display_name": "Python 3"
    },
    "language_info": {
      "name": "python"
    }
  },
  "cells": [
    {
      "cell_type": "markdown",
      "metadata": {
        "id": "view-in-github",
        "colab_type": "text"
      },
      "source": [
        "<a href=\"https://colab.research.google.com/github/diego40g/data_science_python/blob/numpy/71_serie2.ipynb\" target=\"_parent\"><img src=\"https://colab.research.google.com/assets/colab-badge.svg\" alt=\"Open In Colab\"/></a>"
      ]
    },
    {
      "cell_type": "code",
      "metadata": {
        "id": "oIbmRbhMqQN7"
      },
      "source": [
        "import pandas as pd"
      ],
      "execution_count": null,
      "outputs": []
    },
    {
      "cell_type": "code",
      "metadata": {
        "colab": {
          "base_uri": "https://localhost:8080/"
        },
        "id": "eFlR_bH7qala",
        "outputId": "d9e8a643-615c-4f0f-ee35-32a29858b96d"
      },
      "source": [
        "data = ['k','w','z','y']\n",
        "serie1 = pd.Series(data = data)\n",
        "print(data)\n",
        "print(serie1)"
      ],
      "execution_count": null,
      "outputs": [
        {
          "output_type": "stream",
          "name": "stdout",
          "text": [
            "['k', 'w', 'z', 'y']\n",
            "0    k\n",
            "1    w\n",
            "2    z\n",
            "3    y\n",
            "dtype: object\n"
          ]
        }
      ]
    },
    {
      "cell_type": "code",
      "metadata": {
        "colab": {
          "base_uri": "https://localhost:8080/"
        },
        "id": "gxZXlNFgq3SD",
        "outputId": "b82f8386-5900-4e15-f50c-74c0318f8be6"
      },
      "source": [
        "dic = {'a':10,'b':30,'c':15,'d':12}\n",
        "serie2 = pd.Series(data = dic)\n",
        "print(dic)\n",
        "print(serie2)"
      ],
      "execution_count": null,
      "outputs": [
        {
          "output_type": "stream",
          "name": "stdout",
          "text": [
            "{'a': 10, 'b': 30, 'c': 15, 'd': 12}\n",
            "a    10\n",
            "b    30\n",
            "c    15\n",
            "d    12\n",
            "dtype: int64\n"
          ]
        }
      ]
    },
    {
      "cell_type": "code",
      "metadata": {
        "colab": {
          "base_uri": "https://localhost:8080/"
        },
        "id": "UhI2WcuPrUSF",
        "outputId": "d3750786-6a7d-4c5e-ab45-a4fe1df65b85"
      },
      "source": [
        "list1 = serie1.to_list()\n",
        "list2 = serie2.to_list()\n",
        "print(list1)\n",
        "print(list2)"
      ],
      "execution_count": null,
      "outputs": [
        {
          "output_type": "stream",
          "name": "stdout",
          "text": [
            "['k', 'w', 'z', 'y']\n",
            "[10, 30, 15, 12]\n"
          ]
        }
      ]
    },
    {
      "cell_type": "code",
      "metadata": {
        "colab": {
          "base_uri": "https://localhost:8080/"
        },
        "id": "MLPXxj5wrd9O",
        "outputId": "00058f6c-11d3-415f-ca5f-6eb673fa48f7"
      },
      "source": [
        "\n",
        "df1 = pd.DataFrame(serie1, columns = ['Letters'])\n",
        "df2 = pd.DataFrame(serie2, columns = ['Values'])\n",
        "print(df1)\n",
        "print(df2)"
      ],
      "execution_count": null,
      "outputs": [
        {
          "output_type": "stream",
          "name": "stdout",
          "text": [
            "  Letters\n",
            "0       k\n",
            "1       w\n",
            "2       z\n",
            "3       y\n",
            "   Values\n",
            "a      10\n",
            "b      30\n",
            "c      15\n",
            "d      12\n"
          ]
        }
      ]
    }
  ]
}