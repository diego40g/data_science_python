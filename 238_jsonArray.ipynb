{
  "nbformat": 4,
  "nbformat_minor": 0,
  "metadata": {
    "colab": {
      "provenance": [],
      "authorship_tag": "ABX9TyMuBQp8zCjfVA38mFwnQwYI",
      "include_colab_link": true
    },
    "kernelspec": {
      "name": "python3",
      "display_name": "Python 3"
    },
    "language_info": {
      "name": "python"
    }
  },
  "cells": [
    {
      "cell_type": "markdown",
      "metadata": {
        "id": "view-in-github",
        "colab_type": "text"
      },
      "source": [
        "<a href=\"https://colab.research.google.com/github/diego40g/data_science_python/blob/numpy/238_jsonArray.ipynb\" target=\"_parent\"><img src=\"https://colab.research.google.com/assets/colab-badge.svg\" alt=\"Open In Colab\"/></a>"
      ]
    },
    {
      "cell_type": "code",
      "execution_count": 1,
      "metadata": {
        "id": "Sak6OMnxROlH"
      },
      "outputs": [],
      "source": [
        "import json"
      ]
    },
    {
      "cell_type": "code",
      "source": [
        "def encode_complex(object):\n",
        "    # check using isinstance method\n",
        "    if isinstance(object, complex):\n",
        "        return [object.real, object.imag]\n",
        "    # raised error if object is not complex\n",
        "    raise TypeError(repr(object) + \" is not JSON serialized\")"
      ],
      "metadata": {
        "id": "j15q16NeRVA6"
      },
      "execution_count": 2,
      "outputs": []
    },
    {
      "cell_type": "code",
      "source": [
        "complex_obj = json.dumps(2 + 3j, default=encode_complex)\n",
        "print(complex_obj)"
      ],
      "metadata": {
        "colab": {
          "base_uri": "https://localhost:8080/"
        },
        "id": "VdhZiabWRWR2",
        "outputId": "9e037a43-a402-43b2-fb4f-8673767db8b0"
      },
      "execution_count": 3,
      "outputs": [
        {
          "output_type": "stream",
          "name": "stdout",
          "text": [
            "[2.0, 3.0]\n"
          ]
        }
      ]
    }
  ]
}