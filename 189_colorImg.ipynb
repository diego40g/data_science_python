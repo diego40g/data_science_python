{
  "nbformat": 4,
  "nbformat_minor": 0,
  "metadata": {
    "colab": {
      "name": "189. colorImg.ipynb",
      "provenance": [],
      "authorship_tag": "ABX9TyOl8wAUhFbqwakE7kpM1jmo",
      "include_colab_link": true
    },
    "kernelspec": {
      "name": "python3",
      "display_name": "Python 3"
    },
    "language_info": {
      "name": "python"
    }
  },
  "cells": [
    {
      "cell_type": "markdown",
      "metadata": {
        "id": "view-in-github",
        "colab_type": "text"
      },
      "source": [
        "<a href=\"https://colab.research.google.com/github/diego40g/data_science_python/blob/numpy/189_colorImg.ipynb\" target=\"_parent\"><img src=\"https://colab.research.google.com/assets/colab-badge.svg\" alt=\"Open In Colab\"/></a>"
      ]
    },
    {
      "cell_type": "code",
      "execution_count": 2,
      "metadata": {
        "id": "zFtb_1wztgu8"
      },
      "outputs": [],
      "source": [
        "import seaborn as sns \n",
        "from PIL import Image,ImageDraw"
      ]
    },
    {
      "cell_type": "code",
      "source": [
        "ITER=15 #total colors"
      ],
      "metadata": {
        "id": "tFQuKgvGt6z6"
      },
      "execution_count": 3,
      "outputs": []
    },
    {
      "cell_type": "code",
      "source": [
        "palette=list(reversed(sns.color_palette(\"Spectral_r\", ITER).as_hex()))\n",
        "print (palette)"
      ],
      "metadata": {
        "colab": {
          "base_uri": "https://localhost:8080/"
        },
        "id": "D96fFn7juCCR",
        "outputId": "18587bb8-61de-42f2-eec4-4d3848923f7f"
      },
      "execution_count": 4,
      "outputs": [
        {
          "output_type": "stream",
          "name": "stdout",
          "text": [
            "['#be254a', '#dc484c', '#ef6645', '#f88c51', '#fdb365', '#fed27f', '#feeb9d', '#fffebe', '#f0f9a7', '#d8ef9b', '#b3e0a2', '#89d0a4', '#60bba8', '#3f97b7', '#4273b3']\n"
          ]
        }
      ]
    },
    {
      "cell_type": "code",
      "source": [
        "width_px=1000\n",
        "imgNew=Image.new(mode=\"RGB\",size=(width_px,120))"
      ],
      "metadata": {
        "id": "7kfbIbZ4uZ_9"
      },
      "execution_count": 5,
      "outputs": []
    },
    {
      "cell_type": "code",
      "source": [
        "for i in range (ITER):\n",
        "    newt=Image.new(mode=\"RGB\",size=(width_px//ITER,100),color=palette[i])\n",
        "    imgNew.paste(newt,(i*width_px//ITER,10))"
      ],
      "metadata": {
        "id": "fa0hByf5u1tU"
      },
      "execution_count": 7,
      "outputs": []
    },
    {
      "cell_type": "code",
      "source": [
        "imgNew.show()"
      ],
      "metadata": {
        "id": "eeHusKjav1_W"
      },
      "execution_count": 8,
      "outputs": []
    }
  ]
}