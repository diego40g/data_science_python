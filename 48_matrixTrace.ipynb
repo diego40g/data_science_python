{
  "nbformat": 4,
  "nbformat_minor": 0,
  "metadata": {
    "colab": {
      "name": "48. matrixTrace.ipynb",
      "provenance": [],
      "collapsed_sections": [],
      "authorship_tag": "ABX9TyMe7IKzyFcjIikJuCU7hmf0",
      "include_colab_link": true
    },
    "kernelspec": {
      "name": "python3",
      "display_name": "Python 3"
    },
    "language_info": {
      "name": "python"
    }
  },
  "cells": [
    {
      "cell_type": "markdown",
      "metadata": {
        "id": "view-in-github",
        "colab_type": "text"
      },
      "source": [
        "<a href=\"https://colab.research.google.com/github/diego40g/data_science_python/blob/numpy/48_matrixTrace.ipynb\" target=\"_parent\"><img src=\"https://colab.research.google.com/assets/colab-badge.svg\" alt=\"Open In Colab\"/></a>"
      ]
    },
    {
      "cell_type": "code",
      "metadata": {
        "id": "KYUdnZUfKBZe"
      },
      "source": [
        "import numpy as np"
      ],
      "execution_count": 1,
      "outputs": []
    },
    {
      "cell_type": "code",
      "metadata": {
        "colab": {
          "base_uri": "https://localhost:8080/"
        },
        "id": "R-oaa_HnKSeA",
        "outputId": "27496122-20c5-4917-87d2-cd69bd4f970f"
      },
      "source": [
        "A = np.array([[1,2],[3,4]])\n",
        "print(A)"
      ],
      "execution_count": 2,
      "outputs": [
        {
          "output_type": "stream",
          "name": "stdout",
          "text": [
            "[[1 2]\n",
            " [3 4]]\n"
          ]
        }
      ]
    },
    {
      "cell_type": "code",
      "metadata": {
        "colab": {
          "base_uri": "https://localhost:8080/"
        },
        "id": "6Ze0keGsKYC2",
        "outputId": "98b1df09-0f88-48a8-bd2b-badba486016d"
      },
      "source": [
        "B = np.array([[10,0,11],[-7,2,5],[45,78,4]])\n",
        "print(B)"
      ],
      "execution_count": 3,
      "outputs": [
        {
          "output_type": "stream",
          "name": "stdout",
          "text": [
            "[[10  0 11]\n",
            " [-7  2  5]\n",
            " [45 78  4]]\n"
          ]
        }
      ]
    },
    {
      "cell_type": "code",
      "metadata": {
        "colab": {
          "base_uri": "https://localhost:8080/"
        },
        "id": "3T_76rvIKks5",
        "outputId": "17834bab-0b70-4f37-e519-7e12bd63b8ad"
      },
      "source": [
        "C = np.array([[4,2,11,14],[0,-9,1,3],[-3,4,5,8],[0,1,1,2]])\n",
        "print(C)"
      ],
      "execution_count": 4,
      "outputs": [
        {
          "output_type": "stream",
          "name": "stdout",
          "text": [
            "[[ 4  2 11 14]\n",
            " [ 0 -9  1  3]\n",
            " [-3  4  5  8]\n",
            " [ 0  1  1  2]]\n"
          ]
        }
      ]
    },
    {
      "cell_type": "code",
      "metadata": {
        "colab": {
          "base_uri": "https://localhost:8080/"
        },
        "id": "0f8BTqifKqOp",
        "outputId": "1efa48dd-5198-4ce7-e0fa-d52694c4125e"
      },
      "source": [
        "A_trace = A.trace()\n",
        "print(A_trace)"
      ],
      "execution_count": 5,
      "outputs": [
        {
          "output_type": "stream",
          "name": "stdout",
          "text": [
            "5\n"
          ]
        }
      ]
    },
    {
      "cell_type": "code",
      "metadata": {
        "colab": {
          "base_uri": "https://localhost:8080/"
        },
        "id": "PYXR5gAzKwQA",
        "outputId": "422c70a0-b5ff-4bef-9aca-453eb25cd5b5"
      },
      "source": [
        "B_trace = B.trace()\n",
        "print(B)"
      ],
      "execution_count": 6,
      "outputs": [
        {
          "output_type": "stream",
          "name": "stdout",
          "text": [
            "[[10  0 11]\n",
            " [-7  2  5]\n",
            " [45 78  4]]\n"
          ]
        }
      ]
    },
    {
      "cell_type": "code",
      "metadata": {
        "colab": {
          "base_uri": "https://localhost:8080/"
        },
        "id": "_CNVvj3gK2eX",
        "outputId": "3b9201cc-e657-47c1-9750-110cb7e63b5c"
      },
      "source": [
        "C_trace = C.trace()\n",
        "print(C_trace)"
      ],
      "execution_count": 7,
      "outputs": [
        {
          "output_type": "stream",
          "name": "stdout",
          "text": [
            "2\n"
          ]
        }
      ]
    }
  ]
}