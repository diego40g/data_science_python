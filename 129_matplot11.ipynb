{
  "nbformat": 4,
  "nbformat_minor": 0,
  "metadata": {
    "colab": {
      "name": "129. matplot11.ipynb",
      "provenance": [],
      "authorship_tag": "ABX9TyPmlApbglx+TtRdIJLuXWoD",
      "include_colab_link": true
    },
    "kernelspec": {
      "name": "python3",
      "display_name": "Python 3"
    },
    "language_info": {
      "name": "python"
    }
  },
  "cells": [
    {
      "cell_type": "markdown",
      "metadata": {
        "id": "view-in-github",
        "colab_type": "text"
      },
      "source": [
        "<a href=\"https://colab.research.google.com/github/diego40g/data_science_python/blob/numpy/129_matplot11.ipynb\" target=\"_parent\"><img src=\"https://colab.research.google.com/assets/colab-badge.svg\" alt=\"Open In Colab\"/></a>"
      ]
    },
    {
      "cell_type": "code",
      "execution_count": 5,
      "metadata": {
        "id": "3pW2q2IkXhoE"
      },
      "outputs": [],
      "source": [
        "import matplotlib.pyplot as plt"
      ]
    },
    {
      "cell_type": "code",
      "source": [
        "sales = [1500.2, 1378, 671, 431, 700]\n",
        "print(sales)"
      ],
      "metadata": {
        "id": "Yrn4U_KEZnmk",
        "colab": {
          "base_uri": "https://localhost:8080/"
        },
        "outputId": "970c33b5-f314-4012-e166-d0eb011506f9"
      },
      "execution_count": 6,
      "outputs": [
        {
          "output_type": "stream",
          "name": "stdout",
          "text": [
            "[1500.2, 1378, 671, 431, 700]\n"
          ]
        }
      ]
    },
    {
      "cell_type": "code",
      "source": [
        "labels = ['Brand '+str(number) for number in range(1,len(sales)+1)]\n",
        "print(labels)"
      ],
      "metadata": {
        "id": "TSep751oZsVv",
        "colab": {
          "base_uri": "https://localhost:8080/"
        },
        "outputId": "b3ce1a4c-e0df-456a-8738-7344ea1837be"
      },
      "execution_count": 7,
      "outputs": [
        {
          "output_type": "stream",
          "name": "stdout",
          "text": [
            "['Brand 1', 'Brand 2', 'Brand 3', 'Brand 4', 'Brand 5']\n"
          ]
        }
      ]
    },
    {
      "cell_type": "code",
      "source": [
        "plt.pie(sales,labels = labels)\n",
        "plt.savefig('figure.jpeg')\n",
        "plt.show()"
      ],
      "metadata": {
        "id": "8S0H9DOfZrDH",
        "colab": {
          "base_uri": "https://localhost:8080/",
          "height": 248
        },
        "outputId": "dd5ef7f9-3c38-4ff2-cf63-952096ab644f"
      },
      "execution_count": 8,
      "outputs": [
        {
          "output_type": "display_data",
          "data": {
            "image/png": "[encoded data removed]",
            "text/plain": [
              "<Figure size 432x288 with 1 Axes>"
            ]
          },
          "metadata": {}
        }
      ]
    }
  ]
}