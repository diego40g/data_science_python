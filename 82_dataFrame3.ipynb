{
  "nbformat": 4,
  "nbformat_minor": 0,
  "metadata": {
    "colab": {
      "name": "82. dataFrame3.ipynb",
      "provenance": [],
      "authorship_tag": "ABX9TyNZZdR7TW4pcmPbsK+NEROu",
      "include_colab_link": true
    },
    "kernelspec": {
      "name": "python3",
      "display_name": "Python 3"
    },
    "language_info": {
      "name": "python"
    }
  },
  "cells": [
    {
      "cell_type": "markdown",
      "metadata": {
        "id": "view-in-github",
        "colab_type": "text"
      },
      "source": [
        "<a href=\"https://colab.research.google.com/github/diego40g/data_science_python/blob/numpy/82_dataFrame3.ipynb\" target=\"_parent\"><img src=\"https://colab.research.google.com/assets/colab-badge.svg\" alt=\"Open In Colab\"/></a>"
      ]
    },
    {
      "cell_type": "code",
      "metadata": {
        "id": "FRExXu6NVpoM"
      },
      "source": [
        "import pandas as pd"
      ],
      "execution_count": 8,
      "outputs": []
    },
    {
      "cell_type": "code",
      "metadata": {
        "colab": {
          "base_uri": "https://localhost:8080/"
        },
        "id": "e6IyhySuXoNf",
        "outputId": "d74d5a5b-1093-4b4e-ad3f-d26bed220d8d"
      },
      "source": [
        "index = ['Product '+str(i) for i in range(1,9)]\n",
        "print(index)"
      ],
      "execution_count": 9,
      "outputs": [
        {
          "output_type": "stream",
          "name": "stdout",
          "text": [
            "['Product 1', 'Product 2', 'Product 3', 'Product 4', 'Product 5', 'Product 6', 'Product 7', 'Product 8']\n"
          ]
        }
      ]
    },
    {
      "cell_type": "code",
      "metadata": {
        "colab": {
          "base_uri": "https://localhost:8080/"
        },
        "id": "N77fxfCFX1xd",
        "outputId": "20610747-ecef-4b8b-c089-84e4137dee35"
      },
      "source": [
        "data = {\n",
        "    'Price': [20.3, 31.2, 44.7, 30.5, 19.8, 11.2, 15.7, 17.3],\n",
        "    'Unit': [10, 33, 45, 51, 11, 8, 91, 8],\n",
        "    'Total Cost': [100, 568.7, 205.2, 507.1, 250.12, 55.3, 1579, 130]}\n",
        "print(data)"
      ],
      "execution_count": 10,
      "outputs": [
        {
          "output_type": "stream",
          "name": "stdout",
          "text": [
            "{'Price': [20.3, 31.2, 44.7, 30.5, 19.8, 11.2, 15.7, 17.3], 'Unit': [10, 33, 45, 51, 11, 8, 91, 8], 'Total Cost': [100, 568.7, 205.2, 507.1, 250.12, 55.3, 1579, 130]}\n"
          ]
        }
      ]
    },
    {
      "cell_type": "code",
      "metadata": {
        "colab": {
          "base_uri": "https://localhost:8080/"
        },
        "id": "Q3yEZpl0X68v",
        "outputId": "9ca20102-742c-4cb3-a863-4c208622ba7c"
      },
      "source": [
        "df = pd.DataFrame(data, index)\n",
        "print(df)"
      ],
      "execution_count": 11,
      "outputs": [
        {
          "output_type": "stream",
          "name": "stdout",
          "text": [
            "           Price  Unit  Total Cost\n",
            "Product 1   20.3    10      100.00\n",
            "Product 2   31.2    33      568.70\n",
            "Product 3   44.7    45      205.20\n",
            "Product 4   30.5    51      507.10\n",
            "Product 5   19.8    11      250.12\n",
            "Product 6   11.2     8       55.30\n",
            "Product 7   15.7    91     1579.00\n",
            "Product 8   17.3     8      130.00\n"
          ]
        }
      ]
    }
  ]
}