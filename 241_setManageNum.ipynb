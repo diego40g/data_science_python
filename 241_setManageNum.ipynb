{
  "nbformat": 4,
  "nbformat_minor": 0,
  "metadata": {
    "colab": {
      "provenance": [],
      "authorship_tag": "ABX9TyMUScof2l4tji+miFbDUo3R",
      "include_colab_link": true
    },
    "kernelspec": {
      "name": "python3",
      "display_name": "Python 3"
    },
    "language_info": {
      "name": "python"
    }
  },
  "cells": [
    {
      "cell_type": "markdown",
      "metadata": {
        "id": "view-in-github",
        "colab_type": "text"
      },
      "source": [
        "<a href=\"https://colab.research.google.com/github/diego40g/data_science_python/blob/numpy/241_setManageNum.ipynb\" target=\"_parent\"><img src=\"https://colab.research.google.com/assets/colab-badge.svg\" alt=\"Open In Colab\"/></a>"
      ]
    },
    {
      "cell_type": "code",
      "execution_count": 1,
      "metadata": {
        "colab": {
          "base_uri": "https://localhost:8080/"
        },
        "id": "Xh2_rNUEXo6g",
        "outputId": "996f2da9-f0d4-4172-ff9a-adcfd5f74339"
      },
      "outputs": [
        {
          "output_type": "stream",
          "name": "stdout",
          "text": [
            "Original set elements:\n",
            "{0, 1, 2, 3, 4, 5}\n"
          ]
        }
      ],
      "source": [
        "num_set = set([0, 1, 2, 3, 4, 5])\n",
        "print(\"Original set elements:\")\n",
        "print(num_set)"
      ]
    },
    {
      "cell_type": "code",
      "source": [
        "print(\"\\nRemove 0 from the said set:\")\n",
        "num_set.discard(4)\n",
        "print(num_set)"
      ],
      "metadata": {
        "colab": {
          "base_uri": "https://localhost:8080/"
        },
        "id": "uW9b-jSHXzkK",
        "outputId": "804b0813-d13d-4d4d-ee8f-148fbd4ef7d6"
      },
      "execution_count": 2,
      "outputs": [
        {
          "output_type": "stream",
          "name": "stdout",
          "text": [
            "\n",
            "Remove 0 from the said set:\n",
            "{0, 1, 2, 3, 5}\n"
          ]
        }
      ]
    },
    {
      "cell_type": "code",
      "source": [
        "print(\"\\nRemove 5 from the said set:\")\n",
        "num_set.discard(5)\n",
        "print(num_set)"
      ],
      "metadata": {
        "colab": {
          "base_uri": "https://localhost:8080/"
        },
        "id": "JF2kwvBEX0zo",
        "outputId": "e7e124be-1c4e-45ef-b1d8-87717a94cbac"
      },
      "execution_count": 3,
      "outputs": [
        {
          "output_type": "stream",
          "name": "stdout",
          "text": [
            "\n",
            "Remove 5 from the said set:\n",
            "{0, 1, 2, 3}\n"
          ]
        }
      ]
    },
    {
      "cell_type": "code",
      "source": [
        "print(\"\\nRemove 2 from the said set:\")\n",
        "num_set.discard(5)\n",
        "print(num_set)"
      ],
      "metadata": {
        "colab": {
          "base_uri": "https://localhost:8080/"
        },
        "id": "NRO8Q_9RX40L",
        "outputId": "5b8f16c1-4cd1-4e90-b07c-789114a9ab6e"
      },
      "execution_count": 4,
      "outputs": [
        {
          "output_type": "stream",
          "name": "stdout",
          "text": [
            "\n",
            "Remove 2 from the said set:\n",
            "{0, 1, 2, 3}\n"
          ]
        }
      ]
    },
    {
      "cell_type": "code",
      "source": [
        "print(\"\\nRemove 7 from the said set:\")\n",
        "num_set.discard(15)\n",
        "print(num_set)"
      ],
      "metadata": {
        "colab": {
          "base_uri": "https://localhost:8080/"
        },
        "id": "K6dBt-Q8X7oO",
        "outputId": "c5f6eff7-ee91-4f2a-e7e4-b7e0d11c7edd"
      },
      "execution_count": 5,
      "outputs": [
        {
          "output_type": "stream",
          "name": "stdout",
          "text": [
            "\n",
            "Remove 7 from the said set:\n",
            "{0, 1, 2, 3}\n"
          ]
        }
      ]
    }
  ]
}