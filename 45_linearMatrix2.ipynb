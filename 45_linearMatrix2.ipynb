{
  "nbformat": 4,
  "nbformat_minor": 0,
  "metadata": {
    "colab": {
      "name": "45. linearMatrix2.ipynb",
      "provenance": [],
      "authorship_tag": "ABX9TyN3PtWUlPyXEIia8GRKxoty",
      "include_colab_link": true
    },
    "kernelspec": {
      "name": "python3",
      "display_name": "Python 3"
    },
    "language_info": {
      "name": "python"
    }
  },
  "cells": [
    {
      "cell_type": "markdown",
      "metadata": {
        "id": "view-in-github",
        "colab_type": "text"
      },
      "source": [
        "<a href=\"https://colab.research.google.com/github/diego40g/data_science_python/blob/numpy/45_linearMatrix2.ipynb\" target=\"_parent\"><img src=\"https://colab.research.google.com/assets/colab-badge.svg\" alt=\"Open In Colab\"/></a>"
      ]
    },
    {
      "cell_type": "code",
      "metadata": {
        "id": "WDZyZ4I00lFj"
      },
      "source": [
        "import numpy as np"
      ],
      "execution_count": 1,
      "outputs": []
    },
    {
      "cell_type": "code",
      "metadata": {
        "colab": {
          "base_uri": "https://localhost:8080/"
        },
        "id": "SebiCmJn1GGq",
        "outputId": "e35bfc88-d8a6-4bf5-ddd8-761f1f15160c"
      },
      "source": [
        "A = np.array([[1,0,3],[2,-4,0],[3,-2,-5]])\n",
        "print(A)"
      ],
      "execution_count": 2,
      "outputs": [
        {
          "output_type": "stream",
          "name": "stdout",
          "text": [
            "[[ 1  0  3]\n",
            " [ 2 -4  0]\n",
            " [ 3 -2 -5]]\n"
          ]
        }
      ]
    },
    {
      "cell_type": "code",
      "metadata": {
        "colab": {
          "base_uri": "https://localhost:8080/"
        },
        "id": "c4ZmLtd-1Jyt",
        "outputId": "9b075e82-25f2-4125-beaa-8054a84f2f31"
      },
      "source": [
        "B = np.array([[-8],[-4],[26]])\n",
        "print(B)"
      ],
      "execution_count": 3,
      "outputs": [
        {
          "output_type": "stream",
          "name": "stdout",
          "text": [
            "[[-8]\n",
            " [-4]\n",
            " [26]]\n"
          ]
        }
      ]
    },
    {
      "cell_type": "code",
      "metadata": {
        "colab": {
          "base_uri": "https://localhost:8080/"
        },
        "id": "oTJq196V1MEM",
        "outputId": "c3b46745-9877-45d3-846b-e01dc8102437"
      },
      "source": [
        "solution = np.linalg.solve(A,B)\n",
        "print(solution)"
      ],
      "execution_count": 4,
      "outputs": [
        {
          "output_type": "stream",
          "name": "stdout",
          "text": [
            "[[ 4.]\n",
            " [ 3.]\n",
            " [-4.]]\n"
          ]
        }
      ]
    }
  ]
}