{
  "nbformat": 4,
  "nbformat_minor": 0,
  "metadata": {
    "colab": {
      "name": "80. dataFrame.ipynb",
      "provenance": [],
      "authorship_tag": "ABX9TyPTu6B4pDOcA3MF7UBjY7nl",
      "include_colab_link": true
    },
    "kernelspec": {
      "name": "python3",
      "display_name": "Python 3"
    },
    "language_info": {
      "name": "python"
    }
  },
  "cells": [
    {
      "cell_type": "markdown",
      "metadata": {
        "id": "view-in-github",
        "colab_type": "text"
      },
      "source": [
        "<a href=\"https://colab.research.google.com/github/diego40g/data_science_python/blob/numpy/80_dataFrame.ipynb\" target=\"_parent\"><img src=\"https://colab.research.google.com/assets/colab-badge.svg\" alt=\"Open In Colab\"/></a>"
      ]
    },
    {
      "cell_type": "code",
      "metadata": {
        "id": "po2_ZMl7Vh3S"
      },
      "source": [
        "import pandas as pd"
      ],
      "execution_count": 1,
      "outputs": []
    },
    {
      "cell_type": "code",
      "metadata": {
        "colab": {
          "base_uri": "https://localhost:8080/"
        },
        "id": "uRofWl_9VmY2",
        "outputId": "a24de419-1796-49f0-c092-757ef38b007e"
      },
      "source": [
        "\n",
        "data = [10, 22, 3, 11, 17, 22, 9, 4, 29, 31]\n",
        "print(data)"
      ],
      "execution_count": 2,
      "outputs": [
        {
          "output_type": "stream",
          "name": "stdout",
          "text": [
            "[10, 22, 3, 11, 17, 22, 9, 4, 29, 31]\n"
          ]
        }
      ]
    },
    {
      "cell_type": "code",
      "metadata": {
        "colab": {
          "base_uri": "https://localhost:8080/"
        },
        "id": "81DSag_GV30a",
        "outputId": "6c463df3-6706-4c96-fad3-94556e407b2b"
      },
      "source": [
        "df = pd.DataFrame(data = data, columns = ['A'])\n",
        "print(df)"
      ],
      "execution_count": 3,
      "outputs": [
        {
          "output_type": "stream",
          "name": "stdout",
          "text": [
            "    A\n",
            "0  10\n",
            "1  22\n",
            "2   3\n",
            "3  11\n",
            "4  17\n",
            "5  22\n",
            "6   9\n",
            "7   4\n",
            "8  29\n",
            "9  31\n"
          ]
        }
      ]
    }
  ]
}