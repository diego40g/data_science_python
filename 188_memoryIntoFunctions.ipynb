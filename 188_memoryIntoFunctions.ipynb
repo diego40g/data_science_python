{
  "nbformat": 4,
  "nbformat_minor": 0,
  "metadata": {
    "colab": {
      "name": "188. memoryIntoFunctions.ipynb",
      "provenance": [],
      "authorship_tag": "ABX9TyPr41xCeta8yx7Ax8slwYqU",
      "include_colab_link": true
    },
    "kernelspec": {
      "name": "python3",
      "display_name": "Python 3"
    },
    "language_info": {
      "name": "python"
    }
  },
  "cells": [
    {
      "cell_type": "markdown",
      "metadata": {
        "id": "view-in-github",
        "colab_type": "text"
      },
      "source": [
        "<a href=\"https://colab.research.google.com/github/diego40g/data_science_python/blob/numpy/188_memoryIntoFunctions.ipynb\" target=\"_parent\"><img src=\"https://colab.research.google.com/assets/colab-badge.svg\" alt=\"Open In Colab\"/></a>"
      ]
    },
    {
      "cell_type": "code",
      "execution_count": 1,
      "metadata": {
        "id": "OEEmdCImhcDJ"
      },
      "outputs": [],
      "source": [
        "def fun():\n",
        "    word='Diego Paz'\n",
        "    print(hex(id(word)))\n",
        "    def display ():\n",
        "        print(hex(id(word)))\n",
        "        print(word)\n",
        "    return display"
      ]
    },
    {
      "cell_type": "code",
      "source": [
        "func=fun()"
      ],
      "metadata": {
        "colab": {
          "base_uri": "https://localhost:8080/"
        },
        "id": "dowOxZMAjU0o",
        "outputId": "a75adafb-7ecf-4738-8a3e-e02a2737d05c"
      },
      "execution_count": 2,
      "outputs": [
        {
          "output_type": "stream",
          "name": "stdout",
          "text": [
            "0x7f75592a81f0\n"
          ]
        }
      ]
    },
    {
      "cell_type": "code",
      "source": [
        "print(func())"
      ],
      "metadata": {
        "colab": {
          "base_uri": "https://localhost:8080/"
        },
        "id": "ZFN72hn4jl3K",
        "outputId": "937ddcad-4407-44b2-8b99-201cbf99c88d"
      },
      "execution_count": 3,
      "outputs": [
        {
          "output_type": "stream",
          "name": "stdout",
          "text": [
            "0x7f75592a81f0\n",
            "Diego Paz\n",
            "None\n"
          ]
        }
      ]
    }
  ]
}