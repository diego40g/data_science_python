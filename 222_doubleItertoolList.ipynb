{
  "nbformat": 4,
  "nbformat_minor": 0,
  "metadata": {
    "colab": {
      "name": "222 doubleItertoolList.ipynb",
      "provenance": [],
      "authorship_tag": "ABX9TyMcOyP/hTG+YzHWsx+xwpxv",
      "include_colab_link": true
    },
    "kernelspec": {
      "name": "python3",
      "display_name": "Python 3"
    },
    "language_info": {
      "name": "python"
    }
  },
  "cells": [
    {
      "cell_type": "markdown",
      "metadata": {
        "id": "view-in-github",
        "colab_type": "text"
      },
      "source": [
        "<a href=\"https://colab.research.google.com/github/diego40g/data_science_python/blob/numpy/222_doubleItertoolList.ipynb\" target=\"_parent\"><img src=\"https://colab.research.google.com/assets/colab-badge.svg\" alt=\"Open In Colab\"/></a>"
      ]
    },
    {
      "cell_type": "code",
      "execution_count": 1,
      "metadata": {
        "colab": {
          "base_uri": "https://localhost:8080/"
        },
        "id": "TbSlFVnaER9w",
        "outputId": "c5e37b53-9ffe-46d6-fcf8-dd4f154f976e"
      },
      "outputs": [
        {
          "output_type": "stream",
          "name": "stdout",
          "text": [
            "1 a\n",
            "2 b\n",
            "3 c\n"
          ]
        }
      ],
      "source": [
        "\n",
        "list_1 = [1, 2, 3, 4]\n",
        "list_2 = ['a', 'b', 'c']\n",
        "\n",
        "for i, j in zip(list_1, list_2):\n",
        "    print(i, j)"
      ]
    },
    {
      "cell_type": "code",
      "source": [
        "import itertools"
      ],
      "metadata": {
        "id": "dLI87tnXEVOX"
      },
      "execution_count": 2,
      "outputs": []
    },
    {
      "cell_type": "code",
      "source": [
        "\n",
        "list_1 = [1, 2, 3, 4]\n",
        "list_2 = ['a', 'b', 'c']\n",
        "\n",
        "for i,j in zip(list_1,list_2):\n",
        "    print(i,j)\n",
        "\n",
        "print(\"\\n\")\n",
        "\n",
        "for i,j in itertools.zip_longest(list_1,list_2):\n",
        "    print(i,j)"
      ],
      "metadata": {
        "colab": {
          "base_uri": "https://localhost:8080/"
        },
        "id": "_Ph0YVaHEcfQ",
        "outputId": "68d551cd-51e6-4237-fd85-d86c97d5f2d9"
      },
      "execution_count": 3,
      "outputs": [
        {
          "output_type": "stream",
          "name": "stdout",
          "text": [
            "1 a\n",
            "2 b\n",
            "3 c\n",
            "\n",
            "\n",
            "1 a\n",
            "2 b\n",
            "3 c\n",
            "4 None\n"
          ]
        }
      ]
    }
  ]
}