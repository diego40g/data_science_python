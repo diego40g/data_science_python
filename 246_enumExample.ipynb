{
  "nbformat": 4,
  "nbformat_minor": 0,
  "metadata": {
    "colab": {
      "provenance": [],
      "authorship_tag": "ABX9TyOa8bxF77r110nLNXGkX3eo",
      "include_colab_link": true
    },
    "kernelspec": {
      "name": "python3",
      "display_name": "Python 3"
    },
    "language_info": {
      "name": "python"
    }
  },
  "cells": [
    {
      "cell_type": "markdown",
      "metadata": {
        "id": "view-in-github",
        "colab_type": "text"
      },
      "source": [
        "<a href=\"https://colab.research.google.com/github/diego40g/data_science_python/blob/numpy/246_enumExample.ipynb\" target=\"_parent\"><img src=\"https://colab.research.google.com/assets/colab-badge.svg\" alt=\"Open In Colab\"/></a>"
      ]
    },
    {
      "cell_type": "code",
      "execution_count": 1,
      "metadata": {
        "colab": {
          "base_uri": "https://localhost:8080/"
        },
        "id": "KjxTBXXPouOQ",
        "outputId": "4dc3cc95-7271-4284-d6a5-711b5ed49bc6"
      },
      "outputs": [
        {
          "output_type": "stream",
          "name": "stdout",
          "text": [
            "Afghanistan     = 93\n",
            "Albania         = 355\n",
            "Algeria         = 213\n",
            "Andorra         = 376\n",
            "Angola          = 244\n",
            "Antarctica      = 672\n"
          ]
        }
      ],
      "source": [
        "\n",
        "from enum import Enum\n",
        "class Country(Enum):\n",
        "    Afghanistan = 93\n",
        "    Albania = 355\n",
        "    Algeria = 213\n",
        "    Andorra = 376\n",
        "    Angola = 244\n",
        "    Antarctica = 672\n",
        "for data in Country:\n",
        "    print('{:15} = {}'.format(data.name, data.value))"
      ]
    }
  ]
}