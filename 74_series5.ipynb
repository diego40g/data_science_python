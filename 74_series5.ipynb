{
  "nbformat": 4,
  "nbformat_minor": 0,
  "metadata": {
    "colab": {
      "name": "74. series5.ipynb",
      "provenance": [],
      "authorship_tag": "ABX9TyNENJQ+VpyWEjcu5MyzIxlo",
      "include_colab_link": true
    },
    "kernelspec": {
      "name": "python3",
      "display_name": "Python 3"
    },
    "language_info": {
      "name": "python"
    }
  },
  "cells": [
    {
      "cell_type": "markdown",
      "metadata": {
        "id": "view-in-github",
        "colab_type": "text"
      },
      "source": [
        "<a href=\"https://colab.research.google.com/github/diego40g/data_science_python/blob/numpy/74_series5.ipynb\" target=\"_parent\"><img src=\"https://colab.research.google.com/assets/colab-badge.svg\" alt=\"Open In Colab\"/></a>"
      ]
    },
    {
      "cell_type": "code",
      "metadata": {
        "id": "0FNBsRZHLgfc"
      },
      "source": [
        "import pandas as pd"
      ],
      "execution_count": 1,
      "outputs": []
    },
    {
      "cell_type": "code",
      "metadata": {
        "colab": {
          "base_uri": "https://localhost:8080/"
        },
        "id": "fsEqpHrcMHwy",
        "outputId": "8b75acc9-68d8-4fad-9b65-62b2fc9f9690"
      },
      "source": [
        "data = {\n",
        "    'ABEV3':12.85,\n",
        "    'AZUL4':22.55,\n",
        "    'BTOW3':115.08,\n",
        "    'RENT3':49.03,\n",
        "    'JBSS3':24.41,\n",
        "    }\n",
        "\n",
        "print(data)"
      ],
      "execution_count": 2,
      "outputs": [
        {
          "output_type": "stream",
          "name": "stdout",
          "text": [
            "{'ABEV3': 12.85, 'AZUL4': 22.55, 'BTOW3': 115.08, 'RENT3': 49.03, 'JBSS3': 24.41}\n"
          ]
        }
      ]
    },
    {
      "cell_type": "code",
      "metadata": {
        "colab": {
          "base_uri": "https://localhost:8080/"
        },
        "id": "IU5QvVmDMyRR",
        "outputId": "1a72ca75-09b5-4981-bb11-5e93c88c3421"
      },
      "source": [
        "\n",
        "series = pd.Series(data)\n",
        "\n",
        "list_values = series.tolist()\n",
        "\n",
        "df = pd.DataFrame(series, columns = ['Prices'])\n",
        "\n",
        "print(series)\n",
        "print(df)"
      ],
      "execution_count": 3,
      "outputs": [
        {
          "output_type": "stream",
          "name": "stdout",
          "text": [
            "ABEV3     12.85\n",
            "AZUL4     22.55\n",
            "BTOW3    115.08\n",
            "RENT3     49.03\n",
            "JBSS3     24.41\n",
            "dtype: float64\n",
            "       Prices\n",
            "ABEV3   12.85\n",
            "AZUL4   22.55\n",
            "BTOW3  115.08\n",
            "RENT3   49.03\n",
            "JBSS3   24.41\n"
          ]
        }
      ]
    },
    {
      "cell_type": "code",
      "metadata": {
        "colab": {
          "base_uri": "https://localhost:8080/"
        },
        "id": "Z3sghlJrM3O0",
        "outputId": "0f6ddfc6-39d0-4021-bc4a-7c9cdbf129b2"
      },
      "source": [
        "\n",
        "series['RAIL3'] = 18.93\n",
        "series['JBSS3'] = 21.48\n",
        "series['SUZB3'] = 48.19\n",
        "series['MGLU3'] = 25.59\n",
        "print(series)"
      ],
      "execution_count": 4,
      "outputs": [
        {
          "output_type": "stream",
          "name": "stdout",
          "text": [
            "ABEV3     12.85\n",
            "AZUL4     22.55\n",
            "BTOW3    115.08\n",
            "RENT3     49.03\n",
            "JBSS3     21.48\n",
            "RAIL3     18.93\n",
            "SUZB3     48.19\n",
            "MGLU3     25.59\n",
            "dtype: float64\n"
          ]
        }
      ]
    }
  ]
}