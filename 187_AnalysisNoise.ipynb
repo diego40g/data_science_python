{
  "nbformat": 4,
  "nbformat_minor": 0,
  "metadata": {
    "colab": {
      "name": "187. AnalysisNoise.ipynb",
      "provenance": [],
      "authorship_tag": "ABX9TyNdXNwlJncqCgPBiTunDYFu",
      "include_colab_link": true
    },
    "kernelspec": {
      "name": "python3",
      "display_name": "Python 3"
    },
    "language_info": {
      "name": "python"
    }
  },
  "cells": [
    {
      "cell_type": "markdown",
      "metadata": {
        "id": "view-in-github",
        "colab_type": "text"
      },
      "source": [
        "<a href=\"https://colab.research.google.com/github/diego40g/data_science_python/blob/numpy/187_AnalysisNoise.ipynb\" target=\"_parent\"><img src=\"https://colab.research.google.com/assets/colab-badge.svg\" alt=\"Open In Colab\"/></a>"
      ]
    },
    {
      "cell_type": "code",
      "execution_count": 1,
      "metadata": {
        "id": "UtGdDjXTxb1E"
      },
      "outputs": [],
      "source": [
        "import numpy as np"
      ]
    },
    {
      "cell_type": "code",
      "source": [
        "def fun(var1,var2):\n",
        "    res=np.zeros(len(var1))\n",
        "    res[0]=var1[0]**2.0\n",
        "    for i in range(1,len(var1)):\n",
        "        res[i]+=(var1[i-1]+var1[i-1]**2)\n",
        "    return res[len(res)-1]*var2"
      ],
      "metadata": {
        "id": "PxpqIUiHxiGN"
      },
      "execution_count": 9,
      "outputs": []
    },
    {
      "cell_type": "code",
      "source": [
        "fc=1"
      ],
      "metadata": {
        "id": "7omIIpEZzPz8"
      },
      "execution_count": 3,
      "outputs": []
    },
    {
      "cell_type": "code",
      "source": [
        "point=200/65536"
      ],
      "metadata": {
        "id": "ybEqGtxMzYFH"
      },
      "execution_count": 4,
      "outputs": []
    },
    {
      "cell_type": "code",
      "source": [
        "order=np.ndarray(65536, dtype=float)"
      ],
      "metadata": {
        "id": "bmJp1Gshzb3-"
      },
      "execution_count": 5,
      "outputs": []
    },
    {
      "cell_type": "code",
      "source": [
        "for i in range (65536):\n",
        "    order[i]=(1.0/(1.0+(i*point)**2.0)**0.5)"
      ],
      "metadata": {
        "id": "fqxuMqO_zcML"
      },
      "execution_count": 7,
      "outputs": []
    },
    {
      "cell_type": "code",
      "source": [
        "end=fun(order,point)"
      ],
      "metadata": {
        "id": "gacerjWRzdYh"
      },
      "execution_count": 10,
      "outputs": []
    },
    {
      "cell_type": "code",
      "source": [
        "print (end)"
      ],
      "metadata": {
        "colab": {
          "base_uri": "https://localhost:8080/"
        },
        "id": "1NUrgv9Mzdu1",
        "outputId": "107ad60e-463d-4d6b-98db-c1f1c9361eda"
      },
      "execution_count": 11,
      "outputs": [
        {
          "output_type": "stream",
          "name": "stdout",
          "text": [
            "1.5335360683853456e-05\n"
          ]
        }
      ]
    }
  ]
}