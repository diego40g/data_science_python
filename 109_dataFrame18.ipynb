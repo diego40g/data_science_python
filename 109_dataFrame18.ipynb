{
  "nbformat": 4,
  "nbformat_minor": 0,
  "metadata": {
    "colab": {
      "name": "109. dataFrame18.ipynb",
      "provenance": [],
      "authorship_tag": "ABX9TyMMHQf7gHpEo5z5o9oe9nRz",
      "include_colab_link": true
    },
    "kernelspec": {
      "name": "python3",
      "display_name": "Python 3"
    },
    "language_info": {
      "name": "python"
    }
  },
  "cells": [
    {
      "cell_type": "markdown",
      "metadata": {
        "id": "view-in-github",
        "colab_type": "text"
      },
      "source": [
        "<a href=\"https://colab.research.google.com/github/diego40g/data_science_python/blob/numpy/109_dataFrame18.ipynb\" target=\"_parent\"><img src=\"https://colab.research.google.com/assets/colab-badge.svg\" alt=\"Open In Colab\"/></a>"
      ]
    },
    {
      "cell_type": "code",
      "metadata": {
        "id": "hgzzm6EMdXaY"
      },
      "source": [
        "import pandas as pd\n",
        "import numpy as np"
      ],
      "execution_count": 1,
      "outputs": []
    },
    {
      "cell_type": "code",
      "metadata": {
        "colab": {
          "base_uri": "https://localhost:8080/"
        },
        "id": "0ekMlosAdbe3",
        "outputId": "23870094-841b-4f91-dd2c-f822d5ac27e1"
      },
      "source": [
        "n = 10 #total observations\n",
        "print(n)"
      ],
      "execution_count": 2,
      "outputs": [
        {
          "output_type": "stream",
          "name": "stdout",
          "text": [
            "10\n"
          ]
        }
      ]
    },
    {
      "cell_type": "code",
      "metadata": {
        "colab": {
          "base_uri": "https://localhost:8080/"
        },
        "id": "DIrHc-cHdgtU",
        "outputId": "89e79a8e-6b3d-476d-fe0a-b4956eb64256"
      },
      "source": [
        "data = {\n",
        "    'W': np.random.randint(1, 10, n),\n",
        "    'Z': np.random.uniform(0, 10, n),\n",
        "    'K': np.linspace(1, 50, n),\n",
        "    'J': np.arange(n),\n",
        "    'L': np.random.beta(1, 10, n),\n",
        "    'M': np.random.exponential(1, n),\n",
        "    'Y': np.random.randint(-50, -1, n)\n",
        "}\n",
        " \n",
        "print(data)"
      ],
      "execution_count": 3,
      "outputs": [
        {
          "output_type": "stream",
          "name": "stdout",
          "text": [
            "{'W': array([9, 7, 3, 9, 1, 9, 6, 5, 1, 3]), 'Z': array([2.89684039, 1.9688441 , 6.63419064, 8.28649953, 8.44654611,\n",
            "       7.51614026, 6.13807523, 8.22817717, 8.03430721, 1.06532193]), 'K': array([ 1.        ,  6.44444444, 11.88888889, 17.33333333, 22.77777778,\n",
            "       28.22222222, 33.66666667, 39.11111111, 44.55555556, 50.        ]), 'J': array([0, 1, 2, 3, 4, 5, 6, 7, 8, 9]), 'L': array([0.137837  , 0.04767012, 0.06187036, 0.05317024, 0.13471556,\n",
            "       0.10565781, 0.22095493, 0.07198687, 0.15828704, 0.11397089]), 'M': array([1.25235371, 1.16705275, 1.90021434, 3.59387675, 0.2174468 ,\n",
            "       0.87520241, 0.57131203, 0.22295606, 0.06828439, 0.06082901]), 'Y': array([-39, -25,  -4, -28, -26, -47, -38, -50, -36, -17])}\n"
          ]
        }
      ]
    },
    {
      "cell_type": "code",
      "metadata": {
        "colab": {
          "base_uri": "https://localhost:8080/"
        },
        "id": "kM-xiOrfdlG4",
        "outputId": "422e2449-bc89-494b-9819-d40105077edb"
      },
      "source": [
        "df = pd.DataFrame(data, \n",
        "                  index = pd.date_range(start = '2020-12-1', periods = 10))\n",
        " \n",
        "for column in df:\n",
        "    print(column)"
      ],
      "execution_count": 4,
      "outputs": [
        {
          "output_type": "stream",
          "name": "stdout",
          "text": [
            "W\n",
            "Z\n",
            "K\n",
            "J\n",
            "L\n",
            "M\n",
            "Y\n"
          ]
        }
      ]
    }
  ]
}