{
  "nbformat": 4,
  "nbformat_minor": 0,
  "metadata": {
    "colab": {
      "name": "88. dataFrame9.ipynb",
      "provenance": [],
      "authorship_tag": "ABX9TyMJUZ8MuWOM6LglW0chMn8x",
      "include_colab_link": true
    },
    "kernelspec": {
      "name": "python3",
      "display_name": "Python 3"
    },
    "language_info": {
      "name": "python"
    }
  },
  "cells": [
    {
      "cell_type": "markdown",
      "metadata": {
        "id": "view-in-github",
        "colab_type": "text"
      },
      "source": [
        "<a href=\"https://colab.research.google.com/github/diego40g/data_science_python/blob/numpy/88_dataFrame9.ipynb\" target=\"_parent\"><img src=\"https://colab.research.google.com/assets/colab-badge.svg\" alt=\"Open In Colab\"/></a>"
      ]
    },
    {
      "cell_type": "code",
      "metadata": {
        "id": "edtRT9iK8j3P"
      },
      "source": [
        "import pandas as pd"
      ],
      "execution_count": 1,
      "outputs": []
    },
    {
      "cell_type": "code",
      "metadata": {
        "colab": {
          "base_uri": "https://localhost:8080/"
        },
        "id": "PskNNAQ_8_oY",
        "outputId": "d3539a1c-9107-4111-eb68-51a3bf32cc96"
      },
      "source": [
        "names = ['Oswald', 'Richard', 'Victor', 'Walter', 'Ronald', 'Rebecca', 'Maurice', 'Margaret']\n",
        "print(names)"
      ],
      "execution_count": 2,
      "outputs": [
        {
          "output_type": "stream",
          "name": "stdout",
          "text": [
            "['Oswald', 'Richard', 'Victor', 'Walter', 'Ronald', 'Rebecca', 'Maurice', 'Margaret']\n"
          ]
        }
      ]
    },
    {
      "cell_type": "code",
      "metadata": {
        "colab": {
          "base_uri": "https://localhost:8080/"
        },
        "id": "1aR9BwUP9Ild",
        "outputId": "d3d1261b-3321-47cd-f546-cb1fb5ee9ff8"
      },
      "source": [
        "scores = [7, 8 , 4.7, 10, 9.5, 6, 5, 7.7]\n",
        "print(scores)"
      ],
      "execution_count": 3,
      "outputs": [
        {
          "output_type": "stream",
          "name": "stdout",
          "text": [
            "[7, 8, 4.7, 10, 9.5, 6, 5, 7.7]\n"
          ]
        }
      ]
    },
    {
      "cell_type": "code",
      "metadata": {
        "colab": {
          "base_uri": "https://localhost:8080/"
        },
        "id": "lqksOK6a9Ir-",
        "outputId": "f351c357-6c33-4b92-f9fb-2aded7ac84ce"
      },
      "source": [
        "results = ['Yes' if score>=7 else 'No' for score in scores]\n",
        "print(results)"
      ],
      "execution_count": 4,
      "outputs": [
        {
          "output_type": "stream",
          "name": "stdout",
          "text": [
            "['Yes', 'Yes', 'No', 'Yes', 'Yes', 'No', 'No', 'Yes']\n"
          ]
        }
      ]
    },
    {
      "cell_type": "code",
      "metadata": {
        "colab": {
          "base_uri": "https://localhost:8080/"
        },
        "id": "NtAmjIfH9PJd",
        "outputId": "e0010e5c-6328-4f84-cd31-fff820b48e8c"
      },
      "source": [
        "data = {\n",
        "    'Name': names,\n",
        "    'Score': scores,\n",
        "    'Result': results \n",
        "}\n",
        "print(data)"
      ],
      "execution_count": 5,
      "outputs": [
        {
          "output_type": "stream",
          "name": "stdout",
          "text": [
            "{'Name': ['Oswald', 'Richard', 'Victor', 'Walter', 'Ronald', 'Rebecca', 'Maurice', 'Margaret'], 'Score': [7, 8, 4.7, 10, 9.5, 6, 5, 7.7], 'Result': ['Yes', 'Yes', 'No', 'Yes', 'Yes', 'No', 'No', 'Yes']}\n"
          ]
        }
      ]
    },
    {
      "cell_type": "code",
      "metadata": {
        "colab": {
          "base_uri": "https://localhost:8080/"
        },
        "id": "FgTQLU8h9Re9",
        "outputId": "9397db56-68ea-4d33-8c8c-3df5542f02f3"
      },
      "source": [
        "df = pd.DataFrame(data)\n",
        "approved_students = df[df['Result'] == 'Yes']\n",
        " \n",
        "print('Summary:'.center(100, ' '))\n",
        "print(df.describe())\n",
        "print(f'Highest score: \\n{df.max()}')\n",
        "print()\n",
        "print(f'Lowest score:\\n{df.min()}')"
      ],
      "execution_count": 6,
      "outputs": [
        {
          "output_type": "stream",
          "name": "stdout",
          "text": [
            "                                              Summary:                                              \n",
            "          Score\n",
            "count   8.00000\n",
            "mean    7.23750\n",
            "std     1.94858\n",
            "min     4.70000\n",
            "25%     5.75000\n",
            "50%     7.35000\n",
            "75%     8.37500\n",
            "max    10.00000\n",
            "Highest score: \n",
            "Name      Walter\n",
            "Score         10\n",
            "Result       Yes\n",
            "dtype: object\n",
            "\n",
            "Lowest score:\n",
            "Name      Margaret\n",
            "Score          4.7\n",
            "Result          No\n",
            "dtype: object\n"
          ]
        }
      ]
    }
  ]
}