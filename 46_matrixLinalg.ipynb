{
  "nbformat": 4,
  "nbformat_minor": 0,
  "metadata": {
    "colab": {
      "name": "46. matrixLinalg",
      "provenance": [],
      "collapsed_sections": [],
      "authorship_tag": "ABX9TyPSZf57/IoIGzuiav9MG213",
      "include_colab_link": true
    },
    "kernelspec": {
      "name": "python3",
      "display_name": "Python 3"
    },
    "language_info": {
      "name": "python"
    }
  },
  "cells": [
    {
      "cell_type": "markdown",
      "metadata": {
        "id": "view-in-github",
        "colab_type": "text"
      },
      "source": [
        "<a href=\"https://colab.research.google.com/github/diego40g/data_science_python/blob/numpy/46_matrixLinalg.ipynb\" target=\"_parent\"><img src=\"https://colab.research.google.com/assets/colab-badge.svg\" alt=\"Open In Colab\"/></a>"
      ]
    },
    {
      "cell_type": "code",
      "metadata": {
        "id": "kM7hP0xOB4Dx"
      },
      "source": [
        "import numpy as np"
      ],
      "execution_count": 1,
      "outputs": []
    },
    {
      "cell_type": "code",
      "metadata": {
        "colab": {
          "base_uri": "https://localhost:8080/"
        },
        "id": "MahD3i00CBrY",
        "outputId": "6bc6f09f-1bc0-4236-90e5-6d063a599901"
      },
      "source": [
        "A = np.array([[1, 1, 1, 1], [1, 1, 1,-1], [1, 1, -1, 1], [1, -1, 1, 1]])\n",
        "print(A)"
      ],
      "execution_count": 2,
      "outputs": [
        {
          "output_type": "stream",
          "name": "stdout",
          "text": [
            "[[ 1  1  1  1]\n",
            " [ 1  1  1 -1]\n",
            " [ 1  1 -1  1]\n",
            " [ 1 -1  1  1]]\n"
          ]
        }
      ]
    },
    {
      "cell_type": "code",
      "metadata": {
        "colab": {
          "base_uri": "https://localhost:8080/"
        },
        "id": "Y95t-q1pCHLu",
        "outputId": "2888b385-45c4-44fe-eef7-dcc006f6dfdb"
      },
      "source": [
        "B = np.array([[0],[4],[-4],[2]])\n",
        "print(B)"
      ],
      "execution_count": 3,
      "outputs": [
        {
          "output_type": "stream",
          "name": "stdout",
          "text": [
            "[[ 0]\n",
            " [ 4]\n",
            " [-4]\n",
            " [ 2]]\n"
          ]
        }
      ]
    },
    {
      "cell_type": "code",
      "metadata": {
        "colab": {
          "base_uri": "https://localhost:8080/"
        },
        "id": "k4yykNX0CPJC",
        "outputId": "62d15f22-fd5f-4d5c-b7ee-b695e6644bb3"
      },
      "source": [
        "solution = np.linalg.solve(A,B)\n",
        "print(solution)"
      ],
      "execution_count": 4,
      "outputs": [
        {
          "output_type": "stream",
          "name": "stdout",
          "text": [
            "[[ 1.]\n",
            " [-1.]\n",
            " [ 2.]\n",
            " [-2.]]\n"
          ]
        }
      ]
    }
  ]
}