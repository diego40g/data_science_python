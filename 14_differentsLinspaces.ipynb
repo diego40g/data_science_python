{
  "nbformat": 4,
  "nbformat_minor": 0,
  "metadata": {
    "colab": {
      "name": "14. differentsLinspaces.ipynb",
      "provenance": [],
      "authorship_tag": "ABX9TyOg0mQNg3n8g9RMhOgNj1DY",
      "include_colab_link": true
    },
    "kernelspec": {
      "name": "python3",
      "display_name": "Python 3"
    },
    "language_info": {
      "name": "python"
    }
  },
  "cells": [
    {
      "cell_type": "markdown",
      "metadata": {
        "id": "view-in-github",
        "colab_type": "text"
      },
      "source": [
        "<a href=\"https://colab.research.google.com/github/diego40g/data_science_python/blob/numpy/14_differentsLinspaces.ipynb\" target=\"_parent\"><img src=\"https://colab.research.google.com/assets/colab-badge.svg\" alt=\"Open In Colab\"/></a>"
      ]
    },
    {
      "cell_type": "code",
      "metadata": {
        "id": "i4ZWFEj2BcwC"
      },
      "source": [
        "import numpy as np"
      ],
      "execution_count": 1,
      "outputs": []
    },
    {
      "cell_type": "code",
      "metadata": {
        "colab": {
          "base_uri": "https://localhost:8080/"
        },
        "id": "EGtT85aSBfbT",
        "outputId": "b198d4ec-9563-4d24-a2e5-992f5aa75370"
      },
      "source": [
        "array1 = np.arange(1,11)\n",
        "print(array1)"
      ],
      "execution_count": 2,
      "outputs": [
        {
          "output_type": "stream",
          "name": "stdout",
          "text": [
            "[ 1  2  3  4  5  6  7  8  9 10]\n"
          ]
        }
      ]
    },
    {
      "cell_type": "code",
      "metadata": {
        "colab": {
          "base_uri": "https://localhost:8080/"
        },
        "id": "dJK9IY6FBlDp",
        "outputId": "f172bff6-92a5-41da-cae0-6cbbae784050"
      },
      "source": [
        "array2 = np.linspace(1,50,10)\n",
        "print(array2)"
      ],
      "execution_count": 4,
      "outputs": [
        {
          "output_type": "stream",
          "name": "stdout",
          "text": [
            "[ 1.          6.44444444 11.88888889 17.33333333 22.77777778 28.22222222\n",
            " 33.66666667 39.11111111 44.55555556 50.        ]\n"
          ]
        }
      ]
    },
    {
      "cell_type": "code",
      "metadata": {
        "colab": {
          "base_uri": "https://localhost:8080/"
        },
        "id": "2ta40bExBq5x",
        "outputId": "12b14b10-b504-44ef-bfe7-a546fe6bb458"
      },
      "source": [
        "array3=np.array(range(51))\n",
        "print(array3)"
      ],
      "execution_count": 5,
      "outputs": [
        {
          "output_type": "stream",
          "name": "stdout",
          "text": [
            "[ 0  1  2  3  4  5  6  7  8  9 10 11 12 13 14 15 16 17 18 19 20 21 22 23\n",
            " 24 25 26 27 28 29 30 31 32 33 34 35 36 37 38 39 40 41 42 43 44 45 46 47\n",
            " 48 49 50]\n"
          ]
        }
      ]
    },
    {
      "cell_type": "code",
      "metadata": {
        "colab": {
          "base_uri": "https://localhost:8080/"
        },
        "id": "d-ggBRF-B3rA",
        "outputId": "878db42c-d2f1-4c9f-94cf-c035f600fc10"
      },
      "source": [
        "array4=np.logspace(1,10,5)\n",
        "print(array4)"
      ],
      "execution_count": 6,
      "outputs": [
        {
          "output_type": "stream",
          "name": "stdout",
          "text": [
            "[1.00000000e+01 1.77827941e+03 3.16227766e+05 5.62341325e+07\n",
            " 1.00000000e+10]\n"
          ]
        }
      ]
    },
    {
      "cell_type": "code",
      "metadata": {
        "colab": {
          "base_uri": "https://localhost:8080/"
        },
        "id": "E79WM24KB_XB",
        "outputId": "1acf877c-dbcd-4dc6-e815-0ba6a92f9f02"
      },
      "source": [
        "array5=np.diag(range(5,31,5))\n",
        "print(array5)"
      ],
      "execution_count": 7,
      "outputs": [
        {
          "output_type": "stream",
          "name": "stdout",
          "text": [
            "[[ 5  0  0  0  0  0]\n",
            " [ 0 10  0  0  0  0]\n",
            " [ 0  0 15  0  0  0]\n",
            " [ 0  0  0 20  0  0]\n",
            " [ 0  0  0  0 25  0]\n",
            " [ 0  0  0  0  0 30]]\n"
          ]
        }
      ]
    }
  ]
}