{
  "nbformat": 4,
  "nbformat_minor": 0,
  "metadata": {
    "colab": {
      "name": "225. doublyLinked.ipynb",
      "provenance": [],
      "authorship_tag": "ABX9TyP7fvCxaOqYeDQ58ZJKEA7R",
      "include_colab_link": true
    },
    "kernelspec": {
      "name": "python3",
      "display_name": "Python 3"
    },
    "language_info": {
      "name": "python"
    }
  },
  "cells": [
    {
      "cell_type": "markdown",
      "metadata": {
        "id": "view-in-github",
        "colab_type": "text"
      },
      "source": [
        "<a href=\"https://colab.research.google.com/github/diego40g/data_science_python/blob/numpy/225_doublyLinked.ipynb\" target=\"_parent\"><img src=\"https://colab.research.google.com/assets/colab-badge.svg\" alt=\"Open In Colab\"/></a>"
      ]
    },
    {
      "cell_type": "code",
      "execution_count": 1,
      "metadata": {
        "id": "Uq2m3Dg40T4o"
      },
      "outputs": [],
      "source": [
        "class Node(object):\n",
        "    # Singly linked node\n",
        "    def __init__(self, value=None, next=None, prev=None):\n",
        "        self.value = value\n",
        "        self.next = next\n",
        "        self.prev = prev"
      ]
    },
    {
      "cell_type": "code",
      "source": [
        "\n",
        "class doubly_linked_list(object):\n",
        "    def __init__(self):\n",
        "        self.head = None\n",
        "        self.tail = None\n",
        "        self.count = 0\n",
        "\n",
        "    def append_item(self, value):\n",
        "        # Append an item \n",
        "        new_item = Node(value, None, None)\n",
        "        if self.head is None:\n",
        "            self.head = new_item\n",
        "            self.tail = self.head\n",
        "        else:\n",
        "            new_item.prev = self.tail\n",
        "            self.tail.next = new_item\n",
        "            self.tail = new_item\n",
        "        self.count += 1\n",
        "    \n",
        "    def iter(self):\n",
        "        # Iterate the list\n",
        "        current = self.head\n",
        "        while current:\n",
        "            item_val = current.value\n",
        "            current = current.next\n",
        "            yield item_val\n",
        "\n",
        "    def print_foward(self):\n",
        "        for node in self.iter():\n",
        "            print(node)   \n",
        "        \n",
        "    def search_item(self, val):\n",
        "         for node in self.iter():\n",
        "            if val == node:\n",
        "                return True\n",
        "         return False\n",
        "     \n",
        "    def delete(self, value):\n",
        "        # Delete a specific item\n",
        "        current = self.head\n",
        "        node_deleted = False\n",
        "        if current is None:\n",
        "            node_deleted = False\n",
        "\n",
        "        elif current.value == value:\n",
        "            self.head = current.next\n",
        "            self.head.prev = None\n",
        "            node_deleted = True\n",
        "\n",
        "        elif self.tail.value == value:\n",
        "            self.tail = self.tail.prev\n",
        "            self.tail.next = None\n",
        "            node_deleted = True\n",
        "\n",
        "        else:\n",
        "            while current:\n",
        "                if current.value == value:\n",
        "                    current.prev.next = current.next\n",
        "                    current.next.prev = current.prev\n",
        "                    node_deleted = True\n",
        "                current = current.next\n",
        "\n",
        "        if node_deleted:\n",
        "            self.count -= 1"
      ],
      "metadata": {
        "id": "BJdalBXW0aab"
      },
      "execution_count": 2,
      "outputs": []
    },
    {
      "cell_type": "code",
      "source": [
        "items = doubly_linked_list()\n",
        "items.append_item('PHP')\n",
        "items.append_item('Python')\n",
        "items.append_item('C#')\n",
        "items.append_item('C++')\n",
        "items.append_item('Java')\n",
        "items.append_item('SQL')\n",
        "\n",
        "print(\"Original list:\")\n",
        "items.print_foward()\n",
        "\n",
        "items.delete(\"Java\")\n",
        "items.delete(\"Python\")\n",
        "print(\"\\nList after deleting two items:\")\n",
        "items.print_foward()"
      ],
      "metadata": {
        "colab": {
          "base_uri": "https://localhost:8080/"
        },
        "id": "i6Lrj29c0sWO",
        "outputId": "a9d846f8-0c1f-42c8-8237-78e27c4b5845"
      },
      "execution_count": 3,
      "outputs": [
        {
          "output_type": "stream",
          "name": "stdout",
          "text": [
            "Original list:\n",
            "PHP\n",
            "Python\n",
            "C#\n",
            "C++\n",
            "Java\n",
            "SQL\n",
            "\n",
            "List after deleting two items:\n",
            "PHP\n",
            "C#\n",
            "C++\n",
            "SQL\n"
          ]
        }
      ]
    }
  ]
}