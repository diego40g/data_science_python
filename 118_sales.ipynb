{
  "nbformat": 4,
  "nbformat_minor": 0,
  "metadata": {
    "colab": {
      "name": "118. sales.ipynb",
      "provenance": [],
      "authorship_tag": "ABX9TyMyn/vzMFRnPmEYD2gQQlae",
      "include_colab_link": true
    },
    "kernelspec": {
      "name": "python3",
      "display_name": "Python 3"
    },
    "language_info": {
      "name": "python"
    }
  },
  "cells": [
    {
      "cell_type": "markdown",
      "metadata": {
        "id": "view-in-github",
        "colab_type": "text"
      },
      "source": [
        "<a href=\"https://colab.research.google.com/github/diego40g/data_science_python/blob/numpy/118_sales.ipynb\" target=\"_parent\"><img src=\"https://colab.research.google.com/assets/colab-badge.svg\" alt=\"Open In Colab\"/></a>"
      ]
    },
    {
      "cell_type": "code",
      "execution_count": 7,
      "metadata": {
        "id": "YFZyhRaVDiOw"
      },
      "outputs": [],
      "source": [
        "import pandas as pd"
      ]
    },
    {
      "cell_type": "code",
      "source": [
        "sales = [10, 38, 47, 9, 11, 9, 21, 49, 17, 29]\n",
        "print(sales)"
      ],
      "metadata": {
        "colab": {
          "base_uri": "https://localhost:8080/"
        },
        "id": "dXRWRTsDEEN5",
        "outputId": "55c7865e-e215-4655-f7cf-7cd155b5a77a"
      },
      "execution_count": 10,
      "outputs": [
        {
          "output_type": "stream",
          "name": "stdout",
          "text": [
            "[10, 38, 47, 9, 11, 9, 21, 49, 17, 29]\n"
          ]
        }
      ]
    },
    {
      "cell_type": "code",
      "source": [
        "index = pd.date_range(start = '12/1/2020', periods = 10)\n",
        "print(index)"
      ],
      "metadata": {
        "colab": {
          "base_uri": "https://localhost:8080/"
        },
        "id": "oho1dqnxEUul",
        "outputId": "23fac187-81ea-4961-98d5-a3a777b5c343"
      },
      "execution_count": 11,
      "outputs": [
        {
          "output_type": "stream",
          "name": "stdout",
          "text": [
            "DatetimeIndex(['2020-12-01', '2020-12-02', '2020-12-03', '2020-12-04',\n",
            "               '2020-12-05', '2020-12-06', '2020-12-07', '2020-12-08',\n",
            "               '2020-12-09', '2020-12-10'],\n",
            "              dtype='datetime64[ns]', freq='D')\n"
          ]
        }
      ]
    },
    {
      "cell_type": "code",
      "source": [
        "df = pd.DataFrame(sales, index , columns = ['Daily Sales'])\n",
        "print(df)"
      ],
      "metadata": {
        "colab": {
          "base_uri": "https://localhost:8080/"
        },
        "id": "TdLC4UGpEcW1",
        "outputId": "29ee346b-1681-4631-b3be-18b2dec6de7c"
      },
      "execution_count": 12,
      "outputs": [
        {
          "output_type": "stream",
          "name": "stdout",
          "text": [
            "            Daily Sales\n",
            "2020-12-01           10\n",
            "2020-12-02           38\n",
            "2020-12-03           47\n",
            "2020-12-04            9\n",
            "2020-12-05           11\n",
            "2020-12-06            9\n",
            "2020-12-07           21\n",
            "2020-12-08           49\n",
            "2020-12-09           17\n",
            "2020-12-10           29\n"
          ]
        }
      ]
    },
    {
      "cell_type": "code",
      "source": [
        "day_max_value = df.idxmax()[0] #day with the biggest sale\n",
        "print(day_max_value)"
      ],
      "metadata": {
        "colab": {
          "base_uri": "https://localhost:8080/"
        },
        "id": "HMNJAQkSElXB",
        "outputId": "78db0680-156a-4dbb-8e91-052da634aaf0"
      },
      "execution_count": 13,
      "outputs": [
        {
          "output_type": "stream",
          "name": "stdout",
          "text": [
            "2020-12-08 00:00:00\n"
          ]
        }
      ]
    },
    {
      "cell_type": "code",
      "source": [
        "day_min_value = df.idxmin()[0] #day with the lowest sale\n",
        "print(day_min_value)"
      ],
      "metadata": {
        "colab": {
          "base_uri": "https://localhost:8080/"
        },
        "id": "0n3BBiuUEomG",
        "outputId": "efce14ec-8dd1-433c-aa15-5995a3809516"
      },
      "execution_count": 8,
      "outputs": [
        {
          "output_type": "stream",
          "name": "stdout",
          "text": [
            "2020-12-04 00:00:00\n"
          ]
        }
      ]
    },
    {
      "cell_type": "code",
      "source": [
        "print('Descriptive statistics'.center(100, ' '))\n",
        "print(f'\\tMean daily sales: {df.mean()[0]}')\n",
        "print(f'\\tStandard deviation: {df.std()[0].round(2)}')\n",
        "print(f'\\tVariance: {df.var()[0].round(2)}')\n",
        "print(f'\\tMode: {df.mode().iloc[0][0]}')\n",
        "print(f'\\tTotal quantity sold in the period: {df.sum()[0]}')\n",
        "print(f'\\tMaximum sales value: {df.max()[0]}')\n",
        "print(f\"\\t\\tDay: {data_valor_max.strftime('%d/%m/%Y')}\")\n",
        "print(f'\\tMinimum sales value: {df.min()[0]}')\n",
        "print(f\"\\t\\tDay: {data_valor_min.strftime('%d/%m/%Y')}\")"
      ],
      "metadata": {
        "colab": {
          "base_uri": "https://localhost:8080/",
          "height": 574
        },
        "id": "PVVzLRFTEo9X",
        "outputId": "cd174c74-549b-4231-c834-8a1fd88ce9d7"
      },
      "execution_count": 14,
      "outputs": [
        {
          "output_type": "stream",
          "name": "stdout",
          "text": [
            "                                       Descriptive statistics                                       \n",
            "\tMean daily sales: 24.0\n",
            "\tStandard deviation: 15.8\n",
            "\tVariance: 249.78\n",
            "\tMode: 9\n",
            "\tTotal quantity sold in the period: 240\n",
            "\tMaximum sales value: 49\n"
          ]
        },
        {
          "output_type": "error",
          "ename": "NameError",
          "evalue": "ignored",
          "traceback": [
            "\u001b[0;31m---------------------------------------------------------------------------\u001b[0m",
            "\u001b[0;31mNameError\u001b[0m                                 Traceback (most recent call last)",
            "\u001b[0;32m<ipython-input-14-f0ac287dd0b5>\u001b[0m in \u001b[0;36m<module>\u001b[0;34m()\u001b[0m\n\u001b[1;32m      6\u001b[0m \u001b[0mprint\u001b[0m\u001b[0;34m(\u001b[0m\u001b[0;34mf'\\tTotal quantity sold in the period: {df.sum()[0]}'\u001b[0m\u001b[0;34m)\u001b[0m\u001b[0;34m\u001b[0m\u001b[0;34m\u001b[0m\u001b[0m\n\u001b[1;32m      7\u001b[0m \u001b[0mprint\u001b[0m\u001b[0;34m(\u001b[0m\u001b[0;34mf'\\tMaximum sales value: {df.max()[0]}'\u001b[0m\u001b[0;34m)\u001b[0m\u001b[0;34m\u001b[0m\u001b[0;34m\u001b[0m\u001b[0m\n\u001b[0;32m----> 8\u001b[0;31m \u001b[0mprint\u001b[0m\u001b[0;34m(\u001b[0m\u001b[0;34mf\"\\t\\tDay: {data_valor_max.strftime('%d/%m/%Y')}\"\u001b[0m\u001b[0;34m)\u001b[0m\u001b[0;34m\u001b[0m\u001b[0;34m\u001b[0m\u001b[0m\n\u001b[0m\u001b[1;32m      9\u001b[0m \u001b[0mprint\u001b[0m\u001b[0;34m(\u001b[0m\u001b[0;34mf'\\tMinimum sales value: {df.min()[0]}'\u001b[0m\u001b[0;34m)\u001b[0m\u001b[0;34m\u001b[0m\u001b[0;34m\u001b[0m\u001b[0m\n\u001b[1;32m     10\u001b[0m \u001b[0mprint\u001b[0m\u001b[0;34m(\u001b[0m\u001b[0;34mf\"\\t\\tDay: {data_valor_min.strftime('%d/%m/%Y')}\"\u001b[0m\u001b[0;34m)\u001b[0m\u001b[0;34m\u001b[0m\u001b[0;34m\u001b[0m\u001b[0m\n",
            "\u001b[0;31mNameError\u001b[0m: name 'data_valor_max' is not defined"
          ]
        }
      ]
    }
  ]
}