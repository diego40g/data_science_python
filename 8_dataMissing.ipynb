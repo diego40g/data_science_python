{
  "nbformat": 4,
  "nbformat_minor": 0,
  "metadata": {
    "colab": {
      "name": "8. dataMissing.ipynb",
      "provenance": [],
      "authorship_tag": "ABX9TyPLoBKf295zsI+dEyRnDMk7",
      "include_colab_link": true
    },
    "kernelspec": {
      "name": "python3",
      "display_name": "Python 3"
    },
    "language_info": {
      "name": "python"
    }
  },
  "cells": [
    {
      "cell_type": "markdown",
      "metadata": {
        "id": "view-in-github",
        "colab_type": "text"
      },
      "source": [
        "<a href=\"https://colab.research.google.com/github/diego40g/data_science_python/blob/numpy/8_dataMissing.ipynb\" target=\"_parent\"><img src=\"https://colab.research.google.com/assets/colab-badge.svg\" alt=\"Open In Colab\"/></a>"
      ]
    },
    {
      "cell_type": "code",
      "metadata": {
        "id": "U_GBLjTQxNrV"
      },
      "source": [
        "import numpy as np;"
      ],
      "execution_count": 1,
      "outputs": []
    },
    {
      "cell_type": "code",
      "metadata": {
        "id": "o0N7xH3YxXFD"
      },
      "source": [
        "K=np.array([\n",
        "  [np.nan,1,10,0],\n",
        "  [np.nan,np.nan,np.nan,np.nan],\n",
        "  [100,50,np.nan,-25],\n",
        "  [30,np.nan,np.nan,130]\n",
        "])"
      ],
      "execution_count": 2,
      "outputs": []
    },
    {
      "cell_type": "code",
      "metadata": {
        "colab": {
          "base_uri": "https://localhost:8080/"
        },
        "id": "R1pAGDa6xqr4",
        "outputId": "1ea7634c-8f84-445b-998c-f716c0abb891"
      },
      "source": [
        "print(np.isnan(K))"
      ],
      "execution_count": 3,
      "outputs": [
        {
          "output_type": "stream",
          "name": "stdout",
          "text": [
            "[[ True False False False]\n",
            " [ True  True  True  True]\n",
            " [False False  True False]\n",
            " [False  True  True False]]\n"
          ]
        }
      ]
    },
    {
      "cell_type": "code",
      "metadata": {
        "colab": {
          "base_uri": "https://localhost:8080/"
        },
        "id": "FycsC3jxxuHA",
        "outputId": "c807b81d-bf2a-417c-9db6-492c7b747eef"
      },
      "source": [
        "print(f'Hay {np.isnan(K).sum()} datos faltantes en K')"
      ],
      "execution_count": 5,
      "outputs": [
        {
          "output_type": "stream",
          "name": "stdout",
          "text": [
            "Hay 8 datos faltantes en K\n"
          ]
        }
      ]
    }
  ]
}