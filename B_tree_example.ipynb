{
  "nbformat": 4,
  "nbformat_minor": 0,
  "metadata": {
    "colab": {
      "provenance": [],
      "authorship_tag": "ABX9TyNc3bGH5fNnpaqAhxOXcmma",
      "include_colab_link": true
    },
    "kernelspec": {
      "name": "python3",
      "display_name": "Python 3"
    },
    "language_info": {
      "name": "python"
    }
  },
  "cells": [
    {
      "cell_type": "markdown",
      "metadata": {
        "id": "view-in-github",
        "colab_type": "text"
      },
      "source": [
        "<a href=\"https://colab.research.google.com/github/diego40g/data_science_python/blob/numpy/B_tree_example.ipynb\" target=\"_parent\"><img src=\"https://colab.research.google.com/assets/colab-badge.svg\" alt=\"Open In Colab\"/></a>"
      ]
    },
    {
      "cell_type": "code",
      "execution_count": 1,
      "metadata": {
        "id": "fhXgcjgRFmda"
      },
      "outputs": [],
      "source": [
        "class BTreeNode:\n",
        "    def __init__(self, leaf=True):\n",
        "        self.keys = []\n",
        "        self.children = []\n",
        "        self.leaf = leaf"
      ]
    },
    {
      "cell_type": "code",
      "source": [
        "class BTree:\n",
        "    def __init__(self, t):\n",
        "        self.root = BTreeNode()\n",
        "        self.t = t\n",
        "\n",
        "    def insert(self, key):\n",
        "        root = self.root\n",
        "        if len(root.keys) == (2 * self.t) - 1:\n",
        "            new_root = BTreeNode(leaf=False)\n",
        "            new_root.children.append(root)\n",
        "            self.split_child(new_root, 0)\n",
        "            self.root = new_root\n",
        "        self.insert_non_full(self.root, key)\n",
        "\n",
        "    def insert_non_full(self, node, key):\n",
        "        i = len(node.keys) - 1\n",
        "        if node.leaf:\n",
        "            node.keys.append(None)\n",
        "            while i >= 0 and key < node.keys[i]:\n",
        "                node.keys[i + 1] = node.keys[i]\n",
        "                i -= 1\n",
        "            node.keys[i + 1] = key\n",
        "        else:\n",
        "            while i >= 0 and key < node.keys[i]:\n",
        "                i -= 1\n",
        "            i += 1\n",
        "            if len(node.children[i].keys) == (2 * self.t) - 1:\n",
        "                self.split_child(node, i)\n",
        "                if key > node.keys[i]:\n",
        "                    i += 1\n",
        "            self.insert_non_full(node.children[i], key)\n",
        "\n",
        "    def split_child(self, parent, index):\n",
        "        t = self.t\n",
        "        child = parent.children[index]\n",
        "        new_child = BTreeNode(leaf=child.leaf)\n",
        "        parent.keys.insert(index, child.keys[t - 1])\n",
        "        parent.children.insert(index + 1, new_child)\n",
        "        new_child.keys = child.keys[t:]\n",
        "        child.keys = child.keys[:t - 1]\n",
        "        if not child.leaf:\n",
        "            new_child.children = child.children[t:]\n",
        "            child.children = child.children[:t]\n",
        "\n",
        "    def search(self, key, node=None):\n",
        "        if node is None:\n",
        "            node = self.root\n",
        "        i = 0\n",
        "        while i < len(node.keys) and key > node.keys[i]:\n",
        "            i += 1\n",
        "        if i < len(node.keys) and key == node.keys[i]:\n",
        "            return True\n",
        "        elif node.leaf:\n",
        "            return False\n",
        "        else:\n",
        "            return self.search(key, node.children[i])"
      ],
      "metadata": {
        "id": "FzrMKHn5F_Dy"
      },
      "execution_count": 2,
      "outputs": []
    },
    {
      "cell_type": "code",
      "source": [
        "b_tree = BTree(t=2)\n",
        "b_tree.insert(10)\n",
        "b_tree.insert(20)\n",
        "b_tree.insert(5)\n",
        "b_tree.insert(6)\n",
        "b_tree.insert(12)"
      ],
      "metadata": {
        "id": "_ML8qN9pGQHG"
      },
      "execution_count": 3,
      "outputs": []
    },
    {
      "cell_type": "code",
      "source": [
        "print(b_tree.search(6))\n",
        "print(b_tree.search(15))"
      ],
      "metadata": {
        "colab": {
          "base_uri": "https://localhost:8080/"
        },
        "id": "XJkIVpIrGXgB",
        "outputId": "53fd466e-9dd0-4f3f-de57-95857b281d4f"
      },
      "execution_count": 4,
      "outputs": [
        {
          "output_type": "stream",
          "name": "stdout",
          "text": [
            "True\n",
            "False\n"
          ]
        }
      ]
    }
  ]
}