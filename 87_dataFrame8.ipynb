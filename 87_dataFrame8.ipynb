{
  "nbformat": 4,
  "nbformat_minor": 0,
  "metadata": {
    "colab": {
      "name": "87. dataFrame8.ipynb",
      "provenance": [],
      "authorship_tag": "ABX9TyOhytn4x2gV4uiPiD+pzjnd",
      "include_colab_link": true
    },
    "kernelspec": {
      "name": "python3",
      "display_name": "Python 3"
    },
    "language_info": {
      "name": "python"
    }
  },
  "cells": [
    {
      "cell_type": "markdown",
      "metadata": {
        "id": "view-in-github",
        "colab_type": "text"
      },
      "source": [
        "<a href=\"https://colab.research.google.com/github/diego40g/data_science_python/blob/numpy/87_dataFrame8.ipynb\" target=\"_parent\"><img src=\"https://colab.research.google.com/assets/colab-badge.svg\" alt=\"Open In Colab\"/></a>"
      ]
    },
    {
      "cell_type": "code",
      "metadata": {
        "id": "oexrm1sG7LzU"
      },
      "source": [
        "import pandas as pd"
      ],
      "execution_count": 1,
      "outputs": []
    },
    {
      "cell_type": "code",
      "metadata": {
        "colab": {
          "base_uri": "https://localhost:8080/"
        },
        "id": "aPMOx26p8Esi",
        "outputId": "844ab391-b470-4573-fb0e-b916cc4638ce"
      },
      "source": [
        "names = ['Oswald', 'Richard', 'Victor', 'Walter', 'Ronald', 'Rebecca', 'Maurice', 'Margaret']\n",
        "print(names)"
      ],
      "execution_count": 3,
      "outputs": [
        {
          "output_type": "stream",
          "name": "stdout",
          "text": [
            "['Oswald', 'Richard', 'Victor', 'Walter', 'Ronald', 'Rebecca', 'Maurice', 'Margaret']\n"
          ]
        }
      ]
    },
    {
      "cell_type": "code",
      "metadata": {
        "colab": {
          "base_uri": "https://localhost:8080/"
        },
        "id": "lCBTQL0Y8I6n",
        "outputId": "490f87cf-4a13-4008-969f-d58dfb7ef8f5"
      },
      "source": [
        "scores = [7, 8 , 4.7, 10, 9.5, 6, 5, 7.7]\n",
        "print(scores)"
      ],
      "execution_count": 4,
      "outputs": [
        {
          "output_type": "stream",
          "name": "stdout",
          "text": [
            "[7, 8, 4.7, 10, 9.5, 6, 5, 7.7]\n"
          ]
        }
      ]
    },
    {
      "cell_type": "code",
      "metadata": {
        "colab": {
          "base_uri": "https://localhost:8080/"
        },
        "id": "AdOcEsZO8PtH",
        "outputId": "582be58e-70f3-4e2e-afab-9bf25fb07930"
      },
      "source": [
        "results = ['Yes' if score>=7 else 'No' for score in scores]\n",
        "print(results)"
      ],
      "execution_count": 5,
      "outputs": [
        {
          "output_type": "stream",
          "name": "stdout",
          "text": [
            "['Yes', 'Yes', 'No', 'Yes', 'Yes', 'No', 'No', 'Yes']\n"
          ]
        }
      ]
    },
    {
      "cell_type": "code",
      "metadata": {
        "colab": {
          "base_uri": "https://localhost:8080/"
        },
        "id": "W0TYNk5h8P3O",
        "outputId": "d4af3179-2c8b-4fd6-c01b-856242fbdb1c"
      },
      "source": [
        "data = {\n",
        "    'Name': names,\n",
        "    'Score': scores,\n",
        "    'Result': results \n",
        "}\n",
        "print(data)"
      ],
      "execution_count": 6,
      "outputs": [
        {
          "output_type": "stream",
          "name": "stdout",
          "text": [
            "{'Name': ['Oswald', 'Richard', 'Victor', 'Walter', 'Ronald', 'Rebecca', 'Maurice', 'Margaret'], 'Score': [7, 8, 4.7, 10, 9.5, 6, 5, 7.7], 'Result': ['Yes', 'Yes', 'No', 'Yes', 'Yes', 'No', 'No', 'Yes']}\n"
          ]
        }
      ]
    },
    {
      "cell_type": "code",
      "metadata": {
        "colab": {
          "base_uri": "https://localhost:8080/"
        },
        "id": "20g96K1_8QH3",
        "outputId": "1fe52489-1ed5-418b-b264-41401abfdacd"
      },
      "source": [
        "df = pd.DataFrame(data)\n",
        "print(df.info())"
      ],
      "execution_count": 7,
      "outputs": [
        {
          "output_type": "stream",
          "name": "stdout",
          "text": [
            "<class 'pandas.core.frame.DataFrame'>\n",
            "RangeIndex: 8 entries, 0 to 7\n",
            "Data columns (total 3 columns):\n",
            " #   Column  Non-Null Count  Dtype  \n",
            "---  ------  --------------  -----  \n",
            " 0   Name    8 non-null      object \n",
            " 1   Score   8 non-null      float64\n",
            " 2   Result  8 non-null      object \n",
            "dtypes: float64(1), object(2)\n",
            "memory usage: 320.0+ bytes\n",
            "None\n"
          ]
        }
      ]
    }
  ]
}