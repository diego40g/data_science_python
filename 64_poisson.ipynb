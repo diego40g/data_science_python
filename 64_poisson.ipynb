{
  "nbformat": 4,
  "nbformat_minor": 0,
  "metadata": {
    "colab": {
      "name": "64. poisson.ipynb",
      "provenance": [],
      "authorship_tag": "ABX9TyMnNBgLLcbHiDiab97Z+z8Z",
      "include_colab_link": true
    },
    "kernelspec": {
      "name": "python3",
      "display_name": "Python 3"
    },
    "language_info": {
      "name": "python"
    }
  },
  "cells": [
    {
      "cell_type": "markdown",
      "metadata": {
        "id": "view-in-github",
        "colab_type": "text"
      },
      "source": [
        "<a href=\"https://colab.research.google.com/github/diego40g/data_science_python/blob/numpy/64_poisson.ipynb\" target=\"_parent\"><img src=\"https://colab.research.google.com/assets/colab-badge.svg\" alt=\"Open In Colab\"/></a>"
      ]
    },
    {
      "cell_type": "code",
      "metadata": {
        "id": "sOVQeEPWnoh-"
      },
      "source": [
        "from numpy import random\n",
        "import numpy as np"
      ],
      "execution_count": 3,
      "outputs": []
    },
    {
      "cell_type": "code",
      "metadata": {
        "colab": {
          "base_uri": "https://localhost:8080/"
        },
        "id": "Gqx4BJrzn2T0",
        "outputId": "e0b803b4-73d2-4d50-e354-2948317dbca4"
      },
      "source": [
        "array = random.poisson(lam = 5, size = (50, 3))\n",
        "print(array)"
      ],
      "execution_count": 5,
      "outputs": [
        {
          "output_type": "stream",
          "name": "stdout",
          "text": [
            "[[ 7  5  3]\n",
            " [ 6  7  4]\n",
            " [ 3  5  2]\n",
            " [ 4  6  5]\n",
            " [ 9  3  7]\n",
            " [ 2  2  2]\n",
            " [ 5  9  1]\n",
            " [ 8  8  4]\n",
            " [ 4  5  5]\n",
            " [ 9  3  7]\n",
            " [ 3  6 11]\n",
            " [ 7  4  1]\n",
            " [ 5  3  4]\n",
            " [ 3  5  8]\n",
            " [ 0  2  7]\n",
            " [ 1  6  6]\n",
            " [ 5  6  5]\n",
            " [ 4  3  3]\n",
            " [ 5  4  6]\n",
            " [ 7  9  3]\n",
            " [ 2  4  4]\n",
            " [ 2  2  5]\n",
            " [ 4  6  5]\n",
            " [ 4  8  5]\n",
            " [ 4  3  3]\n",
            " [ 6  7  4]\n",
            " [ 6  4  5]\n",
            " [ 5  4  8]\n",
            " [ 2  2  5]\n",
            " [ 5  2  6]\n",
            " [ 6  5 10]\n",
            " [ 4  3  4]\n",
            " [ 2  0  2]\n",
            " [ 5  2  5]\n",
            " [ 5  8  4]\n",
            " [ 7  4  5]\n",
            " [13  0  6]\n",
            " [ 4  6  5]\n",
            " [ 2  2  2]\n",
            " [ 5  6  6]\n",
            " [ 7  5  1]\n",
            " [ 1  5  6]\n",
            " [ 5  2  5]\n",
            " [ 4  6  7]\n",
            " [ 4  3  3]\n",
            " [ 4  6  7]\n",
            " [ 3  5  5]\n",
            " [ 2  8  9]\n",
            " [ 8  3  4]\n",
            " [ 4  3  3]]\n"
          ]
        }
      ]
    }
  ]
}