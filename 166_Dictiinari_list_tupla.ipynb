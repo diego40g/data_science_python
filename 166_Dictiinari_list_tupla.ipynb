{
  "nbformat": 4,
  "nbformat_minor": 0,
  "metadata": {
    "colab": {
      "name": "166. Dictiinari_list_tupla.ipynb",
      "provenance": [],
      "authorship_tag": "ABX9TyPU3BP+kfVq30mQPEq63YIZ",
      "include_colab_link": true
    },
    "kernelspec": {
      "name": "python3",
      "display_name": "Python 3"
    },
    "language_info": {
      "name": "python"
    }
  },
  "cells": [
    {
      "cell_type": "markdown",
      "metadata": {
        "id": "view-in-github",
        "colab_type": "text"
      },
      "source": [
        "<a href=\"https://colab.research.google.com/github/diego40g/data_science_python/blob/numpy/166_Dictiinari_list_tupla.ipynb\" target=\"_parent\"><img src=\"https://colab.research.google.com/assets/colab-badge.svg\" alt=\"Open In Colab\"/></a>"
      ]
    },
    {
      "cell_type": "code",
      "execution_count": 7,
      "metadata": {
        "id": "8gGWOYnt9EH7"
      },
      "outputs": [],
      "source": [
        "List=[1,'dos',3.0]"
      ]
    },
    {
      "cell_type": "code",
      "source": [
        "Tup=(1,2,3)"
      ],
      "metadata": {
        "id": "HHheq8LS9azw"
      },
      "execution_count": 12,
      "outputs": []
    },
    {
      "cell_type": "code",
      "source": [
        "Dicc={\"1\":1,\"dos\":2,\"3\":3.0}"
      ],
      "metadata": {
        "id": "piTHZuE69hO_"
      },
      "execution_count": 13,
      "outputs": []
    },
    {
      "cell_type": "code",
      "source": [
        "print(List)\n",
        "print(type(List))"
      ],
      "metadata": {
        "colab": {
          "base_uri": "https://localhost:8080/"
        },
        "id": "J1aUO9Ey9x2r",
        "outputId": "6ea10c83-3ab3-4bc2-cbab-3cdc5969e4d4"
      },
      "execution_count": 8,
      "outputs": [
        {
          "output_type": "stream",
          "name": "stdout",
          "text": [
            "[1, 'dos', 3.0]\n",
            "<class 'list'>\n"
          ]
        }
      ]
    },
    {
      "cell_type": "code",
      "source": [
        "print(Tup)\n",
        "print(type(Tup))"
      ],
      "metadata": {
        "colab": {
          "base_uri": "https://localhost:8080/"
        },
        "id": "3BGBssKJ-HWO",
        "outputId": "a84412f2-809e-4c4f-cc70-ca1849055780"
      },
      "execution_count": 14,
      "outputs": [
        {
          "output_type": "stream",
          "name": "stdout",
          "text": [
            "(1, 2, 3)\n",
            "<class 'tuple'>\n"
          ]
        }
      ]
    },
    {
      "cell_type": "code",
      "source": [
        "print (Dicc)\n",
        "print(type(Dicc))"
      ],
      "metadata": {
        "colab": {
          "base_uri": "https://localhost:8080/"
        },
        "id": "HeWE3SMH-e4T",
        "outputId": "f28938c8-5a51-4005-f105-6aa7ed17b4f1"
      },
      "execution_count": 15,
      "outputs": [
        {
          "output_type": "stream",
          "name": "stdout",
          "text": [
            "{'1': 1, 'dos': 2, '3': 3.0}\n",
            "<class 'dict'>\n"
          ]
        }
      ]
    }
  ]
}