{
  "nbformat": 4,
  "nbformat_minor": 0,
  "metadata": {
    "colab": {
      "name": "106. dataRange3.ipynb",
      "provenance": [],
      "authorship_tag": "ABX9TyNupHjjqrlNlppermE7Z+LK",
      "include_colab_link": true
    },
    "kernelspec": {
      "name": "python3",
      "display_name": "Python 3"
    },
    "language_info": {
      "name": "python"
    }
  },
  "cells": [
    {
      "cell_type": "markdown",
      "metadata": {
        "id": "view-in-github",
        "colab_type": "text"
      },
      "source": [
        "<a href=\"https://colab.research.google.com/github/diego40g/data_science_python/blob/numpy/106_dataRange3.ipynb\" target=\"_parent\"><img src=\"https://colab.research.google.com/assets/colab-badge.svg\" alt=\"Open In Colab\"/></a>"
      ]
    },
    {
      "cell_type": "code",
      "metadata": {
        "id": "wDAlQFmwDiXl"
      },
      "source": [
        "import pandas as pd"
      ],
      "execution_count": null,
      "outputs": []
    },
    {
      "cell_type": "code",
      "metadata": {
        "colab": {
          "base_uri": "https://localhost:8080/"
        },
        "id": "vlCvqIynD2wz",
        "outputId": "a3393c5a-800a-459c-eab7-34268297f08a"
      },
      "source": [
        "date = pd.date_range(start = '2021-1-1', end = '2021-6-30', freq = '15D')\n",
        "print(date)"
      ],
      "execution_count": null,
      "outputs": [
        {
          "output_type": "stream",
          "name": "stdout",
          "text": [
            "DatetimeIndex(['2021-01-01', '2021-01-16', '2021-01-31', '2021-02-15',\n",
            "               '2021-03-02', '2021-03-17', '2021-04-01', '2021-04-16',\n",
            "               '2021-05-01', '2021-05-16', '2021-05-31', '2021-06-15',\n",
            "               '2021-06-30'],\n",
            "              dtype='datetime64[ns]', freq='15D')\n"
          ]
        }
      ]
    }
  ]
}