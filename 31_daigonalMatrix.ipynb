{
  "nbformat": 4,
  "nbformat_minor": 0,
  "metadata": {
    "colab": {
      "name": "31. daigonalMatrix.ipynb",
      "provenance": [],
      "authorship_tag": "ABX9TyN01Q+gOhuEfa3MLf1Kosrj",
      "include_colab_link": true
    },
    "kernelspec": {
      "name": "python3",
      "display_name": "Python 3"
    },
    "language_info": {
      "name": "python"
    }
  },
  "cells": [
    {
      "cell_type": "markdown",
      "metadata": {
        "id": "view-in-github",
        "colab_type": "text"
      },
      "source": [
        "<a href=\"https://colab.research.google.com/github/diego40g/data_science_python/blob/numpy/31_daigonalMatrix.ipynb\" target=\"_parent\"><img src=\"https://colab.research.google.com/assets/colab-badge.svg\" alt=\"Open In Colab\"/></a>"
      ]
    },
    {
      "cell_type": "code",
      "metadata": {
        "id": "nl9RGdbUW0aW"
      },
      "source": [
        "import numpy as np"
      ],
      "execution_count": 1,
      "outputs": []
    },
    {
      "cell_type": "code",
      "metadata": {
        "colab": {
          "base_uri": "https://localhost:8080/"
        },
        "id": "eSxIXX4_W2tR",
        "outputId": "817a5b3c-4074-4626-df6a-19cd42bcdf37"
      },
      "source": [
        "A=np.diag([7,1,-1])\n",
        "print(A)"
      ],
      "execution_count": 2,
      "outputs": [
        {
          "output_type": "stream",
          "name": "stdout",
          "text": [
            "[[ 7  0  0]\n",
            " [ 0  1  0]\n",
            " [ 0  0 -1]]\n"
          ]
        }
      ]
    },
    {
      "cell_type": "code",
      "metadata": {
        "colab": {
          "base_uri": "https://localhost:8080/"
        },
        "id": "9t6uo7IBW6sv",
        "outputId": "6407c57f-50e8-418f-abf4-a7eb4d1ee621"
      },
      "source": [
        "B=np.diag([3]*4)\n",
        "print(B)"
      ],
      "execution_count": 3,
      "outputs": [
        {
          "output_type": "stream",
          "name": "stdout",
          "text": [
            "[[3 0 0 0]\n",
            " [0 3 0 0]\n",
            " [0 0 3 0]\n",
            " [0 0 0 3]]\n"
          ]
        }
      ]
    },
    {
      "cell_type": "code",
      "metadata": {
        "colab": {
          "base_uri": "https://localhost:8080/"
        },
        "id": "akD2uBDTXAA2",
        "outputId": "aa41083a-a064-43a0-bdae-1bb8297861cd"
      },
      "source": [
        "C=np.diag(range(-5,0))\n",
        "print(C)"
      ],
      "execution_count": 4,
      "outputs": [
        {
          "output_type": "stream",
          "name": "stdout",
          "text": [
            "[[-5  0  0  0  0]\n",
            " [ 0 -4  0  0  0]\n",
            " [ 0  0 -3  0  0]\n",
            " [ 0  0  0 -2  0]\n",
            " [ 0  0  0  0 -1]]\n"
          ]
        }
      ]
    }
  ]
}