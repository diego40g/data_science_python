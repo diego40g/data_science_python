{
  "nbformat": 4,
  "nbformat_minor": 0,
  "metadata": {
    "colab": {
      "name": "34. lawMatrix.ipynb",
      "provenance": [],
      "authorship_tag": "ABX9TyMTp36TWjfyNRRINrsZ/RUo",
      "include_colab_link": true
    },
    "kernelspec": {
      "name": "python3",
      "display_name": "Python 3"
    },
    "language_info": {
      "name": "python"
    }
  },
  "cells": [
    {
      "cell_type": "markdown",
      "metadata": {
        "id": "view-in-github",
        "colab_type": "text"
      },
      "source": [
        "<a href=\"https://colab.research.google.com/github/diego40g/data_science_python/blob/numpy/34_lawMatrix.ipynb\" target=\"_parent\"><img src=\"https://colab.research.google.com/assets/colab-badge.svg\" alt=\"Open In Colab\"/></a>"
      ]
    },
    {
      "cell_type": "code",
      "metadata": {
        "id": "gIuR1urkYx_b"
      },
      "source": [
        "import numpy as np"
      ],
      "execution_count": 5,
      "outputs": []
    },
    {
      "cell_type": "code",
      "metadata": {
        "colab": {
          "base_uri": "https://localhost:8080/"
        },
        "id": "uBDiK_TqY0jt",
        "outputId": "550afa4a-7e3e-460a-c7ae-755798f1b3fe"
      },
      "source": [
        "A = np.array([[10,11],[5,1],[-2,4]])\n",
        "print(A)"
      ],
      "execution_count": 13,
      "outputs": [
        {
          "output_type": "stream",
          "name": "stdout",
          "text": [
            "[[10 11]\n",
            " [ 5  1]\n",
            " [-2  4]]\n"
          ]
        }
      ]
    },
    {
      "cell_type": "code",
      "metadata": {
        "colab": {
          "base_uri": "https://localhost:8080/"
        },
        "id": "dtRMRwlcZDzK",
        "outputId": "5b31420c-576d-4c74-9d03-db30cfcbdc5e"
      },
      "source": [
        "B=np.array([[1,25],[3,4],[0,-10]])\n",
        "print(B)"
      ],
      "execution_count": 3,
      "outputs": [
        {
          "output_type": "stream",
          "name": "stdout",
          "text": [
            "[[  1  25]\n",
            " [  3   4]\n",
            " [  0 -10]]\n"
          ]
        }
      ]
    },
    {
      "cell_type": "code",
      "metadata": {
        "colab": {
          "base_uri": "https://localhost:8080/"
        },
        "id": "shW7Z2wRZO-o",
        "outputId": "fe5fe6ab-bd10-4378-f945-0bf0b7b7e361"
      },
      "source": [
        "C=np.array([[7,3],[6,1],[0,0]])\n",
        "print(C)"
      ],
      "execution_count": 6,
      "outputs": [
        {
          "output_type": "stream",
          "name": "stdout",
          "text": [
            "[[7 3]\n",
            " [6 1]\n",
            " [0 0]]\n"
          ]
        }
      ]
    },
    {
      "cell_type": "code",
      "metadata": {
        "colab": {
          "base_uri": "https://localhost:8080/"
        },
        "id": "lW6vyCHcZZ9Z",
        "outputId": "cde8317b-64aa-44fb-9adb-29b1b44e8015"
      },
      "source": [
        "zero=np.zeros(shape=(3,2))\n",
        "print(zero)"
      ],
      "execution_count": 7,
      "outputs": [
        {
          "output_type": "stream",
          "name": "stdout",
          "text": [
            "[[0. 0.]\n",
            " [0. 0.]\n",
            " [0. 0.]]\n"
          ]
        }
      ]
    },
    {
      "cell_type": "code",
      "metadata": {
        "colab": {
          "base_uri": "https://localhost:8080/"
        },
        "id": "OIW836OgZzCm",
        "outputId": "ee237c97-bb18-42d8-9817-48f897960f8d"
      },
      "source": [
        "print(A+B==B+A)"
      ],
      "execution_count": 14,
      "outputs": [
        {
          "output_type": "stream",
          "name": "stdout",
          "text": [
            "[[ True  True]\n",
            " [ True  True]\n",
            " [ True  True]]\n"
          ]
        }
      ]
    },
    {
      "cell_type": "code",
      "metadata": {
        "colab": {
          "base_uri": "https://localhost:8080/"
        },
        "id": "T2_x6dOkZ31-",
        "outputId": "d341e438-e76f-4b13-ec9f-6c7db308a915"
      },
      "source": [
        "print((A+(B+C))==(A+B)+C)"
      ],
      "execution_count": 15,
      "outputs": [
        {
          "output_type": "stream",
          "name": "stdout",
          "text": [
            "[[ True  True]\n",
            " [ True  True]\n",
            " [ True  True]]\n"
          ]
        }
      ]
    },
    {
      "cell_type": "code",
      "metadata": {
        "colab": {
          "base_uri": "https://localhost:8080/"
        },
        "id": "FoN7FwW9bS8L",
        "outputId": "9ff7bb7a-dbd5-4c53-ac0d-c04a8791364b"
      },
      "source": [
        "print(A+zero==A)"
      ],
      "execution_count": 16,
      "outputs": [
        {
          "output_type": "stream",
          "name": "stdout",
          "text": [
            "[[ True  True]\n",
            " [ True  True]\n",
            " [ True  True]]\n"
          ]
        }
      ]
    }
  ]
}