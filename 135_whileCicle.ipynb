{
  "cells": [
    {
      "cell_type": "markdown",
      "metadata": {
        "id": "view-in-github",
        "colab_type": "text"
      },
      "source": [
        "<a href=\"https://colab.research.google.com/github/diego40g/data_science_python/blob/numpy/135_whileCicle.ipynb\" target=\"_parent\"><img src=\"https://colab.research.google.com/assets/colab-badge.svg\" alt=\"Open In Colab\"/></a>"
      ]
    },
    {
      "cell_type": "code",
      "execution_count": 9,
      "metadata": {
        "id": "IY1S-G7YKmef"
      },
      "outputs": [],
      "source": [
        "data=['1',1.1,1,\"número uno\"]"
      ]
    },
    {
      "cell_type": "code",
      "execution_count": 10,
      "metadata": {
        "colab": {
          "base_uri": "https://localhost:8080/"
        },
        "id": "-LO9wkY_Lufv",
        "outputId": "aff22d1f-0edd-416f-cee5-620a5e2ea921"
      },
      "outputs": [
        {
          "output_type": "stream",
          "name": "stdout",
          "text": [
            "1\n",
            "1.1\n",
            "1\n",
            "número uno\n"
          ]
        }
      ],
      "source": [
        "contador=0\n",
        "while contador < len(data):\n",
        "    print (data[contador])\n",
        "    contador+=1"
      ]
    }
  ],
  "metadata": {
    "colab": {
      "name": "135. whileCicle.ipynb",
      "provenance": [],
      "authorship_tag": "ABX9TyOqbGRC95zdxTt3OrIwIBWb",
      "include_colab_link": true
    },
    "kernelspec": {
      "display_name": "Python 3",
      "name": "python3"
    },
    "language_info": {
      "name": "python"
    }
  },
  "nbformat": 4,
  "nbformat_minor": 0
}