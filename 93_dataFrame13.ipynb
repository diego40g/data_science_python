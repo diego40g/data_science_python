{
  "nbformat": 4,
  "nbformat_minor": 0,
  "metadata": {
    "colab": {
      "name": "93. dataFrame13.ipynb",
      "provenance": [],
      "authorship_tag": "ABX9TyO5k7UQKyRb/UpNwV1NKrhN",
      "include_colab_link": true
    },
    "kernelspec": {
      "name": "python3",
      "display_name": "Python 3"
    },
    "language_info": {
      "name": "python"
    }
  },
  "cells": [
    {
      "cell_type": "markdown",
      "metadata": {
        "id": "view-in-github",
        "colab_type": "text"
      },
      "source": [
        "<a href=\"https://colab.research.google.com/github/diego40g/data_science_python/blob/numpy/93_dataFrame13.ipynb\" target=\"_parent\"><img src=\"https://colab.research.google.com/assets/colab-badge.svg\" alt=\"Open In Colab\"/></a>"
      ]
    },
    {
      "cell_type": "code",
      "metadata": {
        "id": "ce3kpoetHaRm"
      },
      "source": [
        "import pandas as pd"
      ],
      "execution_count": 1,
      "outputs": []
    },
    {
      "cell_type": "code",
      "metadata": {
        "colab": {
          "base_uri": "https://localhost:8080/"
        },
        "id": "MrzMXyg3IHix",
        "outputId": "47c7a798-ba82-4e90-b92e-d16333f1c60c"
      },
      "source": [
        "scores = [7, 8 , 4.7, 10, 9.5, 6, 5, 7.7]\n",
        "print(scores)"
      ],
      "execution_count": 2,
      "outputs": [
        {
          "output_type": "stream",
          "name": "stdout",
          "text": [
            "[7, 8, 4.7, 10, 9.5, 6, 5, 7.7]\n"
          ]
        }
      ]
    },
    {
      "cell_type": "code",
      "metadata": {
        "colab": {
          "base_uri": "https://localhost:8080/"
        },
        "id": "wgkhZOJCIQ83",
        "outputId": "18f584c5-6253-4277-d8eb-39eef5afdc31"
      },
      "source": [
        "data = {\n",
        "    'Name': ['Carl', 'Margaret', 'Maurice', 'Oscar', 'Peter', 'Oswald', 'Paul', 'Ronald'],\n",
        "    'Score': [7, 8 , 4.7, 10, 9.5, 6, 5, 7.7],\n",
        "    'Result': ['Yes' if score>=7 else 'No' for score in scores]\n",
        "}\n",
        "print(data)"
      ],
      "execution_count": 3,
      "outputs": [
        {
          "output_type": "stream",
          "name": "stdout",
          "text": [
            "{'Name': ['Carl', 'Margaret', 'Maurice', 'Oscar', 'Peter', 'Oswald', 'Paul', 'Ronald'], 'Score': [7, 8, 4.7, 10, 9.5, 6, 5, 7.7], 'Result': ['Yes', 'Yes', 'No', 'Yes', 'Yes', 'No', 'No', 'Yes']}\n"
          ]
        }
      ]
    },
    {
      "cell_type": "code",
      "metadata": {
        "colab": {
          "base_uri": "https://localhost:8080/"
        },
        "id": "YCW6VKVpISbP",
        "outputId": "b8880083-12e8-4e92-9b22-67e65070af03"
      },
      "source": [
        "df = pd.DataFrame(data)\n",
        "print(df)"
      ],
      "execution_count": 4,
      "outputs": [
        {
          "output_type": "stream",
          "name": "stdout",
          "text": [
            "       Name  Score Result\n",
            "0      Carl    7.0    Yes\n",
            "1  Margaret    8.0    Yes\n",
            "2   Maurice    4.7     No\n",
            "3     Oscar   10.0    Yes\n",
            "4     Peter    9.5    Yes\n",
            "5    Oswald    6.0     No\n",
            "6      Paul    5.0     No\n",
            "7    Ronald    7.7    Yes\n"
          ]
        }
      ]
    },
    {
      "cell_type": "code",
      "metadata": {
        "colab": {
          "base_uri": "https://localhost:8080/"
        },
        "id": "0m05KAG0IT2A",
        "outputId": "7ecd2af9-d6a2-4e99-e9a9-2d5a95ff7e91"
      },
      "source": [
        "print(df.Name[1:4].tolist())  #a)\n",
        "print(df.Name.loc[[0,2,7]].tolist())  #b)\n",
        "print(df.Name.iloc[0:1][0])  #c)\n",
        "print(df.Score.iloc[-1])  #d)"
      ],
      "execution_count": 5,
      "outputs": [
        {
          "output_type": "stream",
          "name": "stdout",
          "text": [
            "['Margaret', 'Maurice', 'Oscar']\n",
            "['Carl', 'Maurice', 'Ronald']\n",
            "Carl\n",
            "7.7\n"
          ]
        }
      ]
    }
  ]
}