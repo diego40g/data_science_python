{
  "nbformat": 4,
  "nbformat_minor": 0,
  "metadata": {
    "colab": {
      "name": "77. plot.ipynb",
      "provenance": [],
      "authorship_tag": "ABX9TyNM9Z52PMD+0z+YdhtS00uA",
      "include_colab_link": true
    },
    "kernelspec": {
      "name": "python3",
      "display_name": "Python 3"
    },
    "language_info": {
      "name": "python"
    }
  },
  "cells": [
    {
      "cell_type": "markdown",
      "metadata": {
        "id": "view-in-github",
        "colab_type": "text"
      },
      "source": [
        "<a href=\"https://colab.research.google.com/github/diego40g/data_science_python/blob/numpy/77_plot.ipynb\" target=\"_parent\"><img src=\"https://colab.research.google.com/assets/colab-badge.svg\" alt=\"Open In Colab\"/></a>"
      ]
    },
    {
      "cell_type": "code",
      "metadata": {
        "id": "zPow-0T8Bwcf"
      },
      "source": [
        "import pandas as pd"
      ],
      "execution_count": 1,
      "outputs": []
    },
    {
      "cell_type": "code",
      "metadata": {
        "colab": {
          "base_uri": "https://localhost:8080/"
        },
        "id": "U0uQgIdFEkIv",
        "outputId": "18a5b56f-9249-490b-91c7-ef2bb1944e36"
      },
      "source": [
        "years = list(range(1900, 2021, 10))\n",
        "print(years)"
      ],
      "execution_count": 2,
      "outputs": [
        {
          "output_type": "stream",
          "name": "stdout",
          "text": [
            "[1900, 1910, 1920, 1930, 1940, 1950, 1960, 1970, 1980, 1990, 2000, 2010, 2020]\n"
          ]
        }
      ]
    },
    {
      "cell_type": "code",
      "metadata": {
        "colab": {
          "base_uri": "https://localhost:8080/"
        },
        "id": "aNQEC7L6Euud",
        "outputId": "29e3b505-927b-4816-e5c1-13f7ded603e6"
      },
      "source": [
        "values = [i**3 for i in range(1, 14)]\n",
        "print(values)"
      ],
      "execution_count": 3,
      "outputs": [
        {
          "output_type": "stream",
          "name": "stdout",
          "text": [
            "[1, 8, 27, 64, 125, 216, 343, 512, 729, 1000, 1331, 1728, 2197]\n"
          ]
        }
      ]
    },
    {
      "cell_type": "code",
      "metadata": {
        "colab": {
          "base_uri": "https://localhost:8080/",
          "height": 519
        },
        "id": "gf2pX0XZE5Xz",
        "outputId": "d02a46e5-1db5-49f7-9526-c77e7bf43b7a"
      },
      "source": [
        "series = pd.Series(data = values, index = years, name = 'Growth over time')[::-1]\n",
        "series.plot(title = 'Growth Rate over Time');\n",
        "print(series)"
      ],
      "execution_count": 4,
      "outputs": [
        {
          "output_type": "stream",
          "name": "stdout",
          "text": [
            "2020    2197\n",
            "2010    1728\n",
            "2000    1331\n",
            "1990    1000\n",
            "1980     729\n",
            "1970     512\n",
            "1960     343\n",
            "1950     216\n",
            "1940     125\n",
            "1930      64\n",
            "1920      27\n",
            "1910       8\n",
            "1900       1\n",
            "Name: Growth over time, dtype: int64\n"
          ]
        },
        {
          "output_type": "display_data",
          "data": {
            "image/png": "[encoded data removed]",
            "text/plain": [
              "<Figure size 432x288 with 1 Axes>"
            ]
          },
          "metadata": {
            "needs_background": "light"
          }
        }
      ]
    }
  ]
}