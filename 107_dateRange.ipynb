{
  "nbformat": 4,
  "nbformat_minor": 0,
  "metadata": {
    "colab": {
      "name": "107. dateRange.ipynb",
      "provenance": [],
      "authorship_tag": "ABX9TyNtDk6wFngs1CydZ4GX1E1i",
      "include_colab_link": true
    },
    "kernelspec": {
      "name": "python3",
      "display_name": "Python 3"
    },
    "language_info": {
      "name": "python"
    }
  },
  "cells": [
    {
      "cell_type": "markdown",
      "metadata": {
        "id": "view-in-github",
        "colab_type": "text"
      },
      "source": [
        "<a href=\"https://colab.research.google.com/github/diego40g/data_science_python/blob/numpy/107_dateRange.ipynb\" target=\"_parent\"><img src=\"https://colab.research.google.com/assets/colab-badge.svg\" alt=\"Open In Colab\"/></a>"
      ]
    },
    {
      "cell_type": "code",
      "metadata": {
        "id": "wHBNFGvNEoSb"
      },
      "source": [
        "import pandas as pd"
      ],
      "execution_count": 1,
      "outputs": []
    },
    {
      "cell_type": "code",
      "metadata": {
        "colab": {
          "base_uri": "https://localhost:8080/"
        },
        "id": "ckeeKFdJEwr0",
        "outputId": "9ab4686b-0225-46af-cd95-2dc9f768f033"
      },
      "source": [
        "date = pd.date_range(start = '2021-1-1', end = '2021-12-31', freq = '15D')\n",
        "print(date)"
      ],
      "execution_count": 2,
      "outputs": [
        {
          "output_type": "stream",
          "name": "stdout",
          "text": [
            "DatetimeIndex(['2021-01-01', '2021-01-16', '2021-01-31', '2021-02-15',\n",
            "               '2021-03-02', '2021-03-17', '2021-04-01', '2021-04-16',\n",
            "               '2021-05-01', '2021-05-16', '2021-05-31', '2021-06-15',\n",
            "               '2021-06-30', '2021-07-15', '2021-07-30', '2021-08-14',\n",
            "               '2021-08-29', '2021-09-13', '2021-09-28', '2021-10-13',\n",
            "               '2021-10-28', '2021-11-12', '2021-11-27', '2021-12-12',\n",
            "               '2021-12-27'],\n",
            "              dtype='datetime64[ns]', freq='15D')\n"
          ]
        }
      ]
    },
    {
      "cell_type": "code",
      "metadata": {
        "colab": {
          "base_uri": "https://localhost:8080/"
        },
        "id": "Ox5bdqQbE2xU",
        "outputId": "63c0760e-d49c-4534-898f-8364ec5ba98f"
      },
      "source": [
        "df = pd.DataFrame(date, columns = ['Date'])\n",
        "print(df)"
      ],
      "execution_count": 3,
      "outputs": [
        {
          "output_type": "stream",
          "name": "stdout",
          "text": [
            "         Date\n",
            "0  2021-01-01\n",
            "1  2021-01-16\n",
            "2  2021-01-31\n",
            "3  2021-02-15\n",
            "4  2021-03-02\n",
            "5  2021-03-17\n",
            "6  2021-04-01\n",
            "7  2021-04-16\n",
            "8  2021-05-01\n",
            "9  2021-05-16\n",
            "10 2021-05-31\n",
            "11 2021-06-15\n",
            "12 2021-06-30\n",
            "13 2021-07-15\n",
            "14 2021-07-30\n",
            "15 2021-08-14\n",
            "16 2021-08-29\n",
            "17 2021-09-13\n",
            "18 2021-09-28\n",
            "19 2021-10-13\n",
            "20 2021-10-28\n",
            "21 2021-11-12\n",
            "22 2021-11-27\n",
            "23 2021-12-12\n",
            "24 2021-12-27\n"
          ]
        }
      ]
    },
    {
      "cell_type": "code",
      "metadata": {
        "colab": {
          "base_uri": "https://localhost:8080/"
        },
        "id": "gCcgft_XE8ED",
        "outputId": "fcb84f91-c8da-4890-8e1f-8d09734b0c38"
      },
      "source": [
        "df['Day of Year'] = date.dayofyear\n",
        "print(df)"
      ],
      "execution_count": 4,
      "outputs": [
        {
          "output_type": "stream",
          "name": "stdout",
          "text": [
            "         Date  Day of Year\n",
            "0  2021-01-01            1\n",
            "1  2021-01-16           16\n",
            "2  2021-01-31           31\n",
            "3  2021-02-15           46\n",
            "4  2021-03-02           61\n",
            "5  2021-03-17           76\n",
            "6  2021-04-01           91\n",
            "7  2021-04-16          106\n",
            "8  2021-05-01          121\n",
            "9  2021-05-16          136\n",
            "10 2021-05-31          151\n",
            "11 2021-06-15          166\n",
            "12 2021-06-30          181\n",
            "13 2021-07-15          196\n",
            "14 2021-07-30          211\n",
            "15 2021-08-14          226\n",
            "16 2021-08-29          241\n",
            "17 2021-09-13          256\n",
            "18 2021-09-28          271\n",
            "19 2021-10-13          286\n",
            "20 2021-10-28          301\n",
            "21 2021-11-12          316\n",
            "22 2021-11-27          331\n",
            "23 2021-12-12          346\n",
            "24 2021-12-27          361\n"
          ]
        }
      ]
    },
    {
      "cell_type": "code",
      "metadata": {
        "colab": {
          "base_uri": "https://localhost:8080/"
        },
        "id": "Ifp3z2J4FAeE",
        "outputId": "83b63f1c-8538-433a-81ff-f0b62e532cbc"
      },
      "source": [
        "df['Month of Year'] = date.month\n",
        "print(df)"
      ],
      "execution_count": 6,
      "outputs": [
        {
          "output_type": "stream",
          "name": "stdout",
          "text": [
            "         Date  Day of Year  Month of Year\n",
            "0  2021-01-01            1              1\n",
            "1  2021-01-16           16              1\n",
            "2  2021-01-31           31              1\n",
            "3  2021-02-15           46              2\n",
            "4  2021-03-02           61              3\n",
            "5  2021-03-17           76              3\n",
            "6  2021-04-01           91              4\n",
            "7  2021-04-16          106              4\n",
            "8  2021-05-01          121              5\n",
            "9  2021-05-16          136              5\n",
            "10 2021-05-31          151              5\n",
            "11 2021-06-15          166              6\n",
            "12 2021-06-30          181              6\n",
            "13 2021-07-15          196              7\n",
            "14 2021-07-30          211              7\n",
            "15 2021-08-14          226              8\n",
            "16 2021-08-29          241              8\n",
            "17 2021-09-13          256              9\n",
            "18 2021-09-28          271              9\n",
            "19 2021-10-13          286             10\n",
            "20 2021-10-28          301             10\n",
            "21 2021-11-12          316             11\n",
            "22 2021-11-27          331             11\n",
            "23 2021-12-12          346             12\n",
            "24 2021-12-27          361             12\n"
          ]
        }
      ]
    }
  ]
}