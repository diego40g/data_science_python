{
  "nbformat": 4,
  "nbformat_minor": 0,
  "metadata": {
    "colab": {
      "name": "94. dataframe14.ipynb",
      "provenance": [],
      "authorship_tag": "ABX9TyPqSll2MaCNnjEdoBUnRmaG",
      "include_colab_link": true
    },
    "kernelspec": {
      "name": "python3",
      "display_name": "Python 3"
    },
    "language_info": {
      "name": "python"
    }
  },
  "cells": [
    {
      "cell_type": "markdown",
      "metadata": {
        "id": "view-in-github",
        "colab_type": "text"
      },
      "source": [
        "<a href=\"https://colab.research.google.com/github/diego40g/data_science_python/blob/numpy/94_dataframe14.ipynb\" target=\"_parent\"><img src=\"https://colab.research.google.com/assets/colab-badge.svg\" alt=\"Open In Colab\"/></a>"
      ]
    },
    {
      "cell_type": "code",
      "metadata": {
        "id": "UTx2BOSgJAcS"
      },
      "source": [
        "import pandas as pd"
      ],
      "execution_count": 1,
      "outputs": []
    },
    {
      "cell_type": "code",
      "metadata": {
        "colab": {
          "base_uri": "https://localhost:8080/"
        },
        "id": "qJ4t8_QkLPH_",
        "outputId": "8eac947a-c91c-4778-bf57-ef8d88c96b5d"
      },
      "source": [
        "dic = {\n",
        "    'A': ['a', 'b', 'c'],\n",
        "    'B': ['f', 'g', 'w'],\n",
        "    'C': ['z', 'k', 'm']}\n",
        "print(dic)"
      ],
      "execution_count": 2,
      "outputs": [
        {
          "output_type": "stream",
          "name": "stdout",
          "text": [
            "{'A': ['a', 'b', 'c'], 'B': ['f', 'g', 'w'], 'C': ['z', 'k', 'm']}\n"
          ]
        }
      ]
    },
    {
      "cell_type": "code",
      "metadata": {
        "colab": {
          "base_uri": "https://localhost:8080/"
        },
        "id": "NMw552raLRDn",
        "outputId": "9c945471-8cd7-4eeb-9a67-8908373414b8"
      },
      "source": [
        "df = pd.DataFrame(dic)\n",
        "print(df)"
      ],
      "execution_count": 3,
      "outputs": [
        {
          "output_type": "stream",
          "name": "stdout",
          "text": [
            "   A  B  C\n",
            "0  a  f  z\n",
            "1  b  g  k\n",
            "2  c  w  m\n"
          ]
        }
      ]
    },
    {
      "cell_type": "code",
      "metadata": {
        "colab": {
          "base_uri": "https://localhost:8080/"
        },
        "id": "1XN0kjRVLSX4",
        "outputId": "177e840d-9c1f-4c1f-c445-7a615f7d37f5"
      },
      "source": [
        "print(df.isin(['f', 'b', 'z']))"
      ],
      "execution_count": 4,
      "outputs": [
        {
          "output_type": "stream",
          "name": "stdout",
          "text": [
            "       A      B      C\n",
            "0  False   True   True\n",
            "1   True  False  False\n",
            "2  False  False  False\n"
          ]
        }
      ]
    }
  ]
}