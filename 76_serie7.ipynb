{
  "nbformat": 4,
  "nbformat_minor": 0,
  "metadata": {
    "colab": {
      "name": "76. serie7.ipynb",
      "provenance": [],
      "authorship_tag": "ABX9TyPBJVYVyb835IfRNXuqvQwl",
      "include_colab_link": true
    },
    "kernelspec": {
      "name": "python3",
      "display_name": "Python 3"
    },
    "language_info": {
      "name": "python"
    }
  },
  "cells": [
    {
      "cell_type": "markdown",
      "metadata": {
        "id": "view-in-github",
        "colab_type": "text"
      },
      "source": [
        "<a href=\"https://colab.research.google.com/github/diego40g/data_science_python/blob/numpy/76_serie7.ipynb\" target=\"_parent\"><img src=\"https://colab.research.google.com/assets/colab-badge.svg\" alt=\"Open In Colab\"/></a>"
      ]
    },
    {
      "cell_type": "code",
      "metadata": {
        "id": "8Ask0c4d7cfd"
      },
      "source": [
        "import pandas as pd\n",
        "import numpy as np"
      ],
      "execution_count": 1,
      "outputs": []
    },
    {
      "cell_type": "code",
      "metadata": {
        "id": "PYmRgp_i-nmO"
      },
      "source": [
        "a = pd.Series(\n",
        "    data = np.arange(1, 20, 2),\n",
        "    index = [chr(65+i) for i in range(10)])"
      ],
      "execution_count": 2,
      "outputs": []
    },
    {
      "cell_type": "code",
      "metadata": {
        "id": "Os0RWVXvAzh5"
      },
      "source": [
        "\n",
        "b = pd.Series(\n",
        "    data = np.arange(5, 50, 5),\n",
        "    index = [chr(70+i) for i in range(9)])"
      ],
      "execution_count": 3,
      "outputs": []
    },
    {
      "cell_type": "code",
      "metadata": {
        "id": "rFsozn8_A3q6"
      },
      "source": [
        "#another possibility for option a):\n",
        "#values = [i for i in range(20) if i%2!=0]\n",
        "#another possibility for option b):\n",
        "#values = [i for i in range (50) if (i%5==0)&(i!=0)]"
      ],
      "execution_count": 4,
      "outputs": []
    }
  ]
}