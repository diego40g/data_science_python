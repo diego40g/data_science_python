{
  "nbformat": 4,
  "nbformat_minor": 0,
  "metadata": {
    "colab": {
      "name": "184. fun_anidadas.ipynb",
      "provenance": [],
      "authorship_tag": "ABX9TyOPeX4efULB9kxIYeBqtr3A",
      "include_colab_link": true
    },
    "kernelspec": {
      "name": "python3",
      "display_name": "Python 3"
    },
    "language_info": {
      "name": "python"
    }
  },
  "cells": [
    {
      "cell_type": "markdown",
      "metadata": {
        "id": "view-in-github",
        "colab_type": "text"
      },
      "source": [
        "<a href=\"https://colab.research.google.com/github/diego40g/data_science_python/blob/numpy/184_fun_anidadas.ipynb\" target=\"_parent\"><img src=\"https://colab.research.google.com/assets/colab-badge.svg\" alt=\"Open In Colab\"/></a>"
      ]
    },
    {
      "cell_type": "code",
      "execution_count": 3,
      "metadata": {
        "id": "cY1KuSVfzkDN"
      },
      "outputs": [],
      "source": [
        "def fun_mayor():\n",
        "    print(\"mayor\")\n",
        "    def fun_menor1():\n",
        "        print(\"menor 1\")\n",
        "    def fun_menor2():\n",
        "        print(\"menor 2\")\n",
        "    fun_menor2()\n",
        "    fun_menor1()"
      ]
    },
    {
      "cell_type": "code",
      "source": [
        "fun_mayor()"
      ],
      "metadata": {
        "colab": {
          "base_uri": "https://localhost:8080/"
        },
        "id": "EKumQzab0Uvd",
        "outputId": "d218d78a-2781-42c2-c215-c7da66dd9761"
      },
      "execution_count": 4,
      "outputs": [
        {
          "output_type": "stream",
          "name": "stdout",
          "text": [
            "mayor\n",
            "menor 2\n",
            "menor 1\n"
          ]
        }
      ]
    }
  ]
}