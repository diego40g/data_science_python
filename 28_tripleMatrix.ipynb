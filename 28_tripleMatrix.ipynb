{
  "nbformat": 4,
  "nbformat_minor": 0,
  "metadata": {
    "colab": {
      "name": "28. tripleMatrix.ipynb",
      "provenance": [],
      "authorship_tag": "ABX9TyP+8IMx/LL713G8ibbTS/R9",
      "include_colab_link": true
    },
    "kernelspec": {
      "name": "python3",
      "display_name": "Python 3"
    },
    "language_info": {
      "name": "python"
    }
  },
  "cells": [
    {
      "cell_type": "markdown",
      "metadata": {
        "id": "view-in-github",
        "colab_type": "text"
      },
      "source": [
        "<a href=\"https://colab.research.google.com/github/diego40g/data_science_python/blob/numpy/28_tripleMatrix.ipynb\" target=\"_parent\"><img src=\"https://colab.research.google.com/assets/colab-badge.svg\" alt=\"Open In Colab\"/></a>"
      ]
    },
    {
      "cell_type": "code",
      "metadata": {
        "id": "wHJMIEyuI-Uk"
      },
      "source": [
        "import numpy as np"
      ],
      "execution_count": 1,
      "outputs": []
    },
    {
      "cell_type": "code",
      "metadata": {
        "colab": {
          "base_uri": "https://localhost:8080/"
        },
        "id": "TTcw-jp5JvWu",
        "outputId": "17a1a370-2280-4893-e1a3-ea867cf66c4b"
      },
      "source": [
        "A=np.array([[1,2,3],[2,1,-1]])\n",
        "print(A)"
      ],
      "execution_count": 3,
      "outputs": [
        {
          "output_type": "stream",
          "name": "stdout",
          "text": [
            "[[ 1  2  3]\n",
            " [ 2  1 -1]]\n"
          ]
        }
      ]
    },
    {
      "cell_type": "code",
      "metadata": {
        "colab": {
          "base_uri": "https://localhost:8080/"
        },
        "id": "1proWWrtJ43i",
        "outputId": "616d3f7f-3b4a-4877-861b-812719e7471a"
      },
      "source": [
        "B=np.array([[1,-2,0],[3,0,1],[4,5,6]])\n",
        "print(B)"
      ],
      "execution_count": 4,
      "outputs": [
        {
          "output_type": "stream",
          "name": "stdout",
          "text": [
            "[[ 1 -2  0]\n",
            " [ 3  0  1]\n",
            " [ 4  5  6]]\n"
          ]
        }
      ]
    },
    {
      "cell_type": "code",
      "metadata": {
        "colab": {
          "base_uri": "https://localhost:8080/"
        },
        "id": "VfQvLTenKEXm",
        "outputId": "d9da807a-e214-47df-8467-8e5c8de29267"
      },
      "source": [
        "C=np.array(range(1,10)).reshape(3,3)\n",
        "print(C)"
      ],
      "execution_count": 6,
      "outputs": [
        {
          "output_type": "stream",
          "name": "stdout",
          "text": [
            "[[1 2 3]\n",
            " [4 5 6]\n",
            " [7 8 9]]\n"
          ]
        }
      ]
    },
    {
      "cell_type": "code",
      "metadata": {
        "colab": {
          "base_uri": "https://localhost:8080/"
        },
        "id": "utXiPk-PKLIS",
        "outputId": "72883b26-c408-49fe-daa9-1b0c0470fddd"
      },
      "source": [
        "D=np.array([[1],[4],[-3]])\n",
        "print(D)"
      ],
      "execution_count": 7,
      "outputs": [
        {
          "output_type": "stream",
          "name": "stdout",
          "text": [
            "[[ 1]\n",
            " [ 4]\n",
            " [-3]]\n"
          ]
        }
      ]
    }
  ]
}