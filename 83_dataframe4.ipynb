{
  "nbformat": 4,
  "nbformat_minor": 0,
  "metadata": {
    "colab": {
      "name": "83. dataframe4.ipynb",
      "provenance": [],
      "authorship_tag": "ABX9TyOh9YM76Qklx10DLFMntdU7",
      "include_colab_link": true
    },
    "kernelspec": {
      "name": "python3",
      "display_name": "Python 3"
    },
    "language_info": {
      "name": "python"
    }
  },
  "cells": [
    {
      "cell_type": "markdown",
      "metadata": {
        "id": "view-in-github",
        "colab_type": "text"
      },
      "source": [
        "<a href=\"https://colab.research.google.com/github/diego40g/data_science_python/blob/numpy/83_dataframe4.ipynb\" target=\"_parent\"><img src=\"https://colab.research.google.com/assets/colab-badge.svg\" alt=\"Open In Colab\"/></a>"
      ]
    },
    {
      "cell_type": "code",
      "metadata": {
        "id": "ATRSP3Hja7J6"
      },
      "source": [
        "import pandas as pd"
      ],
      "execution_count": null,
      "outputs": []
    },
    {
      "cell_type": "code",
      "metadata": {
        "colab": {
          "base_uri": "https://localhost:8080/"
        },
        "id": "As0iFJYjbQv1",
        "outputId": "c1413515-8b4d-4b55-eae5-6c8a08aec2e2"
      },
      "source": [
        "index = ['Product '+str(i) for i in range(1,9)]\n",
        "print(index)"
      ],
      "execution_count": null,
      "outputs": [
        {
          "output_type": "stream",
          "name": "stdout",
          "text": [
            "['Product 1', 'Product 2', 'Product 3', 'Product 4', 'Product 5', 'Product 6', 'Product 7', 'Product 8']\n"
          ]
        }
      ]
    },
    {
      "cell_type": "code",
      "metadata": {
        "colab": {
          "base_uri": "https://localhost:8080/"
        },
        "id": "y692uFszbW27",
        "outputId": "8266124a-21e3-4596-9431-9d1870f75e57"
      },
      "source": [
        "data = {\n",
        "    'Price': [20.3, 31.2, 44.7, 30.5, 19.8, 11.2, 15.7, 17.3],\n",
        "    'Unit': [10, 33, 45, 51, 11, 8, 91, 8],\n",
        "    'Total Cost': [100, 568.7, 205.2, 507.1, 250.12, 55.3, 1579, 130]}\n",
        "print(data)"
      ],
      "execution_count": null,
      "outputs": [
        {
          "output_type": "stream",
          "name": "stdout",
          "text": [
            "{'Price': [20.3, 31.2, 44.7, 30.5, 19.8, 11.2, 15.7, 17.3], 'Unit': [10, 33, 45, 51, 11, 8, 91, 8], 'Total Cost': [100, 568.7, 205.2, 507.1, 250.12, 55.3, 1579, 130]}\n"
          ]
        }
      ]
    },
    {
      "cell_type": "code",
      "metadata": {
        "colab": {
          "base_uri": "https://localhost:8080/"
        },
        "id": "SQdAGRC1bdET",
        "outputId": "80010fcd-1f9b-4c57-a7f6-476811e967f2"
      },
      "source": [
        "df = pd.DataFrame(data, index)\n",
        "print(df)"
      ],
      "execution_count": null,
      "outputs": [
        {
          "output_type": "stream",
          "name": "stdout",
          "text": [
            "           Price  Unit  Total Cost\n",
            "Product 1   20.3    10      100.00\n",
            "Product 2   31.2    33      568.70\n",
            "Product 3   44.7    45      205.20\n",
            "Product 4   30.5    51      507.10\n",
            "Product 5   19.8    11      250.12\n",
            "Product 6   11.2     8       55.30\n",
            "Product 7   15.7    91     1579.00\n",
            "Product 8   17.3     8      130.00\n"
          ]
        }
      ]
    },
    {
      "cell_type": "code",
      "metadata": {
        "colab": {
          "base_uri": "https://localhost:8080/"
        },
        "id": "FSrYNI_KbjxI",
        "outputId": "0a6c4fce-2c1d-4198-9ddd-539e9a92f4e4"
      },
      "source": [
        "\n",
        "df['Total Revenue'] = df['Price']*df['Unit']\n",
        "print(df)"
      ],
      "execution_count": null,
      "outputs": [
        {
          "output_type": "stream",
          "name": "stdout",
          "text": [
            "           Price  Unit  Total Cost  Total Revenue\n",
            "Product 1   20.3    10      100.00          203.0\n",
            "Product 2   31.2    33      568.70         1029.6\n",
            "Product 3   44.7    45      205.20         2011.5\n",
            "Product 4   30.5    51      507.10         1555.5\n",
            "Product 5   19.8    11      250.12          217.8\n",
            "Product 6   11.2     8       55.30           89.6\n",
            "Product 7   15.7    91     1579.00         1428.7\n",
            "Product 8   17.3     8      130.00          138.4\n"
          ]
        }
      ]
    },
    {
      "cell_type": "code",
      "metadata": {
        "colab": {
          "base_uri": "https://localhost:8080/"
        },
        "id": "ZrPT5ezPb0vF",
        "outputId": "6250572c-80d5-4022-b5f5-4018e3e8d568"
      },
      "source": [
        "df['Total Profit'] = df['Total Revenue']-df['Total Cost']\n",
        "print(df)"
      ],
      "execution_count": null,
      "outputs": [
        {
          "output_type": "stream",
          "name": "stdout",
          "text": [
            "           Price  Unit  Total Cost  Total Revenue  Total Profit\n",
            "Product 1   20.3    10      100.00          203.0        103.00\n",
            "Product 2   31.2    33      568.70         1029.6        460.90\n",
            "Product 3   44.7    45      205.20         2011.5       1806.30\n",
            "Product 4   30.5    51      507.10         1555.5       1048.40\n",
            "Product 5   19.8    11      250.12          217.8        -32.32\n",
            "Product 6   11.2     8       55.30           89.6         34.30\n",
            "Product 7   15.7    91     1579.00         1428.7       -150.30\n",
            "Product 8   17.3     8      130.00          138.4          8.40\n"
          ]
        }
      ]
    }
  ]
}