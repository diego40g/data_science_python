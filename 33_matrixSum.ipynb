{
  "nbformat": 4,
  "nbformat_minor": 0,
  "metadata": {
    "colab": {
      "name": "33. matrixSum.ipynb",
      "provenance": [],
      "authorship_tag": "ABX9TyOaXwW3SX7t1PjvGTiEnQ6E",
      "include_colab_link": true
    },
    "kernelspec": {
      "name": "python3",
      "display_name": "Python 3"
    },
    "language_info": {
      "name": "python"
    }
  },
  "cells": [
    {
      "cell_type": "markdown",
      "metadata": {
        "id": "view-in-github",
        "colab_type": "text"
      },
      "source": [
        "<a href=\"https://colab.research.google.com/github/diego40g/data_science_python/blob/numpy/33_matrixSum.ipynb\" target=\"_parent\"><img src=\"https://colab.research.google.com/assets/colab-badge.svg\" alt=\"Open In Colab\"/></a>"
      ]
    },
    {
      "cell_type": "code",
      "metadata": {
        "id": "HOG-m-sRXne4"
      },
      "source": [
        "import numpy as np"
      ],
      "execution_count": 1,
      "outputs": []
    },
    {
      "cell_type": "code",
      "metadata": {
        "colab": {
          "base_uri": "https://localhost:8080/"
        },
        "id": "UGIc1kj9Xps5",
        "outputId": "bc97c832-7029-486c-fd9f-ba2512d77074"
      },
      "source": [
        "A=np.array([[10,11],[5,1],[-2,4]])\n",
        "print(A)"
      ],
      "execution_count": 2,
      "outputs": [
        {
          "output_type": "stream",
          "name": "stdout",
          "text": [
            "[[10 11]\n",
            " [ 5  1]\n",
            " [-2  4]]\n"
          ]
        }
      ]
    },
    {
      "cell_type": "code",
      "metadata": {
        "colab": {
          "base_uri": "https://localhost:8080/"
        },
        "id": "GzsXL5umXwpc",
        "outputId": "5447c20a-aea5-456c-b707-53d47746dd93"
      },
      "source": [
        "B=np.array([[1,25],[3,4],[0,-10]])\n",
        "print(B)"
      ],
      "execution_count": 3,
      "outputs": [
        {
          "output_type": "stream",
          "name": "stdout",
          "text": [
            "[[  1  25]\n",
            " [  3   4]\n",
            " [  0 -10]]\n"
          ]
        }
      ]
    },
    {
      "cell_type": "code",
      "metadata": {
        "colab": {
          "base_uri": "https://localhost:8080/"
        },
        "id": "lOFmuxt8X4L9",
        "outputId": "1de69438-9078-4244-cb05-9f1cf4134ab8"
      },
      "source": [
        "sum_=A+B\n",
        "print(sum_)"
      ],
      "execution_count": 4,
      "outputs": [
        {
          "output_type": "stream",
          "name": "stdout",
          "text": [
            "[[11 36]\n",
            " [ 8  5]\n",
            " [-2 -6]]\n"
          ]
        }
      ]
    }
  ]
}