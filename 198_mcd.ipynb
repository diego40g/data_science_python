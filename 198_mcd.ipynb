{
  "nbformat": 4,
  "nbformat_minor": 0,
  "metadata": {
    "colab": {
      "name": "198 mcd.ipynb",
      "provenance": [],
      "authorship_tag": "ABX9TyP2Di2h1c0X05PwRzPELCKd",
      "include_colab_link": true
    },
    "kernelspec": {
      "name": "python3",
      "display_name": "Python 3"
    },
    "language_info": {
      "name": "python"
    }
  },
  "cells": [
    {
      "cell_type": "markdown",
      "metadata": {
        "id": "view-in-github",
        "colab_type": "text"
      },
      "source": [
        "<a href=\"https://colab.research.google.com/github/diego40g/data_science_python/blob/numpy/198_mcd.ipynb\" target=\"_parent\"><img src=\"https://colab.research.google.com/assets/colab-badge.svg\" alt=\"Open In Colab\"/></a>"
      ]
    },
    {
      "cell_type": "code",
      "execution_count": 3,
      "metadata": {
        "id": "Jsbf18bhOSe7"
      },
      "outputs": [],
      "source": [
        "def factorial(n):\n",
        "    factores=list()\n",
        "    divisor=2\n",
        "    while(divisor<=n):\n",
        "        if(n%divisor)==0:\n",
        "            factores.append(divisor)\n",
        "            n=n/divisor\n",
        "        else:\n",
        "            divisor+=1\n",
        "    return factores"
      ]
    },
    {
      "cell_type": "code",
      "source": [
        "factorial(500)"
      ],
      "metadata": {
        "colab": {
          "base_uri": "https://localhost:8080/"
        },
        "id": "4HEk9O6uPD-5",
        "outputId": "58f1680d-7e97-49c5-b95e-e70a3013c52a"
      },
      "execution_count": 4,
      "outputs": [
        {
          "output_type": "execute_result",
          "data": {
            "text/plain": [
              "[2, 2, 5, 5, 5]"
            ]
          },
          "metadata": {},
          "execution_count": 4
        }
      ]
    }
  ]
}