{
  "nbformat": 4,
  "nbformat_minor": 0,
  "metadata": {
    "colab": {
      "name": "97. srtftime.ipynb",
      "provenance": [],
      "authorship_tag": "ABX9TyN64SXujF0WZdABh5W1naYO",
      "include_colab_link": true
    },
    "kernelspec": {
      "name": "python3",
      "display_name": "Python 3"
    },
    "language_info": {
      "name": "python"
    }
  },
  "cells": [
    {
      "cell_type": "markdown",
      "metadata": {
        "id": "view-in-github",
        "colab_type": "text"
      },
      "source": [
        "<a href=\"https://colab.research.google.com/github/diego40g/data_science_python/blob/numpy/97_srtftime.ipynb\" target=\"_parent\"><img src=\"https://colab.research.google.com/assets/colab-badge.svg\" alt=\"Open In Colab\"/></a>"
      ]
    },
    {
      "cell_type": "code",
      "metadata": {
        "id": "0-UAHvixQ4gE"
      },
      "source": [
        "import pandas as pd"
      ],
      "execution_count": 1,
      "outputs": []
    },
    {
      "cell_type": "code",
      "metadata": {
        "colab": {
          "base_uri": "https://localhost:8080/"
        },
        "id": "lGiZAH5ARFCb",
        "outputId": "fca0a31c-48bf-44f7-cda8-65687a83223d"
      },
      "source": [
        "s = pd.Series([15, 31, 41, 47, 39, 10, 33, 13, 31, 33],\n",
        "              index = pd.date_range(start = '2016', periods = 10, freq = 'Y'))\n",
        "print('Year with highest revenue'.center(50, ' '))"
      ],
      "execution_count": 2,
      "outputs": [
        {
          "output_type": "stream",
          "name": "stdout",
          "text": [
            "            Year with highest revenue             \n"
          ]
        }
      ]
    },
    {
      "cell_type": "code",
      "metadata": {
        "colab": {
          "base_uri": "https://localhost:8080/"
        },
        "id": "HS09-ynURINf",
        "outputId": "4c25da6b-b279-4fee-9fa5-e563b74d4c85"
      },
      "source": [
        "print(s.idxmax().strftime('%Y'))"
      ],
      "execution_count": 3,
      "outputs": [
        {
          "output_type": "stream",
          "name": "stdout",
          "text": [
            "2019\n"
          ]
        }
      ]
    },
    {
      "cell_type": "code",
      "metadata": {
        "colab": {
          "base_uri": "https://localhost:8080/"
        },
        "id": "zSN841G9RKU2",
        "outputId": "17fc9971-3e3c-4732-f150-1fc7927f0aa3"
      },
      "source": [
        "print('Year with lower revenue'.center(50, ' '))"
      ],
      "execution_count": 4,
      "outputs": [
        {
          "output_type": "stream",
          "name": "stdout",
          "text": [
            "             Year with lower revenue              \n"
          ]
        }
      ]
    },
    {
      "cell_type": "code",
      "metadata": {
        "colab": {
          "base_uri": "https://localhost:8080/"
        },
        "id": "oP8ddK0rRMYe",
        "outputId": "82d9eba0-c60c-40b8-9e0a-7e28e2a06d4d"
      },
      "source": [
        "print(s.idxmin().strftime('%Y'))"
      ],
      "execution_count": 5,
      "outputs": [
        {
          "output_type": "stream",
          "name": "stdout",
          "text": [
            "2021\n"
          ]
        }
      ]
    }
  ]
}