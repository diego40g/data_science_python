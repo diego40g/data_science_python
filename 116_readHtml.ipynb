{
  "nbformat": 4,
  "nbformat_minor": 0,
  "metadata": {
    "colab": {
      "name": "116. readHtml.ipynb",
      "provenance": [],
      "authorship_tag": "ABX9TyPtts/uKQ11hpjq/5WhgRZM",
      "include_colab_link": true
    },
    "kernelspec": {
      "name": "python3",
      "display_name": "Python 3"
    },
    "language_info": {
      "name": "python"
    }
  },
  "cells": [
    {
      "cell_type": "markdown",
      "metadata": {
        "id": "view-in-github",
        "colab_type": "text"
      },
      "source": [
        "<a href=\"https://colab.research.google.com/github/diego40g/data_science_python/blob/numpy/116_readHtml.ipynb\" target=\"_parent\"><img src=\"https://colab.research.google.com/assets/colab-badge.svg\" alt=\"Open In Colab\"/></a>"
      ]
    },
    {
      "cell_type": "code",
      "metadata": {
        "id": "GV9QRswmdJGq"
      },
      "source": [
        "import pandas as pd"
      ],
      "execution_count": 1,
      "outputs": []
    },
    {
      "cell_type": "code",
      "metadata": {
        "colab": {
          "base_uri": "https://localhost:8080/"
        },
        "id": "ePBeqOZOdOen",
        "outputId": "98976f58-f7b1-4f09-8703-44c1abe8ce10"
      },
      "source": [
        "df = pd.read_html('https://en.wikipedia.org/wiki/Economy_of_the_United_States')[1]\n",
        "print(df)"
      ],
      "execution_count": 4,
      "outputs": [
        {
          "output_type": "stream",
          "name": "stdout",
          "text": [
            "                                                   0\n",
            "0            This article is part of a series on the\n",
            "1                        Economy of theUnited States\n",
            "2  Economic history Agricultural history Banking ...\n",
            "3  Sectors Primary sector Agriculture Energy Petr...\n",
            "4  Economy by state California Texas New York Flo...\n",
            "5  Economy by city or county Allentown Atlanta Bu...\n",
            "6  Labor Labor Law  Child labor  Minimum wage Rig...\n",
            "7                               United States portal\n",
            "8  .mw-parser-output .navbar{display:inline;font-...\n"
          ]
        }
      ]
    }
  ]
}