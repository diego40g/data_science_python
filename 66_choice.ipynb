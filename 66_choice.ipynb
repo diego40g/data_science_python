{
  "nbformat": 4,
  "nbformat_minor": 0,
  "metadata": {
    "colab": {
      "name": "66. choice.ipynb",
      "provenance": [],
      "authorship_tag": "ABX9TyMdHCapdTNME61MVFNOqykJ",
      "include_colab_link": true
    },
    "kernelspec": {
      "name": "python3",
      "display_name": "Python 3"
    },
    "language_info": {
      "name": "python"
    }
  },
  "cells": [
    {
      "cell_type": "markdown",
      "metadata": {
        "id": "view-in-github",
        "colab_type": "text"
      },
      "source": [
        "<a href=\"https://colab.research.google.com/github/diego40g/data_science_python/blob/numpy/66_choice.ipynb\" target=\"_parent\"><img src=\"https://colab.research.google.com/assets/colab-badge.svg\" alt=\"Open In Colab\"/></a>"
      ]
    },
    {
      "cell_type": "code",
      "metadata": {
        "id": "IhyWV8wxpIRC"
      },
      "source": [
        ""
      ],
      "execution_count": null,
      "outputs": []
    },
    {
      "cell_type": "code",
      "metadata": {
        "id": "xG1eo-EspNFD"
      },
      "source": [
        "from numpy import random\n",
        "import numpy as np"
      ],
      "execution_count": 1,
      "outputs": []
    },
    {
      "cell_type": "code",
      "metadata": {
        "colab": {
          "base_uri": "https://localhost:8080/"
        },
        "id": "ueMiMKH4pTjT",
        "outputId": "cd2f4629-2bf7-4cf1-8533-db4e9dd5ff79"
      },
      "source": [
        "\n",
        "array = random.choice(['a', 'b', 'c', 'd'], size = 10)\n",
        "print(array)"
      ],
      "execution_count": 2,
      "outputs": [
        {
          "output_type": "stream",
          "name": "stdout",
          "text": [
            "['d' 'd' 'a' 'd' 'b' 'b' 'c' 'b' 'c' 'd']\n"
          ]
        }
      ]
    }
  ]
}