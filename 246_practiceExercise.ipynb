{
  "nbformat": 4,
  "nbformat_minor": 0,
  "metadata": {
    "colab": {
      "provenance": [],
      "authorship_tag": "ABX9TyOPPJmRWQkuPy+rLhV6SaQC",
      "include_colab_link": true
    },
    "kernelspec": {
      "name": "python3",
      "display_name": "Python 3"
    },
    "language_info": {
      "name": "python"
    }
  },
  "cells": [
    {
      "cell_type": "markdown",
      "metadata": {
        "id": "view-in-github",
        "colab_type": "text"
      },
      "source": [
        "<a href=\"https://colab.research.google.com/github/diego40g/data_science_python/blob/numpy/246_practiceExercise.ipynb\" target=\"_parent\"><img src=\"https://colab.research.google.com/assets/colab-badge.svg\" alt=\"Open In Colab\"/></a>"
      ]
    },
    {
      "cell_type": "code",
      "execution_count": null,
      "metadata": {
        "id": "dHGx8UcTRf3m"
      },
      "outputs": [],
      "source": [
        "def contar_pos(m):\n",
        "    cont=0\n",
        "    for i in m:\n",
        "        for j in i:\n",
        "            if j>0:\n",
        "                cont=cont+1\n",
        "    return cont"
      ]
    },
    {
      "cell_type": "code",
      "source": [
        "contar_pos([[1,-2,3],[-4,5,6],[7,8,-9]])"
      ],
      "metadata": {
        "colab": {
          "base_uri": "https://localhost:8080/"
        },
        "id": "NNu3WatgUPcr",
        "outputId": "b0440eac-14f4-4c89-b949-0a1bd80006c0"
      },
      "execution_count": null,
      "outputs": [
        {
          "output_type": "execute_result",
          "data": {
            "text/plain": [
              "6"
            ]
          },
          "metadata": {},
          "execution_count": 6
        }
      ]
    },
    {
      "cell_type": "code",
      "source": [
        "def mas_denso(lst_anidada):\n",
        "    densidad=0\n",
        "    planeta=[]\n",
        "    for i in lst_anidada:\n",
        "        if densidad<(i[1]/i[2]):\n",
        "            planeta=i\n",
        "            densidad=i[1]/i[2]\n",
        "    return planeta[0]"
      ],
      "metadata": {
        "id": "XNN4mjTzWB6z"
      },
      "execution_count": null,
      "outputs": []
    },
    {
      "cell_type": "code",
      "source": [
        "mas_denso([['Marte',1,2],['Tierra',2,3],['Venus',1,3]])"
      ],
      "metadata": {
        "colab": {
          "base_uri": "https://localhost:8080/",
          "height": 35
        },
        "id": "pruIj1XUXN64",
        "outputId": "fc64e046-1160-4526-ad64-bb7889dbdfdf"
      },
      "execution_count": null,
      "outputs": [
        {
          "output_type": "execute_result",
          "data": {
            "text/plain": [
              "'Tierra'"
            ],
            "application/vnd.google.colaboratory.intrinsic+json": {
              "type": "string"
            }
          },
          "metadata": {},
          "execution_count": 14
        }
      ]
    },
    {
      "cell_type": "code",
      "source": [
        "def media_columnas(lst_anidada):\n",
        "    res=[]\n",
        "    for i in lst_anidada:\n",
        "        for j in range(len(i)):\n",
        "            num=i[j]/len(lst_anidada)\n",
        "            if len(res)<len(i):\n",
        "               res.append(num)\n",
        "            else:\n",
        "               res[j]=res[j]+(num)\n",
        "    return res"
      ],
      "metadata": {
        "id": "tkmPQ4kYYId5"
      },
      "execution_count": null,
      "outputs": []
    },
    {
      "cell_type": "code",
      "source": [
        "M2=[[2,3,4],[3,3,3]]\n",
        "media_columnas(M2)"
      ],
      "metadata": {
        "colab": {
          "base_uri": "https://localhost:8080/"
        },
        "id": "BRXZax9ccFBu",
        "outputId": "33795951-a526-4a4b-cdba-c73d77857fdf"
      },
      "execution_count": null,
      "outputs": [
        {
          "output_type": "execute_result",
          "data": {
            "text/plain": [
              "[2.5, 3.0, 3.5]"
            ]
          },
          "metadata": {},
          "execution_count": 46
        }
      ]
    },
    {
      "cell_type": "code",
      "source": [
        "def edad_m_pacientes(lts):\n",
        "    res=0\n",
        "    for i in lts:\n",
        "        res=res+i[2]\n",
        "    return round(res/len(lts),1)"
      ],
      "metadata": {
        "id": "cZOiyEyAiP-x"
      },
      "execution_count": null,
      "outputs": []
    },
    {
      "cell_type": "code",
      "source": [
        "paciente=['Puig','c1234',56]\n",
        "lista=[paciente,['Marti','c3456',39],['Smith','c543',45]]"
      ],
      "metadata": {
        "id": "FIvoKcRcjWwI"
      },
      "execution_count": null,
      "outputs": []
    },
    {
      "cell_type": "code",
      "source": [
        "edad_m_pacientes(lista)"
      ],
      "metadata": {
        "colab": {
          "base_uri": "https://localhost:8080/"
        },
        "id": "LQHaXRxpkIK5",
        "outputId": "73da133f-7a14-4ca0-e7ca-29c1e01e3d30"
      },
      "execution_count": null,
      "outputs": [
        {
          "output_type": "execute_result",
          "data": {
            "text/plain": [
              "46.7"
            ]
          },
          "metadata": {},
          "execution_count": 52
        }
      ]
    },
    {
      "cell_type": "code",
      "source": [
        "\n",
        "def jugComKm(lst_equipo,x):\n",
        "    res=[]\n",
        "    nombre=[]\n",
        "    media=[]\n",
        "    cont=0\n",
        "    for i in lst_equipo:\n",
        "        media.append(0)\n",
        "        nombre.append(i[1])\n",
        "        for j in range(len(i)):\n",
        "            if i[2]==True:\n",
        "                if j>3:\n",
        "                    media[cont]=media[cont]+i[j]\n",
        "                if (j+1)==len(i) and (len(i)-4)>0:\n",
        "                    media[cont]=media[cont]/(len(i)-4)\n",
        "            else:\n",
        "                media[cont]=-1\n",
        "        if media[cont]>x:\n",
        "            res.append(nombre[cont])\n",
        "        cont=cont+1\n",
        "        res.sort()\n",
        "    return res\n",
        "\n",
        "\n",
        "lst_equipo=[[3,'Pique',True,33,10.2,9.8],\n",
        "            [4,'Ramos',True,34,11,11.1,9.8,8.5],\n",
        "            [6,'Koke', True,27],\n",
        "            [10,'Lionel',False,33,10,11.1,9.5]]"
      ],
      "metadata": {
        "id": "8F5vCSuUls92"
      },
      "execution_count": null,
      "outputs": []
    },
    {
      "cell_type": "code",
      "source": [
        "jugComKm(lst_equipo,1)"
      ],
      "metadata": {
        "colab": {
          "base_uri": "https://localhost:8080/"
        },
        "id": "LtmwR3cbtXk1",
        "outputId": "f202bcb4-d57e-4b6c-980e-f0348462764a"
      },
      "execution_count": null,
      "outputs": [
        {
          "output_type": "execute_result",
          "data": {
            "text/plain": [
              "['Amos', 'Pique']"
            ]
          },
          "metadata": {},
          "execution_count": 78
        }
      ]
    },
    {
      "cell_type": "code",
      "source": [
        "dias =[\"Sunday\",\"Monday\",\"Tuesday\",\"Wednesday\",\"Thursday\",\"Friday\",\"Saturday\"]\n",
        "temp = [30.5,32.6,31.8,33.4,29.8,30.2,29.9]\n",
        "temp_semanal = {dias:temp for (dias,temp) in zip(dias,temp)}\n",
        "print(temp_semanal)"
      ],
      "metadata": {
        "colab": {
          "base_uri": "https://localhost:8080/"
        },
        "id": "Cj_RRbflxq2R",
        "outputId": "5e449659-e719-4570-a182-04a961663f66"
      },
      "execution_count": null,
      "outputs": [
        {
          "output_type": "stream",
          "name": "stdout",
          "text": [
            "{'Sunday': 30.5, 'Monday': 32.6, 'Tuesday': 31.8, 'Wednesday': 33.4, 'Thursday': 29.8, 'Friday': 30.2, 'Saturday': 29.9}\n"
          ]
        }
      ]
    },
    {
      "cell_type": "code",
      "source": [
        "def f_par(lst):\n",
        "    valor_res_pares=[]\n",
        "    res_par=[]\n",
        "    valor_res_impares=[]\n",
        "    res_impar=[]\n",
        "    for i in range(len(lst)):\n",
        "        if lst[i] not in valor_res_impares:\n",
        "            if lst[i] % 2:\n",
        "                valor_res_impares.append(lst[i])\n",
        "                res_impar.append(0)\n",
        "            elif lst[i] not in valor_res_pares:\n",
        "                valor_res_pares.append(lst[i])\n",
        "                res_par.append(0)\n",
        "    for i in lst:\n",
        "        for j in range(len(valor_res_pares)):\n",
        "            if i == valor_res_pares[j]:\n",
        "                res_par[j]=res_par[j]+1\n",
        "                \n",
        "    for i in lst:\n",
        "        for j in range(len(valor_res_impares)):\n",
        "            if i == valor_res_impares[j]:\n",
        "                res_impar[j]=res_impar[j]+1\n",
        "\n",
        "    par={valor_res_pares:res_par for (valor_res_pares,res_par) in zip(valor_res_pares,res_par)}\n",
        "    impar={valor_res_impares:res_impar for (valor_res_impares,res_impar) in zip(valor_res_impares,res_impar)}\n",
        "\n",
        "    print(\"Pares: \")\n",
        "    print(par)\n",
        "    print(\"Impares: \")\n",
        "    print(impar)\n",
        "\n",
        "           "
      ],
      "metadata": {
        "id": "YwMaOtyBpGeV"
      },
      "execution_count": null,
      "outputs": []
    },
    {
      "cell_type": "code",
      "source": [
        "M=[12,19,19,18,18,16,18,13,19,18,12,18,11,20,14,14,20,20,20,16,13,15,19,14,12]\n",
        "f_par(M)"
      ],
      "metadata": {
        "colab": {
          "base_uri": "https://localhost:8080/"
        },
        "id": "IL86JFHk-0Uk",
        "outputId": "3ee973c7-8155-4b17-e3f3-de8927a78ff0"
      },
      "execution_count": null,
      "outputs": [
        {
          "output_type": "stream",
          "name": "stdout",
          "text": [
            "[12, 19, 19, 18, 18, 16, 18, 13, 19, 18, 12, 18, 11, 20, 14, 14, 20, 20, 20, 16, 13, 15, 19, 14, 12]\n",
            "Pares: { 12: 3, 18: 5, 16: 2, 20: 4, 14: 3,} \n",
            "Impares: { 12: 3, 18: 5, 16: 2, 20: 4,}\n"
          ]
        }
      ]
    },
    {
      "cell_type": "code",
      "source": [
        "M=[12,19,19,18,18,16,18,13,19,18,12,18,11,20,14,14,20,20,20,16,13,15,19,14,12]\n",
        "f_par(M)"
      ],
      "metadata": {
        "colab": {
          "base_uri": "https://localhost:8080/"
        },
        "id": "ScnSw0VlwIz2",
        "outputId": "bec02ead-def1-4722-f363-fa413ecc469d"
      },
      "execution_count": null,
      "outputs": [
        {
          "output_type": "stream",
          "name": "stdout",
          "text": [
            "Pares: \n",
            "{12: 3, 18: 5, 16: 2, 20: 4, 14: 3}\n",
            "Impares: \n",
            "{19: 4, 13: 2, 11: 1, 15: 1}\n"
          ]
        }
      ]
    },
    {
      "cell_type": "code",
      "source": [
        "def TempMaxMin(lst):\n",
        "  ciudades = {}\n",
        "  for i in lst:\n",
        "    temp=[]\n",
        "    min=100\n",
        "    max=-100\n",
        "    for j in range(len(i)):\n",
        "      if(j>0):\n",
        "        if(min>i[j]):\n",
        "          min=i[j]\n",
        "        if(max<i[j]):\n",
        "          max=i[j]\n",
        "    temp.append(max)\n",
        "    temp.append(min)\n",
        "    ciudades[i[0]]=temp\n",
        "    res=sorted(ciudades.items())\n",
        "  return res"
      ],
      "metadata": {
        "id": "kqJqmaxxGB9i"
      },
      "execution_count": null,
      "outputs": []
    },
    {
      "cell_type": "code",
      "source": [
        "lst_ciudad=[['Londres',3.4,6.3,10.5,6.8],['Oslo',-3.8,-5.0,5.1,4.2],['Berlin',7.5,4.1,12.3,13.0],['Malaga',14.7,12.3,19.5,18.4]]\n",
        "TempMaxMin(lst_ciudad)"
      ],
      "metadata": {
        "colab": {
          "base_uri": "https://localhost:8080/"
        },
        "id": "lalVbiQOIOv6",
        "outputId": "13ef9f9b-eb98-4e1d-f94a-6c13df7581ef"
      },
      "execution_count": null,
      "outputs": [
        {
          "output_type": "execute_result",
          "data": {
            "text/plain": [
              "[('Berlin', [13.0, 4.1]),\n",
              " ('Londres', [10.5, 3.4]),\n",
              " ('Malga', [19.5, 12.3]),\n",
              " ('Oslo', [5.1, -5.0])]"
            ]
          },
          "metadata": {},
          "execution_count": 164
        }
      ]
    },
    {
      "cell_type": "code",
      "source": [
        "def PersMayTemp(dPersC, dCiudT):\n",
        "  res = []\n",
        "  for nombre in dPersC:\n",
        "    for ciudad in dCiudT:\n",
        "      if (ciudad==dPersC[nombre] and dCiudT[ciudad]<0):\n",
        "        res.append(nombre)\n",
        "  res.sort()\n",
        "  return res\n"
      ],
      "metadata": {
        "id": "cjWVPlbZMWHr"
      },
      "execution_count": null,
      "outputs": []
    },
    {
      "cell_type": "code",
      "source": [
        "dCi={'Mancherster:':1.1,'Madrid':-8.9,'Gava':4,'Pobla de Segur':-5.6,'Lleida':-3.2,'Elche':2.1,'Burgos':-6.0,'Sant Boi':4.5}\n",
        "dPe={'Pepe':'Mancherster','Lionel':'Gava','Mike':'Sant Boi','Puyol':'Pobla de Segur','Jaime':'Elche','Sergi':'Lleida','Ernesto':'Madrid','Carlos':'Burgos'}"
      ],
      "metadata": {
        "id": "mWPKpS0eNHgx"
      },
      "execution_count": null,
      "outputs": []
    },
    {
      "cell_type": "code",
      "source": [
        "PersMayTemp(dPe,dCi)"
      ],
      "metadata": {
        "colab": {
          "base_uri": "https://localhost:8080/"
        },
        "id": "--aYIewYUz7R",
        "outputId": "1d96be7b-f10a-4160-c865-ac3ba8d10d35"
      },
      "execution_count": null,
      "outputs": [
        {
          "output_type": "execute_result",
          "data": {
            "text/plain": [
              "['Carlos', 'Ernesto', 'Puyol', 'Sergi']"
            ]
          },
          "metadata": {},
          "execution_count": 175
        }
      ]
    },
    {
      "cell_type": "code",
      "source": [
        "def lst_hiper(dic,edad):\n",
        "  res=[]\n",
        "  for paciente in dic:\n",
        "    if(edad>dic[paciente][0] and (dic[paciente][1]>=140 or dic[paciente][2]>=90)):\n",
        "      res.append(paciente)\n",
        "    res.sort()\n",
        "  return res"
      ],
      "metadata": {
        "id": "YwqtLWuDVsfh"
      },
      "execution_count": null,
      "outputs": []
    },
    {
      "cell_type": "code",
      "source": [
        "dpers={'Maria':[40,135,90],'Nuria':[63,141,92],'Jose':[47,110,59],'Luis':[49,146,94],'Oriol':[52,130,89],'Carlos':[65,125,89],'Pepe':[70,130,92]}"
      ],
      "metadata": {
        "id": "IuAaMg4eXqqf"
      },
      "execution_count": null,
      "outputs": []
    },
    {
      "cell_type": "code",
      "source": [
        "lst_hiper(dpers,70)"
      ],
      "metadata": {
        "colab": {
          "base_uri": "https://localhost:8080/"
        },
        "id": "-r_T_jFrYud5",
        "outputId": "ad4a496e-0687-465d-ada9-db173c3a60b3"
      },
      "execution_count": null,
      "outputs": [
        {
          "output_type": "execute_result",
          "data": {
            "text/plain": [
              "['Luis', 'Maria', 'Nuria']"
            ]
          },
          "metadata": {},
          "execution_count": 224
        }
      ]
    },
    {
      "cell_type": "code",
      "source": [
        "def nivelKsang(dK,lst):\n",
        "  res={}\n",
        "  for nombre in dK:\n",
        "    if(dK[nombre]<lst[0]):\n",
        "      res[nombre]='hipokalemia crítica'\n",
        "    elif (dK[nombre]<lst[1]):\n",
        "      res[nombre]='hipokalemia leve'\n",
        "    if (dK[nombre]>=lst[1] and dK[nombre]<=lst[2]):\n",
        "      res[nombre]='normal'\n",
        "    if (dK[nombre]>lst[2] and dK[nombre]<=lst[3]):\n",
        "      res[nombre]='hiperkalemia moderna'\n",
        "    if (dK[nombre]>lst[3]):\n",
        "      res[nombre]='hiperkalemia severa'\n",
        "  return res"
      ],
      "metadata": {
        "id": "BIWugJOBbwLU"
      },
      "execution_count": null,
      "outputs": []
    },
    {
      "cell_type": "code",
      "source": [
        "dK1={'Luis':2.2, 'Carlos':7.0, 'Laia':4.0, 'Mikel': 5.5, 'Jordi': 5.2, 'Anna': 3.6, 'Joe': 7.2}\n",
        "lst1=[2.0,3.5,5.2,7.0]"
      ],
      "metadata": {
        "id": "340uZSxzsvYo"
      },
      "execution_count": null,
      "outputs": []
    },
    {
      "cell_type": "code",
      "source": [
        "nivelKsang(dK1,lst1)"
      ],
      "metadata": {
        "colab": {
          "base_uri": "https://localhost:8080/"
        },
        "id": "GgztzEnStz0c",
        "outputId": "35a36838-18f9-4712-a63e-359e41622d78"
      },
      "execution_count": null,
      "outputs": [
        {
          "output_type": "execute_result",
          "data": {
            "text/plain": [
              "{'Luis': 'hipokalemia leve',\n",
              " 'Carlos': 'hiperkalemia moderna',\n",
              " 'Laia': 'normal',\n",
              " 'Mikel': 'hiperkalemia moderna',\n",
              " 'Jordi': 'normal',\n",
              " 'Anna': 'normal',\n",
              " 'Joe': 'hiperkalemia severa'}"
            ]
          },
          "metadata": {},
          "execution_count": 235
        }
      ]
    }
  ]
}