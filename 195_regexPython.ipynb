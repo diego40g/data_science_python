{
  "nbformat": 4,
  "nbformat_minor": 0,
  "metadata": {
    "colab": {
      "name": "195. regexPython.ipynb",
      "provenance": [],
      "authorship_tag": "ABX9TyNOurX0CXGm8aha3hKd/mvo",
      "include_colab_link": true
    },
    "kernelspec": {
      "name": "python3",
      "display_name": "Python 3"
    },
    "language_info": {
      "name": "python"
    }
  },
  "cells": [
    {
      "cell_type": "markdown",
      "metadata": {
        "id": "view-in-github",
        "colab_type": "text"
      },
      "source": [
        "<a href=\"https://colab.research.google.com/github/diego40g/data_science_python/blob/numpy/195_regexPython.ipynb\" target=\"_parent\"><img src=\"https://colab.research.google.com/assets/colab-badge.svg\" alt=\"Open In Colab\"/></a>"
      ]
    },
    {
      "cell_type": "code",
      "execution_count": 1,
      "metadata": {
        "id": "lklRNPhyvaTq"
      },
      "outputs": [],
      "source": [
        "import re"
      ]
    },
    {
      "cell_type": "code",
      "source": [
        "def check(str, pattern):\n",
        "    if re.search(pattern, str):\n",
        "        print(\"Valid String\")\n",
        "    else:\n",
        "        print(\"Invalid String\")"
      ],
      "metadata": {
        "id": "FGZqNbLrvdRF"
      },
      "execution_count": 2,
      "outputs": []
    },
    {
      "cell_type": "code",
      "source": [
        "pattern = re.compile('^[1234]+$')\n",
        "check('2134', pattern)\n",
        "check('349', pattern)"
      ],
      "metadata": {
        "colab": {
          "base_uri": "https://localhost:8080/"
        },
        "id": "mpPU2nDHvfoo",
        "outputId": "51414be8-c361-4767-a36c-e933614c742c"
      },
      "execution_count": 3,
      "outputs": [
        {
          "output_type": "stream",
          "name": "stdout",
          "text": [
            "Valid String\n",
            "Invalid String\n"
          ]
        }
      ]
    }
  ]
}