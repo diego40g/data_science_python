{
  "nbformat": 4,
  "nbformat_minor": 0,
  "metadata": {
    "colab": {
      "name": "192. chartFor.ipynb",
      "provenance": [],
      "authorship_tag": "ABX9TyPl4OXA/mW4lYyt2GVUNsPC",
      "include_colab_link": true
    },
    "kernelspec": {
      "name": "python3",
      "display_name": "Python 3"
    },
    "language_info": {
      "name": "python"
    }
  },
  "cells": [
    {
      "cell_type": "markdown",
      "metadata": {
        "id": "view-in-github",
        "colab_type": "text"
      },
      "source": [
        "<a href=\"https://colab.research.google.com/github/diego40g/data_science_python/blob/numpy/192_chartFor.ipynb\" target=\"_parent\"><img src=\"https://colab.research.google.com/assets/colab-badge.svg\" alt=\"Open In Colab\"/></a>"
      ]
    },
    {
      "cell_type": "code",
      "execution_count": 7,
      "metadata": {
        "colab": {
          "base_uri": "https://localhost:8080/"
        },
        "id": "BQ0hUetnhUYX",
        "outputId": "c5518023-1346-4f39-95b0-9b01886b95e1"
      },
      "outputs": [
        {
          "output_type": "stream",
          "name": "stdout",
          "text": [
            "*         **********  **********         *\n",
            "**        *********    *********        **\n",
            "***       ********      ********       ***\n",
            "****      *******        *******      ****\n",
            "*****     ******          ******     *****\n",
            "******    *****            *****    ******\n",
            "*******   ****              ****   *******\n",
            "********  ***                ***  ********\n",
            "********* **                  ** *********\n",
            "***********                    ***********\n"
          ]
        }
      ],
      "source": [
        "for i in range(1,11):\n",
        "    for j in range(0,i):\n",
        "        print(\"*\",end=\"\")\n",
        "    for j in range(0,11-i-1):\n",
        "        print(\" \",end=\"\")\n",
        "    for j in range (0,11-i):\n",
        "        print(\"*\",end=\"\")\n",
        "    for j in range (0,2*i):\n",
        "        print(\" \", end=\"\")\n",
        "    for j in range (0,11-i):\n",
        "        print(\"*\",end=\"\")\n",
        "    for j in range (0,11-i-1):\n",
        "        print(\" \",end=\"\")\n",
        "    for j in range (0,i):\n",
        "        print (\"*\",end=\"\")\n",
        "    print()"
      ]
    }
  ]
}