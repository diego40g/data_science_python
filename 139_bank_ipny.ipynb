{
  "nbformat": 4,
  "nbformat_minor": 0,
  "metadata": {
    "colab": {
      "name": "139. bank.ipny",
      "provenance": [],
      "collapsed_sections": [],
      "authorship_tag": "ABX9TyPnYPQdqjjhnTg4A6pB3f5G",
      "include_colab_link": true
    },
    "kernelspec": {
      "name": "python3",
      "display_name": "Python 3"
    },
    "language_info": {
      "name": "python"
    }
  },
  "cells": [
    {
      "cell_type": "markdown",
      "metadata": {
        "id": "view-in-github",
        "colab_type": "text"
      },
      "source": [
        "<a href=\"https://colab.research.google.com/github/diego40g/data_science_python/blob/numpy/139_bank_ipny.ipynb\" target=\"_parent\"><img src=\"https://colab.research.google.com/assets/colab-badge.svg\" alt=\"Open In Colab\"/></a>"
      ]
    },
    {
      "cell_type": "code",
      "execution_count": 2,
      "metadata": {
        "id": "cPjtjIdYnYJv"
      },
      "outputs": [],
      "source": [
        "cliente=True\n",
        "banco_clienre=\"banco el banco\"\n",
        "saldo_cliente=200000\n",
        "destino=True\n",
        "hora_trasnferencia=20\n",
        "banco_destino=\"banco el banco\"\n",
        "monto=100000"
      ]
    },
    {
      "cell_type": "code",
      "source": [
        "if (hora_trasnferencia>=9 and hora_trasnferencia<=13)or(hora_trasnferencia>=15 and hora_trasnferencia<=20):\n",
        "    if banco_clienre==banco_destino:\n",
        "        monto=monto+100\n",
        "    if saldo_cliente>=monto:\n",
        "        print(\"transferencia de 100000\")\n",
        "    else:\n",
        "        print(\"dinero insuficiencia\")\n",
        "else:\n",
        "    print(\"Transferencia fuera de horario\")"
      ],
      "metadata": {
        "id": "wQxqbzG3oCu7",
        "colab": {
          "base_uri": "https://localhost:8080/"
        },
        "outputId": "0a666b1a-f123-48fd-dae0-ce2b6061f697"
      },
      "execution_count": 4,
      "outputs": [
        {
          "output_type": "stream",
          "name": "stdout",
          "text": [
            "transferencia de 100000\n"
          ]
        }
      ]
    }
  ]
}