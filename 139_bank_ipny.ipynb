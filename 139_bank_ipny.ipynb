{
  "nbformat": 4,
  "nbformat_minor": 0,
  "metadata": {
    "colab": {
      "name": "139. bank.ipny",
      "provenance": [],
      "collapsed_sections": [],
      "authorship_tag": "ABX9TyN7+GN9KBofJ6YPfJ09LYmT",
      "include_colab_link": true
    },
    "kernelspec": {
      "name": "python3",
      "display_name": "Python 3"
    },
    "language_info": {
      "name": "python"
    }
  },
  "cells": [
    {
      "cell_type": "markdown",
      "metadata": {
        "id": "view-in-github",
        "colab_type": "text"
      },
      "source": [
        "<a href=\"https://colab.research.google.com/github/diego40g/data_science_python/blob/numpy/139_bank_ipny.ipynb\" target=\"_parent\"><img src=\"https://colab.research.google.com/assets/colab-badge.svg\" alt=\"Open In Colab\"/></a>"
      ]
    },
    {
      "cell_type": "code",
      "execution_count": 1,
      "metadata": {
        "id": "cPjtjIdYnYJv"
      },
      "outputs": [],
      "source": [
        "cliente=True\n",
        "banco_clienre=\"banco el banco\"\n",
        "saldo_cliente=200000\n",
        "destino=True\n",
        "hora_trasnferencia=20\n",
        "banco_destino=\"banco el banco\"\n",
        "monto=100000"
      ]
    },
    {
      "cell_type": "code",
      "source": [
        "if hora_trasnferencia>9 and hora_trasnferencia<13:\n",
        "    if banco_clienre==banco_destino:\n",
        "        monto=monto+100\n",
        "        if saldo_cliente>=monto:\n",
        "            print(\"transferencia de 100000\")\n",
        "        else:\n",
        "            print(\"dinero insuficiencia\")"
      ],
      "metadata": {
        "id": "wQxqbzG3oCu7"
      },
      "execution_count": 9,
      "outputs": []
    }
  ]
}