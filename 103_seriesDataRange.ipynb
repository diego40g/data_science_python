{
  "nbformat": 4,
  "nbformat_minor": 0,
  "metadata": {
    "colab": {
      "name": "103. seriesDataRange.ipynb",
      "provenance": [],
      "authorship_tag": "ABX9TyPFudvkzgxLiQLBOO9S0qT+",
      "include_colab_link": true
    },
    "kernelspec": {
      "name": "python3",
      "display_name": "Python 3"
    },
    "language_info": {
      "name": "python"
    }
  },
  "cells": [
    {
      "cell_type": "markdown",
      "metadata": {
        "id": "view-in-github",
        "colab_type": "text"
      },
      "source": [
        "<a href=\"https://colab.research.google.com/github/diego40g/data_science_python/blob/numpy/103_seriesDataRange.ipynb\" target=\"_parent\"><img src=\"https://colab.research.google.com/assets/colab-badge.svg\" alt=\"Open In Colab\"/></a>"
      ]
    },
    {
      "cell_type": "code",
      "metadata": {
        "id": "BPHVP79BBEYz"
      },
      "source": [
        "import pandas as pd"
      ],
      "execution_count": 1,
      "outputs": []
    },
    {
      "cell_type": "code",
      "metadata": {
        "colab": {
          "base_uri": "https://localhost:8080/"
        },
        "id": "5H_SpJGYBHkf",
        "outputId": "a08d4e51-9b72-459a-c9b6-9880aae3222b"
      },
      "source": [
        "quarters2021 = pd.date_range(start = '1-1-2021',periods = 4, freq = '3M' )\n",
        "print(quarters2021)"
      ],
      "execution_count": 2,
      "outputs": [
        {
          "output_type": "stream",
          "name": "stdout",
          "text": [
            "DatetimeIndex(['2021-01-31', '2021-04-30', '2021-07-31', '2021-10-31'], dtype='datetime64[ns]', freq='3M')\n"
          ]
        }
      ]
    },
    {
      "cell_type": "code",
      "metadata": {
        "colab": {
          "base_uri": "https://localhost:8080/"
        },
        "id": "A_W1DWcZBOV5",
        "outputId": "e7923572-96b0-46df-d7c2-62a70c0a97c6"
      },
      "source": [
        "quarters2021 = pd.Series(quarters2021)\n",
        "print(quarters2021)"
      ],
      "execution_count": 3,
      "outputs": [
        {
          "output_type": "stream",
          "name": "stdout",
          "text": [
            "0   2021-01-31\n",
            "1   2021-04-30\n",
            "2   2021-07-31\n",
            "3   2021-10-31\n",
            "dtype: datetime64[ns]\n"
          ]
        }
      ]
    }
  ]
}