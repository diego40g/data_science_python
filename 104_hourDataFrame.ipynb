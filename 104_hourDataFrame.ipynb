{
  "nbformat": 4,
  "nbformat_minor": 0,
  "metadata": {
    "colab": {
      "name": "104. hourDataFrame.ipynb",
      "provenance": [],
      "authorship_tag": "ABX9TyM6xcQumhBhZhi4glhTgjmF",
      "include_colab_link": true
    },
    "kernelspec": {
      "name": "python3",
      "display_name": "Python 3"
    },
    "language_info": {
      "name": "python"
    }
  },
  "cells": [
    {
      "cell_type": "markdown",
      "metadata": {
        "id": "view-in-github",
        "colab_type": "text"
      },
      "source": [
        "<a href=\"https://colab.research.google.com/github/diego40g/data_science_python/blob/numpy/104_hourDataFrame.ipynb\" target=\"_parent\"><img src=\"https://colab.research.google.com/assets/colab-badge.svg\" alt=\"Open In Colab\"/></a>"
      ]
    },
    {
      "cell_type": "code",
      "metadata": {
        "id": "ZnHjz6PjB2hr"
      },
      "source": [
        "import pandas as pd"
      ],
      "execution_count": 1,
      "outputs": []
    },
    {
      "cell_type": "code",
      "metadata": {
        "colab": {
          "base_uri": "https://localhost:8080/"
        },
        "id": "2G0PsuulCO9n",
        "outputId": "cfa4bdf7-14a3-4fba-b745-bf0dfa8ee3ea"
      },
      "source": [
        "hours = pd.date_range(start = '2030-12-31', periods = 24, freq ='H')\n",
        "print(hours)"
      ],
      "execution_count": 2,
      "outputs": [
        {
          "output_type": "stream",
          "name": "stdout",
          "text": [
            "DatetimeIndex(['2030-12-31 00:00:00', '2030-12-31 01:00:00',\n",
            "               '2030-12-31 02:00:00', '2030-12-31 03:00:00',\n",
            "               '2030-12-31 04:00:00', '2030-12-31 05:00:00',\n",
            "               '2030-12-31 06:00:00', '2030-12-31 07:00:00',\n",
            "               '2030-12-31 08:00:00', '2030-12-31 09:00:00',\n",
            "               '2030-12-31 10:00:00', '2030-12-31 11:00:00',\n",
            "               '2030-12-31 12:00:00', '2030-12-31 13:00:00',\n",
            "               '2030-12-31 14:00:00', '2030-12-31 15:00:00',\n",
            "               '2030-12-31 16:00:00', '2030-12-31 17:00:00',\n",
            "               '2030-12-31 18:00:00', '2030-12-31 19:00:00',\n",
            "               '2030-12-31 20:00:00', '2030-12-31 21:00:00',\n",
            "               '2030-12-31 22:00:00', '2030-12-31 23:00:00'],\n",
            "              dtype='datetime64[ns]', freq='H')\n"
          ]
        }
      ]
    }
  ]
}