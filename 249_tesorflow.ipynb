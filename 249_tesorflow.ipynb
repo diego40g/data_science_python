{
  "nbformat": 4,
  "nbformat_minor": 0,
  "metadata": {
    "colab": {
      "provenance": [],
      "authorship_tag": "ABX9TyPfGVPSO0kPfhfpD2UxLy4/",
      "include_colab_link": true
    },
    "kernelspec": {
      "name": "python3",
      "display_name": "Python 3"
    },
    "language_info": {
      "name": "python"
    }
  },
  "cells": [
    {
      "cell_type": "markdown",
      "metadata": {
        "id": "view-in-github",
        "colab_type": "text"
      },
      "source": [
        "<a href=\"https://colab.research.google.com/github/diego40g/data_science_python/blob/numpy/249_tesorflow.ipynb\" target=\"_parent\"><img src=\"https://colab.research.google.com/assets/colab-badge.svg\" alt=\"Open In Colab\"/></a>"
      ]
    },
    {
      "cell_type": "code",
      "execution_count": null,
      "metadata": {
        "id": "5VDe6WtnImb8"
      },
      "outputs": [],
      "source": [
        "import pandas as pd\n",
        "import matplotlib.pyplot as plt\n",
        "import seaborn as sns\n",
        "import tensorflow as tf"
      ]
    },
    {
      "cell_type": "code",
      "source": [
        "print (\"Leyendo CSV\")\n",
        "temperature_df = pd.read_csv(\"celsius_a_fahrenheit.csv\")\n",
        "\n",
        "sns.scatterplot(temperature_df['Celsius'], temperature_df['Fahrenheit'])\n",
        "plt.show()"
      ],
      "metadata": {
        "id": "cQv86qvOJsY4"
      },
      "execution_count": null,
      "outputs": []
    },
    {
      "cell_type": "code",
      "source": [
        "print (\"Seleccionando las columnas\")\n",
        "X_train = temperature_df['Celsius']\n",
        "y_train = temperature_df['Fahrenheit']"
      ],
      "metadata": {
        "id": "ghPg2WD5Qh3A"
      },
      "execution_count": null,
      "outputs": []
    },
    {
      "cell_type": "code",
      "source": [
        "print (\"Creando el modelo\")\n",
        "model = tf.keras.Sequential()\n",
        "model.add(tf.keras.layers.Dense(units=1, input_shape=[1]))"
      ],
      "metadata": {
        "id": "Oi5Ea84GQiKZ"
      },
      "execution_count": null,
      "outputs": []
    },
    {
      "cell_type": "code",
      "source": [
        "print (\"Compilando el modelo\")\n",
        "model.compile(optimizer=tf.keras.optimizers.Adam(1), loss='mean_squared_error')"
      ],
      "metadata": {
        "id": "bGDvMW23Q3Lj"
      },
      "execution_count": null,
      "outputs": []
    },
    {
      "cell_type": "code",
      "source": [
        "print (\"Entrenando el modelo\")\n",
        "epochs_hist = model.fit(X_train, y_train, epochs = 100)"
      ],
      "metadata": {
        "id": "_uur91N7Q3aR"
      },
      "execution_count": null,
      "outputs": []
    },
    {
      "cell_type": "code",
      "source": [
        "print (\"Evaluando el modelo entrenado\")\n",
        "print (\"Keys:\")\n",
        "print(epochs_hist.history.keys())"
      ],
      "metadata": {
        "id": "832ByojwRGJF"
      },
      "execution_count": null,
      "outputs": []
    },
    {
      "cell_type": "code",
      "source": [
        "plt.plot(epochs_hist.history['loss'])\n",
        "plt.title('Progreso de Pérdida durante Entrenamiento del Modelo')\n",
        "plt.xlabel('Epoch')\n",
        "plt.ylabel('Training Loss')\n",
        "plt.legend('Training Loss')\n",
        "plt.show()"
      ],
      "metadata": {
        "id": "zTJWQe8CRQmt"
      },
      "execution_count": null,
      "outputs": []
    },
    {
      "cell_type": "code",
      "source": [
        "Temp_C = 0\n",
        "Temp_F = model.predict([Temp_C])\n",
        "print(\"Temperatura de Prediccion: \" + str(Temp_F))"
      ],
      "metadata": {
        "id": "VqX2TDCwRVb7"
      },
      "execution_count": null,
      "outputs": []
    },
    {
      "cell_type": "code",
      "source": [
        "Temp_F = 9/5 * Temp_C + 32\n",
        "print(\"Temperatura de Ecuacion: \" + str(Temp_F))"
      ],
      "metadata": {
        "id": "NxVWAPpJRY-F"
      },
      "execution_count": null,
      "outputs": []
    }
  ]
}