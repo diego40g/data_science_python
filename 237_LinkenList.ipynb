{
  "nbformat": 4,
  "nbformat_minor": 0,
  "metadata": {
    "colab": {
      "provenance": [],
      "authorship_tag": "ABX9TyM62/4ZGJs+KP6XLri2Np2H",
      "include_colab_link": true
    },
    "kernelspec": {
      "name": "python3",
      "display_name": "Python 3"
    },
    "language_info": {
      "name": "python"
    }
  },
  "cells": [
    {
      "cell_type": "markdown",
      "metadata": {
        "id": "view-in-github",
        "colab_type": "text"
      },
      "source": [
        "<a href=\"https://colab.research.google.com/github/diego40g/data_science_python/blob/numpy/237_LinkenList.ipynb\" target=\"_parent\"><img src=\"https://colab.research.google.com/assets/colab-badge.svg\" alt=\"Open In Colab\"/></a>"
      ]
    },
    {
      "cell_type": "code",
      "execution_count": 1,
      "metadata": {
        "id": "3T7IcSeBWg-i"
      },
      "outputs": [],
      "source": [
        "\n",
        "class Node(object):\n",
        "    # Singly linked node\n",
        "    def __init__(self, data=None, next=None, prev=None):\n",
        "        self.data = data\n",
        "        self.next = next\n",
        "        self.prev = prev"
      ]
    },
    {
      "cell_type": "code",
      "source": [
        "\n",
        "class doubly_linked_list(object):\n",
        "    def __init__(self):\n",
        "        self.head = None\n",
        "        self.tail = None\n",
        "        self.count = 0\n",
        "\n",
        "    def append_item(self, data):\n",
        "        # Append an item \n",
        "        new_item = Node(data, None, None)\n",
        "        if self.head is None:\n",
        "            self.head = new_item\n",
        "            self.tail = self.head\n",
        "        else:\n",
        "            new_item.prev = self.tail\n",
        "            self.tail.next = new_item\n",
        "            self.tail = new_item\n",
        "        self.count += 1\n",
        "    \n",
        "    def iter(self):\n",
        "        # Iterate the list\n",
        "        current = self.head\n",
        "        while current:\n",
        "            item_val = current.data\n",
        "            current = current.next\n",
        "            yield item_val\n",
        "\n",
        "    def print_foward(self):\n",
        "        for node in self.iter():\n",
        "            print(node)   \n",
        "        \n",
        "    def insert_start(self, data):        \n",
        "        if self.head is not None:\n",
        "            new_node = Node(data, None, None)\n",
        "            new_node.next = self.head\n",
        "            self.head.prev = new_node\n",
        "            self.head = new_node\n",
        "            self.count += 1"
      ],
      "metadata": {
        "id": "NFFI3X-ZWo33"
      },
      "execution_count": 2,
      "outputs": []
    },
    {
      "cell_type": "code",
      "source": [
        "\n",
        "items = doubly_linked_list()\n",
        "items.append_item('PHP')\n",
        "items.append_item('Python')\n",
        "items.append_item('C#')\n",
        "items.append_item('C++')\n",
        "items.append_item('Java')\n",
        "items.append_item('SQL')\n",
        "\n",
        "print(\"Original list:\")\n",
        "items.print_foward()\n",
        "print(\"\\nAppend item in front of the list:\")\n",
        "items.insert_start(\"Perl\")\n",
        "items.print_foward()"
      ],
      "metadata": {
        "colab": {
          "base_uri": "https://localhost:8080/"
        },
        "id": "iWGytz_9WvcO",
        "outputId": "6c4c9f67-2eb4-4385-f2e3-96ea2ff903bd"
      },
      "execution_count": 3,
      "outputs": [
        {
          "output_type": "stream",
          "name": "stdout",
          "text": [
            "Original list:\n",
            "PHP\n",
            "Python\n",
            "C#\n",
            "C++\n",
            "Java\n",
            "SQL\n",
            "\n",
            "Append item in front of the list:\n",
            "Perl\n",
            "PHP\n",
            "Python\n",
            "C#\n",
            "C++\n",
            "Java\n",
            "SQL\n"
          ]
        }
      ]
    }
  ]
}