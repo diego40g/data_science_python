{
  "nbformat": 4,
  "nbformat_minor": 0,
  "metadata": {
    "colab": {
      "name": "154. arrayKeysMap.ipynb",
      "provenance": [],
      "authorship_tag": "ABX9TyPH7kAqzkqtWmtgS0ZRHc9W",
      "include_colab_link": true
    },
    "kernelspec": {
      "name": "python3",
      "display_name": "Python 3"
    },
    "language_info": {
      "name": "python"
    }
  },
  "cells": [
    {
      "cell_type": "markdown",
      "metadata": {
        "id": "view-in-github",
        "colab_type": "text"
      },
      "source": [
        "<a href=\"https://colab.research.google.com/github/diego40g/data_science_python/blob/numpy/154_arrayKeysMap.ipynb\" target=\"_parent\"><img src=\"https://colab.research.google.com/assets/colab-badge.svg\" alt=\"Open In Colab\"/></a>"
      ]
    },
    {
      "cell_type": "code",
      "execution_count": 3,
      "metadata": {
        "id": "QoYZQkr4V4eC"
      },
      "outputs": [],
      "source": [
        "animales = [\"perro\", \"gato\", \"murcielago\", \"gallo\", \"vaca\", \"cerdo\", \n",
        "  \"zorro\", \"hormiga\", \"pajaro\", \"leon\", \"lobo\", \"ciervo\", \"oso\", \n",
        "  \"sapo\", \"gallina\", \"topo\", \"pato\", \"cabra\"]"
      ]
    },
    {
      "cell_type": "code",
      "source": [
        "def contar_animales(txt):\n",
        "\tcounts = []\n",
        "\t\n",
        "\tdef f(t, c):\n",
        "\t\tfor a in animales:\n",
        "\t\t\ts = t\n",
        "\t\t\tfor x in a: s = s.replace(x, \"\", 1)\n",
        "\t\t\tif len(s) + len(a) == len(t): f(s, c + 1)\n",
        "\t\tcounts.append(c)\n",
        "\t\t\n",
        "\tf(txt, 0)\n",
        "\treturn max(counts)"
      ],
      "metadata": {
        "id": "ZZCPUjiVWclp"
      },
      "execution_count": 4,
      "outputs": []
    },
    {
      "cell_type": "code",
      "source": [
        "if __name__ == '__main__':\n",
        "  print(contar_animales(\"perro\"))"
      ],
      "metadata": {
        "colab": {
          "base_uri": "https://localhost:8080/"
        },
        "id": "o6SqXh-qWfEH",
        "outputId": "da1265a3-f140-437a-d01d-ce1faedf4fd4"
      },
      "execution_count": 9,
      "outputs": [
        {
          "output_type": "stream",
          "name": "stdout",
          "text": [
            "1\n"
          ]
        }
      ]
    }
  ]
}