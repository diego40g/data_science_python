{
  "nbformat": 4,
  "nbformat_minor": 0,
  "metadata": {
    "colab": {
      "provenance": [],
      "authorship_tag": "ABX9TyOPCUwKixcDbReNaHE4Sga8",
      "include_colab_link": true
    },
    "kernelspec": {
      "name": "python3",
      "display_name": "Python 3"
    },
    "language_info": {
      "name": "python"
    }
  },
  "cells": [
    {
      "cell_type": "markdown",
      "metadata": {
        "id": "view-in-github",
        "colab_type": "text"
      },
      "source": [
        "<a href=\"https://colab.research.google.com/github/diego40g/data_science_python/blob/numpy/Ejercicios_Repaso.ipynb\" target=\"_parent\"><img src=\"https://colab.research.google.com/assets/colab-badge.svg\" alt=\"Open In Colab\"/></a>"
      ]
    },
    {
      "cell_type": "code",
      "execution_count": 4,
      "metadata": {
        "id": "DKnLrwyfADqc"
      },
      "outputs": [],
      "source": []
    },
    {
      "cell_type": "code",
      "source": [
        "def nuevo_string(s,n):\n",
        "    res=\"\"\n",
        "    for i in s:\n",
        "        match s:\n",
        "            case (\"a\"):\n",
        "                res+=i*n\n",
        "            case _:\n",
        "                res+=i"
      ],
      "metadata": {
        "colab": {
          "base_uri": "https://localhost:8080/",
          "height": 131
        },
        "id": "5hpTgDptAMv6",
        "outputId": "78143d15-2480-40d6-e7c0-9f2423343144"
      },
      "execution_count": 6,
      "outputs": [
        {
          "output_type": "error",
          "ename": "SyntaxError",
          "evalue": "ignored",
          "traceback": [
            "\u001b[0;36m  File \u001b[0;32m\"<ipython-input-6-89a510fd1b0d>\"\u001b[0;36m, line \u001b[0;32m4\u001b[0m\n\u001b[0;31m    match s:\u001b[0m\n\u001b[0m          ^\u001b[0m\n\u001b[0;31mSyntaxError\u001b[0m\u001b[0;31m:\u001b[0m invalid syntax\n"
          ]
        }
      ]
    },
    {
      "cell_type": "code",
      "source": [
        "\n",
        "Vocales={\"A\",\"E\",\"I\",\"O\",\"U\",\"a\",\"e\",\"i\",\"o\",\"u\"}\n",
        "def nuevo_string(s,n):\n",
        "    res=\"\"\n",
        "    for i in s:\n",
        "        if (i in Vocales):\n",
        "            res+=i*n\n",
        "        else:\n",
        "            res+=i\n",
        "    return res\n",
        "S=\"sad\"print(nuevo_string(S,3))"
      ],
      "metadata": {
        "id": "JfgljTXcB2GC"
      },
      "execution_count": 26,
      "outputs": []
    },
    {
      "cell_type": "code",
      "source": [
        "def notas_al_pie(s):\n",
        "    count=0\n",
        "    res=\"\"\n",
        "    for i in s:\n",
        "        if (i=='*'):\n",
        "            count+=1\n",
        "            res+=f\"({str(count)})\"\n",
        "        else:\n",
        "            res+=i\n",
        "    return res\n",
        "\n",
        "print(notas_al_pie(\"*,*., *.\"))\n",
        "print(notas_al_pie(\"\"))\n",
        "print (notas_al_pie(\"Ejemplo nota pie. * Otra nota. *\"))"
      ],
      "metadata": {
        "colab": {
          "base_uri": "https://localhost:8080/"
        },
        "id": "VNh7AlM7DCDX",
        "outputId": "e96c5c5a-f28a-46f6-8df5-15c1419f1346"
      },
      "execution_count": 41,
      "outputs": [
        {
          "output_type": "stream",
          "name": "stdout",
          "text": [
            "(1),(2)., (3).\n",
            "\n",
            "Ejemplo nota pie. (1) Otra nota. (2)\n"
          ]
        }
      ]
    },
    {
      "cell_type": "code",
      "source": [
        "def codigo(s):\n",
        "    res=s[0].upper()\n",
        "    num=len(s)\n",
        "    for i in range(len(s)):\n",
        "        if s[i] == ' ':\n",
        "            res+=s[i+1].upper()\n",
        "            num-=1\n",
        "    res+=str(num)\n",
        "    return res\n",
        "\n",
        "codigo(\"Mireia Belmonte García\")\n",
        "codigo (\"gerard pique Bernabéu\")"
      ],
      "metadata": {
        "colab": {
          "base_uri": "https://localhost:8080/",
          "height": 35
        },
        "id": "qTnIGWQaMWbL",
        "outputId": "7650aee2-d688-4e02-a4f5-b2ebb6bb0696"
      },
      "execution_count": 69,
      "outputs": [
        {
          "output_type": "execute_result",
          "data": {
            "text/plain": [
              "'MBG20'"
            ],
            "application/vnd.google.colaboratory.intrinsic+json": {
              "type": "string"
            }
          },
          "metadata": {},
          "execution_count": 69
        }
      ]
    },
    {
      "cell_type": "code",
      "source": [
        "\n",
        "numero={\"2\",\"3\",\"4\",\"5\",\"6\",\"7\",\"8\",\"9\"}\n",
        "def contador_hidrogenos(s):\n",
        "    res=0\n",
        "    for i in range(len(s)):\n",
        "        if s[i]=='H':\n",
        "            if s[i+1] in numero:\n",
        "                res=int(s[i+1])\n",
        "            else:\n",
        "                res=1\n",
        "    return res\n",
        "\n",
        "\n",
        "print(contador_hidrogenos(\"HIO\"))\n",
        "print( contador_hidrogenos(\"H2O\"))\n",
        "print( contador_hidrogenos(\"C2H5O2\"))\n",
        "print(contador_hidrogenos(\"Fe3O2\"))"
      ],
      "metadata": {
        "colab": {
          "base_uri": "https://localhost:8080/"
        },
        "id": "yyNyRj1nLLmf",
        "outputId": "209da332-8336-4261-f913-65ef0815754e"
      },
      "execution_count": 89,
      "outputs": [
        {
          "output_type": "stream",
          "name": "stdout",
          "text": [
            "1\n",
            "2\n",
            "5\n",
            "0\n"
          ]
        }
      ]
    },
    {
      "cell_type": "code",
      "source": [
        "A=[34.5,12.9,15,43,51.4,23.4]\n",
        "B=[45.5,12.9,15,32.5,51.4,21.2]\n",
        "C=[11,12,55]\n",
        "\n",
        "\n",
        "def mediaTempRang(lts):\n",
        "    res=0\n",
        "    count=0\n",
        "    for i in lts:\n",
        "        if (i>=15 and i<=45):\n",
        "            res+=i\n",
        "            count+=1\n",
        "    if count>0:\n",
        "        return round(res/count,2)\n",
        "    else:\n",
        "        return -1\n",
        "\n",
        "\n",
        "print(mediaTempRang(A))\n",
        "print(mediaTempRang(B))\n",
        "print(mediaTempRang(C))"
      ],
      "metadata": {
        "id": "EKSAwA-OVEnP"
      },
      "execution_count": 7,
      "outputs": []
    },
    {
      "cell_type": "code",
      "source": [
        "\n",
        "A=[36,37,37.2,36.8,38,37.5,37.6,35.8,37,37.3]\n",
        "def temperatura2limit(lts,l1,l2):\n",
        "    res=[-1]\n",
        "    count=0\n",
        "    for i in range(len(lts)):\n",
        "        if (lts[i]<l1 or lts[i]>l2):\n",
        "            count+=1\n",
        "            if count==2:\n",
        "                res.clear()\n",
        "                res.append(lts[i])\n",
        "                res.append(i)\n",
        "    return res\n",
        "\n",
        "temperatura2limit(A,36.5,38)"
      ],
      "metadata": {
        "id": "41RI5TVce9zf"
      },
      "execution_count": 32,
      "outputs": []
    },
    {
      "cell_type": "code",
      "source": [],
      "metadata": {
        "colab": {
          "base_uri": "https://localhost:8080/"
        },
        "id": "jGZGya8MGK2W",
        "outputId": "59568ad7-36a9-459d-9f8d-c3ef046cb6a4"
      },
      "execution_count": 33,
      "outputs": [
        {
          "output_type": "execute_result",
          "data": {
            "text/plain": [
              "[35.8, 7]"
            ]
          },
          "metadata": {},
          "execution_count": 33
        }
      ]
    },
    {
      "cell_type": "code",
      "source": [],
      "metadata": {
        "colab": {
          "base_uri": "https://localhost:8080/"
        },
        "id": "f_vkzB-eG3Ow",
        "outputId": "ec76e7e3-ad41-49d9-816f-67799a8915ba"
      },
      "execution_count": 29,
      "outputs": [
        {
          "output_type": "execute_result",
          "data": {
            "text/plain": [
              "[37.2, 2]"
            ]
          },
          "metadata": {},
          "execution_count": 29
        }
      ]
    },
    {
      "cell_type": "code",
      "source": [],
      "metadata": {
        "colab": {
          "base_uri": "https://localhost:8080/"
        },
        "id": "eMHvdXasHG5J",
        "outputId": "b6e50ac2-7c49-4a95-cc10-30208f56af14"
      },
      "execution_count": 11,
      "outputs": [
        {
          "output_type": "stream",
          "name": "stdout",
          "text": [
            "22.9\n"
          ]
        }
      ]
    },
    {
      "cell_type": "code",
      "source": [
        "]"
      ],
      "metadata": {
        "id": "ySRiuDYjHOvs"
      },
      "execution_count": 12,
      "outputs": []
    },
    {
      "cell_type": "code",
      "source": [],
      "metadata": {
        "colab": {
          "base_uri": "https://localhost:8080/"
        },
        "id": "ksUSJSi_HUAV",
        "outputId": "e51489ca-0a9a-421a-b43d-36aaf3ec3b1c"
      },
      "execution_count": 13,
      "outputs": [
        {
          "output_type": "stream",
          "name": "stdout",
          "text": [
            "-1\n"
          ]
        }
      ]
    }
  ]
}