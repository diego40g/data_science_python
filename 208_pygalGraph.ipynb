{
  "nbformat": 4,
  "nbformat_minor": 0,
  "metadata": {
    "colab": {
      "name": "208 pygalGraph.ipynb",
      "provenance": [],
      "authorship_tag": "ABX9TyP+0HW/UkZV3kCtQ2/uWysn",
      "include_colab_link": true
    },
    "kernelspec": {
      "name": "python3",
      "display_name": "Python 3"
    },
    "language_info": {
      "name": "python"
    }
  },
  "cells": [
    {
      "cell_type": "markdown",
      "metadata": {
        "id": "view-in-github",
        "colab_type": "text"
      },
      "source": [
        "<a href=\"https://colab.research.google.com/github/diego40g/data_science_python/blob/numpy/208_pygalGraph.ipynb\" target=\"_parent\"><img src=\"https://colab.research.google.com/assets/colab-badge.svg\" alt=\"Open In Colab\"/></a>"
      ]
    },
    {
      "cell_type": "code",
      "execution_count": 1,
      "metadata": {
        "id": "Uo1veiJ8NF7s"
      },
      "outputs": [],
      "source": [
        "import pandas as pd"
      ]
    },
    {
      "cell_type": "code",
      "source": [
        "df = pd.read_csv('https://anvil.works/blog/img/plotting-in-python/uk-election-results.csv')"
      ],
      "metadata": {
        "id": "ys3tkfKgNJfS"
      },
      "execution_count": 2,
      "outputs": []
    },
    {
      "cell_type": "code",
      "source": [
        "print (df)"
      ],
      "metadata": {
        "colab": {
          "base_uri": "https://localhost:8080/"
        },
        "id": "5mog3umfNdOJ",
        "outputId": "d14501b7-adf2-4a25-ec5a-577029067894"
      },
      "execution_count": 3,
      "outputs": [
        {
          "output_type": "stream",
          "name": "stdout",
          "text": [
            "        year  conservative  labour  liberal  others\n",
            "0       1966           253     364       12       1\n",
            "1       1970           330     287        6       7\n",
            "2   Feb 1974           297     301       14      18\n",
            "3   Oct 1974           277     313       13      32\n",
            "4       1979           339     269       11      16\n",
            "5       1983           397     209       23       6\n",
            "6       1987           376     229       22      23\n",
            "7       1992           336     271       20      23\n",
            "8       1997           165     418       46      22\n",
            "9       2001           166     412       52      29\n",
            "10      2005           198     356       62      43\n",
            "11      2010           306     258       57      25\n",
            "12      2015           330     232        8      80\n",
            "13      2017           317     262       12      59\n",
            "14      2019           365     202       11      72\n"
          ]
        }
      ]
    },
    {
      "cell_type": "code",
      "source": [
        "!pip install pygal"
      ],
      "metadata": {
        "colab": {
          "base_uri": "https://localhost:8080/"
        },
        "id": "pFh_nXz6No07",
        "outputId": "e9404252-c983-460e-cd8e-f7f0aba9973d"
      },
      "execution_count": 5,
      "outputs": [
        {
          "output_type": "stream",
          "name": "stdout",
          "text": [
            "Looking in indexes: https://pypi.org/simple, https://us-python.pkg.dev/colab-wheels/public/simple/\n",
            "Collecting pygal\n",
            "  Downloading pygal-3.0.0-py2.py3-none-any.whl (129 kB)\n",
            "\u001b[K     |████████████████████████████████| 129 kB 7.3 MB/s \n",
            "\u001b[?25hInstalling collected packages: pygal\n",
            "Successfully installed pygal-3.0.0\n"
          ]
        }
      ]
    },
    {
      "cell_type": "code",
      "source": [
        "import pygal\n",
        "from pygal.style import Style"
      ],
      "metadata": {
        "id": "Swvk0u_VNhCe"
      },
      "execution_count": 6,
      "outputs": []
    },
    {
      "cell_type": "code",
      "source": [
        "custom_style = Style(\n",
        "    colors=('#0343df', '#e50000', '#ffff14', '#929591'),\n",
        "    font_family='Roboto,Helvetica,Arial,sans-serif',\n",
        "    background='transparent',\n",
        "    label_font_size=14,\n",
        ")"
      ],
      "metadata": {
        "id": "8NB0M5rfNnK9"
      },
      "execution_count": 7,
      "outputs": []
    },
    {
      "cell_type": "code",
      "source": [
        "c = pygal.Bar(\n",
        "    title=\"UK Election Results\",\n",
        "    style=custom_style,\n",
        "    y_title='Seats',\n",
        "    width=1200,\n",
        "    x_label_rotation=270,\n",
        ")"
      ],
      "metadata": {
        "id": "H-dX0fWsNzY1"
      },
      "execution_count": 8,
      "outputs": []
    },
    {
      "cell_type": "code",
      "source": [
        "c.add('Conservative', df['conservative'])\n",
        "c.add('Labour', df['labour'])\n",
        "c.add('Liberal', df['liberal'])\n",
        "c.add('Others', df['others'])\n",
        "\n",
        "c.x_labels = df['year']"
      ],
      "metadata": {
        "id": "JlfB0zbPN3W1"
      },
      "execution_count": 9,
      "outputs": []
    },
    {
      "cell_type": "code",
      "source": [
        "c.render_to_file('pygal.svg')"
      ],
      "metadata": {
        "id": "TU5j1k3fN8dp"
      },
      "execution_count": 10,
      "outputs": []
    }
  ]
}