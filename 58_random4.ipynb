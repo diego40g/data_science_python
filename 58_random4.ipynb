{
  "nbformat": 4,
  "nbformat_minor": 0,
  "metadata": {
    "colab": {
      "name": "58. random4.ipynb",
      "provenance": [],
      "collapsed_sections": [],
      "authorship_tag": "ABX9TyPy8JBSSPH1VuJQp0568BOX",
      "include_colab_link": true
    },
    "kernelspec": {
      "name": "python3",
      "display_name": "Python 3"
    },
    "language_info": {
      "name": "python"
    }
  },
  "cells": [
    {
      "cell_type": "markdown",
      "metadata": {
        "id": "view-in-github",
        "colab_type": "text"
      },
      "source": [
        "<a href=\"https://colab.research.google.com/github/diego40g/data_science_python/blob/numpy/58_random4.ipynb\" target=\"_parent\"><img src=\"https://colab.research.google.com/assets/colab-badge.svg\" alt=\"Open In Colab\"/></a>"
      ]
    },
    {
      "cell_type": "code",
      "metadata": {
        "id": "T8_-vf_lYwJc"
      },
      "source": [
        "import numpy as np"
      ],
      "execution_count": 1,
      "outputs": []
    },
    {
      "cell_type": "code",
      "metadata": {
        "colab": {
          "base_uri": "https://localhost:8080/"
        },
        "id": "LQTpv2tjY45_",
        "outputId": "a1c63fb4-bc0a-4c90-a2ce-fe987e725a95"
      },
      "source": [
        "array = np.random.randint(low = -1000, high = 3000, size = (30, 5))\n",
        "print(array)"
      ],
      "execution_count": 2,
      "outputs": [
        {
          "output_type": "stream",
          "name": "stdout",
          "text": [
            "[[2085 2339 2586 1354 -549]\n",
            " [ 689 1929 -409 1721  912]\n",
            " [1491  533 2465   31 -292]\n",
            " [2183 2859 2002  727 1627]\n",
            " [ 276 -462 1180 1203 2315]\n",
            " [ 972 1764 1629  868  746]\n",
            " [1983  197 2756  804  768]\n",
            " [2338  715  320  988 2228]\n",
            " [2716 2958 2021 1417 1359]\n",
            " [-184 2097 2987 -883 -992]\n",
            " [1381  428  212 -368 1477]\n",
            " [1252 1514 2652 2094 -224]\n",
            " [2855 1053 2677 1820 1736]\n",
            " [1333 2655 1686 -171 2953]\n",
            " [ 714 -632  -51 1320  706]\n",
            " [1940 2606 2454 2530 1888]\n",
            " [2526 1426  558 2159  283]\n",
            " [ 686 -402  987 2319 2814]\n",
            " [2235 -106 2196  114  991]\n",
            " [  43  516  491 1518 2065]\n",
            " [2214 2283 2891 1605 2540]\n",
            " [ 476 -555 1848 -636  505]\n",
            " [1614  104 -507 -536 -875]\n",
            " [ 396 -751 1625 2453 2131]\n",
            " [ 513  236 2248 1481 2838]\n",
            " [2711 1857  981 1585 1043]\n",
            " [2601 1691 1462 1190 -807]\n",
            " [ 985  841 -924 2257 1410]\n",
            " [-971  378 1730 -209 1381]\n",
            " [2543 1473 -892 1463   80]]\n"
          ]
        }
      ]
    }
  ]
}