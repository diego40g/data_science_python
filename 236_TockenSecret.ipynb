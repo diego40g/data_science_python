{
  "nbformat": 4,
  "nbformat_minor": 0,
  "metadata": {
    "colab": {
      "provenance": [],
      "authorship_tag": "ABX9TyOPTElT5eqVRN0QoyYWSNpL",
      "include_colab_link": true
    },
    "kernelspec": {
      "name": "python3",
      "display_name": "Python 3"
    },
    "language_info": {
      "name": "python"
    }
  },
  "cells": [
    {
      "cell_type": "markdown",
      "metadata": {
        "id": "view-in-github",
        "colab_type": "text"
      },
      "source": [
        "<a href=\"https://colab.research.google.com/github/diego40g/data_science_python/blob/numpy/236_TockenSecret.ipynb\" target=\"_parent\"><img src=\"https://colab.research.google.com/assets/colab-badge.svg\" alt=\"Open In Colab\"/></a>"
      ]
    },
    {
      "cell_type": "code",
      "execution_count": 1,
      "metadata": {
        "id": "kkeWmB4xN-bd"
      },
      "outputs": [],
      "source": [
        "\n",
        "import secrets"
      ]
    },
    {
      "cell_type": "code",
      "source": [
        "\n",
        "print(\"Random secure Hexadecimal token is \", secrets.token_hex(64))"
      ],
      "metadata": {
        "colab": {
          "base_uri": "https://localhost:8080/"
        },
        "id": "m-OP6vU3OGfr",
        "outputId": "e6cf0f00-e840-47ce-d2ef-12745f3682ef"
      },
      "execution_count": 2,
      "outputs": [
        {
          "output_type": "stream",
          "name": "stdout",
          "text": [
            "Random secure Hexadecimal token is  04869b86cb3712e4e16e29ca84973b644952c737586c8e47fb0f3e34ade17ef92c506971cac5a3a26ef7ef3e6f73a3a5e2d4aef0867f32013cfa6d5c274dd9f5\n"
          ]
        }
      ]
    },
    {
      "cell_type": "code",
      "source": [
        "print(\"Random secure URL is \", secrets.token_urlsafe(64))"
      ],
      "metadata": {
        "colab": {
          "base_uri": "https://localhost:8080/"
        },
        "id": "sZeCeIUcOJgu",
        "outputId": "52585850-2e65-4f51-ec9c-2039008c75ee"
      },
      "execution_count": 3,
      "outputs": [
        {
          "output_type": "stream",
          "name": "stdout",
          "text": [
            "Random secure URL is  Kqn9R782xnizh4hxkH5vFq0DNQTi_mvvYC8EMDewuNOR39HqqusOvze34Uff5uIkMBjwolqorPJmQpY_dqgfwA\n"
          ]
        }
      ]
    }
  ]
}