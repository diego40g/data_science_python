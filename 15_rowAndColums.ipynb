{
  "nbformat": 4,
  "nbformat_minor": 0,
  "metadata": {
    "colab": {
      "name": "15. rowAndColums.ipynb",
      "provenance": [],
      "collapsed_sections": [],
      "authorship_tag": "ABX9TyNO/gFOHJi0KADCjOcf2Y1U",
      "include_colab_link": true
    },
    "kernelspec": {
      "name": "python3",
      "display_name": "Python 3"
    },
    "language_info": {
      "name": "python"
    }
  },
  "cells": [
    {
      "cell_type": "markdown",
      "metadata": {
        "id": "view-in-github",
        "colab_type": "text"
      },
      "source": [
        "<a href=\"https://colab.research.google.com/github/diego40g/data_science_python/blob/numpy/15_rowAndColums.ipynb\" target=\"_parent\"><img src=\"https://colab.research.google.com/assets/colab-badge.svg\" alt=\"Open In Colab\"/></a>"
      ]
    },
    {
      "cell_type": "code",
      "metadata": {
        "id": "CS-2EtQUDPmf"
      },
      "source": [
        "import numpy as np"
      ],
      "execution_count": 1,
      "outputs": []
    },
    {
      "cell_type": "code",
      "metadata": {
        "colab": {
          "base_uri": "https://localhost:8080/"
        },
        "id": "mjOW7GB4DReq",
        "outputId": "2d782fd4-3ca0-40dc-ab22-77f7da61ca5b"
      },
      "source": [
        "matrix=np.array(np.random.randint(1,100,15)).reshape(5,3)\n",
        "print('Total de la suma de los elementos: ', matrix.sum())"
      ],
      "execution_count": 2,
      "outputs": [
        {
          "output_type": "stream",
          "name": "stdout",
          "text": [
            "Total de la suma de los elementos:  796\n"
          ]
        }
      ]
    },
    {
      "cell_type": "code",
      "metadata": {
        "colab": {
          "base_uri": "https://localhost:8080/"
        },
        "id": "g_R7HTBbDkyA",
        "outputId": "d9f4d71f-42b8-4994-d243-6337af76205b"
      },
      "source": [
        "print('Suma de las fials: ',matrix.sum(axis=1))"
      ],
      "execution_count": 4,
      "outputs": [
        {
          "output_type": "stream",
          "name": "stdout",
          "text": [
            "Suma de las fials:  [156 101 153 152 234]\n"
          ]
        }
      ]
    },
    {
      "cell_type": "code",
      "metadata": {
        "colab": {
          "base_uri": "https://localhost:8080/"
        },
        "id": "UYeBHhP-DsBZ",
        "outputId": "70915a1a-e10a-411c-d041-5e51e1d56a8a"
      },
      "source": [
        "print('Suma de las columnas: ',matrix.sum(axis=0))"
      ],
      "execution_count": 5,
      "outputs": [
        {
          "output_type": "stream",
          "name": "stdout",
          "text": [
            "Suma de las columnas:  [324 312 160]\n"
          ]
        }
      ]
    }
  ]
}