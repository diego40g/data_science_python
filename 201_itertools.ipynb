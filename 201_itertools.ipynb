{
  "nbformat": 4,
  "nbformat_minor": 0,
  "metadata": {
    "colab": {
      "name": "201. itertools.ipynb",
      "provenance": [],
      "authorship_tag": "ABX9TyMgU2qD6C/q73hmqRSIhG3x",
      "include_colab_link": true
    },
    "kernelspec": {
      "name": "python3",
      "display_name": "Python 3"
    },
    "language_info": {
      "name": "python"
    }
  },
  "cells": [
    {
      "cell_type": "markdown",
      "metadata": {
        "id": "view-in-github",
        "colab_type": "text"
      },
      "source": [
        "<a href=\"https://colab.research.google.com/github/diego40g/data_science_python/blob/numpy/201_itertools.ipynb\" target=\"_parent\"><img src=\"https://colab.research.google.com/assets/colab-badge.svg\" alt=\"Open In Colab\"/></a>"
      ]
    },
    {
      "cell_type": "code",
      "source": [
        "from datetime import date\n",
        "from itertools import islice"
      ],
      "metadata": {
        "id": "1Me2nlZDvAZf"
      },
      "execution_count": 1,
      "outputs": []
    },
    {
      "cell_type": "code",
      "execution_count": 2,
      "metadata": {
        "id": "zzin7i24u62v"
      },
      "outputs": [],
      "source": [
        "def xmasIsSunday(y):\n",
        "    '''True if Dec 25 in the given year is a Sunday.'''\n",
        "    return 6 == date(y, 12, 25).weekday()"
      ]
    },
    {
      "cell_type": "code",
      "source": [
        "# main :: IO ()\n",
        "def main():\n",
        "    '''Years between 2000 and 2150 with 25 December on a Sunday'''\n",
        "\n",
        "    xs = list(filter(\n",
        "        xmasIsSunday,\n",
        "        enumFromTo(2000)(2150)\n",
        "    ))\n",
        "    total = len(xs)\n",
        "    print(\n",
        "        fTable(main.__doc__ + ':\\n\\n' + '(Total ' + str(total) + ')\\n')(\n",
        "            lambda i: str(1 + i)\n",
        "        )(str)(index(xs))(\n",
        "            enumFromTo(0)(total - 1)\n",
        "        )\n",
        "    )"
      ],
      "metadata": {
        "id": "LnrWbTJZvIty"
      },
      "execution_count": 3,
      "outputs": []
    },
    {
      "cell_type": "code",
      "source": [
        "# GENERIC -------------------------------------------------\n",
        "\n",
        "# enumFromTo :: (Int, Int) -> [Int]\n",
        "def enumFromTo(m):\n",
        "    '''Integer enumeration from m to n.'''\n",
        "    return lambda n: list(range(m, 1 + n))"
      ],
      "metadata": {
        "id": "yX73IQkNvM_-"
      },
      "execution_count": 4,
      "outputs": []
    },
    {
      "cell_type": "code",
      "source": [
        "# index (!!) :: [a] -> Int -> a\n",
        "def index(xs):\n",
        "    '''Item at given (zero-based) index.'''\n",
        "    return lambda n: None if 0 > n else (\n",
        "        xs[n] if (\n",
        "            hasattr(xs, \"__getitem__\")\n",
        "        ) else next(islice(xs, n, None))\n",
        "    )"
      ],
      "metadata": {
        "id": "dwMBVzR1vWNQ"
      },
      "execution_count": 5,
      "outputs": []
    },
    {
      "cell_type": "code",
      "source": [
        "# unlines :: [String] -> String\n",
        "def unlines(xs):\n",
        "    '''A single string formed by the intercalation\n",
        "       of a list of strings with the newline character.\n",
        "    '''\n",
        "    return '\\n'.join(xs)"
      ],
      "metadata": {
        "id": "2A6GD6O3vdZa"
      },
      "execution_count": 6,
      "outputs": []
    },
    {
      "cell_type": "code",
      "source": [
        "#  FORMATTING ---------------------------------------------\n",
        "# fTable :: String -> (a -> String) ->\n",
        "#                     (b -> String) -> (a -> b) -> [a] -> String\n",
        "def fTable(s):\n",
        "    '''Heading -> x display function -> fx display function ->\n",
        "                     f -> xs -> tabular string.\n",
        "    '''\n",
        "    def go(xShow, fxShow, f, xs):\n",
        "        ys = [xShow(x) for x in xs]\n",
        "        w = max(map(len, ys))\n",
        "        return s + '\\n' + '\\n'.join(map(\n",
        "            lambda x, y: y.rjust(w, ' ') + ' -> ' + fxShow(f(x)),\n",
        "            xs, ys\n",
        "        ))\n",
        "    return lambda xShow: lambda fxShow: lambda f: lambda xs: go(\n",
        "        xShow, fxShow, f, xs\n",
        "    )"
      ],
      "metadata": {
        "id": "9W7IWp2ev2FO"
      },
      "execution_count": 7,
      "outputs": []
    },
    {
      "cell_type": "code",
      "source": [
        "# MAIN --\n",
        "if __name__ == '__main__':\n",
        "    main()"
      ],
      "metadata": {
        "colab": {
          "base_uri": "https://localhost:8080/"
        },
        "id": "FNqlJonjvjV1",
        "outputId": "4916bb77-fbca-40ac-bd40-a4b5dac93460"
      },
      "execution_count": 8,
      "outputs": [
        {
          "output_type": "stream",
          "name": "stdout",
          "text": [
            "Years between 2000 and 2150 with 25 December on a Sunday:\n",
            "\n",
            "(Total 22)\n",
            "\n",
            " 1 -> 2005\n",
            " 2 -> 2011\n",
            " 3 -> 2016\n",
            " 4 -> 2022\n",
            " 5 -> 2033\n",
            " 6 -> 2039\n",
            " 7 -> 2044\n",
            " 8 -> 2050\n",
            " 9 -> 2061\n",
            "10 -> 2067\n",
            "11 -> 2072\n",
            "12 -> 2078\n",
            "13 -> 2089\n",
            "14 -> 2095\n",
            "15 -> 2101\n",
            "16 -> 2107\n",
            "17 -> 2112\n",
            "18 -> 2118\n",
            "19 -> 2129\n",
            "20 -> 2135\n",
            "21 -> 2140\n",
            "22 -> 2146\n"
          ]
        }
      ]
    }
  ]
}