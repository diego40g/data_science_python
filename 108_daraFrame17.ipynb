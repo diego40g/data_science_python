{
  "nbformat": 4,
  "nbformat_minor": 0,
  "metadata": {
    "colab": {
      "name": "108. daraFrame17.ipynb",
      "provenance": [],
      "authorship_tag": "ABX9TyO4hd2h05mqNWbiWHIQlmr4",
      "include_colab_link": true
    },
    "kernelspec": {
      "name": "python3",
      "display_name": "Python 3"
    },
    "language_info": {
      "name": "python"
    }
  },
  "cells": [
    {
      "cell_type": "markdown",
      "metadata": {
        "id": "view-in-github",
        "colab_type": "text"
      },
      "source": [
        "<a href=\"https://colab.research.google.com/github/diego40g/data_science_python/blob/numpy/108_daraFrame17.ipynb\" target=\"_parent\"><img src=\"https://colab.research.google.com/assets/colab-badge.svg\" alt=\"Open In Colab\"/></a>"
      ]
    },
    {
      "cell_type": "code",
      "metadata": {
        "id": "sM93_ECAcYTz"
      },
      "source": [
        "import pandas as pd\n",
        "import numpy as np"
      ],
      "execution_count": null,
      "outputs": []
    },
    {
      "cell_type": "code",
      "metadata": {
        "colab": {
          "base_uri": "https://localhost:8080/"
        },
        "id": "oPZzfMFQccZ7",
        "outputId": "ec68a134-f616-4748-ac6b-dba6522c6c2a"
      },
      "source": [
        "days = pd.date_range(start = '2018-1-1', end = '2020-12-31')\n",
        "n = days.shape[0]  #total observations\n",
        "print(days)"
      ],
      "execution_count": null,
      "outputs": [
        {
          "output_type": "stream",
          "name": "stdout",
          "text": [
            "DatetimeIndex(['2018-01-01', '2018-01-02', '2018-01-03', '2018-01-04',\n",
            "               '2018-01-05', '2018-01-06', '2018-01-07', '2018-01-08',\n",
            "               '2018-01-09', '2018-01-10',\n",
            "               ...\n",
            "               '2020-12-22', '2020-12-23', '2020-12-24', '2020-12-25',\n",
            "               '2020-12-26', '2020-12-27', '2020-12-28', '2020-12-29',\n",
            "               '2020-12-30', '2020-12-31'],\n",
            "              dtype='datetime64[ns]', length=1096, freq='D')\n"
          ]
        }
      ]
    },
    {
      "cell_type": "code",
      "metadata": {
        "colab": {
          "base_uri": "https://localhost:8080/"
        },
        "id": "kv1eJbQbcjAy",
        "outputId": "8b6f9e88-1411-436c-e93d-26900729063f"
      },
      "source": [
        "data = {\n",
        "    'A': np.random.randint(low = 1, high = 1500, size = n),\n",
        "    'B': np.random.normal(loc = 10, scale = 2, size = n),\n",
        "    'C': np.random.uniform(low = 0, high = 1, size = n),\n",
        "    'D': np.random.lognormal(mean = 4, sigma = 5, size = n),\n",
        "    'E': np.random.standard_normal(size = n)}\n",
        "print(data)"
      ],
      "execution_count": null,
      "outputs": [
        {
          "output_type": "stream",
          "name": "stdout",
          "text": [
            "{'A': array([1200,  674,  482, ...,  587, 1079, 1115]), 'B': array([12.33504652,  9.4895039 ,  8.57734165, ..., 12.45872384,\n",
            "       10.07111117, 10.29500198]), 'C': array([0.63766358, 0.46304679, 0.87850921, ..., 0.66748459, 0.88090139,\n",
            "       0.00364339]), 'D': array([3.48591180e+03, 2.18815101e+02, 2.85985766e-01, ...,\n",
            "       1.68322651e+01, 2.67895816e+00, 1.19944753e+03]), 'E': array([-0.731516  ,  0.22382417, -0.75073189, ...,  0.45835347,\n",
            "       -0.04346044, -1.00889204])}\n"
          ]
        }
      ]
    },
    {
      "cell_type": "code",
      "metadata": {
        "colab": {
          "base_uri": "https://localhost:8080/"
        },
        "id": "1PB0e4FzcpDK",
        "outputId": "6bda884d-e546-4c7a-be5a-c9eb2c0560ba"
      },
      "source": [
        "df = pd.DataFrame(data, index = days)\n",
        "print (df)"
      ],
      "execution_count": null,
      "outputs": [
        {
          "output_type": "stream",
          "name": "stdout",
          "text": [
            "               A          B         C              D         E\n",
            "2018-01-01  1200  12.335047  0.637664    3485.911799 -0.731516\n",
            "2018-01-02   674   9.489504  0.463047     218.815101  0.223824\n",
            "2018-01-03   482   8.577342  0.878509       0.285986 -0.750732\n",
            "2018-01-04  1133   9.586670  0.236222      34.660053 -1.295098\n",
            "2018-01-05   571   7.836428  0.328570      39.397164 -0.356537\n",
            "...          ...        ...       ...            ...       ...\n",
            "2020-12-27  1337  11.743868  0.910550  385670.509762  0.131674\n",
            "2020-12-28   416   8.401571  0.099247      13.882424  0.799040\n",
            "2020-12-29   587  12.458724  0.667485      16.832265  0.458353\n",
            "2020-12-30  1079  10.071111  0.880901       2.678958 -0.043460\n",
            "2020-12-31  1115  10.295002  0.003643    1199.447526 -1.008892\n",
            "\n",
            "[1096 rows x 5 columns]\n"
          ]
        }
      ]
    }
  ]
}