{
  "nbformat": 4,
  "nbformat_minor": 0,
  "metadata": {
    "colab": {
      "name": "41. inverseMatrix.ipynb",
      "provenance": [],
      "authorship_tag": "ABX9TyNs5/CNYa4i03xhdseI8izF",
      "include_colab_link": true
    },
    "kernelspec": {
      "name": "python3",
      "display_name": "Python 3"
    },
    "language_info": {
      "name": "python"
    }
  },
  "cells": [
    {
      "cell_type": "markdown",
      "metadata": {
        "id": "view-in-github",
        "colab_type": "text"
      },
      "source": [
        "<a href=\"https://colab.research.google.com/github/diego40g/data_science_python/blob/numpy/41_inverseMatrix.ipynb\" target=\"_parent\"><img src=\"https://colab.research.google.com/assets/colab-badge.svg\" alt=\"Open In Colab\"/></a>"
      ]
    },
    {
      "cell_type": "code",
      "metadata": {
        "id": "9_lcA8BznFpH"
      },
      "source": [
        "import numpy as np"
      ],
      "execution_count": 1,
      "outputs": []
    },
    {
      "cell_type": "code",
      "metadata": {
        "colab": {
          "base_uri": "https://localhost:8080/"
        },
        "id": "cLivkTQHnJ7H",
        "outputId": "c47ca851-e901-4da2-b10c-8b813d365e86"
      },
      "source": [
        "A = np.array([[1,2],[3,4]])\n",
        "print(A)"
      ],
      "execution_count": 2,
      "outputs": [
        {
          "output_type": "stream",
          "name": "stdout",
          "text": [
            "[[1 2]\n",
            " [3 4]]\n"
          ]
        }
      ]
    },
    {
      "cell_type": "code",
      "metadata": {
        "colab": {
          "base_uri": "https://localhost:8080/"
        },
        "id": "FicjAT7enMoS",
        "outputId": "959584bc-3e73-427e-dbbb-4733aad635bd"
      },
      "source": [
        "B = np.array([[-1,3],[5,4]])\n",
        "print(B)"
      ],
      "execution_count": 4,
      "outputs": [
        {
          "output_type": "stream",
          "name": "stdout",
          "text": [
            "[[-1  3]\n",
            " [ 5  4]]\n"
          ]
        }
      ]
    },
    {
      "cell_type": "code",
      "metadata": {
        "colab": {
          "base_uri": "https://localhost:8080/"
        },
        "id": "fQbmgXO9nN7i",
        "outputId": "e56e5fec-0104-4dad-b53f-6aa069169c8e"
      },
      "source": [
        "A_inverse = np.linalg.inv(A)\n",
        "print(A_inverse)"
      ],
      "execution_count": 5,
      "outputs": [
        {
          "output_type": "stream",
          "name": "stdout",
          "text": [
            "[[-2.   1. ]\n",
            " [ 1.5 -0.5]]\n"
          ]
        }
      ]
    },
    {
      "cell_type": "code",
      "metadata": {
        "colab": {
          "base_uri": "https://localhost:8080/"
        },
        "id": "lRMpttmgnSta",
        "outputId": "bdd840ec-ef1a-4e8f-a59b-f92daf341a08"
      },
      "source": [
        "B_inverse = np.linalg.inv(B)\n",
        "print(B_inverse)"
      ],
      "execution_count": 6,
      "outputs": [
        {
          "output_type": "stream",
          "name": "stdout",
          "text": [
            "[[-0.21052632  0.15789474]\n",
            " [ 0.26315789  0.05263158]]\n"
          ]
        }
      ]
    }
  ]
}