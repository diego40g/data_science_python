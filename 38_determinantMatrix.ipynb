{
  "nbformat": 4,
  "nbformat_minor": 0,
  "metadata": {
    "colab": {
      "name": "38. determinantMatrix.ipynb",
      "provenance": [],
      "authorship_tag": "ABX9TyNC1k6eCs6q7poFdcQDI0nZ",
      "include_colab_link": true
    },
    "kernelspec": {
      "name": "python3",
      "display_name": "Python 3"
    },
    "language_info": {
      "name": "python"
    }
  },
  "cells": [
    {
      "cell_type": "markdown",
      "metadata": {
        "id": "view-in-github",
        "colab_type": "text"
      },
      "source": [
        "<a href=\"https://colab.research.google.com/github/diego40g/data_science_python/blob/numpy/38_determinantMatrix.ipynb\" target=\"_parent\"><img src=\"https://colab.research.google.com/assets/colab-badge.svg\" alt=\"Open In Colab\"/></a>"
      ]
    },
    {
      "cell_type": "code",
      "metadata": {
        "id": "TNgmr2pTk5LU"
      },
      "source": [
        "import numpy as np"
      ],
      "execution_count": 1,
      "outputs": []
    },
    {
      "cell_type": "code",
      "metadata": {
        "colab": {
          "base_uri": "https://localhost:8080/"
        },
        "id": "_JCSrJ_XlFUC",
        "outputId": "ee2ffaa3-84d2-44c9-be0a-ec9f8991d388"
      },
      "source": [
        "A = np.array([[5]])\n",
        "print(A)"
      ],
      "execution_count": 2,
      "outputs": [
        {
          "output_type": "stream",
          "name": "stdout",
          "text": [
            "[[5]]\n"
          ]
        }
      ]
    },
    {
      "cell_type": "code",
      "metadata": {
        "colab": {
          "base_uri": "https://localhost:8080/"
        },
        "id": "3-mMaqJ8lNYa",
        "outputId": "ca66dc00-bf20-4199-d952-c71ee10ba876"
      },
      "source": [
        "B = np.array([[1,2],[3,4]])\n",
        "print(B)"
      ],
      "execution_count": 3,
      "outputs": [
        {
          "output_type": "stream",
          "name": "stdout",
          "text": [
            "[[1 2]\n",
            " [3 4]]\n"
          ]
        }
      ]
    },
    {
      "cell_type": "code",
      "metadata": {
        "colab": {
          "base_uri": "https://localhost:8080/"
        },
        "id": "HKccCD8RlQ7z",
        "outputId": "446e49f9-7952-489e-a735-89834aff4da0"
      },
      "source": [
        "C = np.array([[-3,-8],[-5,-2]])\n",
        "print(C)"
      ],
      "execution_count": 4,
      "outputs": [
        {
          "output_type": "stream",
          "name": "stdout",
          "text": [
            "[[-3 -8]\n",
            " [-5 -2]]\n"
          ]
        }
      ]
    },
    {
      "cell_type": "code",
      "metadata": {
        "colab": {
          "base_uri": "https://localhost:8080/"
        },
        "id": "hsIGpVQhlT-B",
        "outputId": "92d54438-8b63-4396-e70a-43960edf2604"
      },
      "source": [
        "D = np.eye(2)\n",
        "print(D)"
      ],
      "execution_count": 5,
      "outputs": [
        {
          "output_type": "stream",
          "name": "stdout",
          "text": [
            "[[1. 0.]\n",
            " [0. 1.]]\n"
          ]
        }
      ]
    },
    {
      "cell_type": "code",
      "metadata": {
        "colab": {
          "base_uri": "https://localhost:8080/"
        },
        "id": "RYvpFTpalXBs",
        "outputId": "d441acd2-77c8-47b8-bcec-4ab356fa77f3"
      },
      "source": [
        "det_A = np.linalg.det(A).round()\n",
        "print(det_A)"
      ],
      "execution_count": 7,
      "outputs": [
        {
          "output_type": "stream",
          "name": "stdout",
          "text": [
            "5.0\n"
          ]
        }
      ]
    },
    {
      "cell_type": "code",
      "metadata": {
        "colab": {
          "base_uri": "https://localhost:8080/"
        },
        "id": "FWk5EdeMlbvk",
        "outputId": "b507a6b4-c5c7-454e-81c7-7e38a9ca9b6f"
      },
      "source": [
        "det_B = np.linalg.det(B).round()\n",
        "print(det_B)"
      ],
      "execution_count": 9,
      "outputs": [
        {
          "output_type": "stream",
          "name": "stdout",
          "text": [
            "-2.0\n"
          ]
        }
      ]
    },
    {
      "cell_type": "code",
      "metadata": {
        "colab": {
          "base_uri": "https://localhost:8080/"
        },
        "id": "m7p9J_Ipliwk",
        "outputId": "f43c7e61-0ad6-464d-b44e-e0703b778223"
      },
      "source": [
        "det_C = np.linalg.det(C).round()\n",
        "print(det_C)"
      ],
      "execution_count": 10,
      "outputs": [
        {
          "output_type": "stream",
          "name": "stdout",
          "text": [
            "-34.0\n"
          ]
        }
      ]
    },
    {
      "cell_type": "code",
      "metadata": {
        "colab": {
          "base_uri": "https://localhost:8080/"
        },
        "id": "dGaHwYVUlpk8",
        "outputId": "b579217e-bb4b-48df-8e2b-7d4ab7c0ddea"
      },
      "source": [
        "det_D = np.linalg.det(D).round()\n",
        "print(det_D)"
      ],
      "execution_count": 11,
      "outputs": [
        {
          "output_type": "stream",
          "name": "stdout",
          "text": [
            "1.0\n"
          ]
        }
      ]
    }
  ]
}