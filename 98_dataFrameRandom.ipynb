{
  "nbformat": 4,
  "nbformat_minor": 0,
  "metadata": {
    "colab": {
      "name": "98. dataFrameRandom.ipynb",
      "provenance": [],
      "authorship_tag": "ABX9TyMfR/eZ2lJwFilcYuFgTQ0U",
      "include_colab_link": true
    },
    "kernelspec": {
      "name": "python3",
      "display_name": "Python 3"
    },
    "language_info": {
      "name": "python"
    }
  },
  "cells": [
    {
      "cell_type": "markdown",
      "metadata": {
        "id": "view-in-github",
        "colab_type": "text"
      },
      "source": [
        "<a href=\"https://colab.research.google.com/github/diego40g/data_science_python/blob/numpy/98_dataFrameRandom.ipynb\" target=\"_parent\"><img src=\"https://colab.research.google.com/assets/colab-badge.svg\" alt=\"Open In Colab\"/></a>"
      ]
    },
    {
      "cell_type": "code",
      "metadata": {
        "id": "VEzRWRM8SlHW"
      },
      "source": [
        "import numpy as np\n",
        "import pandas as pd"
      ],
      "execution_count": 1,
      "outputs": []
    },
    {
      "cell_type": "code",
      "metadata": {
        "colab": {
          "base_uri": "https://localhost:8080/"
        },
        "id": "pjYRHH15SsxD",
        "outputId": "4f17e886-3312-4604-dc59-a13c54552a35"
      },
      "source": [
        "np.random.seed(77)\n",
        "data = np.random.randint(1,50,16).reshape((4,4))\n",
        "print(data)"
      ],
      "execution_count": 2,
      "outputs": [
        {
          "output_type": "stream",
          "name": "stdout",
          "text": [
            "[[24 32 21 21]\n",
            " [44 38 25 32]\n",
            " [33 40 45 20]\n",
            " [33 37 37 48]]\n"
          ]
        }
      ]
    },
    {
      "cell_type": "code",
      "metadata": {
        "colab": {
          "base_uri": "https://localhost:8080/"
        },
        "id": "N29rRhdCS1Qt",
        "outputId": "3a72c24a-c21d-481e-e0ff-7d99d4329f61"
      },
      "source": [
        "df = pd.DataFrame(data, \n",
        "                columns = ['A', 'B', 'C', 'D'],\n",
        "                index = ['i', 'j', 'k', 'w'])\n",
        "print(df)"
      ],
      "execution_count": 3,
      "outputs": [
        {
          "output_type": "stream",
          "name": "stdout",
          "text": [
            "    A   B   C   D\n",
            "i  24  32  21  21\n",
            "j  44  38  25  32\n",
            "k  33  40  45  20\n",
            "w  33  37  37  48\n"
          ]
        }
      ]
    },
    {
      "cell_type": "code",
      "metadata": {
        "colab": {
          "base_uri": "https://localhost:8080/"
        },
        "id": "C9tsiz7oS77D",
        "outputId": "283688a5-6a41-4e8b-fb0a-19b3e7fa9f22"
      },
      "source": [
        "df.drop(['k', 'j'], inplace = True)\n",
        "df.drop(['A', 'D'], axis = 1, inplace = True)\n",
        "print(df)"
      ],
      "execution_count": 4,
      "outputs": [
        {
          "output_type": "stream",
          "name": "stdout",
          "text": [
            "    B   C\n",
            "i  32  21\n",
            "w  37  37\n"
          ]
        }
      ]
    }
  ]
}