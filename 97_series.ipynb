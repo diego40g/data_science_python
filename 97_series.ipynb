{
  "nbformat": 4,
  "nbformat_minor": 0,
  "metadata": {
    "colab": {
      "name": "97. series.ipynb",
      "provenance": [],
      "authorship_tag": "ABX9TyMHX+mK7YDmD2gmX1QeVwL0",
      "include_colab_link": true
    },
    "kernelspec": {
      "name": "python3",
      "display_name": "Python 3"
    },
    "language_info": {
      "name": "python"
    }
  },
  "cells": [
    {
      "cell_type": "markdown",
      "metadata": {
        "id": "view-in-github",
        "colab_type": "text"
      },
      "source": [
        "<a href=\"https://colab.research.google.com/github/diego40g/data_science_python/blob/numpy/97_series.ipynb\" target=\"_parent\"><img src=\"https://colab.research.google.com/assets/colab-badge.svg\" alt=\"Open In Colab\"/></a>"
      ]
    },
    {
      "cell_type": "code",
      "metadata": {
        "id": "YRiXeVfeRrd1"
      },
      "source": [
        "import pandas as pd\n",
        "import numpy as np"
      ],
      "execution_count": 1,
      "outputs": []
    },
    {
      "cell_type": "code",
      "metadata": {
        "colab": {
          "base_uri": "https://localhost:8080/"
        },
        "id": "pipErPKjR-S_",
        "outputId": "4cb8918d-f974-477d-e23d-796a42d679c5"
      },
      "source": [
        "series = pd.Series(\n",
        "    np.random.randint(100,150,4), \n",
        "    index = ['Year 1', 'Year 2', 'Year 3', 'Year 4'])\n",
        "print(series)"
      ],
      "execution_count": 2,
      "outputs": [
        {
          "output_type": "stream",
          "name": "stdout",
          "text": [
            "Year 1    123\n",
            "Year 2    111\n",
            "Year 3    139\n",
            "Year 4    117\n",
            "dtype: int64\n"
          ]
        }
      ]
    },
    {
      "cell_type": "code",
      "metadata": {
        "colab": {
          "base_uri": "https://localhost:8080/"
        },
        "id": "qS-DBojESE0B",
        "outputId": "a5f5e720-2146-431f-e539-d78a3769218c"
      },
      "source": [
        "series.drop(index = 'Year 1', inplace = True)\n",
        "series.drop(index = ['Year 2', 'Year 4'], inplace = True)\n",
        "print(series)"
      ],
      "execution_count": 3,
      "outputs": [
        {
          "output_type": "stream",
          "name": "stdout",
          "text": [
            "Year 3    139\n",
            "dtype: int64\n"
          ]
        }
      ]
    }
  ]
}