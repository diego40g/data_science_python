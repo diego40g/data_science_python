{
  "nbformat": 4,
  "nbformat_minor": 0,
  "metadata": {
    "colab": {
      "name": "68. standardDeviation.ipynb",
      "provenance": [],
      "authorship_tag": "ABX9TyMaSiHVm8u2VIuvW6FoajuF",
      "include_colab_link": true
    },
    "kernelspec": {
      "name": "python3",
      "display_name": "Python 3"
    },
    "language_info": {
      "name": "python"
    }
  },
  "cells": [
    {
      "cell_type": "markdown",
      "metadata": {
        "id": "view-in-github",
        "colab_type": "text"
      },
      "source": [
        "<a href=\"https://colab.research.google.com/github/diego40g/data_science_python/blob/numpy/68_standardDeviation.ipynb\" target=\"_parent\"><img src=\"https://colab.research.google.com/assets/colab-badge.svg\" alt=\"Open In Colab\"/></a>"
      ]
    },
    {
      "cell_type": "code",
      "metadata": {
        "id": "RVK85ollxxEq"
      },
      "source": [
        "from numpy import random\n",
        "import numpy as np"
      ],
      "execution_count": 3,
      "outputs": []
    },
    {
      "cell_type": "code",
      "metadata": {
        "colab": {
          "base_uri": "https://localhost:8080/"
        },
        "id": "dSPDw5i_zRY0",
        "outputId": "ce22f57a-d652-4513-fb9f-30ff8645e024"
      },
      "source": [
        "n = 100  #size\n",
        "mean = 5\n",
        "standard_deviation = 0.9\n",
        "array = random.logistic(loc = mean, scale = standard_deviation , size = n)\n",
        "print (array)"
      ],
      "execution_count": 5,
      "outputs": [
        {
          "output_type": "stream",
          "name": "stdout",
          "text": [
            "[ 4.35002833  3.86353728  4.65882473  5.45638321  5.11103194  6.20407749\n",
            "  2.03656473  6.11622505  2.69359751  4.67268819  4.98877934  6.08375128\n",
            "  6.80286872 11.15098961  4.22634893  6.13892065  4.03616522  6.67224771\n",
            "  5.58949074  6.51939007  3.22121329  4.47377809  3.46733209  4.69351044\n",
            "  5.4200187   4.77092925  4.19125602  7.16043092  6.5799419   5.24559955\n",
            "  6.59441991  3.1303283   7.61598225  4.84491413  6.54784754  5.9345374\n",
            "  6.12624758  5.68855834  4.65204471  2.99585881  5.94028623  5.60468417\n",
            "  6.67440362  6.45254651  5.96620783  4.24558377  5.68308304  5.97245542\n",
            "  4.77100579  5.88806348  9.44023713  5.75108396  2.52180587  2.53135789\n",
            "  2.93991868  4.15890643  3.47368964  5.03272883  3.00792102  4.44492397\n",
            "  5.16401774  7.33827961  6.55655003  4.8597776   3.78622613  5.40069387\n",
            "  2.19998206  3.77217886  5.14094618  7.23336263  2.16649726  5.27698522\n",
            "  5.38112657  2.88171472  6.50868857  4.83939852  2.64859203  6.06003885\n",
            "  4.77955378  2.63230688  4.83936295  4.89866202  3.14934849  6.11967499\n",
            "  4.99544386  5.50254466  6.97833976  4.27652225  6.49695368  7.00158352\n",
            "  5.29101901  3.63037975  4.77634076  3.96608799  5.29927452  4.42124571\n",
            "  5.57754915  5.61572317  5.01129529  4.86085576]\n"
          ]
        }
      ]
    }
  ]
}