{
  "nbformat": 4,
  "nbformat_minor": 0,
  "metadata": {
    "colab": {
      "name": "167. palabrasClaves.ipynb",
      "provenance": [],
      "authorship_tag": "ABX9TyPNbywprNKPB47pvPWGEj39",
      "include_colab_link": true
    },
    "kernelspec": {
      "name": "python3",
      "display_name": "Python 3"
    },
    "language_info": {
      "name": "python"
    }
  },
  "cells": [
    {
      "cell_type": "markdown",
      "metadata": {
        "id": "view-in-github",
        "colab_type": "text"
      },
      "source": [
        "<a href=\"https://colab.research.google.com/github/diego40g/data_science_python/blob/numpy/167_palabrasClaves.ipynb\" target=\"_parent\"><img src=\"https://colab.research.google.com/assets/colab-badge.svg\" alt=\"Open In Colab\"/></a>"
      ]
    },
    {
      "cell_type": "code",
      "execution_count": 1,
      "metadata": {
        "id": "7AscQGh6-SZ_"
      },
      "outputs": [],
      "source": [
        "def menu_muestra():\n",
        "  print('\\n\\n')\n",
        "  print('-----------Palabras Claves-----------\\n')\n",
        "  print('[1] - Importar palabras clave')\n",
        "  print('[2] - Mostra palabras clave')\n",
        "  print('[0] - Salir')"
      ]
    },
    {
      "cell_type": "code",
      "source": [
        "def carga_keywords():\n",
        "    keywords = []\n",
        "    try:\n",
        "        with open('keywords.txt') as fichero:\n",
        "            for kw in fichero:\n",
        "                kw = kw.replace('\\n', '')\n",
        "                keywords.append(kw)\n",
        "    except FileNotFoundError:\n",
        "        print('No se encuentra el fichero keywords.txt')\n",
        "    return keywords"
      ],
      "metadata": {
        "id": "eNanAf8CEmTY"
      },
      "execution_count": 2,
      "outputs": []
    },
    {
      "cell_type": "code",
      "source": [
        "def muestra_keywords(keywords):\n",
        "    contador = 0\n",
        "    for kw in keywords:\n",
        "        print(kw)\n",
        "        contador += 1\n",
        "        if contador == 20:\n",
        "            contador = 0\n",
        "            input('Mostrar más...')"
      ],
      "metadata": {
        "id": "Z4PsKXcEFkWX"
      },
      "execution_count": 3,
      "outputs": []
    },
    {
      "cell_type": "code",
      "source": [
        "def run():\n",
        "\n",
        "    keywords = []\n",
        "\n",
        "    while True:\n",
        "        menu_muestra()\n",
        "        opcion = input('Selecciona una opción > ')\n",
        "        opcion = int(opcion)\n",
        "        if opcion == 0:\n",
        "            break\n",
        "        elif opcion == 1:\n",
        "            keywords = carga_keywords()\n",
        "        elif opcion == 2:\n",
        "            muestra_keywords(keywords)\n",
        "        else:\n",
        "            print('Opción no válida')"
      ],
      "metadata": {
        "id": "ZvqrsPRPFoOz"
      },
      "execution_count": 4,
      "outputs": []
    },
    {
      "cell_type": "code",
      "source": [
        "if __name__ == '__main__':\n",
        "    run()"
      ],
      "metadata": {
        "id": "S-HQnyChFtVG"
      },
      "execution_count": null,
      "outputs": []
    }
  ]
}