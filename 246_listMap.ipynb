{
  "nbformat": 4,
  "nbformat_minor": 0,
  "metadata": {
    "colab": {
      "provenance": [],
      "authorship_tag": "ABX9TyP8w99agZ9YHVG1X9R7DGXD",
      "include_colab_link": true
    },
    "kernelspec": {
      "name": "python3",
      "display_name": "Python 3"
    },
    "language_info": {
      "name": "python"
    }
  },
  "cells": [
    {
      "cell_type": "markdown",
      "metadata": {
        "id": "view-in-github",
        "colab_type": "text"
      },
      "source": [
        "<a href=\"https://colab.research.google.com/github/diego40g/data_science_python/blob/numpy/246_listMap.ipynb\" target=\"_parent\"><img src=\"https://colab.research.google.com/assets/colab-badge.svg\" alt=\"Open In Colab\"/></a>"
      ]
    },
    {
      "cell_type": "code",
      "execution_count": 1,
      "metadata": {
        "id": "nt_5z0LYmlXw"
      },
      "outputs": [],
      "source": [
        "student_data  = [('Diego Paz','15/05/2002','35kg'), ('Ana Naula','17/05/2002','37kg'), ('Jaime Rosero','16/02/1999', '39kg'), ('James Arthur','25/09/1998', '35kg')]"
      ]
    },
    {
      "cell_type": "code",
      "source": [
        "print(\"Original data:\")\n",
        "print(student_data)\n",
        "students_data_name = list(map(lambda x:x[0], student_data))\n",
        "students_data_dob = list(map(lambda x:x[1], student_data))\n",
        "students_data_weight = list(map(lambda x:int(x[2][:-2]), student_data))"
      ],
      "metadata": {
        "colab": {
          "base_uri": "https://localhost:8080/"
        },
        "id": "0D6aT-2nmuzs",
        "outputId": "072f6630-6c4f-46a5-c58a-e37d6215fd41"
      },
      "execution_count": 2,
      "outputs": [
        {
          "output_type": "stream",
          "name": "stdout",
          "text": [
            "Original data:\n",
            "[('Diego Paz', '15/05/2002', '35kg'), ('Ana Naula', '17/05/2002', '37kg'), ('Jaime Rosero', '16/02/1999', '39kg'), ('James Arthur', '25/09/1998', '35kg')]\n"
          ]
        }
      ]
    },
    {
      "cell_type": "code",
      "source": [
        "print(\"\\nStudent name:\")\n",
        "print(students_data_name)\n",
        "print(\"Student name:\")\n",
        "print(students_data_dob)\n",
        "print(\"Student weight:\")\n",
        "print(students_data_weight)"
      ],
      "metadata": {
        "colab": {
          "base_uri": "https://localhost:8080/"
        },
        "id": "7okvf6m1mzhX",
        "outputId": "a73f363c-764f-4627-c38d-15f90aa2e97f"
      },
      "execution_count": 3,
      "outputs": [
        {
          "output_type": "stream",
          "name": "stdout",
          "text": [
            "\n",
            "Student name:\n",
            "['Diego Paz', 'Ana Naula', 'Jaime Rosero', 'James Arthur']\n",
            "Student name:\n",
            "['15/05/2002', '17/05/2002', '16/02/1999', '25/09/1998']\n",
            "Student weight:\n",
            "[35, 37, 39, 35]\n"
          ]
        }
      ]
    }
  ]
}