{
  "nbformat": 4,
  "nbformat_minor": 0,
  "metadata": {
    "colab": {
      "name": "218. precioBase.ipynb",
      "provenance": [],
      "authorship_tag": "ABX9TyPYb/Olam+6/GkvHmsBZW41",
      "include_colab_link": true
    },
    "kernelspec": {
      "name": "python3",
      "display_name": "Python 3"
    },
    "language_info": {
      "name": "python"
    }
  },
  "cells": [
    {
      "cell_type": "markdown",
      "metadata": {
        "id": "view-in-github",
        "colab_type": "text"
      },
      "source": [
        "<a href=\"https://colab.research.google.com/github/diego40g/data_science_python/blob/numpy/218_precioBase.ipynb\" target=\"_parent\"><img src=\"https://colab.research.google.com/assets/colab-badge.svg\" alt=\"Open In Colab\"/></a>"
      ]
    },
    {
      "cell_type": "code",
      "source": [
        "def valor_descuento (precio, descuento):\n",
        "    return precio - precio * descuento / 100"
      ],
      "metadata": {
        "id": "SQYVKUtRtZOf"
      },
      "execution_count": 1,
      "outputs": []
    },
    {
      "cell_type": "code",
      "source": [
        "def calcula_IVA(precio, porcentaje):\n",
        "    return precio + precio * porcentaje / 100"
      ],
      "metadata": {
        "id": "SJo7HqZvuJSV"
      },
      "execution_count": 3,
      "outputs": []
    },
    {
      "cell_type": "code",
      "execution_count": 4,
      "metadata": {
        "id": "NMslPqCVtRAI"
      },
      "outputs": [],
      "source": [
        "def precio_base(base, funccion):\n",
        "    total = 0\n",
        "    for precio, descuento in base.items():\n",
        "        total += funccion(precio, descuento)\n",
        "    return total"
      ]
    },
    {
      "cell_type": "code",
      "source": [
        "print('El precio de la compra tras aplicar los descuentos es: ', precio_base({1000:20, 500:10, 100:1}, valor_descuento))"
      ],
      "metadata": {
        "colab": {
          "base_uri": "https://localhost:8080/"
        },
        "id": "UbHRajfjuAv9",
        "outputId": "493b8048-8891-4b40-b4d9-e19ad934fa32"
      },
      "execution_count": 5,
      "outputs": [
        {
          "output_type": "stream",
          "name": "stdout",
          "text": [
            "El precio de la compra tras aplicar los descuentos es:  1349.0\n"
          ]
        }
      ]
    },
    {
      "cell_type": "code",
      "source": [
        "print('El precio de la compra tras aplicar el IVA es: ', precio_base({1000:20, 500:10, 100:1}, calcula_IVA))"
      ],
      "metadata": {
        "colab": {
          "base_uri": "https://localhost:8080/"
        },
        "id": "Ukt-fkXLuBYb",
        "outputId": "5c5fa5d6-d838-43f6-e0de-1f42d38bfb9c"
      },
      "execution_count": 6,
      "outputs": [
        {
          "output_type": "stream",
          "name": "stdout",
          "text": [
            "El precio de la compra tras aplicar el IVA es:  1851.0\n"
          ]
        }
      ]
    }
  ]
}