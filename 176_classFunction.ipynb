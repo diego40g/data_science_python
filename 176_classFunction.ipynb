{
  "nbformat": 4,
  "nbformat_minor": 0,
  "metadata": {
    "colab": {
      "name": "176. classFunction.ipynb",
      "provenance": [],
      "authorship_tag": "ABX9TyMvibK8to1znFLLHnZvKgtV",
      "include_colab_link": true
    },
    "kernelspec": {
      "name": "python3",
      "display_name": "Python 3"
    },
    "language_info": {
      "name": "python"
    }
  },
  "cells": [
    {
      "cell_type": "markdown",
      "metadata": {
        "id": "view-in-github",
        "colab_type": "text"
      },
      "source": [
        "<a href=\"https://colab.research.google.com/github/diego40g/data_science_python/blob/numpy/176_classFunction.ipynb\" target=\"_parent\"><img src=\"https://colab.research.google.com/assets/colab-badge.svg\" alt=\"Open In Colab\"/></a>"
      ]
    },
    {
      "cell_type": "code",
      "execution_count": 1,
      "metadata": {
        "id": "2e8MiRUcpAmw"
      },
      "outputs": [],
      "source": [
        "class numerical (object):\n",
        "    def __init__(self,val1,val2):\n",
        "        self.val1=val1\n",
        "        self.val2=val2\n",
        "    def mult(self):\n",
        "        return self.val1*self.val2"
      ]
    },
    {
      "cell_type": "code",
      "source": [
        "aux=numerical (2,\"hola\")\n",
        "print(aux.mult())"
      ],
      "metadata": {
        "colab": {
          "base_uri": "https://localhost:8080/"
        },
        "id": "tHBiH-bDqqQ8",
        "outputId": "a0ccfa54-af6b-4403-c256-8b28ccef8b3d"
      },
      "execution_count": 3,
      "outputs": [
        {
          "output_type": "stream",
          "name": "stdout",
          "text": [
            "holahola\n"
          ]
        }
      ]
    }
  ]
}