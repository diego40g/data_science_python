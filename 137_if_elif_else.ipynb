{
  "nbformat": 4,
  "nbformat_minor": 0,
  "metadata": {
    "colab": {
      "name": "137. if-elif-else.ipynb",
      "provenance": [],
      "authorship_tag": "ABX9TyNFX28IIrn3ESc1zjUnxiOm",
      "include_colab_link": true
    },
    "kernelspec": {
      "name": "python3",
      "display_name": "Python 3"
    },
    "language_info": {
      "name": "python"
    }
  },
  "cells": [
    {
      "cell_type": "markdown",
      "metadata": {
        "id": "view-in-github",
        "colab_type": "text"
      },
      "source": [
        "<a href=\"https://colab.research.google.com/github/diego40g/data_science_python/blob/numpy/137_if_elif_else.ipynb\" target=\"_parent\"><img src=\"https://colab.research.google.com/assets/colab-badge.svg\" alt=\"Open In Colab\"/></a>"
      ]
    },
    {
      "cell_type": "code",
      "execution_count": null,
      "metadata": {
        "id": "N2fuHtUQNXDs"
      },
      "outputs": [],
      "source": [
        "x=4\n",
        "y=7"
      ]
    },
    {
      "cell_type": "code",
      "source": [
        "if x>=y:\n",
        "    print('sí')\n",
        "else:\n",
        "    print('no')"
      ],
      "metadata": {
        "colab": {
          "base_uri": "https://localhost:8080/"
        },
        "id": "1gJeo8C6xfK3",
        "outputId": "70ec6f4f-86be-4a3b-dc3a-efff5fd1ef01"
      },
      "execution_count": null,
      "outputs": [
        {
          "output_type": "stream",
          "name": "stdout",
          "text": [
            "no\n"
          ]
        }
      ]
    },
    {
      "cell_type": "code",
      "source": [
        "x=8\n",
        "y=8"
      ],
      "metadata": {
        "id": "B-d-7u6mxx_g"
      },
      "execution_count": null,
      "outputs": []
    },
    {
      "cell_type": "code",
      "source": [
        "if y>x:\n",
        "    print('x es mayor')\n",
        "elif y<x:\n",
        "    print('y es mayor')\n",
        "else:\n",
        "    print ('x e y sin iguales')"
      ],
      "metadata": {
        "colab": {
          "base_uri": "https://localhost:8080/"
        },
        "id": "2ln7zaxKx75p",
        "outputId": "de02b901-63b6-404c-d1ee-ab895cef0ae6"
      },
      "execution_count": null,
      "outputs": [
        {
          "output_type": "stream",
          "name": "stdout",
          "text": [
            "x e y sin iguales\n"
          ]
        }
      ]
    }
  ]
}