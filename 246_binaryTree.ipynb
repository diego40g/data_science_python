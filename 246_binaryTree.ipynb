{
  "nbformat": 4,
  "nbformat_minor": 0,
  "metadata": {
    "colab": {
      "provenance": [],
      "authorship_tag": "ABX9TyPyjsuwcU7Uhaem6Wnguvsu",
      "include_colab_link": true
    },
    "kernelspec": {
      "name": "python3",
      "display_name": "Python 3"
    },
    "language_info": {
      "name": "python"
    }
  },
  "cells": [
    {
      "cell_type": "markdown",
      "metadata": {
        "id": "view-in-github",
        "colab_type": "text"
      },
      "source": [
        "<a href=\"https://colab.research.google.com/github/diego40g/data_science_python/blob/numpy/246_binaryTree.ipynb\" target=\"_parent\"><img src=\"https://colab.research.google.com/assets/colab-badge.svg\" alt=\"Open In Colab\"/></a>"
      ]
    },
    {
      "cell_type": "code",
      "execution_count": 1,
      "metadata": {
        "id": "VOuMcHJMc6Ro"
      },
      "outputs": [],
      "source": [
        "class TreeNode(object):\n",
        "    def __init__(self, x):\n",
        "        self.val = x\n",
        "        self.left = None\n",
        "        self.right = None"
      ]
    },
    {
      "cell_type": "code",
      "source": [
        "def is_BST(root):\n",
        "    stack = []\n",
        "    prev = None\n",
        "    \n",
        "    while root or stack:\n",
        "        while root:\n",
        "            stack.append(root)\n",
        "            root = root.left\n",
        "        root = stack.pop()\n",
        "        if prev and root.val <= prev.val:\n",
        "            return False\n",
        "        prev = root\n",
        "        root = root.right\n",
        "    return True"
      ],
      "metadata": {
        "id": "EwQGDAZAc_u9"
      },
      "execution_count": 2,
      "outputs": []
    },
    {
      "cell_type": "code",
      "source": [
        "root = TreeNode(2)  \n",
        "root.left = TreeNode(1)  \n",
        "root.right = TreeNode(3) \n",
        " \n",
        "result = is_BST(root)\n",
        "print(result)"
      ],
      "metadata": {
        "colab": {
          "base_uri": "https://localhost:8080/"
        },
        "id": "CQ9AyeuMdERe",
        "outputId": "823be32a-17e0-47bf-d5d3-4360a3e01ea5"
      },
      "execution_count": 3,
      "outputs": [
        {
          "output_type": "stream",
          "name": "stdout",
          "text": [
            "True\n"
          ]
        }
      ]
    },
    {
      "cell_type": "code",
      "source": [
        "root = TreeNode(1)  \n",
        "root.left = TreeNode(2)  \n",
        "root.right = TreeNode(3) \n",
        " \n",
        "result = is_BST(root)\n",
        "print(result)\n"
      ],
      "metadata": {
        "colab": {
          "base_uri": "https://localhost:8080/"
        },
        "id": "pDdKWmvpdGlW",
        "outputId": "18735489-ef01-4140-ba33-fc1335d48714"
      },
      "execution_count": 4,
      "outputs": [
        {
          "output_type": "stream",
          "name": "stdout",
          "text": [
            "False\n"
          ]
        }
      ]
    }
  ]
}