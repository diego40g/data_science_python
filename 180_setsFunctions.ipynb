{
  "nbformat": 4,
  "nbformat_minor": 0,
  "metadata": {
    "colab": {
      "name": "180. setsFunctions.ipynb",
      "provenance": [],
      "authorship_tag": "ABX9TyPtPy6UpJwggBjUBMIXIiln",
      "include_colab_link": true
    },
    "kernelspec": {
      "name": "python3",
      "display_name": "Python 3"
    },
    "language_info": {
      "name": "python"
    }
  },
  "cells": [
    {
      "cell_type": "markdown",
      "metadata": {
        "id": "view-in-github",
        "colab_type": "text"
      },
      "source": [
        "<a href=\"https://colab.research.google.com/github/diego40g/data_science_python/blob/numpy/180_setsFunctions.ipynb\" target=\"_parent\"><img src=\"https://colab.research.google.com/assets/colab-badge.svg\" alt=\"Open In Colab\"/></a>"
      ]
    },
    {
      "cell_type": "code",
      "execution_count": 1,
      "metadata": {
        "id": "LjXrhrCyXoTd"
      },
      "outputs": [],
      "source": [
        "conjunto1={'a','b','c'}"
      ]
    },
    {
      "cell_type": "code",
      "source": [
        "conjunto2={'c','d','e'}"
      ],
      "metadata": {
        "id": "dUBPfPt4X5iE"
      },
      "execution_count": 2,
      "outputs": []
    },
    {
      "cell_type": "code",
      "source": [
        "print(conjunto1-conjunto2)"
      ],
      "metadata": {
        "colab": {
          "base_uri": "https://localhost:8080/"
        },
        "id": "nkKdWcAMYc-E",
        "outputId": "21a7c8c0-7302-47ec-a214-51c1c0642586"
      },
      "execution_count": 3,
      "outputs": [
        {
          "output_type": "stream",
          "name": "stdout",
          "text": [
            "{'a', 'b'}\n"
          ]
        }
      ]
    },
    {
      "cell_type": "code",
      "source": [
        "print(conjunto1|conjunto2)"
      ],
      "metadata": {
        "colab": {
          "base_uri": "https://localhost:8080/"
        },
        "id": "nKH2AI-wYmio",
        "outputId": "fbdbf18a-111a-4bee-fbc7-102d47f23a5a"
      },
      "execution_count": 4,
      "outputs": [
        {
          "output_type": "stream",
          "name": "stdout",
          "text": [
            "{'c', 'a', 'b', 'd', 'e'}\n"
          ]
        }
      ]
    },
    {
      "cell_type": "code",
      "source": [
        "print(conjunto1&conjunto2)"
      ],
      "metadata": {
        "colab": {
          "base_uri": "https://localhost:8080/"
        },
        "id": "ohKxhy_cYwzk",
        "outputId": "f8c441ba-4860-4ce2-a062-8e2c3d732d9c"
      },
      "execution_count": 6,
      "outputs": [
        {
          "output_type": "stream",
          "name": "stdout",
          "text": [
            "{'c'}\n"
          ]
        }
      ]
    }
  ]
}