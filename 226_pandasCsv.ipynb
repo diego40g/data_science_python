{
  "nbformat": 4,
  "nbformat_minor": 0,
  "metadata": {
    "colab": {
      "name": "226 pandasCsv.ipynb",
      "provenance": [],
      "authorship_tag": "ABX9TyMto+99qzSbD4EpI5EncKaY",
      "include_colab_link": true
    },
    "kernelspec": {
      "name": "python3",
      "display_name": "Python 3"
    },
    "language_info": {
      "name": "python"
    }
  },
  "cells": [
    {
      "cell_type": "markdown",
      "metadata": {
        "id": "view-in-github",
        "colab_type": "text"
      },
      "source": [
        "<a href=\"https://colab.research.google.com/github/diego40g/data_science_python/blob/numpy/226_pandasCsv.ipynb\" target=\"_parent\"><img src=\"https://colab.research.google.com/assets/colab-badge.svg\" alt=\"Open In Colab\"/></a>"
      ]
    },
    {
      "cell_type": "code",
      "execution_count": null,
      "metadata": {
        "id": "aHHsPxarJRPi"
      },
      "outputs": [],
      "source": [
        "import pandas as pd\n",
        "import matplotlib.pyplot as plt\n",
        "df = pd.read_csv(\"alphabet_stock_data.csv\")\n",
        "start_date = pd.to_datetime('2020-4-1')\n",
        "end_date = pd.to_datetime('2020-4-30')                         \n",
        "df['Date'] = pd.to_datetime(df['Date']) \n",
        "new_df = (df['Date']>= start_date) & (df['Date']<= end_date)\n",
        "df1 = df.loc[new_df]\n",
        "df2 = df1[['Open']]\n",
        "plt.figure(figsize=(15,15))\n",
        "df2.plot.hist(orientation='horizontal', cumulative=True)\n",
        "plt.suptitle('Opening stock prices of Alphabet Inc.,\\n From 01-04-2020 to 30-04-2020', fontsize=12, color='black')\n",
        "plt.show()"
      ]
    }
  ]
}