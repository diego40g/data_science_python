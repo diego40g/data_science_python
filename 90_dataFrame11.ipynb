{
  "nbformat": 4,
  "nbformat_minor": 0,
  "metadata": {
    "colab": {
      "name": "90. dataFrame11.ipynb",
      "provenance": [],
      "authorship_tag": "ABX9TyOGbufONzH2odVpP3qi2UAe",
      "include_colab_link": true
    },
    "kernelspec": {
      "name": "python3",
      "display_name": "Python 3"
    },
    "language_info": {
      "name": "python"
    }
  },
  "cells": [
    {
      "cell_type": "markdown",
      "metadata": {
        "id": "view-in-github",
        "colab_type": "text"
      },
      "source": [
        "<a href=\"https://colab.research.google.com/github/diego40g/data_science_python/blob/numpy/90_dataFrame11.ipynb\" target=\"_parent\"><img src=\"https://colab.research.google.com/assets/colab-badge.svg\" alt=\"Open In Colab\"/></a>"
      ]
    },
    {
      "cell_type": "code",
      "metadata": {
        "id": "NAPh_5RE-Ioh"
      },
      "source": [
        "import pandas as pd\n",
        "import numpy"
      ],
      "execution_count": 1,
      "outputs": []
    },
    {
      "cell_type": "code",
      "metadata": {
        "colab": {
          "base_uri": "https://localhost:8080/"
        },
        "id": "zb7oEov1-Mk2",
        "outputId": "d7cf164f-98f3-44f9-fd4e-d8027be7d49b"
      },
      "source": [
        "dic = {\n",
        "    'A': [11, 3, 7, 99, 100, 130, 150],\n",
        "    'B': [1.2, 0.5, 1.2, 3.2, 0.9, 1.7, 9.5],\n",
        "    'C': ['A', 'Z', 'W', 'K', 'A', 'Z', 'Z'],\n",
        "    'D': [True, False, True, False, True, False, True],    \n",
        "    'E': ['A', 'A', 'B', 'B', 'A', 'A', 'B'],\n",
        "    'F': [True, True, False, False, True, False, True],}\n",
        "print(dic)"
      ],
      "execution_count": 2,
      "outputs": [
        {
          "output_type": "stream",
          "name": "stdout",
          "text": [
            "{'A': [11, 3, 7, 99, 100, 130, 150], 'B': [1.2, 0.5, 1.2, 3.2, 0.9, 1.7, 9.5], 'C': ['A', 'Z', 'W', 'K', 'A', 'Z', 'Z'], 'D': [True, False, True, False, True, False, True], 'E': ['A', 'A', 'B', 'B', 'A', 'A', 'B'], 'F': [True, True, False, False, True, False, True]}\n"
          ]
        }
      ]
    },
    {
      "cell_type": "code",
      "metadata": {
        "colab": {
          "base_uri": "https://localhost:8080/"
        },
        "id": "pzOG9Lvn-Q2j",
        "outputId": "3f513940-ca7c-4114-eb7b-de1e29431d7f"
      },
      "source": [
        "index = list(range(10, 71, 10))\n",
        "print(index)"
      ],
      "execution_count": 3,
      "outputs": [
        {
          "output_type": "stream",
          "name": "stdout",
          "text": [
            "[10, 20, 30, 40, 50, 60, 70]\n"
          ]
        }
      ]
    },
    {
      "cell_type": "code",
      "metadata": {
        "colab": {
          "base_uri": "https://localhost:8080/"
        },
        "id": "jYZBKYi1-UTL",
        "outputId": "4b4c36c2-7ecf-4d7b-824e-fd481ef911f4"
      },
      "source": [
        "df = pd.DataFrame(data = dic, index = index)\n",
        "df[['C','E']] = df[['C', 'E']].astype('category')  #converting the data type of columns 'C' and 'E'\n",
        "print('_'*100)\n",
        "print(f'Dtype of each column: \\n{df.dtypes}')\n",
        "print('_'*100)\n",
        "print(f\"The columns from the category type: \\n{df.select_dtypes('category')}\")\n",
        "print('_'*100)\n",
        "print(f'The columns from the bool type: \\n{df.select_dtypes(bool)}')\n",
        "print('_'*100)\n",
        "print(f'Numeric columns: \\n{df.select_dtypes(include = [float, int])}')\n",
        "print('_'*100)\n",
        "print('Descriptive statistics'.center(100, ' '))\n",
        "print(df.describe(include = 'all').T)\n",
        "print('_'*100)"
      ],
      "execution_count": 4,
      "outputs": [
        {
          "output_type": "stream",
          "name": "stdout",
          "text": [
            "____________________________________________________________________________________________________\n",
            "Dtype of each column: \n",
            "A       int64\n",
            "B     float64\n",
            "C    category\n",
            "D        bool\n",
            "E    category\n",
            "F        bool\n",
            "dtype: object\n",
            "____________________________________________________________________________________________________\n",
            "The columns from the category type: \n",
            "    C  E\n",
            "10  A  A\n",
            "20  Z  A\n",
            "30  W  B\n",
            "40  K  B\n",
            "50  A  A\n",
            "60  Z  A\n",
            "70  Z  B\n",
            "____________________________________________________________________________________________________\n",
            "The columns from the bool type: \n",
            "        D      F\n",
            "10   True   True\n",
            "20  False   True\n",
            "30   True  False\n",
            "40  False  False\n",
            "50   True   True\n",
            "60  False  False\n",
            "70   True   True\n",
            "____________________________________________________________________________________________________\n",
            "Numeric columns: \n",
            "      A    B\n",
            "10   11  1.2\n",
            "20    3  0.5\n",
            "30    7  1.2\n",
            "40   99  3.2\n",
            "50  100  0.9\n",
            "60  130  1.7\n",
            "70  150  9.5\n",
            "____________________________________________________________________________________________________\n",
            "                                       Descriptive statistics                                       \n",
            "  count unique   top freq     mean      std  min   25%  50%   75%  max\n",
            "A     7    NaN   NaN  NaN  71.4286  62.8035    3     9   99   115  150\n",
            "B     7    NaN   NaN  NaN      2.6  3.16228  0.5  1.05  1.2  2.45  9.5\n",
            "C     7      4     Z    3      NaN      NaN  NaN   NaN  NaN   NaN  NaN\n",
            "D     7      2  True    4      NaN      NaN  NaN   NaN  NaN   NaN  NaN\n",
            "E     7      2     A    4      NaN      NaN  NaN   NaN  NaN   NaN  NaN\n",
            "F     7      2  True    4      NaN      NaN  NaN   NaN  NaN   NaN  NaN\n",
            "____________________________________________________________________________________________________\n"
          ]
        }
      ]
    }
  ]
}