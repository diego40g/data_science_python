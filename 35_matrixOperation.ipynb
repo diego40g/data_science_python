{
  "nbformat": 4,
  "nbformat_minor": 0,
  "metadata": {
    "colab": {
      "name": "35. matrixOperation.ipynb",
      "provenance": [],
      "authorship_tag": "ABX9TyO3nDFLxp075G+tsraAbYq2",
      "include_colab_link": true
    },
    "kernelspec": {
      "name": "python3",
      "display_name": "Python 3"
    },
    "language_info": {
      "name": "python"
    }
  },
  "cells": [
    {
      "cell_type": "markdown",
      "metadata": {
        "id": "view-in-github",
        "colab_type": "text"
      },
      "source": [
        "<a href=\"https://colab.research.google.com/github/diego40g/data_science_python/blob/numpy/35_matrixOperation.ipynb\" target=\"_parent\"><img src=\"https://colab.research.google.com/assets/colab-badge.svg\" alt=\"Open In Colab\"/></a>"
      ]
    },
    {
      "cell_type": "code",
      "metadata": {
        "id": "LYTz1x1ybrRM"
      },
      "source": [
        "import numpy as np"
      ],
      "execution_count": 1,
      "outputs": []
    },
    {
      "cell_type": "code",
      "metadata": {
        "colab": {
          "base_uri": "https://localhost:8080/"
        },
        "id": "MYtEfIsRcpQ5",
        "outputId": "dd48604a-3749-49e8-95e9-032714647f98"
      },
      "source": [
        "A=np.array([[1,2,3],[2,1,-1]])\n",
        "print(A)"
      ],
      "execution_count": 2,
      "outputs": [
        {
          "output_type": "stream",
          "name": "stdout",
          "text": [
            "[[ 1  2  3]\n",
            " [ 2  1 -1]]\n"
          ]
        }
      ]
    },
    {
      "cell_type": "code",
      "metadata": {
        "colab": {
          "base_uri": "https://localhost:8080/"
        },
        "id": "bSBN4Pc3cvKt",
        "outputId": "3fec7fed-bf0a-42c4-c94c-6568a4890f21"
      },
      "source": [
        "B=np.array([[-2,0,1],[3,0,1]])\n",
        "print(B)"
      ],
      "execution_count": 4,
      "outputs": [
        {
          "output_type": "stream",
          "name": "stdout",
          "text": [
            "[[-2  0  1]\n",
            " [ 3  0  1]]\n"
          ]
        }
      ]
    },
    {
      "cell_type": "code",
      "metadata": {
        "colab": {
          "base_uri": "https://localhost:8080/"
        },
        "id": "rTXNjP0Wc4Yc",
        "outputId": "eb35c658-12e8-4b81-a368-79ffadf296c9"
      },
      "source": [
        "C=np.array([[-1],[2],[4]])\n",
        "print(C)"
      ],
      "execution_count": 5,
      "outputs": [
        {
          "output_type": "stream",
          "name": "stdout",
          "text": [
            "[[-1]\n",
            " [ 2]\n",
            " [ 4]]\n"
          ]
        }
      ]
    },
    {
      "cell_type": "code",
      "metadata": {
        "colab": {
          "base_uri": "https://localhost:8080/"
        },
        "id": "O4BXyWSudBZe",
        "outputId": "d6debc17-5b5f-4d26-f514-ae03fda8a9f1"
      },
      "source": [
        "D=np.array([[2,-1]])\n",
        "print(D)"
      ],
      "execution_count": 6,
      "outputs": [
        {
          "output_type": "stream",
          "name": "stdout",
          "text": [
            "[[ 2 -1]]\n"
          ]
        }
      ]
    },
    {
      "cell_type": "code",
      "metadata": {
        "colab": {
          "base_uri": "https://localhost:8080/"
        },
        "id": "iXiy1d3PdGAD",
        "outputId": "dba0da67-c28a-4825-c595-90111a182209"
      },
      "source": [
        "print('A+B',A+B)"
      ],
      "execution_count": 8,
      "outputs": [
        {
          "output_type": "stream",
          "name": "stdout",
          "text": [
            "A+B [[-1  2  4]\n",
            " [ 5  1  0]]\n"
          ]
        }
      ]
    },
    {
      "cell_type": "code",
      "metadata": {
        "colab": {
          "base_uri": "https://localhost:8080/"
        },
        "id": "fFJ1vE6odIeS",
        "outputId": "35b29aff-a3de-4bbc-8646-252587e472d3"
      },
      "source": [
        "print('A.C',A.dot(C))"
      ],
      "execution_count": 9,
      "outputs": [
        {
          "output_type": "stream",
          "name": "stdout",
          "text": [
            "A.C [[15]\n",
            " [-4]]\n"
          ]
        }
      ]
    },
    {
      "cell_type": "code",
      "metadata": {
        "colab": {
          "base_uri": "https://localhost:8080/"
        },
        "id": "zV2QasQBdRTL",
        "outputId": "7fa800e7-7897-434c-b007-b669c84263ec"
      },
      "source": [
        "print('B.C',B.dot(C))"
      ],
      "execution_count": 10,
      "outputs": [
        {
          "output_type": "stream",
          "name": "stdout",
          "text": [
            "B.C [[6]\n",
            " [1]]\n"
          ]
        }
      ]
    },
    {
      "cell_type": "code",
      "metadata": {
        "colab": {
          "base_uri": "https://localhost:8080/"
        },
        "id": "3sPrciLGdW2b",
        "outputId": "0dff8b3a-2929-46d9-cf9d-4937e98001be"
      },
      "source": [
        "print('C.D',C.dot(D))"
      ],
      "execution_count": 11,
      "outputs": [
        {
          "output_type": "stream",
          "name": "stdout",
          "text": [
            "C.D [[-2  1]\n",
            " [ 4 -2]\n",
            " [ 8 -4]]\n"
          ]
        }
      ]
    },
    {
      "cell_type": "code",
      "metadata": {
        "colab": {
          "base_uri": "https://localhost:8080/"
        },
        "id": "JQOOHeCvdcFC",
        "outputId": "698b6ec4-1c8c-482d-af26-7609961acc3d"
      },
      "source": [
        "print('D.A',D.dot(A))"
      ],
      "execution_count": 12,
      "outputs": [
        {
          "output_type": "stream",
          "name": "stdout",
          "text": [
            "D.A [[0 3 7]]\n"
          ]
        }
      ]
    },
    {
      "cell_type": "code",
      "metadata": {
        "colab": {
          "base_uri": "https://localhost:8080/"
        },
        "id": "AM15FPMFdgiy",
        "outputId": "736a9fe5-ad13-484a-c381-569c6597992c"
      },
      "source": [
        "print('D.B',D.dot(B))"
      ],
      "execution_count": 14,
      "outputs": [
        {
          "output_type": "stream",
          "name": "stdout",
          "text": [
            "D.B [[-7  0  1]]\n"
          ]
        }
      ]
    },
    {
      "cell_type": "code",
      "metadata": {
        "colab": {
          "base_uri": "https://localhost:8080/"
        },
        "id": "bhcAXucbdkaK",
        "outputId": "48c46921-0138-4386-d218-50b70804e551"
      },
      "source": [
        "print('-A',(-1)*A)"
      ],
      "execution_count": 15,
      "outputs": [
        {
          "output_type": "stream",
          "name": "stdout",
          "text": [
            "-A [[-1 -2 -3]\n",
            " [-2 -1  1]]\n"
          ]
        }
      ]
    },
    {
      "cell_type": "code",
      "metadata": {
        "colab": {
          "base_uri": "https://localhost:8080/"
        },
        "id": "Y8wxozh-dsRq",
        "outputId": "e38d9ff8-b8d9-42b6-fad7-58a73a0a037b"
      },
      "source": [
        "print('-D',(-1)*D)"
      ],
      "execution_count": 16,
      "outputs": [
        {
          "output_type": "stream",
          "name": "stdout",
          "text": [
            "-D [[-2  1]]\n"
          ]
        }
      ]
    }
  ]
}