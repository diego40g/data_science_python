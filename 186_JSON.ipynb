{
  "nbformat": 4,
  "nbformat_minor": 0,
  "metadata": {
    "colab": {
      "name": "186. JSON.ipynb",
      "provenance": [],
      "authorship_tag": "ABX9TyMtPBMYeSrbJKhHWtFMC2mn",
      "include_colab_link": true
    },
    "kernelspec": {
      "name": "python3",
      "display_name": "Python 3"
    },
    "language_info": {
      "name": "python"
    }
  },
  "cells": [
    {
      "cell_type": "markdown",
      "metadata": {
        "id": "view-in-github",
        "colab_type": "text"
      },
      "source": [
        "<a href=\"https://colab.research.google.com/github/diego40g/data_science_python/blob/numpy/186_JSON.ipynb\" target=\"_parent\"><img src=\"https://colab.research.google.com/assets/colab-badge.svg\" alt=\"Open In Colab\"/></a>"
      ]
    },
    {
      "cell_type": "code",
      "execution_count": 2,
      "metadata": {
        "id": "GmX8EOLfAwm7"
      },
      "outputs": [],
      "source": [
        "def greet(user):\n",
        "  print(f'Hola {user}')"
      ]
    },
    {
      "cell_type": "code",
      "source": [
        "def main():\n",
        "  greet('Diego')"
      ],
      "metadata": {
        "id": "n5yUXagoBSuB"
      },
      "execution_count": 3,
      "outputs": []
    },
    {
      "cell_type": "code",
      "source": [
        "main()"
      ],
      "metadata": {
        "colab": {
          "base_uri": "https://localhost:8080/"
        },
        "id": "7tICz1ecBkV4",
        "outputId": "b73f3c22-87c8-4965-947b-d993e249f75e"
      },
      "execution_count": 5,
      "outputs": [
        {
          "output_type": "stream",
          "name": "stdout",
          "text": [
            "Hola Diego\n"
          ]
        }
      ]
    },
    {
      "cell_type": "code",
      "source": [
        "def greetA(**users):\n",
        "  for key,value in users.items():\n",
        "    print(f'{key}=>{value}.')"
      ],
      "metadata": {
        "id": "hImAnppwBmlP"
      },
      "execution_count": 1,
      "outputs": []
    },
    {
      "cell_type": "code",
      "source": [
        "def mainA():\n",
        "  greetA(user='Diego',city='Quito',pet=['Perro','Gato','Pez'])"
      ],
      "metadata": {
        "id": "wnQMWQ1eB23y"
      },
      "execution_count": 4,
      "outputs": []
    },
    {
      "cell_type": "code",
      "source": [
        "mainA()"
      ],
      "metadata": {
        "id": "Lpd3xaPi2NnL",
        "outputId": "9c3d81b3-3da4-46a8-fa17-c3f8f4101377",
        "colab": {
          "base_uri": "https://localhost:8080/"
        }
      },
      "execution_count": 6,
      "outputs": [
        {
          "output_type": "stream",
          "name": "stdout",
          "text": [
            "user=>Diego.\n",
            "city=>Quito.\n",
            "pet=>['Perro', 'Gato', 'Pez'].\n"
          ]
        }
      ]
    }
  ]
}