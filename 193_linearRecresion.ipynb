{
  "nbformat": 4,
  "nbformat_minor": 0,
  "metadata": {
    "colab": {
      "name": "193. linearRecresion.ipynb",
      "provenance": [],
      "authorship_tag": "ABX9TyP/I0rTYLbMVYIzUrFUXJJF",
      "include_colab_link": true
    },
    "kernelspec": {
      "name": "python3",
      "display_name": "Python 3"
    },
    "language_info": {
      "name": "python"
    }
  },
  "cells": [
    {
      "cell_type": "markdown",
      "metadata": {
        "id": "view-in-github",
        "colab_type": "text"
      },
      "source": [
        "<a href=\"https://colab.research.google.com/github/diego40g/data_science_python/blob/numpy/193_linearRecresion.ipynb\" target=\"_parent\"><img src=\"https://colab.research.google.com/assets/colab-badge.svg\" alt=\"Open In Colab\"/></a>"
      ]
    },
    {
      "cell_type": "code",
      "execution_count": 3,
      "metadata": {
        "id": "HwcuOzZHXSNk"
      },
      "outputs": [],
      "source": [
        "import numpy as np #Librería numérica\n",
        "import matplotlib.pyplot as plt # Para crear gráficos con matplotlib\n",
        "\n",
        "from sklearn.linear_model import LinearRegression #Regresión Lineal con scikit-learn"
      ]
    },
    {
      "cell_type": "code",
      "source": [
        "def f(x):  # función f(x) = 0.1*x + 1.25 + 0.2*Ruido_Gaussiano\n",
        "    np.random.seed(42) # para poder reproducirlo\n",
        "    y = 0.1*x + 1.25 + 0.2*np.random.randn(x.shape[0])\n",
        "    return y"
      ],
      "metadata": {
        "id": "6LRwZEAhX27Y"
      },
      "execution_count": 4,
      "outputs": []
    },
    {
      "cell_type": "code",
      "source": [
        "x = np.arange(0, 20, 0.5) # generamos valores x de 0 a 20 en intervalos de 0.5\n",
        "y = f(x) # calculamos y a partir de la función que hemos generado\n",
        "\n",
        "# hacemos un gráfico de los datos que hemos generado\n",
        "plt.scatter(x,y,label='data', color='blue')\n",
        "plt.title('Datos');"
      ],
      "metadata": {
        "colab": {
          "base_uri": "https://localhost:8080/",
          "height": 204
        },
        "id": "yJ-Gm7lmXrK5",
        "outputId": "5c344695-8376-4834-b56e-fb1fa8c29270"
      },
      "execution_count": 5,
      "outputs": [
        {
          "output_type": "display_data",
          "data": {
            "text/plain": [
              "<Figure size 432x288 with 1 Axes>"
            ],
            "image/png": "[encoded data removed]"
          },
          "metadata": {
            "needs_background": "light"
          }
        }
      ]
    },
    {
      "cell_type": "code",
      "source": [
        "regresion_lineal = LinearRegression() # creamos una instancia de LinearRegression\n",
        "\n",
        "# instruimos a la regresión lineal que aprenda de los datos (x,y)\n",
        "regresion_lineal.fit(x.reshape(-1,1), y) \n",
        "\n",
        "# vemos los parámetros que ha estimado la regresión lineal\n",
        "print('w = ' + str(regresion_lineal.coef_) + ', b = ' + str(regresion_lineal.intercept_))\n",
        "\n",
        "# resultado: w = [0.09183522], b = 1.2858792525736682"
      ],
      "metadata": {
        "colab": {
          "base_uri": "https://localhost:8080/"
        },
        "id": "kRTOeajHYv4c",
        "outputId": "f326277c-ef68-4f35-9d78-064096e6eb13"
      },
      "execution_count": 6,
      "outputs": [
        {
          "output_type": "stream",
          "name": "stdout",
          "text": [
            "w = [0.09183522], b = 1.2858792525736682\n"
          ]
        }
      ]
    },
    {
      "cell_type": "code",
      "source": [
        "# vamos a predicir y = regresion_lineal(5)\n",
        "nuevo_x = np.array([5]) \n",
        "prediccion = regresion_lineal.predict(nuevo_x.reshape(-1,1))\n",
        "\n",
        "print(prediccion)\n",
        "\n",
        "# resultado: [1.7449]"
      ],
      "metadata": {
        "colab": {
          "base_uri": "https://localhost:8080/"
        },
        "id": "fpJPHuAKY7sd",
        "outputId": "9a6fefe7-048c-4be8-c2b4-6442b47bed85"
      },
      "execution_count": 7,
      "outputs": [
        {
          "output_type": "stream",
          "name": "stdout",
          "text": [
            "[1.74505534]\n"
          ]
        }
      ]
    },
    {
      "cell_type": "code",
      "source": [
        "# importamos el cálculo del error cuadrático medio (MSE)\n",
        "from sklearn.metrics import mean_squared_error\n",
        "\n",
        "# Predecimos los valores y para los datos usados en el entrenamiento\n",
        "prediccion_entrenamiento = regresion_lineal.predict(x.reshape(-1,1))\n",
        "\n",
        "# Calculamos el Error Cuadrático Medio (MSE = Mean Squared Error)\n",
        "mse = mean_squared_error(y_true = y, y_pred = prediccion_entrenamiento)\n",
        "\n",
        "# La raíz cuadrada del MSE es el RMSE\n",
        "rmse = np.sqrt(mse)\n",
        "\n",
        "print('Error Cuadrático Medio (MSE) = ' + str(mse))\n",
        "print('Raíz del Error Cuadrático Medio (RMSE) = ' + str(rmse))"
      ],
      "metadata": {
        "colab": {
          "base_uri": "https://localhost:8080/"
        },
        "id": "_i892cqLZQy3",
        "outputId": "242a1f00-cd91-40bd-ee98-2ff0d5967845"
      },
      "execution_count": 8,
      "outputs": [
        {
          "output_type": "stream",
          "name": "stdout",
          "text": [
            "Error Cuadrático Medio (MSE) = 0.03318522012927899\n",
            "Raíz del Error Cuadrático Medio (RMSE) = 0.18216810952875093\n"
          ]
        }
      ]
    },
    {
      "cell_type": "code",
      "source": [
        "# calculamos el coeficiente de determinación R2\n",
        "r2 = regresion_lineal.score(x.reshape(-1,1), y)\n",
        "\n",
        "print('Coeficiente de Determinación R2 = ' + str(r2))"
      ],
      "metadata": {
        "colab": {
          "base_uri": "https://localhost:8080/"
        },
        "id": "kWrsgXiiZaAs",
        "outputId": "082c9f90-462f-4f1d-fe0b-30e4bbff7515"
      },
      "execution_count": 9,
      "outputs": [
        {
          "output_type": "stream",
          "name": "stdout",
          "text": [
            "Coeficiente de Determinación R2 = 0.8943593637683117\n"
          ]
        }
      ]
    },
    {
      "cell_type": "code",
      "source": [
        ""
      ],
      "metadata": {
        "id": "ZZcU2gjsZe2E"
      },
      "execution_count": null,
      "outputs": []
    }
  ]
}