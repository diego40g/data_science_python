{
  "nbformat": 4,
  "nbformat_minor": 0,
  "metadata": {
    "colab": {
      "name": "127. matplot7.ipynb",
      "provenance": [],
      "authorship_tag": "ABX9TyOSIEr8o8lQJmpcYf6c3Cye",
      "include_colab_link": true
    },
    "kernelspec": {
      "name": "python3",
      "display_name": "Python 3"
    },
    "language_info": {
      "name": "python"
    }
  },
  "cells": [
    {
      "cell_type": "markdown",
      "metadata": {
        "id": "view-in-github",
        "colab_type": "text"
      },
      "source": [
        "<a href=\"https://colab.research.google.com/github/diego40g/data_science_python/blob/numpy/127_matplot7.ipynb\" target=\"_parent\"><img src=\"https://colab.research.google.com/assets/colab-badge.svg\" alt=\"Open In Colab\"/></a>"
      ]
    },
    {
      "cell_type": "code",
      "execution_count": 1,
      "metadata": {
        "id": "6CE37fXLPZXP"
      },
      "outputs": [],
      "source": [
        "import numpy as np\n",
        "import matplotlib.pyplot as plt"
      ]
    },
    {
      "cell_type": "code",
      "source": [
        "x = np.arange(1,11)\n",
        "y1 = x**2\n",
        "y2 = x**3\n",
        "y3 = x**4\n",
        "print(x)\n",
        "print(y1)\n",
        "print(y2)\n",
        "print(y3)"
      ],
      "metadata": {
        "colab": {
          "base_uri": "https://localhost:8080/"
        },
        "id": "zqaE3FVUPcdk",
        "outputId": "6e246de3-b4da-481b-89a0-db63686187da"
      },
      "execution_count": 2,
      "outputs": [
        {
          "output_type": "stream",
          "name": "stdout",
          "text": [
            "[ 1  2  3  4  5  6  7  8  9 10]\n",
            "[  1   4   9  16  25  36  49  64  81 100]\n",
            "[   1    8   27   64  125  216  343  512  729 1000]\n",
            "[    1    16    81   256   625  1296  2401  4096  6561 10000]\n"
          ]
        }
      ]
    },
    {
      "cell_type": "code",
      "source": [
        "#plot\n",
        "plt.plot(y1, 'o', y2, '^', y3, 'bs')\n",
        "plt.legend(['y1', 'y2','y3'], loc = 'upper left')\n",
        "plt.title('Values', fontsize = 20)\n",
        "plt.xlabel('X', fontsize = 15)\n",
        "plt.ylabel('Y', fontsize = 15)\n",
        "plt.grid(linestyle = '--', alpha = 0.8, color = 'red')\n",
        "plt.show()"
      ],
      "metadata": {
        "colab": {
          "base_uri": "https://localhost:8080/",
          "height": 305
        },
        "id": "lQc-fnI2Pcz5",
        "outputId": "ac679b95-1609-4d65-e13c-9ed72ca1f654"
      },
      "execution_count": 3,
      "outputs": [
        {
          "output_type": "display_data",
          "data": {
            "image/png": "[encoded data removed]",
            "text/plain": [
              "<Figure size 432x288 with 1 Axes>"
            ]
          },
          "metadata": {
            "needs_background": "light"
          }
        }
      ]
    }
  ]
}