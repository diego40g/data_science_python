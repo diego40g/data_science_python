{
  "nbformat": 4,
  "nbformat_minor": 0,
  "metadata": {
    "colab": {
      "name": "81. dataFrame.ipynb",
      "provenance": [],
      "authorship_tag": "ABX9TyOF200UQDawpctdadiKCLEa",
      "include_colab_link": true
    },
    "kernelspec": {
      "name": "python3",
      "display_name": "Python 3"
    },
    "language_info": {
      "name": "python"
    }
  },
  "cells": [
    {
      "cell_type": "markdown",
      "metadata": {
        "id": "view-in-github",
        "colab_type": "text"
      },
      "source": [
        "<a href=\"https://colab.research.google.com/github/diego40g/data_science_python/blob/numpy/81_dataFrame.ipynb\" target=\"_parent\"><img src=\"https://colab.research.google.com/assets/colab-badge.svg\" alt=\"Open In Colab\"/></a>"
      ]
    },
    {
      "cell_type": "code",
      "metadata": {
        "id": "Oo3j919fRpnM"
      },
      "source": [
        "import pandas as pd"
      ],
      "execution_count": 2,
      "outputs": []
    },
    {
      "cell_type": "code",
      "metadata": {
        "colab": {
          "base_uri": "https://localhost:8080/"
        },
        "id": "6Kzx_wwPSMnX",
        "outputId": "2b90f352-1559-4d0b-da86-c3d28f4c1398"
      },
      "source": [
        "dic = {'A': [11, 33, 11, -1, 0],\n",
        "      'B': [1, 2, 3, 4, 5],\n",
        "      'C': [130, 144, 111, 104, 199]}\n",
        "print(dic)"
      ],
      "execution_count": 1,
      "outputs": [
        {
          "output_type": "stream",
          "name": "stdout",
          "text": [
            "{'A': [11, 33, 11, -1, 0], 'B': [1, 2, 3, 4, 5], 'C': [130, 144, 111, 104, 199]}\n"
          ]
        }
      ]
    },
    {
      "cell_type": "code",
      "metadata": {
        "colab": {
          "base_uri": "https://localhost:8080/"
        },
        "id": "cr0yLKacScET",
        "outputId": "36ed89b1-e8da-4820-e141-a49835651f8d"
      },
      "source": [
        "df = pd.DataFrame(data = dic)\n",
        "print(df)"
      ],
      "execution_count": 3,
      "outputs": [
        {
          "output_type": "stream",
          "name": "stdout",
          "text": [
            "    A  B    C\n",
            "0  11  1  130\n",
            "1  33  2  144\n",
            "2  11  3  111\n",
            "3  -1  4  104\n",
            "4   0  5  199\n"
          ]
        }
      ]
    }
  ]
}