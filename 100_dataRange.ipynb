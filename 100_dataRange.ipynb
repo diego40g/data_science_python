{
  "nbformat": 4,
  "nbformat_minor": 0,
  "metadata": {
    "colab": {
      "name": "100. dataRange.ipynb",
      "provenance": [],
      "authorship_tag": "ABX9TyP7Bf00WusxE2mFW1aC8AFG",
      "include_colab_link": true
    },
    "kernelspec": {
      "name": "python3",
      "display_name": "Python 3"
    },
    "language_info": {
      "name": "python"
    }
  },
  "cells": [
    {
      "cell_type": "markdown",
      "metadata": {
        "id": "view-in-github",
        "colab_type": "text"
      },
      "source": [
        "<a href=\"https://colab.research.google.com/github/diego40g/data_science_python/blob/numpy/100_dataRange.ipynb\" target=\"_parent\"><img src=\"https://colab.research.google.com/assets/colab-badge.svg\" alt=\"Open In Colab\"/></a>"
      ]
    },
    {
      "cell_type": "code",
      "metadata": {
        "id": "TmBXYBlJTeDr"
      },
      "source": [
        "import pandas as pd"
      ],
      "execution_count": 1,
      "outputs": []
    },
    {
      "cell_type": "code",
      "metadata": {
        "colab": {
          "base_uri": "https://localhost:8080/"
        },
        "id": "5iDeauP6Tt_H",
        "outputId": "2bb5e89f-07df-4fd3-e305-d3f51b07246c"
      },
      "source": [
        "months = pd.date_range(start = '1-1-2021', periods = 12, freq = 'M')\n",
        "print(months)"
      ],
      "execution_count": 2,
      "outputs": [
        {
          "output_type": "stream",
          "name": "stdout",
          "text": [
            "DatetimeIndex(['2021-01-31', '2021-02-28', '2021-03-31', '2021-04-30',\n",
            "               '2021-05-31', '2021-06-30', '2021-07-31', '2021-08-31',\n",
            "               '2021-09-30', '2021-10-31', '2021-11-30', '2021-12-31'],\n",
            "              dtype='datetime64[ns]', freq='M')\n"
          ]
        }
      ]
    }
  ]
}