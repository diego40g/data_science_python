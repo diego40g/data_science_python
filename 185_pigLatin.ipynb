{
  "nbformat": 4,
  "nbformat_minor": 0,
  "metadata": {
    "colab": {
      "name": "185. pigLatin.ipynb",
      "provenance": [],
      "authorship_tag": "ABX9TyOq3xmxfDInxhlL464KF1k6",
      "include_colab_link": true
    },
    "kernelspec": {
      "name": "python3",
      "display_name": "Python 3"
    },
    "language_info": {
      "name": "python"
    }
  },
  "cells": [
    {
      "cell_type": "markdown",
      "metadata": {
        "id": "view-in-github",
        "colab_type": "text"
      },
      "source": [
        "<a href=\"https://colab.research.google.com/github/diego40g/data_science_python/blob/numpy/185_pigLatin.ipynb\" target=\"_parent\"><img src=\"https://colab.research.google.com/assets/colab-badge.svg\" alt=\"Open In Colab\"/></a>"
      ]
    },
    {
      "cell_type": "code",
      "execution_count": 7,
      "metadata": {
        "colab": {
          "base_uri": "https://localhost:8080/"
        },
        "id": "hW9pFL6mlOt4",
        "outputId": "45e3e314-95ad-4b32-8759-5d7d55589919"
      },
      "outputs": [
        {
          "output_type": "stream",
          "name": "stdout",
          "text": [
            "Ingrese alguno texto para traducir: Hello my friends i like some juice\n",
            "Tu escribiste:  Hello my friends i like some juice\n"
          ]
        }
      ],
      "source": [
        "words=input(\"Ingrese alguno texto para traducir a PIG LATIN: \")\n",
        "print(\"Tu escribiste: \", words)"
      ]
    },
    {
      "cell_type": "code",
      "source": [
        "words=words.split(' ')"
      ],
      "metadata": {
        "id": "zsckn2H1o5dE"
      },
      "execution_count": 8,
      "outputs": []
    },
    {
      "cell_type": "code",
      "source": [
        "for i in words:\n",
        "  if len(i)>=3:\n",
        "    i=i+\"%say\"%(i[0])\n",
        "    i=i[1:]\n",
        "    print (i)\n",
        "  else:\n",
        "    pass"
      ],
      "metadata": {
        "colab": {
          "base_uri": "https://localhost:8080/"
        },
        "id": "9SvVdAAFp2QX",
        "outputId": "ba8e13e9-af95-49dc-ae19-061855a3bb8f"
      },
      "execution_count": 11,
      "outputs": [
        {
          "output_type": "stream",
          "name": "stdout",
          "text": [
            "elloHay\n",
            "riendsfay\n",
            "ikelay\n",
            "omesay\n",
            "uicejay\n"
          ]
        }
      ]
    }
  ]
}