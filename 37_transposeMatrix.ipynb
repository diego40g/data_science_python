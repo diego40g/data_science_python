{
  "nbformat": 4,
  "nbformat_minor": 0,
  "metadata": {
    "colab": {
      "name": "37. transposeMatrix.ipynb",
      "provenance": [],
      "authorship_tag": "ABX9TyPoph9J5gWbN95AoNtuP3WG",
      "include_colab_link": true
    },
    "kernelspec": {
      "name": "python3",
      "display_name": "Python 3"
    },
    "language_info": {
      "name": "python"
    }
  },
  "cells": [
    {
      "cell_type": "markdown",
      "metadata": {
        "id": "view-in-github",
        "colab_type": "text"
      },
      "source": [
        "<a href=\"https://colab.research.google.com/github/diego40g/data_science_python/blob/numpy/37_transposeMatrix.ipynb\" target=\"_parent\"><img src=\"https://colab.research.google.com/assets/colab-badge.svg\" alt=\"Open In Colab\"/></a>"
      ]
    },
    {
      "cell_type": "code",
      "metadata": {
        "id": "tiiQTAZHkbcu"
      },
      "source": [
        "import numpy as np"
      ],
      "execution_count": 1,
      "outputs": []
    },
    {
      "cell_type": "code",
      "metadata": {
        "colab": {
          "base_uri": "https://localhost:8080/"
        },
        "id": "LNA0vchykgrn",
        "outputId": "d02b0be4-34be-4663-bc4a-05b5afd673d1"
      },
      "source": [
        "A = np.array([[1,-3,2],[2,1,-3],[4,-3,-1]])\n",
        "print(A)"
      ],
      "execution_count": 2,
      "outputs": [
        {
          "output_type": "stream",
          "name": "stdout",
          "text": [
            "[[ 1 -3  2]\n",
            " [ 2  1 -3]\n",
            " [ 4 -3 -1]]\n"
          ]
        }
      ]
    },
    {
      "cell_type": "code",
      "metadata": {
        "colab": {
          "base_uri": "https://localhost:8080/"
        },
        "id": "X6tE__awkioF",
        "outputId": "6117a7ef-41ec-41d1-b462-87477812ecbd"
      },
      "source": [
        "B = np.array([[1,0,4],[-7,5,5],[25,9,11]])\n",
        "print(B)"
      ],
      "execution_count": 3,
      "outputs": [
        {
          "output_type": "stream",
          "name": "stdout",
          "text": [
            "[[ 1  0  4]\n",
            " [-7  5  5]\n",
            " [25  9 11]]\n"
          ]
        }
      ]
    },
    {
      "cell_type": "code",
      "metadata": {
        "colab": {
          "base_uri": "https://localhost:8080/"
        },
        "id": "kKBpKy3XklJF",
        "outputId": "205f74d7-9e4c-481d-8872-d8b37bb4a5f8"
      },
      "source": [
        "print(A.T,'Matriz A transpuesta') "
      ],
      "execution_count": 6,
      "outputs": [
        {
          "output_type": "stream",
          "name": "stdout",
          "text": [
            "[[ 1  2  4]\n",
            " [-3  1 -3]\n",
            " [ 2 -3 -1]] Matriz A transpuesta\n"
          ]
        }
      ]
    },
    {
      "cell_type": "code",
      "metadata": {
        "colab": {
          "base_uri": "https://localhost:8080/"
        },
        "id": "u4HRjGwakm_1",
        "outputId": "934d87d8-6e2c-4014-ba9e-af2b69b2219e"
      },
      "source": [
        "print(B.transpose(),'Matriz B transpuesta')"
      ],
      "execution_count": 7,
      "outputs": [
        {
          "output_type": "stream",
          "name": "stdout",
          "text": [
            "[[ 1 -7 25]\n",
            " [ 0  5  9]\n",
            " [ 4  5 11]] Matriz B transpuesta\n"
          ]
        }
      ]
    },
    {
      "cell_type": "code",
      "metadata": {
        "id": "2CsFpbm9kouV"
      },
      "source": [
        ""
      ],
      "execution_count": null,
      "outputs": []
    }
  ]
}