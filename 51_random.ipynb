{
  "nbformat": 4,
  "nbformat_minor": 0,
  "metadata": {
    "colab": {
      "name": "51. random",
      "provenance": [],
      "collapsed_sections": [],
      "authorship_tag": "ABX9TyPkCBr2ST43Q+faVvCObe9Z",
      "include_colab_link": true
    },
    "kernelspec": {
      "name": "python3",
      "display_name": "Python 3"
    },
    "language_info": {
      "name": "python"
    }
  },
  "cells": [
    {
      "cell_type": "markdown",
      "metadata": {
        "id": "view-in-github",
        "colab_type": "text"
      },
      "source": [
        "<a href=\"https://colab.research.google.com/github/diego40g/data_science_python/blob/numpy/51_random.ipynb\" target=\"_parent\"><img src=\"https://colab.research.google.com/assets/colab-badge.svg\" alt=\"Open In Colab\"/></a>"
      ]
    },
    {
      "cell_type": "code",
      "metadata": {
        "id": "CuIeXF7ITDtm"
      },
      "source": [
        "from numpy import random"
      ],
      "execution_count": 1,
      "outputs": []
    },
    {
      "cell_type": "code",
      "metadata": {
        "colab": {
          "base_uri": "https://localhost:8080/"
        },
        "id": "IQzSQH5TTJ7J",
        "outputId": "3b00e2a5-6061-4a6d-aced-4056d13defe6"
      },
      "source": [
        "data = random.normal(size = (4,5))\n",
        "print(data)"
      ],
      "execution_count": 2,
      "outputs": [
        {
          "output_type": "stream",
          "name": "stdout",
          "text": [
            "[[ 1.35593577  0.29143854 -0.90431853 -1.52962783  0.45976625]\n",
            " [ 1.01304473  0.86273131  0.17012191  1.12435472  1.05656199]\n",
            " [ 0.40537629 -0.91123069  0.93488032 -1.2604911  -0.43068352]\n",
            " [ 0.15666592 -0.09259715 -1.3520594   2.00377985 -0.32481904]]\n"
          ]
        }
      ]
    }
  ]
}