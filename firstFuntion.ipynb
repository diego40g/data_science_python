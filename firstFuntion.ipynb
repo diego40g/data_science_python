{
  "nbformat": 4,
  "nbformat_minor": 0,
  "metadata": {
    "colab": {
      "name": "firstFuntion.ipynb",
      "provenance": [],
      "authorship_tag": "ABX9TyNet4ALVcS7SwQTiT/kr5tP",
      "include_colab_link": true
    },
    "kernelspec": {
      "name": "python3",
      "display_name": "Python 3"
    },
    "language_info": {
      "name": "python"
    }
  },
  "cells": [
    {
      "cell_type": "markdown",
      "metadata": {
        "id": "view-in-github",
        "colab_type": "text"
      },
      "source": [
        "<a href=\"https://colab.research.google.com/github/diego40g/data_science_python/blob/main/firstFuntion.ipynb\" target=\"_parent\"><img src=\"https://colab.research.google.com/assets/colab-badge.svg\" alt=\"Open In Colab\"/></a>"
      ]
    },
    {
      "cell_type": "code",
      "metadata": {
        "id": "FZoY9O1QvXy8"
      },
      "source": [
        "import numpy as np"
      ],
      "execution_count": 1,
      "outputs": []
    },
    {
      "cell_type": "code",
      "metadata": {
        "id": "76QaZPWjxfgC"
      },
      "source": [
        "def inspect_array(array):\n",
        "  if isinstance(array,np.ndarray):\n",
        "    print('Shape: ',array.shape)\n",
        "    print('Size: ',array.size)\n",
        "    print('Ndim: ',array.ndim)\n",
        "    print('Nbytes: ',array.nbytes)\n",
        "    print('Dtype: ',array.dtype)\n",
        "    print('Type: ',type(array))\n",
        "    return array \n",
        "  else:\n",
        "    return 'El objeto ingresado no es reconocido por numpy como array'"
      ],
      "execution_count": 4,
      "outputs": []
    },
    {
      "cell_type": "code",
      "metadata": {
        "id": "qgD1vkwK1KFo"
      },
      "source": [
        "array = np.array([1, 2, 3, 4])"
      ],
      "execution_count": 5,
      "outputs": []
    },
    {
      "cell_type": "code",
      "metadata": {
        "colab": {
          "base_uri": "https://localhost:8080/"
        },
        "id": "XR-DlhQA0xha",
        "outputId": "69b5b5f2-28b5-41d3-ab5c-6dbe24e1013f"
      },
      "source": [
        "inspect_array(np.array([1,2,3])) "
      ],
      "execution_count": 6,
      "outputs": [
        {
          "output_type": "stream",
          "name": "stdout",
          "text": [
            "Shape:  (3,)\n",
            "Size:  3\n",
            "Ndim:  1\n",
            "Nbytes:  24\n",
            "Dtype:  int64\n",
            "Type:  <class 'numpy.ndarray'>\n"
          ]
        },
        {
          "output_type": "execute_result",
          "data": {
            "text/plain": [
              "array([1, 2, 3])"
            ]
          },
          "metadata": {},
          "execution_count": 6
        }
      ]
    }
  ]
}