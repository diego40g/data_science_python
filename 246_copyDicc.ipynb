{
  "nbformat": 4,
  "nbformat_minor": 0,
  "metadata": {
    "colab": {
      "provenance": [],
      "authorship_tag": "ABX9TyPIVEI1bNn1zFNgRd2yHNME",
      "include_colab_link": true
    },
    "kernelspec": {
      "name": "python3",
      "display_name": "Python 3"
    },
    "language_info": {
      "name": "python"
    }
  },
  "cells": [
    {
      "cell_type": "markdown",
      "metadata": {
        "id": "view-in-github",
        "colab_type": "text"
      },
      "source": [
        "<a href=\"https://colab.research.google.com/github/diego40g/data_science_python/blob/numpy/246_copyDicc.ipynb\" target=\"_parent\"><img src=\"https://colab.research.google.com/assets/colab-badge.svg\" alt=\"Open In Colab\"/></a>"
      ]
    },
    {
      "cell_type": "code",
      "execution_count": 1,
      "metadata": {
        "id": "IH5BANkcb95l"
      },
      "outputs": [],
      "source": [
        "import copy"
      ]
    },
    {
      "cell_type": "code",
      "source": [
        "nums_x = {\"a\":1, \"b\":2, 'cc':{\"c\":3}}\n",
        "print(\"Original dictionary: \", nums_x)"
      ],
      "metadata": {
        "colab": {
          "base_uri": "https://localhost:8080/"
        },
        "id": "zTmxLUancB29",
        "outputId": "ef6b0a67-5a0d-45c9-b1d4-b1f8f4e8b605"
      },
      "execution_count": 2,
      "outputs": [
        {
          "output_type": "stream",
          "name": "stdout",
          "text": [
            "Original dictionary:  {'a': 1, 'b': 2, 'cc': {'c': 3}}\n"
          ]
        }
      ]
    },
    {
      "cell_type": "code",
      "source": [
        "nums_y = copy.deepcopy(nums_x)\n",
        "print(\"\\nDeep copy of the said list:\")\n",
        "print(nums_y)\n",
        "print(\"\\nChange the value of an element of the original dictionary:\")\n",
        "nums_x[\"cc\"][\"c\"] = 10\n",
        "print(nums_x)\n",
        "print(\"\\nSecond dictionary (Deep copy):\")\n",
        "print(nums_y)"
      ],
      "metadata": {
        "colab": {
          "base_uri": "https://localhost:8080/"
        },
        "id": "1VjsdDDvcE21",
        "outputId": "c312ae0f-4e7b-4be2-c64c-e824721dd3e4"
      },
      "execution_count": 3,
      "outputs": [
        {
          "output_type": "stream",
          "name": "stdout",
          "text": [
            "\n",
            "Deep copy of the said list:\n",
            "{'a': 1, 'b': 2, 'cc': {'c': 3}}\n",
            "\n",
            "Change the value of an element of the original dictionary:\n",
            "{'a': 1, 'b': 2, 'cc': {'c': 10}}\n",
            "\n",
            "Second dictionary (Deep copy):\n",
            "{'a': 1, 'b': 2, 'cc': {'c': 3}}\n"
          ]
        }
      ]
    },
    {
      "cell_type": "code",
      "source": [
        "nums = {\"x\":1, \"y\":2, 'zz':{\"z\":3}}\n",
        "nums_copy = copy.deepcopy(nums)\n",
        "print(\"\\nOriginal dictionary :\")\n",
        "print(nums)\n",
        "print(\"\\nDeep copy of the said list:\")\n",
        "print(nums_copy)\n",
        "print(\"\\nChange the value of an element of the original dictionary:\")\n",
        "nums[\"zz\"][\"z\"] = 10\n",
        "print(\"\\nFirst dictionary:\")\n",
        "print(nums)\n",
        "print(\"\\nSecond dictionary (Deep copy):\")\n",
        "print(nums_copy)"
      ],
      "metadata": {
        "colab": {
          "base_uri": "https://localhost:8080/"
        },
        "id": "8Nii6N72cKO5",
        "outputId": "9f9c3092-9874-4065-e0ba-bef75274bc2d"
      },
      "execution_count": 4,
      "outputs": [
        {
          "output_type": "stream",
          "name": "stdout",
          "text": [
            "\n",
            "Original dictionary :\n",
            "{'x': 1, 'y': 2, 'zz': {'z': 3}}\n",
            "\n",
            "Deep copy of the said list:\n",
            "{'x': 1, 'y': 2, 'zz': {'z': 3}}\n",
            "\n",
            "Change the value of an element of the original dictionary:\n",
            "\n",
            "First dictionary:\n",
            "{'x': 1, 'y': 2, 'zz': {'z': 10}}\n",
            "\n",
            "Second dictionary (Deep copy):\n",
            "{'x': 1, 'y': 2, 'zz': {'z': 3}}\n"
          ]
        }
      ]
    }
  ]
}