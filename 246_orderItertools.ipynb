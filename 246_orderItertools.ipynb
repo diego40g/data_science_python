{
  "nbformat": 4,
  "nbformat_minor": 0,
  "metadata": {
    "colab": {
      "provenance": [],
      "authorship_tag": "ABX9TyOQKbWUv51Dohtn1yQWagnT",
      "include_colab_link": true
    },
    "kernelspec": {
      "name": "python3",
      "display_name": "Python 3"
    },
    "language_info": {
      "name": "python"
    }
  },
  "cells": [
    {
      "cell_type": "markdown",
      "metadata": {
        "id": "view-in-github",
        "colab_type": "text"
      },
      "source": [
        "<a href=\"https://colab.research.google.com/github/diego40g/data_science_python/blob/numpy/246_orderItertools.ipynb\" target=\"_parent\"><img src=\"https://colab.research.google.com/assets/colab-badge.svg\" alt=\"Open In Colab\"/></a>"
      ]
    },
    {
      "cell_type": "code",
      "execution_count": 1,
      "metadata": {
        "id": "Tm7mLmxGj72o"
      },
      "outputs": [],
      "source": [
        "from itertools import accumulate\n",
        "import operator"
      ]
    },
    {
      "cell_type": "code",
      "source": [
        "def running_product(it):\n",
        "    return accumulate(it,operator.mul)"
      ],
      "metadata": {
        "id": "zhtpXI94j-PZ"
      },
      "execution_count": 2,
      "outputs": []
    },
    {
      "cell_type": "code",
      "source": [
        "#List\n",
        "result = running_product([1,2,3,4,5,6,7])\n",
        "print(\"Running product of a list:\")\n",
        "for i in result:\n",
        "    print(i)"
      ],
      "metadata": {
        "colab": {
          "base_uri": "https://localhost:8080/"
        },
        "id": "EpeQEAEIj_9i",
        "outputId": "61ccfb2a-d091-4919-959c-225da03460df"
      },
      "execution_count": 3,
      "outputs": [
        {
          "output_type": "stream",
          "name": "stdout",
          "text": [
            "Running product of a list:\n",
            "1\n",
            "2\n",
            "6\n",
            "24\n",
            "120\n",
            "720\n",
            "5040\n"
          ]
        }
      ]
    },
    {
      "cell_type": "code",
      "source": [
        "#Tuple\n",
        "result = running_product((1,2,3,4,5,6,7))\n",
        "print(\"Running product of a Tuple:\")\n",
        "for i in result:\n",
        "    print(i)"
      ],
      "metadata": {
        "colab": {
          "base_uri": "https://localhost:8080/"
        },
        "id": "a_tuLRcxkBtP",
        "outputId": "f7d8bcd7-9597-47d9-828a-eab7ec41a35c"
      },
      "execution_count": 4,
      "outputs": [
        {
          "output_type": "stream",
          "name": "stdout",
          "text": [
            "Running product of a Tuple:\n",
            "1\n",
            "2\n",
            "6\n",
            "24\n",
            "120\n",
            "720\n",
            "5040\n"
          ]
        }
      ]
    }
  ]
}