{
  "nbformat": 4,
  "nbformat_minor": 0,
  "metadata": {
    "colab": {
      "name": "43. inverseMatrix.ipynb",
      "provenance": [],
      "authorship_tag": "ABX9TyPEwmuKCvYRZVrIFx04HXbY",
      "include_colab_link": true
    },
    "kernelspec": {
      "name": "python3",
      "display_name": "Python 3"
    },
    "language_info": {
      "name": "python"
    }
  },
  "cells": [
    {
      "cell_type": "markdown",
      "metadata": {
        "id": "view-in-github",
        "colab_type": "text"
      },
      "source": [
        "<a href=\"https://colab.research.google.com/github/diego40g/data_science_python/blob/numpy/43_inverseMatrix.ipynb\" target=\"_parent\"><img src=\"https://colab.research.google.com/assets/colab-badge.svg\" alt=\"Open In Colab\"/></a>"
      ]
    },
    {
      "cell_type": "code",
      "metadata": {
        "id": "lioV2AIvz474"
      },
      "source": [
        "import numpy as np"
      ],
      "execution_count": 1,
      "outputs": []
    },
    {
      "cell_type": "code",
      "metadata": {
        "colab": {
          "base_uri": "https://localhost:8080/"
        },
        "id": "Bbv92Ybrz6Zn",
        "outputId": "da0a1428-90ac-4052-eff0-80c57253f079"
      },
      "source": [
        "A = np.diag([7, 8, 11, 2, 4, 5, 1, 3])\n",
        "print(A)"
      ],
      "execution_count": 4,
      "outputs": [
        {
          "output_type": "stream",
          "name": "stdout",
          "text": [
            "[[ 7  0  0  0  0  0  0  0]\n",
            " [ 0  8  0  0  0  0  0  0]\n",
            " [ 0  0 11  0  0  0  0  0]\n",
            " [ 0  0  0  2  0  0  0  0]\n",
            " [ 0  0  0  0  4  0  0  0]\n",
            " [ 0  0  0  0  0  5  0  0]\n",
            " [ 0  0  0  0  0  0  1  0]\n",
            " [ 0  0  0  0  0  0  0  3]]\n"
          ]
        }
      ]
    },
    {
      "cell_type": "code",
      "metadata": {
        "colab": {
          "base_uri": "https://localhost:8080/"
        },
        "id": "7XWUwSFNz7pi",
        "outputId": "02317c1a-e3c9-4f54-fcba-287daff58267"
      },
      "source": [
        "A_inverse = np.linalg.inv(A)\n",
        "print(A_inverse)"
      ],
      "execution_count": 3,
      "outputs": [
        {
          "output_type": "stream",
          "name": "stdout",
          "text": [
            "[[0.14285714 0.         0.         0.         0.         0.\n",
            "  0.         0.        ]\n",
            " [0.         0.125      0.         0.         0.         0.\n",
            "  0.         0.        ]\n",
            " [0.         0.         0.09090909 0.         0.         0.\n",
            "  0.         0.        ]\n",
            " [0.         0.         0.         0.5        0.         0.\n",
            "  0.         0.        ]\n",
            " [0.         0.         0.         0.         0.25       0.\n",
            "  0.         0.        ]\n",
            " [0.         0.         0.         0.         0.         0.2\n",
            "  0.         0.        ]\n",
            " [0.         0.         0.         0.         0.         0.\n",
            "  1.         0.        ]\n",
            " [0.         0.         0.         0.         0.         0.\n",
            "  0.         0.33333333]]\n"
          ]
        }
      ]
    }
  ]
}