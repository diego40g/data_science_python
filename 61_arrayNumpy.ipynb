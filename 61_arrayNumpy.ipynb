{
  "nbformat": 4,
  "nbformat_minor": 0,
  "metadata": {
    "colab": {
      "name": "61. arrayNumpy.ipynb",
      "provenance": [],
      "authorship_tag": "ABX9TyOqCTxTcuJiUbtMMgCQAy0H",
      "include_colab_link": true
    },
    "kernelspec": {
      "name": "python3",
      "display_name": "Python 3"
    },
    "language_info": {
      "name": "python"
    }
  },
  "cells": [
    {
      "cell_type": "markdown",
      "metadata": {
        "id": "view-in-github",
        "colab_type": "text"
      },
      "source": [
        "<a href=\"https://colab.research.google.com/github/diego40g/data_science_python/blob/numpy/61_arrayNumpy.ipynb\" target=\"_parent\"><img src=\"https://colab.research.google.com/assets/colab-badge.svg\" alt=\"Open In Colab\"/></a>"
      ]
    },
    {
      "cell_type": "code",
      "metadata": {
        "id": "n1JtL2qUarGN"
      },
      "source": [
        "from numpy import random\n",
        "import numpy as np"
      ],
      "execution_count": 14,
      "outputs": []
    },
    {
      "cell_type": "code",
      "metadata": {
        "colab": {
          "base_uri": "https://localhost:8080/"
        },
        "id": "zqGETpQza2KQ",
        "outputId": "5acf7403-1f98-4fe0-865c-b19d9849369d"
      },
      "source": [
        "array = random.rand(10,5)\n",
        "print(array)"
      ],
      "execution_count": 2,
      "outputs": [
        {
          "output_type": "stream",
          "name": "stdout",
          "text": [
            "[[0.56934316 0.12689015 0.8890037  0.21468392 0.62260814]\n",
            " [0.11862116 0.62469075 0.29932632 0.26747906 0.30891781]\n",
            " [0.79959467 0.84576307 0.13576615 0.12367343 0.5568977 ]\n",
            " [0.95915631 0.28089886 0.54959401 0.80652221 0.64348281]\n",
            " [0.2145513  0.27900815 0.39827805 0.0907152  0.77545249]\n",
            " [0.90467029 0.84039385 0.77400965 0.42219065 0.93150737]\n",
            " [0.28102889 0.95709487 0.9665102  0.2172451  0.63620274]\n",
            " [0.3266996  0.69620074 0.50502873 0.0792655  0.69521874]\n",
            " [0.80399709 0.59021155 0.78750138 0.09723867 0.53532078]\n",
            " [0.09515551 0.42096228 0.43530794 0.96460603 0.90090247]]\n"
          ]
        }
      ]
    },
    {
      "cell_type": "code",
      "metadata": {
        "colab": {
          "base_uri": "https://localhost:8080/"
        },
        "id": "tbh_kUambAq-",
        "outputId": "d9055d92-ea4c-42b7-b550-feb5f7778200"
      },
      "source": [
        "mean = array.mean().round(2)\n",
        "print(f'Mean: {mean}')"
      ],
      "execution_count": 7,
      "outputs": [
        {
          "output_type": "stream",
          "name": "stdout",
          "text": [
            "Mean: 0.53\n"
          ]
        }
      ]
    },
    {
      "cell_type": "code",
      "metadata": {
        "colab": {
          "base_uri": "https://localhost:8080/"
        },
        "id": "3evRtdIsbG26",
        "outputId": "12def0ec-807e-4f03-d212-b551689924f5"
      },
      "source": [
        "standard_deviation = array.std().round(2)\n",
        "print(f'Standard deviation: {standard_deviation}')"
      ],
      "execution_count": 8,
      "outputs": [
        {
          "output_type": "stream",
          "name": "stdout",
          "text": [
            "Standard deviation: 0.29\n"
          ]
        }
      ]
    },
    {
      "cell_type": "code",
      "metadata": {
        "colab": {
          "base_uri": "https://localhost:8080/"
        },
        "id": "r2Q8Skr_bRLI",
        "outputId": "3b54a689-8ab4-4c6d-99a7-aecc5f016457"
      },
      "source": [
        "median = np.median(array).round(2)\n",
        "print(f'Median: {median}')"
      ],
      "execution_count": 15,
      "outputs": [
        {
          "output_type": "stream",
          "name": "stdout",
          "text": [
            "Median: 0.55\n"
          ]
        }
      ]
    }
  ]
}