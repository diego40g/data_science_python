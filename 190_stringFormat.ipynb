{
  "nbformat": 4,
  "nbformat_minor": 0,
  "metadata": {
    "colab": {
      "name": "190. stringFormat.ipynb",
      "provenance": [],
      "authorship_tag": "ABX9TyMFgbFUNzI0FeNNEHUxMaIr",
      "include_colab_link": true
    },
    "kernelspec": {
      "name": "python3",
      "display_name": "Python 3"
    },
    "language_info": {
      "name": "python"
    }
  },
  "cells": [
    {
      "cell_type": "markdown",
      "metadata": {
        "id": "view-in-github",
        "colab_type": "text"
      },
      "source": [
        "<a href=\"https://colab.research.google.com/github/diego40g/data_science_python/blob/numpy/190_stringFormat.ipynb\" target=\"_parent\"><img src=\"https://colab.research.google.com/assets/colab-badge.svg\" alt=\"Open In Colab\"/></a>"
      ]
    },
    {
      "cell_type": "code",
      "execution_count": 1,
      "metadata": {
        "id": "CFMqrF6N10Gf"
      },
      "outputs": [],
      "source": [
        "frase='Hola Python '"
      ]
    },
    {
      "cell_type": "code",
      "source": [
        "nombre='Diego'"
      ],
      "metadata": {
        "id": "C6bR0gUb1-HA"
      },
      "execution_count": 2,
      "outputs": []
    },
    {
      "cell_type": "code",
      "source": [
        "pais='Ecuador'"
      ],
      "metadata": {
        "id": "smdtQk3t2Deu"
      },
      "execution_count": 3,
      "outputs": []
    },
    {
      "cell_type": "code",
      "source": [
        "intro=(\n",
        "    f'{frase}. '\n",
        "    f'Mi nombre es {nombre}. '\n",
        "    f'Naci en {pais}. '\n",
        ")"
      ],
      "metadata": {
        "id": "dIXLc37T2NxZ"
      },
      "execution_count": 4,
      "outputs": []
    },
    {
      "cell_type": "code",
      "source": [
        "print(intro)"
      ],
      "metadata": {
        "colab": {
          "base_uri": "https://localhost:8080/"
        },
        "id": "7Ns8lupt2o_1",
        "outputId": "e96547f3-1913-41a5-cc2d-c18b0eb0fdac"
      },
      "execution_count": 5,
      "outputs": [
        {
          "output_type": "stream",
          "name": "stdout",
          "text": [
            "Hola Python .Mi nombre es Diego.Naci en Ecuador.\n"
          ]
        }
      ]
    }
  ]
}