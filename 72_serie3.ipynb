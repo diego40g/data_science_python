{
  "nbformat": 4,
  "nbformat_minor": 0,
  "metadata": {
    "colab": {
      "name": "72. serie3.ipynb",
      "provenance": [],
      "authorship_tag": "ABX9TyMmB2FdEKDrQnP9u3iH9gdZ",
      "include_colab_link": true
    },
    "kernelspec": {
      "name": "python3",
      "display_name": "Python 3"
    },
    "language_info": {
      "name": "python"
    }
  },
  "cells": [
    {
      "cell_type": "markdown",
      "metadata": {
        "id": "view-in-github",
        "colab_type": "text"
      },
      "source": [
        "<a href=\"https://colab.research.google.com/github/diego40g/data_science_python/blob/numpy/72_serie3.ipynb\" target=\"_parent\"><img src=\"https://colab.research.google.com/assets/colab-badge.svg\" alt=\"Open In Colab\"/></a>"
      ]
    },
    {
      "cell_type": "code",
      "metadata": {
        "id": "GbqOt9Gt8H29"
      },
      "source": [
        "import pandas as pd\n",
        "import numpy as np"
      ],
      "execution_count": 1,
      "outputs": []
    },
    {
      "cell_type": "code",
      "metadata": {
        "colab": {
          "base_uri": "https://localhost:8080/"
        },
        "id": "ZZjJBn_i8K9T",
        "outputId": "6ee3a8d1-0448-4bc6-f5f7-789e749b717f"
      },
      "source": [
        "array = np.arange(1, 50, 2)\n",
        "print(array)"
      ],
      "execution_count": 2,
      "outputs": [
        {
          "output_type": "stream",
          "name": "stdout",
          "text": [
            "[ 1  3  5  7  9 11 13 15 17 19 21 23 25 27 29 31 33 35 37 39 41 43 45 47\n",
            " 49]\n"
          ]
        }
      ]
    },
    {
      "cell_type": "code",
      "metadata": {
        "colab": {
          "base_uri": "https://localhost:8080/"
        },
        "id": "ex9xc7KQ8SO7",
        "outputId": "8d720696-e82f-4034-becb-ccb8758371d1"
      },
      "source": [
        "serie = pd.Series(array, index = range(25,50), name = 'Serie', dtype = float)\n",
        "print(serie)"
      ],
      "execution_count": 3,
      "outputs": [
        {
          "output_type": "stream",
          "name": "stdout",
          "text": [
            "25     1.0\n",
            "26     3.0\n",
            "27     5.0\n",
            "28     7.0\n",
            "29     9.0\n",
            "30    11.0\n",
            "31    13.0\n",
            "32    15.0\n",
            "33    17.0\n",
            "34    19.0\n",
            "35    21.0\n",
            "36    23.0\n",
            "37    25.0\n",
            "38    27.0\n",
            "39    29.0\n",
            "40    31.0\n",
            "41    33.0\n",
            "42    35.0\n",
            "43    37.0\n",
            "44    39.0\n",
            "45    41.0\n",
            "46    43.0\n",
            "47    45.0\n",
            "48    47.0\n",
            "49    49.0\n",
            "Name: Serie, dtype: float64\n"
          ]
        }
      ]
    }
  ]
}