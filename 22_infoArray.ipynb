{
  "nbformat": 4,
  "nbformat_minor": 0,
  "metadata": {
    "colab": {
      "name": "22. infoArray.ipynb",
      "provenance": [],
      "collapsed_sections": [],
      "authorship_tag": "ABX9TyPooBrCzCnFw4P0WSTu8jkL",
      "include_colab_link": true
    },
    "kernelspec": {
      "name": "python3",
      "display_name": "Python 3"
    },
    "language_info": {
      "name": "python"
    }
  },
  "cells": [
    {
      "cell_type": "markdown",
      "metadata": {
        "id": "view-in-github",
        "colab_type": "text"
      },
      "source": [
        "<a href=\"https://colab.research.google.com/github/diego40g/data_science_python/blob/numpy/22_infoArray.ipynb\" target=\"_parent\"><img src=\"https://colab.research.google.com/assets/colab-badge.svg\" alt=\"Open In Colab\"/></a>"
      ]
    },
    {
      "cell_type": "code",
      "metadata": {
        "id": "Q7Tj-Xj5MpSy"
      },
      "source": [
        "import numpy as np"
      ],
      "execution_count": 1,
      "outputs": []
    },
    {
      "cell_type": "code",
      "metadata": {
        "id": "lZiQzM71Ms2k"
      },
      "source": [
        "def info_array(array):\n",
        "  if isinstance(array,np.ndarray):\n",
        "    print(f'Max: {np.max(array)}')    \n",
        "    print(f'Min: {np.min(array)}')    \n",
        "    print(f'Media: {np.mean(array)}')    \n",
        "    print(f'Mediana: {np.median(array)}')    \n",
        "    print(f'Varianza: {np.var(array)}')    \n",
        "    print(f'Desviacion estandar: {np.std(array)}')    \n",
        "  else:\n",
        "    return None"
      ],
      "execution_count": 3,
      "outputs": []
    },
    {
      "cell_type": "code",
      "metadata": {
        "colab": {
          "base_uri": "https://localhost:8080/"
        },
        "id": "FcRiunNJNirO",
        "outputId": "446ab17a-a7f6-402f-b2cc-f119c843444b"
      },
      "source": [
        "if __name__=='__main__':\n",
        "  array=np.array([-57,101,270,130,144])\n",
        "  info_array(array)"
      ],
      "execution_count": 5,
      "outputs": [
        {
          "output_type": "stream",
          "name": "stdout",
          "text": [
            "Max: 270\n",
            "Min: -57\n",
            "Media: 117.6\n",
            "Mediana: 130.0\n",
            "Varianza: 10967.439999999999\n",
            "Desviacion estandar: 104.72554607162475\n"
          ]
        }
      ]
    }
  ]
}