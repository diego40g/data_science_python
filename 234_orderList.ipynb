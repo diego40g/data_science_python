{
  "nbformat": 4,
  "nbformat_minor": 0,
  "metadata": {
    "colab": {
      "provenance": [],
      "authorship_tag": "ABX9TyOxfsy3YWgnq/uun8lROHCd",
      "include_colab_link": true
    },
    "kernelspec": {
      "name": "python3",
      "display_name": "Python 3"
    },
    "language_info": {
      "name": "python"
    }
  },
  "cells": [
    {
      "cell_type": "markdown",
      "metadata": {
        "id": "view-in-github",
        "colab_type": "text"
      },
      "source": [
        "<a href=\"https://colab.research.google.com/github/diego40g/data_science_python/blob/numpy/234_orderList.ipynb\" target=\"_parent\"><img src=\"https://colab.research.google.com/assets/colab-badge.svg\" alt=\"Open In Colab\"/></a>"
      ]
    },
    {
      "cell_type": "code",
      "execution_count": 2,
      "metadata": {
        "id": "n0lRRzOCu6uY"
      },
      "outputs": [],
      "source": [
        "from multiprocessing import Lock, Pipe, Process"
      ]
    },
    {
      "cell_type": "code",
      "source": [
        "processLock = Lock()\n",
        "def oeProcess(position, value, LSend, RSend, LRcv, RRcv, resultPipe):\n",
        "    global processLock\n",
        "    for i in range(0, 10):\n",
        "        if (i + position) % 2 == 0 and RSend is not None:\n",
        "            processLock.acquire()\n",
        "            RSend[1].send(value)\n",
        "            processLock.release()  \n",
        "            processLock.acquire()\n",
        "            temp = RRcv[0].recv()\n",
        "            processLock.release()\n",
        "            value = min(value, temp)\n",
        "        elif (i + position) % 2 != 0 and LSend is not None:\n",
        "            processLock.acquire()\n",
        "            LSend[1].send(value)\n",
        "            processLock.release()            \n",
        "            processLock.acquire()\n",
        "            temp = LRcv[0].recv()\n",
        "            processLock.release()\n",
        "            value = max(value, temp)\n",
        "    resultPipe[1].send(value)"
      ],
      "metadata": {
        "id": "gXoEaRYVvdeG"
      },
      "execution_count": 3,
      "outputs": []
    },
    {
      "cell_type": "code",
      "source": [
        "def OddEvenTransposition(arr):\n",
        "    processArray = []\n",
        "    resultPipe = []\n",
        "    for _ in arr:\n",
        "        resultPipe.append(Pipe())\n",
        "    tempRs = Pipe()\n",
        "    tempRr = Pipe()\n",
        "    processArray.append(\n",
        "        Process(\n",
        "            target=oeProcess,\n",
        "            args=(0, arr[0], None, tempRs, None, tempRr, resultPipe[0]),\n",
        "        )\n",
        "    )\n",
        "    tempLr = tempRs\n",
        "    tempLs = tempRr\n",
        "\n",
        "    for i in range(1, len(arr) - 1):\n",
        "        tempRs = Pipe()\n",
        "        tempRr = Pipe()\n",
        "        processArray.append(\n",
        "            Process(\n",
        "                target=oeProcess,\n",
        "                args=(i, arr[i], tempLs, tempRs, tempLr, tempRr, resultPipe[i]),\n",
        "            )\n",
        "        )\n",
        "        tempLr = tempRs\n",
        "        tempLs = tempRr\n",
        "\n",
        "    processArray.append(\n",
        "        Process(\n",
        "            target=oeProcess,\n",
        "            args=(\n",
        "                len(arr) - 1,\n",
        "                arr[len(arr) - 1],\n",
        "                tempLs,\n",
        "                None,\n",
        "                tempLr,\n",
        "                None,\n",
        "                resultPipe[len(arr) - 1],\n",
        "            ),\n",
        "        )\n",
        "    )\n",
        "    for p in processArray:\n",
        "        p.start()\n",
        "    for p in range(0, len(resultPipe)):\n",
        "        arr[p] = resultPipe[p][0].recv()\n",
        "        processArray[p].join()\n",
        "    return arr"
      ],
      "metadata": {
        "id": "6W6_YBpIv5JM"
      },
      "execution_count": 4,
      "outputs": []
    },
    {
      "cell_type": "code",
      "source": [
        "def main():\n",
        "    arr = list(range(10, 0, -1))\n",
        "    print(\"Initial List\")\n",
        "    print(*arr)\n",
        "    arr = OddEvenTransposition(arr)\n",
        "    print(\"\\nSorted List:\")\n",
        "    print(*arr)\n",
        "if __name__ == \"__main__\":\n",
        "    main()"
      ],
      "metadata": {
        "colab": {
          "base_uri": "https://localhost:8080/"
        },
        "id": "Uv0g6JnEv5__",
        "outputId": "3f28e605-3ead-4a70-ebdc-aa05cbe97804"
      },
      "execution_count": null,
      "outputs": [
        {
          "output_type": "stream",
          "name": "stdout",
          "text": [
            "Initial List\n",
            "10 9 8 7 6 5 4 3 2 1\n"
          ]
        }
      ]
    }
  ]
}