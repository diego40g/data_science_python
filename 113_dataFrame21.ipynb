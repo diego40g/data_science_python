{
  "nbformat": 4,
  "nbformat_minor": 0,
  "metadata": {
    "colab": {
      "name": "113. dataFrame21.ipynb",
      "provenance": [],
      "collapsed_sections": [],
      "authorship_tag": "ABX9TyPuDMSJbBJ94sT5KKwiyLEN",
      "include_colab_link": true
    },
    "kernelspec": {
      "name": "python3",
      "display_name": "Python 3"
    },
    "language_info": {
      "name": "python"
    }
  },
  "cells": [
    {
      "cell_type": "markdown",
      "metadata": {
        "id": "view-in-github",
        "colab_type": "text"
      },
      "source": [
        "<a href=\"https://colab.research.google.com/github/diego40g/data_science_python/blob/numpy/113_dataFrame21.ipynb\" target=\"_parent\"><img src=\"https://colab.research.google.com/assets/colab-badge.svg\" alt=\"Open In Colab\"/></a>"
      ]
    },
    {
      "cell_type": "code",
      "metadata": {
        "id": "vNPdNbzSk44d"
      },
      "source": [
        "import pandas as pd\n",
        "import numpy as np"
      ],
      "execution_count": null,
      "outputs": []
    },
    {
      "cell_type": "code",
      "metadata": {
        "colab": {
          "base_uri": "https://localhost:8080/"
        },
        "id": "s_nIxkZ-k-23",
        "outputId": "55a38361-1bf0-40bd-ba07-b159f2356486"
      },
      "source": [
        "days = pd.date_range(start = '2020-1-1', periods = 10).to_numpy()\n",
        "np.random.shuffle(days)\n",
        "print(days)"
      ],
      "execution_count": null,
      "outputs": [
        {
          "output_type": "stream",
          "name": "stdout",
          "text": [
            "['2020-01-08T00:00:00.000000000' '2020-01-06T00:00:00.000000000'\n",
            " '2020-01-02T00:00:00.000000000' '2020-01-09T00:00:00.000000000'\n",
            " '2020-01-07T00:00:00.000000000' '2020-01-03T00:00:00.000000000'\n",
            " '2020-01-05T00:00:00.000000000' '2020-01-01T00:00:00.000000000'\n",
            " '2020-01-04T00:00:00.000000000' '2020-01-10T00:00:00.000000000']\n"
          ]
        }
      ]
    },
    {
      "cell_type": "code",
      "metadata": {
        "colab": {
          "base_uri": "https://localhost:8080/"
        },
        "id": "KUKN2BrllM6E",
        "outputId": "8b0ad548-27ca-4c07-fb47-22f12f0c9e3e"
      },
      "source": [
        "df = pd.DataFrame(\n",
        "    data = np.random.normal(10,3.5,(10,3)),\n",
        "    columns = list('ABC'),\n",
        "    index = days)\n",
        "print(df)"
      ],
      "execution_count": null,
      "outputs": [
        {
          "output_type": "stream",
          "name": "stdout",
          "text": [
            "                    A          B          C\n",
            "2020-01-08  10.978906  11.643825  10.766248\n",
            "2020-01-06  10.085195  11.287452  11.431597\n",
            "2020-01-02   6.301147   8.369905  10.662449\n",
            "2020-01-09  13.467680   9.746492   9.578159\n",
            "2020-01-07  14.398939  15.009078  10.855459\n",
            "2020-01-03  14.473704   8.773948  13.304306\n",
            "2020-01-05   8.711882  18.822202  14.046376\n",
            "2020-01-01  16.147389   4.709941  12.116285\n",
            "2020-01-04   5.867464  12.190403   9.187928\n",
            "2020-01-10  10.020829   5.101628   5.913733\n"
          ]
        }
      ]
    },
    {
      "cell_type": "code",
      "metadata": {
        "colab": {
          "base_uri": "https://localhost:8080/"
        },
        "id": "cHbJZi7TlTae",
        "outputId": "dd78a323-9109-4492-821a-653d73a3cac0"
      },
      "source": [
        "df = df.sort_index() #Sort DataFrame by index\n",
        "print(df)"
      ],
      "execution_count": null,
      "outputs": [
        {
          "output_type": "stream",
          "name": "stdout",
          "text": [
            "                    A          B          C\n",
            "2020-01-01  16.147389   4.709941  12.116285\n",
            "2020-01-02   6.301147   8.369905  10.662449\n",
            "2020-01-03  14.473704   8.773948  13.304306\n",
            "2020-01-04   5.867464  12.190403   9.187928\n",
            "2020-01-05   8.711882  18.822202  14.046376\n",
            "2020-01-06  10.085195  11.287452  11.431597\n",
            "2020-01-07  14.398939  15.009078  10.855459\n",
            "2020-01-08  10.978906  11.643825  10.766248\n",
            "2020-01-09  13.467680   9.746492   9.578159\n",
            "2020-01-10  10.020829   5.101628   5.913733\n"
          ]
        }
      ]
    }
  ]
}