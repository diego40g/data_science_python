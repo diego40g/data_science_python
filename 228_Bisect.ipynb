{
  "nbformat": 4,
  "nbformat_minor": 0,
  "metadata": {
    "colab": {
      "name": "228 Bisect.ipynb",
      "provenance": [],
      "authorship_tag": "ABX9TyOhv+EWpm64BlM9OBh/FP7o",
      "include_colab_link": true
    },
    "kernelspec": {
      "name": "python3",
      "display_name": "Python 3"
    },
    "language_info": {
      "name": "python"
    }
  },
  "cells": [
    {
      "cell_type": "markdown",
      "metadata": {
        "id": "view-in-github",
        "colab_type": "text"
      },
      "source": [
        "<a href=\"https://colab.research.google.com/github/diego40g/data_science_python/blob/numpy/228_Bisect.ipynb\" target=\"_parent\"><img src=\"https://colab.research.google.com/assets/colab-badge.svg\" alt=\"Open In Colab\"/></a>"
      ]
    },
    {
      "cell_type": "code",
      "execution_count": 1,
      "metadata": {
        "id": "ioUT4RgxsAJ4"
      },
      "outputs": [],
      "source": [
        "from bisect import bisect_left"
      ]
    },
    {
      "cell_type": "code",
      "source": [
        "class Solution:\n",
        "    def fourSum(self, nums, target):\n",
        "        \"\"\"\n",
        "        :type nums: List[int]\n",
        "        :type target: int\n",
        "        :rtype: List[List[int]]\n",
        "        \"\"\"\n",
        "        N = 4\n",
        "        quadruplets = []\n",
        "        if len(nums) < N:\n",
        "            return quadruplets\n",
        "        nums = sorted(nums)\n",
        "        quadruplet = []\n",
        "\n",
        "        # Let top[i] be the sum of largest i numbers.\n",
        "        top = [0]       \n",
        "        for i in range(1, N):\n",
        "            top.append(top[i - 1] + nums[-i])\n",
        "\n",
        "        # Find range of the least number in curr_n (0,...,N)\n",
        "        # numbers that sum up to curr_target, then find range\n",
        "        # of 2nd least number and so on by recursion.\n",
        "        def sum_(curr_target, curr_n, lo=0):\n",
        "            if curr_n == 0:\n",
        "                if curr_target == 0:\n",
        "                    quadruplets.append(quadruplet[:])\n",
        "                return\n",
        "\n",
        "            next_n = curr_n - 1\n",
        "            max_i = len(nums) - curr_n\n",
        "            max_i = bisect_left(\n",
        "                nums, curr_target // curr_n,\n",
        "                lo, max_i)\n",
        "            min_i = bisect_left(\n",
        "                nums, curr_target - top[next_n],\n",
        "                lo, max_i)\n",
        "\n",
        "            for i in range(min_i, max_i + 1): \n",
        "                if i == min_i or nums[i] != nums[i - 1]:\n",
        "                    quadruplet.append(nums[i])\n",
        "                    next_target = curr_target - nums[i]\n",
        "                    sum_(next_target, next_n, i + 1)\n",
        "                    quadruplet.pop()\n",
        "\n",
        "        sum_(target, N)\n",
        "        return quadruplets"
      ],
      "metadata": {
        "id": "7gFgj7AysRVl"
      },
      "execution_count": 2,
      "outputs": []
    },
    {
      "cell_type": "code",
      "source": [
        "s = Solution()\n",
        "nums = [-2, -1, 1, 2, 3, 4, 5, 6]\n",
        "target = 10\n",
        "result = s.fourSum(nums, target)\n",
        "print(\"\\nArray values & target value:\",nums,\"&\",target)\n",
        "print(\"Solution Set:\\n\", result)\n"
      ],
      "metadata": {
        "colab": {
          "base_uri": "https://localhost:8080/"
        },
        "id": "wD1yZIursT84",
        "outputId": "ce9ee36f-2065-41a1-ec3a-6ca2fe11f9c5"
      },
      "execution_count": 3,
      "outputs": [
        {
          "output_type": "stream",
          "name": "stdout",
          "text": [
            "\n",
            "Array values & target value: [-2, -1, 1, 2, 3, 4, 5, 6] & 10\n",
            "Solution Set:\n",
            " [[-2, 1, 5, 6], [-2, 2, 4, 6], [-2, 3, 4, 5], [-1, 1, 4, 6], [-1, 2, 3, 6], [-1, 2, 4, 5], [1, 2, 3, 4]]\n"
          ]
        }
      ]
    }
  ]
}