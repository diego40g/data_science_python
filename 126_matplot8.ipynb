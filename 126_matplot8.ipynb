{
  "nbformat": 4,
  "nbformat_minor": 0,
  "metadata": {
    "colab": {
      "name": "126.matplot8.ipynb",
      "provenance": [],
      "authorship_tag": "ABX9TyOBXGFDzqfa5OAOHVIzPYrN",
      "include_colab_link": true
    },
    "kernelspec": {
      "name": "python3",
      "display_name": "Python 3"
    },
    "language_info": {
      "name": "python"
    }
  },
  "cells": [
    {
      "cell_type": "markdown",
      "metadata": {
        "id": "view-in-github",
        "colab_type": "text"
      },
      "source": [
        "<a href=\"https://colab.research.google.com/github/diego40g/data_science_python/blob/numpy/126_matplot8.ipynb\" target=\"_parent\"><img src=\"https://colab.research.google.com/assets/colab-badge.svg\" alt=\"Open In Colab\"/></a>"
      ]
    },
    {
      "cell_type": "code",
      "execution_count": 1,
      "metadata": {
        "id": "jyyWuPx4O42P"
      },
      "outputs": [],
      "source": [
        "import matplotlib.pyplot as plt\n",
        "import numpy as np"
      ]
    },
    {
      "cell_type": "code",
      "source": [
        "data = np.random.normal(loc = 100, scale = 0.5, size = 100)\n",
        "print(data)"
      ],
      "metadata": {
        "colab": {
          "base_uri": "https://localhost:8080/"
        },
        "id": "_0xNw8gWO8tF",
        "outputId": "66ebd6ba-217b-4355-9399-0b9aa626a3c9"
      },
      "execution_count": 2,
      "outputs": [
        {
          "output_type": "stream",
          "name": "stdout",
          "text": [
            "[ 99.62809231 100.14755838 100.35573883 100.25756724  99.59843905\n",
            " 100.16296337 100.22059479 100.04165547  99.64386966 100.27344534\n",
            " 100.2193914   99.47268255  99.59603627 101.05940744 100.28587246\n",
            "  99.14264138 100.50994956 100.76178807  99.89941946 100.35920794\n",
            "  99.23924457  99.5329855  100.44630809 100.9105484  100.14540876\n",
            " 100.62734599  99.79175295 100.53704804 100.38698752 100.09162684\n",
            "  99.87544951  99.65109679 100.15664739  99.78091357 100.2456984\n",
            " 100.14854388  99.43796547 100.82915528  99.46406286  99.86527239\n",
            "  99.73596937 100.08243966 100.43127331 100.02421428  99.88907348\n",
            " 100.32819881  99.65467676 100.14774156  99.01905164 100.92155863\n",
            "  99.82530708 100.5764868   99.91833627 100.39707627 100.08724939\n",
            "  99.67783015 100.2435472   99.58033299 100.11728913 100.63808799\n",
            " 100.03148109 101.01239819 100.74448547 100.33950443 100.35983513\n",
            " 100.3001691   99.61421398 100.48462762  99.6243798   99.83185372\n",
            " 100.39749925 100.06765434 100.08285047 100.79522916  99.61672785\n",
            "  99.67508014 100.75071829  99.76308082  99.99718424  99.34972786\n",
            "  99.37661004  99.86568466  99.17605659  99.75465868  99.2319689\n",
            "  99.74367482  99.56890995 100.87638524 100.22872475  99.865363\n",
            "  99.94371111  98.91557604 100.00900017 100.45064744  98.51931911\n",
            " 100.33976496 100.21790149 100.40914657 100.51023543 100.15933602]\n"
          ]
        }
      ]
    },
    {
      "cell_type": "code",
      "source": [
        "#plot\n",
        "plt.hist(x = data)\n",
        "plt.title('Histogram')\n",
        "plt.xlabel('Data')\n",
        "plt.show()"
      ],
      "metadata": {
        "colab": {
          "base_uri": "https://localhost:8080/",
          "height": 221
        },
        "id": "iHveGuq6PAzi",
        "outputId": "19a3cc55-bbcd-414f-b1f5-85940da69242"
      },
      "execution_count": 3,
      "outputs": [
        {
          "output_type": "display_data",
          "data": {
            "image/png": "[encoded data removed]",
            "text/plain": [
              "<Figure size 432x288 with 1 Axes>"
            ]
          },
          "metadata": {
            "needs_background": "light"
          }
        }
      ]
    }
  ]
}