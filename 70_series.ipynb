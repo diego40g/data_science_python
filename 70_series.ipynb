{
  "nbformat": 4,
  "nbformat_minor": 0,
  "metadata": {
    "colab": {
      "name": "70. series.ipynb",
      "provenance": [],
      "authorship_tag": "ABX9TyOr8OYAUy6uwTGOYIRquwKP",
      "include_colab_link": true
    },
    "kernelspec": {
      "name": "python3",
      "display_name": "Python 3"
    },
    "language_info": {
      "name": "python"
    }
  },
  "cells": [
    {
      "cell_type": "markdown",
      "metadata": {
        "id": "view-in-github",
        "colab_type": "text"
      },
      "source": [
        "<a href=\"https://colab.research.google.com/github/diego40g/data_science_python/blob/numpy/70_series.ipynb\" target=\"_parent\"><img src=\"https://colab.research.google.com/assets/colab-badge.svg\" alt=\"Open In Colab\"/></a>"
      ]
    },
    {
      "cell_type": "code",
      "metadata": {
        "id": "pHu0BBdR18MI"
      },
      "source": [
        "import numpy as np\n",
        "import pandas as pd"
      ],
      "execution_count": null,
      "outputs": []
    },
    {
      "cell_type": "code",
      "metadata": {
        "colab": {
          "base_uri": "https://localhost:8080/"
        },
        "id": "raGlXYD22Obg",
        "outputId": "7bc6057e-3212-447a-821f-88f015ca5deb"
      },
      "source": [
        "\n",
        "data = ['a', 'b', 'c', 'd']\n",
        "serie1 = pd.Series(data)\n",
        "print(data)\n",
        "print(serie1)"
      ],
      "execution_count": null,
      "outputs": [
        {
          "output_type": "stream",
          "name": "stdout",
          "text": [
            "['a', 'b', 'c', 'd']\n",
            "0    a\n",
            "1    b\n",
            "2    c\n",
            "3    d\n",
            "dtype: object\n"
          ]
        }
      ]
    },
    {
      "cell_type": "code",
      "metadata": {
        "colab": {
          "base_uri": "https://localhost:8080/"
        },
        "id": "EI3BjvGr2chg",
        "outputId": "5b27b012-ee64-42d7-a130-09606c1a19db"
      },
      "source": [
        "\n",
        "serie2 = pd.Series(data,index=[10, 11, 12, 13])\n",
        "print(serie2)"
      ],
      "execution_count": null,
      "outputs": [
        {
          "output_type": "stream",
          "name": "stdout",
          "text": [
            "10    a\n",
            "11    b\n",
            "12    c\n",
            "13    d\n",
            "dtype: object\n"
          ]
        }
      ]
    },
    {
      "cell_type": "code",
      "metadata": {
        "colab": {
          "base_uri": "https://localhost:8080/"
        },
        "id": "4-C8UieO21Lo",
        "outputId": "a1e08e4e-354e-4e4c-908c-c24b562326c9"
      },
      "source": [
        "\n",
        "serie3 = pd.Series(10,index=[0,1,2,3])\n",
        "print(serie3)"
      ],
      "execution_count": null,
      "outputs": [
        {
          "output_type": "stream",
          "name": "stdout",
          "text": [
            "0    10\n",
            "1    10\n",
            "2    10\n",
            "3    10\n",
            "dtype: int64\n"
          ]
        }
      ]
    },
    {
      "cell_type": "code",
      "metadata": {
        "colab": {
          "base_uri": "https://localhost:8080/"
        },
        "id": "1TtKxwOE2_7-",
        "outputId": "956833e6-4456-40c5-ce63-5e35729dbe65"
      },
      "source": [
        "array = np.arange(10,20,2)\n",
        "serie4 = pd.Series(array, index=range(1,6), dtype=float)\n",
        "print(array)\n",
        "print(serie4)"
      ],
      "execution_count": null,
      "outputs": [
        {
          "output_type": "stream",
          "name": "stdout",
          "text": [
            "[10 12 14 16 18]\n",
            "1    10.0\n",
            "2    12.0\n",
            "3    14.0\n",
            "4    16.0\n",
            "5    18.0\n",
            "dtype: float64\n"
          ]
        }
      ]
    }
  ]
}