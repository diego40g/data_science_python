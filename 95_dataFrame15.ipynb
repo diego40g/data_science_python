{
  "nbformat": 4,
  "nbformat_minor": 0,
  "metadata": {
    "colab": {
      "name": "95. dataFrame15.ipynb",
      "provenance": [],
      "authorship_tag": "ABX9TyNdpllyfZnzQQJMHXHmZSW4",
      "include_colab_link": true
    },
    "kernelspec": {
      "name": "python3",
      "display_name": "Python 3"
    },
    "language_info": {
      "name": "python"
    }
  },
  "cells": [
    {
      "cell_type": "markdown",
      "metadata": {
        "id": "view-in-github",
        "colab_type": "text"
      },
      "source": [
        "<a href=\"https://colab.research.google.com/github/diego40g/data_science_python/blob/numpy/95_dataFrame15.ipynb\" target=\"_parent\"><img src=\"https://colab.research.google.com/assets/colab-badge.svg\" alt=\"Open In Colab\"/></a>"
      ]
    },
    {
      "cell_type": "code",
      "metadata": {
        "id": "W7t4xx-8LhA1"
      },
      "source": [
        "import pandas as pd"
      ],
      "execution_count": 1,
      "outputs": []
    },
    {
      "cell_type": "code",
      "metadata": {
        "colab": {
          "base_uri": "https://localhost:8080/"
        },
        "id": "Zi6cs2SRMJN5",
        "outputId": "c9d263d8-3cc1-4b55-ccc2-e0fce51f4dbc"
      },
      "source": [
        "data = {\n",
        "    'A': ['z', 'k' ,'m'],\n",
        "    'B': ['j', 'n' , 'o'],\n",
        "    'C': ['o', 'p', 'k'],\n",
        "    'Z': ['i', 'j' ,'k'],\n",
        "    'W': ['p', 'k', 'u']\n",
        "}\n",
        "print(data)"
      ],
      "execution_count": 2,
      "outputs": [
        {
          "output_type": "stream",
          "name": "stdout",
          "text": [
            "{'A': ['z', 'k', 'm'], 'B': ['j', 'n', 'o'], 'C': ['o', 'p', 'k'], 'Z': ['i', 'j', 'k'], 'W': ['p', 'k', 'u']}\n"
          ]
        }
      ]
    },
    {
      "cell_type": "code",
      "metadata": {
        "colab": {
          "base_uri": "https://localhost:8080/"
        },
        "id": "t2cSGV6VMMGl",
        "outputId": "2b2a9c63-e2cb-4d21-fa4f-c66e348cffcf"
      },
      "source": [
        "df = pd.DataFrame(data, range(1,4))\n",
        "print(df)\n",
        "df.drop(labels = ['B', 'Z', 'W'], axis = 1, inplace = True)\n",
        "print(df)"
      ],
      "execution_count": 3,
      "outputs": [
        {
          "output_type": "stream",
          "name": "stdout",
          "text": [
            "   A  B  C  Z  W\n",
            "1  z  j  o  i  p\n",
            "2  k  n  p  j  k\n",
            "3  m  o  k  k  u\n",
            "   A  C\n",
            "1  z  o\n",
            "2  k  p\n",
            "3  m  k\n"
          ]
        }
      ]
    }
  ]
}