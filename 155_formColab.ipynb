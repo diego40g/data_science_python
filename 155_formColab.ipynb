{
  "nbformat": 4,
  "nbformat_minor": 0,
  "metadata": {
    "colab": {
      "name": "155. formColab.ipynb",
      "provenance": [],
      "authorship_tag": "ABX9TyPys5gBqQ2v3mQYen1EhJKb",
      "include_colab_link": true
    },
    "kernelspec": {
      "name": "python3",
      "display_name": "Python 3"
    },
    "language_info": {
      "name": "python"
    }
  },
  "cells": [
    {
      "cell_type": "markdown",
      "metadata": {
        "id": "view-in-github",
        "colab_type": "text"
      },
      "source": [
        "<a href=\"https://colab.research.google.com/github/diego40g/data_science_python/blob/numpy/155_formColab.ipynb\" target=\"_parent\"><img src=\"https://colab.research.google.com/assets/colab-badge.svg\" alt=\"Open In Colab\"/></a>"
      ]
    },
    {
      "cell_type": "code",
      "execution_count": null,
      "metadata": {
        "colab": {
          "base_uri": "https://localhost:8080/"
        },
        "id": "AlOZ9cskSpBg",
        "outputId": "43247f73-73e3-4d28-9dc0-eb938a080282"
      },
      "outputs": [
        {
          "output_type": "stream",
          "name": "stdout",
          "text": [
            "2022-01-31\n"
          ]
        }
      ],
      "source": [
        "#@title Date fields\n",
        "date_input='2022-01-31' #@param {type:\"date\"}\n",
        "print(date_input)"
      ]
    }
  ]
}