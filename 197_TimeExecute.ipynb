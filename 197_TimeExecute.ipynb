{
  "nbformat": 4,
  "nbformat_minor": 0,
  "metadata": {
    "colab": {
      "name": "197. TimeExecute",
      "provenance": [],
      "authorship_tag": "ABX9TyMlQ7SkMAm26jWkYQ8zfRz6",
      "include_colab_link": true
    },
    "kernelspec": {
      "name": "python3",
      "display_name": "Python 3"
    },
    "language_info": {
      "name": "python"
    }
  },
  "cells": [
    {
      "cell_type": "markdown",
      "metadata": {
        "id": "view-in-github",
        "colab_type": "text"
      },
      "source": [
        "<a href=\"https://colab.research.google.com/github/diego40g/data_science_python/blob/numpy/197_TimeExecute.ipynb\" target=\"_parent\"><img src=\"https://colab.research.google.com/assets/colab-badge.svg\" alt=\"Open In Colab\"/></a>"
      ]
    },
    {
      "cell_type": "code",
      "execution_count": 1,
      "metadata": {
        "id": "t20gx4Im46y3"
      },
      "outputs": [],
      "source": [
        "\n",
        "import time"
      ]
    },
    {
      "cell_type": "code",
      "source": [
        "startTime = time.time()"
      ],
      "metadata": {
        "id": "pmGKtKOq5AKV"
      },
      "execution_count": 2,
      "outputs": []
    },
    {
      "cell_type": "code",
      "source": [
        "# write your code or functions calls\n",
        "\n",
        "endTime = time.time()\n",
        "totalTime = endTime - startTime"
      ],
      "metadata": {
        "id": "Cukqg9mx5Itv"
      },
      "execution_count": 3,
      "outputs": []
    },
    {
      "cell_type": "code",
      "source": [
        "\n",
        "print(\"Total time required to execute code is= \", totalTime)"
      ],
      "metadata": {
        "colab": {
          "base_uri": "https://localhost:8080/"
        },
        "id": "xZhX438I5OOu",
        "outputId": "4a1dd455-5ff0-4b16-aeda-25aa3ed209e6"
      },
      "execution_count": 4,
      "outputs": [
        {
          "output_type": "stream",
          "name": "stdout",
          "text": [
            "Total time required to execute code is=  22.608947277069092\n"
          ]
        }
      ]
    }
  ]
}