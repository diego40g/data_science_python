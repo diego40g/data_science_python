{
  "nbformat": 4,
  "nbformat_minor": 0,
  "metadata": {
    "colab": {
      "name": "92. dataFrame12.ipynb",
      "provenance": [],
      "authorship_tag": "ABX9TyNfTC2hgnQBanb+VIQpic3m",
      "include_colab_link": true
    },
    "kernelspec": {
      "name": "python3",
      "display_name": "Python 3"
    },
    "language_info": {
      "name": "python"
    }
  },
  "cells": [
    {
      "cell_type": "markdown",
      "metadata": {
        "id": "view-in-github",
        "colab_type": "text"
      },
      "source": [
        "<a href=\"https://colab.research.google.com/github/diego40g/data_science_python/blob/numpy/92_dataFrame12.ipynb\" target=\"_parent\"><img src=\"https://colab.research.google.com/assets/colab-badge.svg\" alt=\"Open In Colab\"/></a>"
      ]
    },
    {
      "cell_type": "code",
      "metadata": {
        "id": "3mtXBCW_GSp-"
      },
      "source": [
        "import pandas as pd"
      ],
      "execution_count": null,
      "outputs": []
    },
    {
      "cell_type": "code",
      "metadata": {
        "colab": {
          "base_uri": "https://localhost:8080/"
        },
        "id": "hr1Fn3nFGmTO",
        "outputId": "dec3b12b-4819-4c50-b383-3d54c090a630"
      },
      "source": [
        "scores = [7, 8 , 4.7, 10, 9.5, 6, 5, 7.7]\n",
        "print(scores)"
      ],
      "execution_count": null,
      "outputs": [
        {
          "output_type": "stream",
          "name": "stdout",
          "text": [
            "[7, 8, 4.7, 10, 9.5, 6, 5, 7.7]\n"
          ]
        }
      ]
    },
    {
      "cell_type": "code",
      "metadata": {
        "colab": {
          "base_uri": "https://localhost:8080/"
        },
        "id": "w7TyechGGvZi",
        "outputId": "c6f29de2-4154-43fa-9223-0eb7078396ec"
      },
      "source": [
        "data = {\n",
        "    'Name': ['Carl', 'Margaret', 'Maurice', 'Oscar', 'Peter', 'Oswald', 'Paul', 'Ronald'],\n",
        "    'Score': [7, 8 , 4.7, 10, 9.5, 6, 5, 7.7],\n",
        "    'Result': ['Yes' if score>=7 else 'No' for score in scores]\n",
        "}\n",
        "print(data)"
      ],
      "execution_count": null,
      "outputs": [
        {
          "output_type": "stream",
          "name": "stdout",
          "text": [
            "{'Name': ['Carl', 'Margaret', 'Maurice', 'Oscar', 'Peter', 'Oswald', 'Paul', 'Ronald'], 'Score': [7, 8, 4.7, 10, 9.5, 6, 5, 7.7], 'Result': ['Yes', 'Yes', 'No', 'Yes', 'Yes', 'No', 'No', 'Yes']}\n"
          ]
        }
      ]
    },
    {
      "cell_type": "code",
      "metadata": {
        "colab": {
          "base_uri": "https://localhost:8080/"
        },
        "id": "eHU2VClpGxaD",
        "outputId": "63f3ab3e-86f6-4d94-9ac8-b256d855b729"
      },
      "source": [
        "df = pd.DataFrame(data)\n",
        "print(df)"
      ],
      "execution_count": null,
      "outputs": [
        {
          "output_type": "stream",
          "name": "stdout",
          "text": [
            "       Name  Score Result\n",
            "0      Carl    7.0    Yes\n",
            "1  Margaret    8.0    Yes\n",
            "2   Maurice    4.7     No\n",
            "3     Oscar   10.0    Yes\n",
            "4     Peter    9.5    Yes\n",
            "5    Oswald    6.0     No\n",
            "6      Paul    5.0     No\n",
            "7    Ronald    7.7    Yes\n"
          ]
        }
      ]
    },
    {
      "cell_type": "code",
      "metadata": {
        "colab": {
          "base_uri": "https://localhost:8080/"
        },
        "id": "H4U9S7bAG5hL",
        "outputId": "56d0f5a8-13db-4a1a-991c-887951a74fd4"
      },
      "source": [
        "names = df.Name  #a)\n",
        "print(names)"
      ],
      "execution_count": null,
      "outputs": [
        {
          "output_type": "stream",
          "name": "stdout",
          "text": [
            "0        Carl\n",
            "1    Margaret\n",
            "2     Maurice\n",
            "3       Oscar\n",
            "4       Peter\n",
            "5      Oswald\n",
            "6        Paul\n",
            "7      Ronald\n",
            "Name: Name, dtype: object\n"
          ]
        }
      ]
    },
    {
      "cell_type": "code",
      "metadata": {
        "colab": {
          "base_uri": "https://localhost:8080/"
        },
        "id": "X0LLWizfG-Pa",
        "outputId": "b19a15ec-0b4d-4d39-c47c-e789cdba473d"
      },
      "source": [
        "final_result = df['Result']  #b)\n",
        "print(final_result)"
      ],
      "execution_count": null,
      "outputs": [
        {
          "output_type": "stream",
          "name": "stdout",
          "text": [
            "0    Yes\n",
            "1    Yes\n",
            "2     No\n",
            "3    Yes\n",
            "4    Yes\n",
            "5     No\n",
            "6     No\n",
            "7    Yes\n",
            "Name: Result, dtype: object\n"
          ]
        }
      ]
    },
    {
      "cell_type": "code",
      "metadata": {
        "colab": {
          "base_uri": "https://localhost:8080/"
        },
        "id": "LzVDrqqpHAOz",
        "outputId": "047efdf4-f16e-4239-e2d0-911f04efe9be"
      },
      "source": [
        "print(df[['Name','Result']])  #c)\n",
        "print()\n",
        "print(df.iloc[6:7])  #d)\n",
        "print()\n",
        "print(df.iloc[3:6])  #e)"
      ],
      "execution_count": null,
      "outputs": [
        {
          "output_type": "stream",
          "name": "stdout",
          "text": [
            "       Name Result\n",
            "0      Carl    Yes\n",
            "1  Margaret    Yes\n",
            "2   Maurice     No\n",
            "3     Oscar    Yes\n",
            "4     Peter    Yes\n",
            "5    Oswald     No\n",
            "6      Paul     No\n",
            "7    Ronald    Yes\n",
            "\n",
            "   Name  Score Result\n",
            "6  Paul    5.0     No\n",
            "\n",
            "     Name  Score Result\n",
            "3   Oscar   10.0    Yes\n",
            "4   Peter    9.5    Yes\n",
            "5  Oswald    6.0     No\n"
          ]
        }
      ]
    }
  ]
}