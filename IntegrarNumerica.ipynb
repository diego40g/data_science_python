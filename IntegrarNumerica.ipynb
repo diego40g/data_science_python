{
  "nbformat": 4,
  "nbformat_minor": 0,
  "metadata": {
    "colab": {
      "provenance": [],
      "authorship_tag": "ABX9TyOh3E5V1Oofx++cIXWOp8Ux",
      "include_colab_link": true
    },
    "kernelspec": {
      "name": "python3",
      "display_name": "Python 3"
    },
    "language_info": {
      "name": "python"
    }
  },
  "cells": [
    {
      "cell_type": "markdown",
      "metadata": {
        "id": "view-in-github",
        "colab_type": "text"
      },
      "source": [
        "<a href=\"https://colab.research.google.com/github/diego40g/data_science_python/blob/numpy/IntegrarNumerica.ipynb\" target=\"_parent\"><img src=\"https://colab.research.google.com/assets/colab-badge.svg\" alt=\"Open In Colab\"/></a>"
      ]
    },
    {
      "cell_type": "code",
      "execution_count": 1,
      "metadata": {
        "colab": {
          "base_uri": "https://localhost:8080/"
        },
        "id": "ch66ZGczLyqi",
        "outputId": "d9f67cda-41b0-4f93-a50f-8eee653a3317"
      },
      "outputs": [
        {
          "output_type": "stream",
          "name": "stdout",
          "text": [
            "El resultado de la integral es: 0.33333333333333337\n",
            "Error estimado: 3.700743415417189e-15\n"
          ]
        }
      ],
      "source": [
        "\n",
        "\n",
        "\n",
        "from scipy import integrate\n",
        "\n",
        "# Definir la función a integrar\n",
        "def integrand(x):\n",
        "    return x**2\n",
        "\n",
        "# Calcular la integral definida\n",
        "result, error = integrate.quad(integrand, 0, 1)\n",
        "\n",
        "print(\"El resultado de la integral es:\", result)\n",
        "print(\"Error estimado:\", error)"
      ]
    }
  ]
}