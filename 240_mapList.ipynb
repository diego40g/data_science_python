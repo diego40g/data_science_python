{
  "nbformat": 4,
  "nbformat_minor": 0,
  "metadata": {
    "colab": {
      "provenance": [],
      "authorship_tag": "ABX9TyM32jEypJP7vBxyoCBNQe+R",
      "include_colab_link": true
    },
    "kernelspec": {
      "name": "python3",
      "display_name": "Python 3"
    },
    "language_info": {
      "name": "python"
    }
  },
  "cells": [
    {
      "cell_type": "markdown",
      "metadata": {
        "id": "view-in-github",
        "colab_type": "text"
      },
      "source": [
        "<a href=\"https://colab.research.google.com/github/diego40g/data_science_python/blob/numpy/240_mapList.ipynb\" target=\"_parent\"><img src=\"https://colab.research.google.com/assets/colab-badge.svg\" alt=\"Open In Colab\"/></a>"
      ]
    },
    {
      "cell_type": "code",
      "execution_count": 1,
      "metadata": {
        "id": "icHL16ViUlF3"
      },
      "outputs": [],
      "source": [
        "\n",
        "def square_num(n):\n",
        "  return n * n"
      ]
    },
    {
      "cell_type": "code",
      "source": [
        "\n",
        "nums = [4, 5, 2, 9]\n",
        "print(\"Original List: \",nums)\n",
        "result = map(square_num, nums)\n",
        "print(\"Square the elements of the said list using map():\")\n",
        "print(list(result))"
      ],
      "metadata": {
        "colab": {
          "base_uri": "https://localhost:8080/"
        },
        "id": "-izNfac6UoEt",
        "outputId": "9245c59f-a13c-4f6d-89bc-fff74d6feb87"
      },
      "execution_count": 2,
      "outputs": [
        {
          "output_type": "stream",
          "name": "stdout",
          "text": [
            "Original List:  [4, 5, 2, 9]\n",
            "Square the elements of the said list using map():\n",
            "[16, 25, 4, 81]\n"
          ]
        }
      ]
    }
  ]
}