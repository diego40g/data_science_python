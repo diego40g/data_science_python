{
  "nbformat": 4,
  "nbformat_minor": 0,
  "metadata": {
    "colab": {
      "provenance": [],
      "authorship_tag": "ABX9TyNpf2zDhM3zrtVUKO4eKQCd",
      "include_colab_link": true
    },
    "kernelspec": {
      "name": "python3",
      "display_name": "Python 3"
    },
    "language_info": {
      "name": "python"
    }
  },
  "cells": [
    {
      "cell_type": "markdown",
      "metadata": {
        "id": "view-in-github",
        "colab_type": "text"
      },
      "source": [
        "<a href=\"https://colab.research.google.com/github/diego40g/data_science_python/blob/numpy/233_splitStringPython.ipynb\" target=\"_parent\"><img src=\"https://colab.research.google.com/assets/colab-badge.svg\" alt=\"Open In Colab\"/></a>"
      ]
    },
    {
      "cell_type": "code",
      "source": [
        "def test(string):\n",
        "    import re\n",
        "    merged = re.split(r\"([ ,]+)\", string)\n",
        "    return [merged[::2], merged[1::2]]"
      ],
      "metadata": {
        "id": "mG96fTecNTdL"
      },
      "execution_count": 1,
      "outputs": []
    },
    {
      "cell_type": "code",
      "source": [
        "s = \"W3resource Python, Exercises.\"\n",
        "print(\"Original string:\",s)\n",
        "print(\"Split the said string into 2 lists: words and separators:\")\n",
        "print(test(s))\n",
        "s = \"The dance, held in the school gym, ended at midnight.\"\n",
        "print(\"\\nOriginal string:\",s)\n",
        "print(\"Split the said string into 2 lists: words and separators:\")\n",
        "print(test(s))\n",
        "s = \"The colors in my studyroom are blue, green, and yellow.\"\n",
        "print(\"\\nOriginal string:\",s)\n",
        "print(\"Split the said string into 2 lists: words and separators:\")\n",
        "print(test(s))"
      ],
      "metadata": {
        "colab": {
          "base_uri": "https://localhost:8080/"
        },
        "id": "9FXXobDENZb6",
        "outputId": "fe4c3ba4-a1e2-4de4-e094-b3f1e7ec755a"
      },
      "execution_count": 2,
      "outputs": [
        {
          "output_type": "stream",
          "name": "stdout",
          "text": [
            "Original string: W3resource Python, Exercises.\n",
            "Split the said string into 2 lists: words and separators:\n",
            "[['W3resource', 'Python', 'Exercises.'], [' ', ', ']]\n",
            "\n",
            "Original string: The dance, held in the school gym, ended at midnight.\n",
            "Split the said string into 2 lists: words and separators:\n",
            "[['The', 'dance', 'held', 'in', 'the', 'school', 'gym', 'ended', 'at', 'midnight.'], [' ', ', ', ' ', ' ', ' ', ' ', ', ', ' ', ' ']]\n",
            "\n",
            "Original string: The colors in my studyroom are blue, green, and yellow.\n",
            "Split the said string into 2 lists: words and separators:\n",
            "[['The', 'colors', 'in', 'my', 'studyroom', 'are', 'blue', 'green', 'and', 'yellow.'], [' ', ' ', ' ', ' ', ' ', ' ', ', ', ', ', ' ']]\n"
          ]
        }
      ]
    }
  ]
}