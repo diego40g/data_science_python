{
  "nbformat": 4,
  "nbformat_minor": 0,
  "metadata": {
    "colab": {
      "name": "30. Diagonal.ipynb",
      "provenance": [],
      "authorship_tag": "ABX9TyNCwVAT+q3i6pVY2ZIq8u9Q",
      "include_colab_link": true
    },
    "kernelspec": {
      "name": "python3",
      "display_name": "Python 3"
    },
    "language_info": {
      "name": "python"
    }
  },
  "cells": [
    {
      "cell_type": "markdown",
      "metadata": {
        "id": "view-in-github",
        "colab_type": "text"
      },
      "source": [
        "<a href=\"https://colab.research.google.com/github/diego40g/data_science_python/blob/numpy/30_Diagonal.ipynb\" target=\"_parent\"><img src=\"https://colab.research.google.com/assets/colab-badge.svg\" alt=\"Open In Colab\"/></a>"
      ]
    },
    {
      "cell_type": "code",
      "metadata": {
        "id": "DCYYBnZ5SCq4"
      },
      "source": [
        "import numpy as np"
      ],
      "execution_count": 1,
      "outputs": []
    },
    {
      "cell_type": "code",
      "metadata": {
        "colab": {
          "base_uri": "https://localhost:8080/"
        },
        "id": "1D9W5Y95Va4Z",
        "outputId": "947597e6-d62f-44b2-c62f-d67bc0e00d61"
      },
      "source": [
        "A=np.triu(np.arange(1,10).reshape(3,3),k=0)\n",
        "print(A)"
      ],
      "execution_count": 2,
      "outputs": [
        {
          "output_type": "stream",
          "name": "stdout",
          "text": [
            "[[1 2 3]\n",
            " [0 5 6]\n",
            " [0 0 9]]\n"
          ]
        }
      ]
    },
    {
      "cell_type": "code",
      "metadata": {
        "colab": {
          "base_uri": "https://localhost:8080/"
        },
        "id": "1oUHHPQlVijz",
        "outputId": "bd28da98-3498-4c6b-99d7-6378dc0c385c"
      },
      "source": [
        "B=np.tril(np.arange(1,10).reshape(3,3),k=0)\n",
        "print(B)"
      ],
      "execution_count": 5,
      "outputs": [
        {
          "output_type": "stream",
          "name": "stdout",
          "text": [
            "[[1 0 0]\n",
            " [4 5 0]\n",
            " [7 8 9]]\n"
          ]
        }
      ]
    },
    {
      "cell_type": "code",
      "metadata": {
        "colab": {
          "base_uri": "https://localhost:8080/"
        },
        "id": "5uq1WOmTWEky",
        "outputId": "0b3a4095-6243-441e-f012-b1fbe1169c5d"
      },
      "source": [
        "C=np.triu(np.arange(100,125).reshape(5,5))\n",
        "print(C)"
      ],
      "execution_count": 6,
      "outputs": [
        {
          "output_type": "stream",
          "name": "stdout",
          "text": [
            "[[100 101 102 103 104]\n",
            " [  0 106 107 108 109]\n",
            " [  0   0 112 113 114]\n",
            " [  0   0   0 118 119]\n",
            " [  0   0   0   0 124]]\n"
          ]
        }
      ]
    }
  ]
}