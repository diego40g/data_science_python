{
  "nbformat": 4,
  "nbformat_minor": 0,
  "metadata": {
    "colab": {
      "name": "142. Webscrapy.ipynb",
      "provenance": [],
      "authorship_tag": "ABX9TyNHrJAaIDUWSkrN3b6VA8YM",
      "include_colab_link": true
    },
    "kernelspec": {
      "name": "python3",
      "display_name": "Python 3"
    },
    "language_info": {
      "name": "python"
    }
  },
  "cells": [
    {
      "cell_type": "markdown",
      "metadata": {
        "id": "view-in-github",
        "colab_type": "text"
      },
      "source": [
        "<a href=\"https://colab.research.google.com/github/diego40g/data_science_python/blob/numpy/142_Webscrapy.ipynb\" target=\"_parent\"><img src=\"https://colab.research.google.com/assets/colab-badge.svg\" alt=\"Open In Colab\"/></a>"
      ]
    },
    {
      "cell_type": "code",
      "execution_count": 1,
      "metadata": {
        "id": "qhMf-Gknq1rg"
      },
      "outputs": [],
      "source": [
        "import asyncio, requests, os\n",
        "from concurrent.futures import ThreadPoolExecutor, ProcessPoolExecutor, as_completed\n",
        "from bs4 import BeautifulSoup as BS"
      ]
    },
    {
      "cell_type": "code",
      "source": [
        "execute"
      ],
      "metadata": {
        "id": "oiRqrNxexQRT"
      },
      "execution_count": null,
      "outputs": []
    }
  ]
}