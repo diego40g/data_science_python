{
  "nbformat": 4,
  "nbformat_minor": 0,
  "metadata": {
    "colab": {
      "name": "177. privateProperty.ipynb",
      "provenance": [],
      "authorship_tag": "ABX9TyN/hb/R6C6EiYxmiItIzVWc",
      "include_colab_link": true
    },
    "kernelspec": {
      "name": "python3",
      "display_name": "Python 3"
    },
    "language_info": {
      "name": "python"
    }
  },
  "cells": [
    {
      "cell_type": "markdown",
      "metadata": {
        "id": "view-in-github",
        "colab_type": "text"
      },
      "source": [
        "<a href=\"https://colab.research.google.com/github/diego40g/data_science_python/blob/numpy/177_privateProperty.ipynb\" target=\"_parent\"><img src=\"https://colab.research.google.com/assets/colab-badge.svg\" alt=\"Open In Colab\"/></a>"
      ]
    },
    {
      "cell_type": "code",
      "execution_count": 23,
      "metadata": {
        "id": "-iQ8jBFy58yp"
      },
      "outputs": [],
      "source": [
        "class example:\n",
        "    def __init__(self, name):\n",
        "        self.__name=name\n",
        "        self.__private=None\n",
        "\n",
        "    @property\n",
        "    def private(self):\n",
        "        return self.__private\n",
        "\n",
        "    @private.setter\n",
        "    def private(self, name):\n",
        "        if name in self.__name:\n",
        "            self.__private=name\n",
        "        else:\n",
        "            raise ValueError (f\"El nombre {name} no está en la lista {self.__name}\")"
      ]
    },
    {
      "cell_type": "code",
      "source": [
        "def run(name):\n",
        "    person=example ([\"Diego\",\"Ignacio\"])\n",
        "    print(person.private)\n",
        "    try:\n",
        "        person.private= name\n",
        "        print(person.private)\n",
        "    except ValueError as ve:\n",
        "        print(ve)"
      ],
      "metadata": {
        "id": "mLQ_HhJY7ZUD"
      },
      "execution_count": 12,
      "outputs": []
    },
    {
      "cell_type": "code",
      "source": [
        "run(\"Diego\")"
      ],
      "metadata": {
        "colab": {
          "base_uri": "https://localhost:8080/"
        },
        "id": "A3Z-WyxQ9Ajg",
        "outputId": "9b9e1acd-70ff-4db7-c991-ef5ac4bd3080"
      },
      "execution_count": 13,
      "outputs": [
        {
          "output_type": "stream",
          "name": "stdout",
          "text": [
            "None\n",
            "Diego\n"
          ]
        }
      ]
    },
    {
      "cell_type": "code",
      "source": [
        "run(\"Isma\")"
      ],
      "metadata": {
        "colab": {
          "base_uri": "https://localhost:8080/"
        },
        "id": "cumsRWcJ9yUS",
        "outputId": "e3567cfc-9019-4062-e6f1-c995e13da5ae"
      },
      "execution_count": 24,
      "outputs": [
        {
          "output_type": "stream",
          "name": "stdout",
          "text": [
            "None\n",
            "El nombre Isma no está en la lista ['Diego', 'Ignacio']\n"
          ]
        }
      ]
    }
  ]
}