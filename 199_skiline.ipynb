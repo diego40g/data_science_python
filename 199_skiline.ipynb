{
  "cells": [
    {
      "cell_type": "markdown",
      "metadata": {
        "id": "view-in-github",
        "colab_type": "text"
      },
      "source": [
        "<a href=\"https://colab.research.google.com/github/diego40g/data_science_python/blob/numpy/199_skiline.ipynb\" target=\"_parent\"><img src=\"https://colab.research.google.com/assets/colab-badge.svg\" alt=\"Open In Colab\"/></a>"
      ]
    },
    {
      "cell_type": "code",
      "execution_count": 5,
      "metadata": {
        "id": "et-_O7MMV8E3"
      },
      "outputs": [],
      "source": [
        "def myfunc(st):\n",
        "    n=len(st)\n",
        "    new_st=\"\"\n",
        "    for i in range (n):\n",
        "        if i%2==0:\n",
        "            new_st+=st[i].upper()\n",
        "        else:\n",
        "            new_st+=st[i].lower()\n",
        "    return new_st"
      ]
    },
    {
      "cell_type": "code",
      "source": [
        "myfunc (\"Diego hola \")"
      ],
      "metadata": {
        "id": "Dgfs3kZMZIfh",
        "colab": {
          "base_uri": "https://localhost:8080/",
          "height": 35
        },
        "outputId": "2f367d7e-7106-42f7-e4fb-83753158beec"
      },
      "execution_count": 7,
      "outputs": [
        {
          "output_type": "execute_result",
          "data": {
            "text/plain": [
              "'DiEgO HoLa '"
            ],
            "application/vnd.google.colaboratory.intrinsic+json": {
              "type": "string"
            }
          },
          "metadata": {},
          "execution_count": 7
        }
      ]
    }
  ],
  "metadata": {
    "colab": {
      "name": "199 skiline.ipynb",
      "provenance": [],
      "authorship_tag": "ABX9TyMTv8biqL9g2b+nGXtQCN6W",
      "include_colab_link": true
    },
    "kernelspec": {
      "display_name": "Python 3",
      "name": "python3"
    },
    "language_info": {
      "name": "python"
    }
  },
  "nbformat": 4,
  "nbformat_minor": 0
}