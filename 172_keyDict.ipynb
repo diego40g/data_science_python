{
  "nbformat": 4,
  "nbformat_minor": 0,
  "metadata": {
    "colab": {
      "name": "172. keyDict.ipynb",
      "provenance": [],
      "authorship_tag": "ABX9TyMn5kj2wP0CBt3fnsCFHRZ2",
      "include_colab_link": true
    },
    "kernelspec": {
      "name": "python3",
      "display_name": "Python 3"
    },
    "language_info": {
      "name": "python"
    }
  },
  "cells": [
    {
      "cell_type": "markdown",
      "metadata": {
        "id": "view-in-github",
        "colab_type": "text"
      },
      "source": [
        "<a href=\"https://colab.research.google.com/github/diego40g/data_science_python/blob/numpy/172_keyDict.ipynb\" target=\"_parent\"><img src=\"https://colab.research.google.com/assets/colab-badge.svg\" alt=\"Open In Colab\"/></a>"
      ]
    },
    {
      "cell_type": "code",
      "execution_count": 1,
      "metadata": {
        "id": "2G7hF5QTmNhD"
      },
      "outputs": [],
      "source": [
        "mi_dic={\"name\":\"Diego\",\"age\":23,\"job\":False}"
      ]
    },
    {
      "cell_type": "code",
      "source": [
        "print(mi_dic)"
      ],
      "metadata": {
        "colab": {
          "base_uri": "https://localhost:8080/"
        },
        "id": "0ZE3IEODoOG8",
        "outputId": "259983d9-a8b2-4750-f7d9-403cab941bdf"
      },
      "execution_count": 3,
      "outputs": [
        {
          "output_type": "stream",
          "name": "stdout",
          "text": [
            "{'name': 'Diego', 'age': 23, 'job': False}\n"
          ]
        }
      ]
    },
    {
      "cell_type": "code",
      "source": [
        "key=input(\"Ingresé clave a borrar: \")"
      ],
      "metadata": {
        "colab": {
          "base_uri": "https://localhost:8080/"
        },
        "id": "818spjaioXtK",
        "outputId": "4b01a2b0-e17a-413e-fe2c-43a8f24876f4"
      },
      "execution_count": 4,
      "outputs": [
        {
          "name": "stdout",
          "output_type": "stream",
          "text": [
            "Ingresé clave a borrarage\n"
          ]
        }
      ]
    },
    {
      "cell_type": "code",
      "source": [
        "if key in mi_dic:\n",
        "    del mi_dic[key]\n",
        "else:\n",
        "    print(\"no existe la clave\")"
      ],
      "metadata": {
        "id": "Q3Ul6p25omHS"
      },
      "execution_count": 5,
      "outputs": []
    },
    {
      "cell_type": "code",
      "source": [
        "print(mi_dic)"
      ],
      "metadata": {
        "colab": {
          "base_uri": "https://localhost:8080/"
        },
        "id": "23xiEQyno4ci",
        "outputId": "ae4c8f2d-380f-4ed6-e8d5-4c38d875ff15"
      },
      "execution_count": 6,
      "outputs": [
        {
          "output_type": "stream",
          "name": "stdout",
          "text": [
            "{'name': 'Diego', 'job': False}\n"
          ]
        }
      ]
    }
  ]
}