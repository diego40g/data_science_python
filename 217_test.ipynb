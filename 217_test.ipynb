{
  "nbformat": 4,
  "nbformat_minor": 0,
  "metadata": {
    "colab": {
      "name": "217 test.ipynb",
      "provenance": [],
      "collapsed_sections": [],
      "authorship_tag": "ABX9TyPEWB0keFxI1vCzxfuh5mdW",
      "include_colab_link": true
    },
    "kernelspec": {
      "name": "python3",
      "display_name": "Python 3"
    },
    "language_info": {
      "name": "python"
    }
  },
  "cells": [
    {
      "cell_type": "markdown",
      "metadata": {
        "id": "view-in-github",
        "colab_type": "text"
      },
      "source": [
        "<a href=\"https://colab.research.google.com/github/diego40g/data_science_python/blob/numpy/217_test.ipynb\" target=\"_parent\"><img src=\"https://colab.research.google.com/assets/colab-badge.svg\" alt=\"Open In Colab\"/></a>"
      ]
    },
    {
      "cell_type": "code",
      "execution_count": 1,
      "metadata": {
        "id": "E18GsdmBVjOq",
        "outputId": "949669fb-1e94-47aa-b66c-b50dacd2e010",
        "colab": {
          "base_uri": "https://localhost:8080/"
        }
      },
      "outputs": [
        {
          "name": "stdout",
          "output_type": "stream",
          "text": [
            "Enter a number n: 5\n"
          ]
        }
      ],
      "source": [
        "n=int(input(\"Enter a number n: \"))"
      ]
    },
    {
      "cell_type": "code",
      "source": [
        "temp=str(n)\n",
        "t1=temp+temp\n",
        "t2=temp+temp+temp\n",
        "comp=n+int(t1)+int(t2)"
      ],
      "metadata": {
        "id": "0DLjeg5l8Xrw"
      },
      "execution_count": 2,
      "outputs": []
    },
    {
      "cell_type": "code",
      "source": [
        "print(\"El valor es:\",comp)"
      ],
      "metadata": {
        "id": "fx55W8ei8acH",
        "outputId": "33db0a7f-1119-40dd-caa5-0d83517fd7b7",
        "colab": {
          "base_uri": "https://localhost:8080/"
        }
      },
      "execution_count": 3,
      "outputs": [
        {
          "output_type": "stream",
          "name": "stdout",
          "text": [
            "El valor es: 615\n"
          ]
        }
      ]
    }
  ]
}