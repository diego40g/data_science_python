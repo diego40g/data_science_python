{
  "nbformat": 4,
  "nbformat_minor": 0,
  "metadata": {
    "colab": {
      "name": "140 forType.ipynb",
      "provenance": [],
      "authorship_tag": "ABX9TyOUMZcFC5+66fqOt6jfE/qC",
      "include_colab_link": true
    },
    "kernelspec": {
      "name": "python3",
      "display_name": "Python 3"
    },
    "language_info": {
      "name": "python"
    }
  },
  "cells": [
    {
      "cell_type": "markdown",
      "metadata": {
        "id": "view-in-github",
        "colab_type": "text"
      },
      "source": [
        "<a href=\"https://colab.research.google.com/github/diego40g/data_science_python/blob/numpy/140_forType.ipynb\" target=\"_parent\"><img src=\"https://colab.research.google.com/assets/colab-badge.svg\" alt=\"Open In Colab\"/></a>"
      ]
    },
    {
      "cell_type": "code",
      "execution_count": 1,
      "metadata": {
        "id": "N1wqtdon8cjq"
      },
      "outputs": [],
      "source": [
        "a=[1,\"hwjsj\",'a',1.98,['a','b','c']]"
      ]
    },
    {
      "cell_type": "code",
      "source": [
        "for cadena in a:\n",
        "    print(cadena)"
      ],
      "metadata": {
        "colab": {
          "base_uri": "https://localhost:8080/"
        },
        "id": "-Um1nSUJBn3K",
        "outputId": "ff21258a-1784-460a-9c98-3875a97986b3"
      },
      "execution_count": 2,
      "outputs": [
        {
          "output_type": "stream",
          "name": "stdout",
          "text": [
            "1\n",
            "hwjsj\n",
            "a\n",
            "1.98\n",
            "['a', 'b', 'c']\n"
          ]
        }
      ]
    }
  ]
}