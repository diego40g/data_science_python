{
  "nbformat": 4,
  "nbformat_minor": 0,
  "metadata": {
    "colab": {
      "name": "67 distribution.ipynb",
      "provenance": [],
      "authorship_tag": "ABX9TyN0LqRgwf73hsdtuUv4nqk4",
      "include_colab_link": true
    },
    "kernelspec": {
      "name": "python3",
      "display_name": "Python 3"
    },
    "language_info": {
      "name": "python"
    }
  },
  "cells": [
    {
      "cell_type": "markdown",
      "metadata": {
        "id": "view-in-github",
        "colab_type": "text"
      },
      "source": [
        "<a href=\"https://colab.research.google.com/github/diego40g/data_science_python/blob/numpy/67_distribution.ipynb\" target=\"_parent\"><img src=\"https://colab.research.google.com/assets/colab-badge.svg\" alt=\"Open In Colab\"/></a>"
      ]
    },
    {
      "cell_type": "code",
      "metadata": {
        "id": "B9rkOCU-pvEU"
      },
      "source": [
        "import pandas as pd\n",
        "from numpy import random"
      ],
      "execution_count": 1,
      "outputs": []
    },
    {
      "cell_type": "code",
      "metadata": {
        "id": "Mz_VTf-xpz9R"
      },
      "source": [
        "\n",
        "n = 100 #number of observations\n",
        "data = {\n",
        "    'A': random.normal(size = n),\n",
        "    'B': random.uniform(size = n),\n",
        "    'C': random.binomial(n = 6, p = 0.6, size = n),\n",
        "    'D': random.standard_exponential(size = n),\n",
        "    'E': random.poisson(lam = 10, size = n),\n",
        "    'F': random.normal(loc = 100, scale = 15, size = n),\n",
        "    'G': random.randint(low = 50, high = 3000, size = n)}\n",
        "df = pd.DataFrame(data)"
      ],
      "execution_count": 2,
      "outputs": []
    }
  ]
}