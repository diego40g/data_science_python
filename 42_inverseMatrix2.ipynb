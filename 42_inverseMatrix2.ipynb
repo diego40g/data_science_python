{
  "nbformat": 4,
  "nbformat_minor": 0,
  "metadata": {
    "colab": {
      "name": "42. inverseMatrix2.ipynb",
      "provenance": [],
      "authorship_tag": "ABX9TyPvU0r4wRL4d/IR7f01+OlN",
      "include_colab_link": true
    },
    "kernelspec": {
      "name": "python3",
      "display_name": "Python 3"
    },
    "language_info": {
      "name": "python"
    }
  },
  "cells": [
    {
      "cell_type": "markdown",
      "metadata": {
        "id": "view-in-github",
        "colab_type": "text"
      },
      "source": [
        "<a href=\"https://colab.research.google.com/github/diego40g/data_science_python/blob/numpy/42_inverseMatrix2.ipynb\" target=\"_parent\"><img src=\"https://colab.research.google.com/assets/colab-badge.svg\" alt=\"Open In Colab\"/></a>"
      ]
    },
    {
      "cell_type": "code",
      "metadata": {
        "id": "UadGbPB3zclU"
      },
      "source": [
        "import numpy as np"
      ],
      "execution_count": 1,
      "outputs": []
    },
    {
      "cell_type": "code",
      "metadata": {
        "colab": {
          "base_uri": "https://localhost:8080/"
        },
        "id": "25gXp3HbzjGT",
        "outputId": "315f2404-8256-430d-fd3c-0d2486c1d6cb"
      },
      "source": [
        "A = np.array([[4,-1,2,-2],[3,-1,0,0],[2,3,1,0],[0,7,1,1]])\n",
        "print(A)"
      ],
      "execution_count": 3,
      "outputs": [
        {
          "output_type": "stream",
          "name": "stdout",
          "text": [
            "[[ 4 -1  2 -2]\n",
            " [ 3 -1  0  0]\n",
            " [ 2  3  1  0]\n",
            " [ 0  7  1  1]]\n"
          ]
        }
      ]
    },
    {
      "cell_type": "code",
      "metadata": {
        "colab": {
          "base_uri": "https://localhost:8080/"
        },
        "id": "J9sK09umzkXQ",
        "outputId": "c963265f-0e99-43c5-e788-475235dae331"
      },
      "source": [
        "A_inverse = np.linalg.inv(A)\n",
        "print(A_inverse)"
      ],
      "execution_count": 4,
      "outputs": [
        {
          "output_type": "stream",
          "name": "stdout",
          "text": [
            "[[ -1.  -1.   4.  -2.]\n",
            " [ -3.  -4.  12.  -6.]\n",
            " [ 11.  14. -43.  22.]\n",
            " [ 10.  14. -41.  21.]]\n"
          ]
        }
      ]
    }
  ]
}