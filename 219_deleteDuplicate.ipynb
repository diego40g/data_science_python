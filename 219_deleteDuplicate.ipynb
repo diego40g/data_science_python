{
  "nbformat": 4,
  "nbformat_minor": 0,
  "metadata": {
    "colab": {
      "name": "219. deleteDuplicate.ipynb",
      "provenance": [],
      "authorship_tag": "ABX9TyPc9vBj4Ss3CB/WW+Cr/lFw",
      "include_colab_link": true
    },
    "kernelspec": {
      "name": "python3",
      "display_name": "Python 3"
    },
    "language_info": {
      "name": "python"
    }
  },
  "cells": [
    {
      "cell_type": "markdown",
      "metadata": {
        "id": "view-in-github",
        "colab_type": "text"
      },
      "source": [
        "<a href=\"https://colab.research.google.com/github/diego40g/data_science_python/blob/numpy/219_deleteDuplicate.ipynb\" target=\"_parent\"><img src=\"https://colab.research.google.com/assets/colab-badge.svg\" alt=\"Open In Colab\"/></a>"
      ]
    },
    {
      "cell_type": "code",
      "execution_count": 1,
      "metadata": {
        "colab": {
          "base_uri": "https://localhost:8080/"
        },
        "id": "MA848kfcCzw0",
        "outputId": "43b7e50e-1152-458f-de9c-624ac79757e1"
      },
      "outputs": [
        {
          "output_type": "stream",
          "name": "stdout",
          "text": [
            "[1, 2, 4, 6]\n"
          ]
        }
      ],
      "source": [
        "\n",
        "list_1 = [1, 2, 1, 4, 6]\n",
        "\n",
        "print(list(set(list_1)))"
      ]
    },
    {
      "cell_type": "code",
      "source": [
        "\n",
        "list_1 = [1, 2, 1, 4, 6]\n",
        "list_2 = [7, 8, 2, 1]\n",
        "\n",
        "print(list(set(list_1) ^ set(list_2)))"
      ],
      "metadata": {
        "colab": {
          "base_uri": "https://localhost:8080/"
        },
        "id": "gtBisXjRC3Mz",
        "outputId": "3adc6161-425e-4aa4-8e3e-2cad2d8fb316"
      },
      "execution_count": 2,
      "outputs": [
        {
          "output_type": "stream",
          "name": "stdout",
          "text": [
            "[4, 6, 7, 8]\n"
          ]
        }
      ]
    }
  ]
}