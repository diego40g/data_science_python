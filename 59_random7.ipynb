{
  "nbformat": 4,
  "nbformat_minor": 0,
  "metadata": {
    "colab": {
      "name": "59. random7.ipynb",
      "provenance": [],
      "authorship_tag": "ABX9TyM2vviESMH5rK5+uWjw9UEy",
      "include_colab_link": true
    },
    "kernelspec": {
      "name": "python3",
      "display_name": "Python 3"
    },
    "language_info": {
      "name": "python"
    }
  },
  "cells": [
    {
      "cell_type": "markdown",
      "metadata": {
        "id": "view-in-github",
        "colab_type": "text"
      },
      "source": [
        "<a href=\"https://colab.research.google.com/github/diego40g/data_science_python/blob/numpy/59_random7.ipynb\" target=\"_parent\"><img src=\"https://colab.research.google.com/assets/colab-badge.svg\" alt=\"Open In Colab\"/></a>"
      ]
    },
    {
      "cell_type": "code",
      "metadata": {
        "id": "4cAnuIrBZbhf"
      },
      "source": [
        "import numpy as np"
      ],
      "execution_count": 1,
      "outputs": []
    },
    {
      "cell_type": "code",
      "metadata": {
        "colab": {
          "base_uri": "https://localhost:8080/"
        },
        "id": "5b4yxL9LZj0w",
        "outputId": "62b1d1a5-b7ff-4a09-a6b4-25df53aa6047"
      },
      "source": [
        "array = np.random.randint(5, size = (30, 5))\n",
        "print(array)"
      ],
      "execution_count": 2,
      "outputs": [
        {
          "output_type": "stream",
          "name": "stdout",
          "text": [
            "[[2 1 3 0 2]\n",
            " [0 3 2 2 0]\n",
            " [4 1 4 2 3]\n",
            " [3 1 0 3 3]\n",
            " [1 4 3 1 0]\n",
            " [4 3 0 2 1]\n",
            " [2 2 1 4 1]\n",
            " [4 4 3 0 4]\n",
            " [2 1 2 4 4]\n",
            " [2 4 0 3 4]\n",
            " [4 4 4 1 2]\n",
            " [3 0 4 0 2]\n",
            " [1 2 1 1 0]\n",
            " [2 4 3 4 2]\n",
            " [1 3 0 0 0]\n",
            " [4 4 2 1 0]\n",
            " [1 2 0 4 1]\n",
            " [3 2 3 1 0]\n",
            " [3 3 4 1 2]\n",
            " [4 3 4 4 1]\n",
            " [0 4 3 3 3]\n",
            " [3 3 1 1 1]\n",
            " [4 2 3 0 1]\n",
            " [2 2 4 0 4]\n",
            " [1 1 3 0 2]\n",
            " [0 0 4 1 1]\n",
            " [2 4 1 0 2]\n",
            " [3 0 4 3 2]\n",
            " [0 4 2 2 1]\n",
            " [0 0 0 2 0]]\n"
          ]
        }
      ]
    }
  ]
}