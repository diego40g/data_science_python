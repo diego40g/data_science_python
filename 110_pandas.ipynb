{
  "nbformat": 4,
  "nbformat_minor": 0,
  "metadata": {
    "colab": {
      "name": "110. pandas.ipynb",
      "provenance": [],
      "authorship_tag": "ABX9TyMx3sxqPTU6dJsFflVt+hps",
      "include_colab_link": true
    },
    "kernelspec": {
      "name": "python3",
      "display_name": "Python 3"
    },
    "language_info": {
      "name": "python"
    }
  },
  "cells": [
    {
      "cell_type": "markdown",
      "metadata": {
        "id": "view-in-github",
        "colab_type": "text"
      },
      "source": [
        "<a href=\"https://colab.research.google.com/github/diego40g/data_science_python/blob/numpy/110_pandas.ipynb\" target=\"_parent\"><img src=\"https://colab.research.google.com/assets/colab-badge.svg\" alt=\"Open In Colab\"/></a>"
      ]
    },
    {
      "cell_type": "code",
      "metadata": {
        "id": "K-td3Bnnd80V"
      },
      "source": [
        "import pandas as pd\n",
        "import numpy as np"
      ],
      "execution_count": 2,
      "outputs": []
    },
    {
      "cell_type": "code",
      "metadata": {
        "colab": {
          "base_uri": "https://localhost:8080/"
        },
        "id": "hADkmKF7eBz0",
        "outputId": "6f33279d-21de-4672-88fa-21d5c3e8c876"
      },
      "source": [
        "data = {\n",
        "    'A': np.arange(3),\n",
        "    'B': [n**2 for n in range(1,4)],\n",
        "    'C': [n for n in range(1,7) if n%2==0]}\n",
        "\n",
        "print(data)"
      ],
      "execution_count": 3,
      "outputs": [
        {
          "output_type": "stream",
          "name": "stdout",
          "text": [
            "{'A': array([0, 1, 2]), 'B': [1, 4, 9], 'C': [2, 4, 6]}\n"
          ]
        }
      ]
    },
    {
      "cell_type": "code",
      "metadata": {
        "colab": {
          "base_uri": "https://localhost:8080/"
        },
        "id": "jRQ9Cw6AeGZk",
        "outputId": "d2a0bb64-ecd6-41ce-eff6-42e51a088b8f"
      },
      "source": [
        "index = pd.date_range(start = '2020-12-1', periods = 3, freq = 'M')\n",
        "print(index)"
      ],
      "execution_count": 4,
      "outputs": [
        {
          "output_type": "stream",
          "name": "stdout",
          "text": [
            "DatetimeIndex(['2020-12-31', '2021-01-31', '2021-02-28'], dtype='datetime64[ns]', freq='M')\n"
          ]
        }
      ]
    },
    {
      "cell_type": "code",
      "metadata": {
        "colab": {
          "base_uri": "https://localhost:8080/"
        },
        "id": "P7eNUO1seLTP",
        "outputId": "8dcbe6c0-26dd-4e4f-b8b8-c1b03631e396"
      },
      "source": [
        "df = pd.DataFrame(data, index)\n",
        "\n",
        "\n",
        "for column,values in df.iteritems():\n",
        "    print(column)\n",
        "    print(f'\\tSum of values: {values.sum()}')\n",
        "    print(f'\\tMinimum value: {values.min()}')\n",
        "    print(f'\\tMaximum value: {values.max()}')\n",
        "    print(f'\\tArithmetic mean of values: {values.mean()}')\n",
        "    print(f'\\tStandard deviation: {values.std()}')\n",
        "    print()"
      ],
      "execution_count": 7,
      "outputs": [
        {
          "output_type": "stream",
          "name": "stdout",
          "text": [
            "A\n",
            "\tSum of values: 3\n",
            "\tMinimum value: 0\n",
            "\tMaximum value: 2\n",
            "\tArithmetic mean of values: 1.0\n",
            "\tStandard deviation: 1.0\n",
            "\n",
            "B\n",
            "\tSum of values: 14\n",
            "\tMinimum value: 1\n",
            "\tMaximum value: 9\n",
            "\tArithmetic mean of values: 4.666666666666667\n",
            "\tStandard deviation: 4.041451884327381\n",
            "\n",
            "C\n",
            "\tSum of values: 12\n",
            "\tMinimum value: 2\n",
            "\tMaximum value: 6\n",
            "\tArithmetic mean of values: 4.0\n",
            "\tStandard deviation: 2.0\n",
            "\n"
          ]
        }
      ]
    }
  ]
}