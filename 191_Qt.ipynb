{
  "nbformat": 4,
  "nbformat_minor": 0,
  "metadata": {
    "colab": {
      "name": "191. Qt.ipynb",
      "provenance": [],
      "authorship_tag": "ABX9TyOq7ZZCa8NFEme9JqcU+/mb",
      "include_colab_link": true
    },
    "kernelspec": {
      "name": "python3",
      "display_name": "Python 3"
    },
    "language_info": {
      "name": "python"
    }
  },
  "cells": [
    {
      "cell_type": "markdown",
      "metadata": {
        "id": "view-in-github",
        "colab_type": "text"
      },
      "source": [
        "<a href=\"https://colab.research.google.com/github/diego40g/data_science_python/blob/numpy/191_Qt.ipynb\" target=\"_parent\"><img src=\"https://colab.research.google.com/assets/colab-badge.svg\" alt=\"Open In Colab\"/></a>"
      ]
    },
    {
      "cell_type": "code",
      "source": [
        "!pip install"
      ],
      "metadata": {
        "id": "NIlDBjkRFPaR"
      },
      "execution_count": null,
      "outputs": []
    },
    {
      "cell_type": "code",
      "execution_count": null,
      "metadata": {
        "id": "2y8xer4OB2yr",
        "colab": {
          "base_uri": "https://localhost:8080/",
          "height": 710
        },
        "outputId": "d6a96283-e682-4805-e181-250aad2f3267"
      },
      "outputs": [
        {
          "output_type": "error",
          "ename": "ModuleNotFoundError",
          "evalue": "ignored",
          "traceback": [
            "\u001b[0;31m---------------------------------------------------------------------------\u001b[0m",
            "\u001b[0;31mModuleNotFoundError\u001b[0m                       Traceback (most recent call last)",
            "\u001b[0;32m<ipython-input-1-3092ca5e40b0>\u001b[0m in \u001b[0;36m<module>\u001b[0;34m()\u001b[0m\n\u001b[1;32m      1\u001b[0m \u001b[0;32mimport\u001b[0m \u001b[0mrandom\u001b[0m\u001b[0;34m\u001b[0m\u001b[0;34m\u001b[0m\u001b[0m\n\u001b[1;32m      2\u001b[0m \u001b[0;32mimport\u001b[0m \u001b[0msys\u001b[0m\u001b[0;34m\u001b[0m\u001b[0;34m\u001b[0m\u001b[0m\n\u001b[0;32m----> 3\u001b[0;31m \u001b[0;32mfrom\u001b[0m \u001b[0mPySide6\u001b[0m\u001b[0;34m.\u001b[0m\u001b[0mQtCore\u001b[0m \u001b[0;32mimport\u001b[0m \u001b[0mQt\u001b[0m\u001b[0;34m,\u001b[0m\u001b[0mSlot\u001b[0m\u001b[0;34m\u001b[0m\u001b[0;34m\u001b[0m\u001b[0m\n\u001b[0m\u001b[1;32m      4\u001b[0m \u001b[0;32mfrom\u001b[0m \u001b[0mPyDide6\u001b[0m\u001b[0;34m.\u001b[0m\u001b[0mQtWidgets\u001b[0m \u001b[0;32mimport\u001b[0m \u001b[0;34m(\u001b[0m\u001b[0mQApplication\u001b[0m\u001b[0;34m,\u001b[0m\u001b[0mQLabel\u001b[0m\u001b[0;34m,\u001b[0m\u001b[0mQPushButton\u001b[0m\u001b[0;34m,\u001b[0m\u001b[0mQVBoxLayout\u001b[0m\u001b[0;34m,\u001b[0m\u001b[0mQWidget\u001b[0m\u001b[0;34m)\u001b[0m\u001b[0;34m\u001b[0m\u001b[0;34m\u001b[0m\u001b[0m\n\u001b[1;32m      5\u001b[0m \u001b[0;32mfrom\u001b[0m \u001b[0m__feature__\u001b[0m \u001b[0;32mimport\u001b[0m \u001b[0msnake_case\u001b[0m\u001b[0;34m,\u001b[0m \u001b[0mtrue_property\u001b[0m\u001b[0;34m\u001b[0m\u001b[0;34m\u001b[0m\u001b[0m\n",
            "\u001b[0;31mModuleNotFoundError\u001b[0m: No module named 'PySide6'",
            "",
            "\u001b[0;31m---------------------------------------------------------------------------\u001b[0;32m\nNOTE: If your import is failing due to a missing package, you can\nmanually install dependencies using either !pip or !apt.\n\nTo view examples of installing some common dependencies, click the\n\"Open Examples\" button below.\n\u001b[0;31m---------------------------------------------------------------------------\u001b[0m\n"
          ],
          "errorDetails": {
            "actions": [
              {
                "action": "open_url",
                "actionText": "Open Examples",
                "url": "/notebooks/snippets/importing_libraries.ipynb"
              }
            ]
          }
        }
      ],
      "source": [
        "import random\n",
        "import sys\n",
        "from PySide6.QtCore import Qt,Slot\n",
        "from PyDide6.QtWidgets import (QApplication,QLabel,QPushButton,QVBoxLayout,QWidget)\n",
        "from __feature__ import snake_case, true_property"
      ]
    },
    {
      "cell_type": "code",
      "source": [
        "class MyWidget (QWidget):\n",
        "    def __init__(self):\n",
        "        QWidget.__init__(self)\n",
        "        self.hello=[\n",
        "            'Hola Mundo',\n",
        "            'Hello World']\n",
        "        self.button=QPushButton (\"click me\")\n",
        "        self.message=QLabel (\"Hola mundo\")\n",
        "        self.message.alignment=Qt.AlignCenter\n",
        "        \n",
        "        self.layout=QVBoxLayout (self)\n",
        "        self.layout.add_widget(self.message)\n",
        "        self.layout.add_widget(self.button)\n",
        "        \n",
        "        self.button.clicked.connect(self.magic)\n",
        "    @Slot()\n",
        "    def magic(self):\n",
        "        self.message.text=random.choice(self.hello)"
      ],
      "metadata": {
        "id": "CwN8s7blDDbo"
      },
      "execution_count": null,
      "outputs": []
    },
    {
      "cell_type": "code",
      "source": [
        "if __name__=='__main__':\n",
        "    app=QApplication (sys.argv)\n",
        "    widget=MyWidget()\n",
        "    widget.show()\n",
        "    sys.exit(app.exec_())"
      ],
      "metadata": {
        "id": "HG8W-TcnDFYB"
      },
      "execution_count": null,
      "outputs": []
    }
  ]
}