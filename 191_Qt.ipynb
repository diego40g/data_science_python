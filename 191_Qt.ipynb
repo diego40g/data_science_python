{
  "nbformat": 4,
  "nbformat_minor": 0,
  "metadata": {
    "colab": {
      "name": "191. Qt.ipynb",
      "provenance": [],
      "authorship_tag": "ABX9TyNZiuzMC3NphKum2m049rbB",
      "include_colab_link": true
    },
    "kernelspec": {
      "name": "python3",
      "display_name": "Python 3"
    },
    "language_info": {
      "name": "python"
    }
  },
  "cells": [
    {
      "cell_type": "markdown",
      "metadata": {
        "id": "view-in-github",
        "colab_type": "text"
      },
      "source": [
        "<a href=\"https://colab.research.google.com/github/diego40g/data_science_python/blob/numpy/191_Qt.ipynb\" target=\"_parent\"><img src=\"https://colab.research.google.com/assets/colab-badge.svg\" alt=\"Open In Colab\"/></a>"
      ]
    },
    {
      "cell_type": "code",
      "execution_count": null,
      "metadata": {
        "id": "2y8xer4OB2yr"
      },
      "outputs": [],
      "source": [
        "import random\n",
        "import sys\n",
        "from PySide6.QtCore import Qt,Slot\n",
        "from PyDide6.QtWidgets import (QApplication,QLabel,QPushButton,QVBoxLayout,QWidget)\n",
        "from __feature__ import snake_case, true_property"
      ]
    },
    {
      "cell_type": "code",
      "source": [
        "class MyWidget (QWidget):\n",
        "    def __init__(self):\n",
        "        QWidget.__init__(self)\n",
        "        self.hello=[\n",
        "            'Hola Mundo',\n",
        "            'Hello World']\n",
        "        self.button=QPushButton (\"click me\")\n",
        "        self.message=QLabel (\"Hola mundo\")"
      ],
      "metadata": {
        "id": "CwN8s7blDDbo"
      },
      "execution_count": null,
      "outputs": []
    },
    {
      "cell_type": "code",
      "source": [
        "if __name__=='__main__':\n",
        "    app=QApplication (sys.argv)\n",
        "    widget=MyWidget()\n",
        "    widget.show()\n",
        "    sys.exit(app.exec_())"
      ],
      "metadata": {
        "id": "HG8W-TcnDFYB"
      },
      "execution_count": null,
      "outputs": []
    }
  ]
}